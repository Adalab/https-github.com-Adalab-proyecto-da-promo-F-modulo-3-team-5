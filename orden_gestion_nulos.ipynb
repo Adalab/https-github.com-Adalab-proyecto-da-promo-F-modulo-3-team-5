{
 "cells": [
  {
   "cell_type": "code",
   "execution_count": 1,
   "metadata": {},
   "outputs": [
    {
     "name": "stderr",
     "output_type": "stream",
     "text": [
      "/Users/ana/opt/anaconda3/lib/python3.9/site-packages/pandas/core/computation/expressions.py:21: UserWarning: Pandas requires version '2.8.0' or newer of 'numexpr' (version '2.7.3' currently installed).\n",
      "  from pandas.core.computation.check import NUMEXPR_INSTALLED\n",
      "/Users/ana/opt/anaconda3/lib/python3.9/site-packages/pandas/core/arrays/masked.py:62: UserWarning: Pandas requires version '1.3.4' or newer of 'bottleneck' (version '1.3.2' currently installed).\n",
      "  from pandas.core import (\n",
      "/Users/ana/opt/anaconda3/lib/python3.9/site-packages/scipy/__init__.py:146: UserWarning: A NumPy version >=1.16.5 and <1.23.0 is required for this version of SciPy (detected version 1.26.2\n",
      "  warnings.warn(f\"A NumPy version >={np_minversion} and <{np_maxversion}\"\n"
     ]
    }
   ],
   "source": [
    "# importamos las librerías que necesitamos\n",
    "\n",
    "# Tratamiento de datos\n",
    "# -----------------------------------------------------------------------\n",
    "import pandas as pd\n",
    "import numpy as np\n",
    "\n",
    "# Imputación de nulos usando métodos avanzados estadísticos\n",
    "# -----------------------------------------------------------------------\n",
    "from sklearn.impute import SimpleImputer\n",
    "from sklearn.experimental import enable_iterative_imputer\n",
    "from sklearn.impute import IterativeImputer\n",
    "from sklearn.impute import KNNImputer\n",
    "\n",
    "# Librerías de visualización\n",
    "# -----------------------------------------------------------------------\n",
    "import seaborn as sns\n",
    "import matplotlib.pyplot as plt\n",
    "# Configuración\n",
    "# -----------------------------------------------------------------------\n",
    "pd.set_option('display.max_columns', None) # para poder visualizar todas las columnas de los DataFrames"
   ]
  },
  {
   "cell_type": "code",
   "execution_count": 4,
   "metadata": {},
   "outputs": [],
   "source": [
    "df_ejemplo = pd.read_csv('hr_limpio_con_nulos.csv', index_col=0)"
   ]
  },
  {
   "cell_type": "code",
   "execution_count": 5,
   "metadata": {},
   "outputs": [
    {
     "data": {
      "text/html": [
       "<div>\n",
       "<style scoped>\n",
       "    .dataframe tbody tr th:only-of-type {\n",
       "        vertical-align: middle;\n",
       "    }\n",
       "\n",
       "    .dataframe tbody tr th {\n",
       "        vertical-align: top;\n",
       "    }\n",
       "\n",
       "    .dataframe thead th {\n",
       "        text-align: right;\n",
       "    }\n",
       "</style>\n",
       "<table border=\"1\" class=\"dataframe\">\n",
       "  <thead>\n",
       "    <tr style=\"text-align: right;\">\n",
       "      <th></th>\n",
       "      <th>age</th>\n",
       "      <th>attrition</th>\n",
       "      <th>businesstravel</th>\n",
       "      <th>dailyrate</th>\n",
       "      <th>department</th>\n",
       "      <th>distancefromhome</th>\n",
       "      <th>education</th>\n",
       "      <th>educationfield</th>\n",
       "      <th>employeenumber</th>\n",
       "      <th>environmentsatisfaction</th>\n",
       "      <th>gender</th>\n",
       "      <th>hourlyrate</th>\n",
       "      <th>jobinvolvement</th>\n",
       "      <th>joblevel</th>\n",
       "      <th>jobrole</th>\n",
       "      <th>jobsatisfaction</th>\n",
       "      <th>maritalstatus</th>\n",
       "      <th>monthlyincome</th>\n",
       "      <th>monthlyrate</th>\n",
       "      <th>numcompaniesworked</th>\n",
       "      <th>overtime</th>\n",
       "      <th>percentsalaryhike</th>\n",
       "      <th>performancerating</th>\n",
       "      <th>relationshipsatisfaction</th>\n",
       "      <th>stockoptionlevel</th>\n",
       "      <th>totalworkingyears</th>\n",
       "      <th>trainingtimeslastyear</th>\n",
       "      <th>worklifebalance</th>\n",
       "      <th>yearsatcompany</th>\n",
       "      <th>yearsincurrentrole</th>\n",
       "      <th>yearssincelastpromotion</th>\n",
       "      <th>yearswithcurrmanager</th>\n",
       "      <th>yearbirth</th>\n",
       "      <th>remotework</th>\n",
       "    </tr>\n",
       "  </thead>\n",
       "  <tbody>\n",
       "    <tr>\n",
       "      <th>0</th>\n",
       "      <td>51</td>\n",
       "      <td>No</td>\n",
       "      <td>NaN</td>\n",
       "      <td>684.0</td>\n",
       "      <td>NaN</td>\n",
       "      <td>6.0</td>\n",
       "      <td>University</td>\n",
       "      <td>NaN</td>\n",
       "      <td>162.0</td>\n",
       "      <td>1</td>\n",
       "      <td>male</td>\n",
       "      <td>51</td>\n",
       "      <td>3</td>\n",
       "      <td>Expert</td>\n",
       "      <td>resEArch DIREcToR</td>\n",
       "      <td>3</td>\n",
       "      <td>NaN</td>\n",
       "      <td>19537.0</td>\n",
       "      <td>6462</td>\n",
       "      <td>7</td>\n",
       "      <td>No</td>\n",
       "      <td>13</td>\n",
       "      <td>3.0</td>\n",
       "      <td>3</td>\n",
       "      <td>0</td>\n",
       "      <td>NaN</td>\n",
       "      <td>5</td>\n",
       "      <td>3.0</td>\n",
       "      <td>20</td>\n",
       "      <td>NaN</td>\n",
       "      <td>15</td>\n",
       "      <td>15</td>\n",
       "      <td>1972</td>\n",
       "      <td>Yes</td>\n",
       "    </tr>\n",
       "    <tr>\n",
       "      <th>1</th>\n",
       "      <td>52</td>\n",
       "      <td>No</td>\n",
       "      <td>NaN</td>\n",
       "      <td>699.0</td>\n",
       "      <td>NaN</td>\n",
       "      <td>1.0</td>\n",
       "      <td>Master Degree</td>\n",
       "      <td>Life Sciences</td>\n",
       "      <td>259.0</td>\n",
       "      <td>3</td>\n",
       "      <td>male</td>\n",
       "      <td>65</td>\n",
       "      <td>2</td>\n",
       "      <td>Expert</td>\n",
       "      <td>ManAGeR</td>\n",
       "      <td>3</td>\n",
       "      <td>NaN</td>\n",
       "      <td>19999.0</td>\n",
       "      <td>5678</td>\n",
       "      <td>0</td>\n",
       "      <td>NaN</td>\n",
       "      <td>14</td>\n",
       "      <td>3.0</td>\n",
       "      <td>1</td>\n",
       "      <td>1</td>\n",
       "      <td>34.0</td>\n",
       "      <td>5</td>\n",
       "      <td>3.0</td>\n",
       "      <td>33</td>\n",
       "      <td>NaN</td>\n",
       "      <td>11</td>\n",
       "      <td>9</td>\n",
       "      <td>1971</td>\n",
       "      <td>Yes</td>\n",
       "    </tr>\n",
       "  </tbody>\n",
       "</table>\n",
       "</div>"
      ],
      "text/plain": [
       "   age attrition businesstravel  dailyrate department  distancefromhome  \\\n",
       "0   51        No            NaN      684.0        NaN               6.0   \n",
       "1   52        No            NaN      699.0        NaN               1.0   \n",
       "\n",
       "       education educationfield  employeenumber  environmentsatisfaction  \\\n",
       "0     University            NaN           162.0                        1   \n",
       "1  Master Degree  Life Sciences           259.0                        3   \n",
       "\n",
       "  gender hourlyrate  jobinvolvement joblevel              jobrole  \\\n",
       "0   male         51               3   Expert   resEArch DIREcToR    \n",
       "1   male         65               2   Expert             ManAGeR    \n",
       "\n",
       "   jobsatisfaction maritalstatus  monthlyincome  monthlyrate  \\\n",
       "0                3           NaN        19537.0         6462   \n",
       "1                3           NaN        19999.0         5678   \n",
       "\n",
       "   numcompaniesworked overtime  percentsalaryhike  performancerating  \\\n",
       "0                   7       No                 13                3.0   \n",
       "1                   0      NaN                 14                3.0   \n",
       "\n",
       "   relationshipsatisfaction  stockoptionlevel  totalworkingyears  \\\n",
       "0                         3                 0                NaN   \n",
       "1                         1                 1               34.0   \n",
       "\n",
       "   trainingtimeslastyear  worklifebalance  yearsatcompany yearsincurrentrole  \\\n",
       "0                      5              3.0              20                NaN   \n",
       "1                      5              3.0              33                NaN   \n",
       "\n",
       "   yearssincelastpromotion  yearswithcurrmanager  yearbirth remotework  \n",
       "0                       15                    15       1972        Yes  \n",
       "1                       11                     9       1971        Yes  "
      ]
     },
     "execution_count": 5,
     "metadata": {},
     "output_type": "execute_result"
    }
   ],
   "source": [
    "df_ejemplo.head(2)"
   ]
  },
  {
   "cell_type": "code",
   "execution_count": 6,
   "metadata": {},
   "outputs": [
    {
     "data": {
      "text/plain": [
       "age                          0.000000\n",
       "attrition                    0.000000\n",
       "businesstravel              47.831475\n",
       "dailyrate                    7.682776\n",
       "department                  81.288724\n",
       "distancefromhome             0.000000\n",
       "education                    0.000000\n",
       "educationfield              46.158612\n",
       "employeenumber              26.703841\n",
       "environmentsatisfaction      0.000000\n",
       "gender                       0.000000\n",
       "hourlyrate                   0.000000\n",
       "jobinvolvement               0.000000\n",
       "joblevel                     0.000000\n",
       "jobrole                      0.000000\n",
       "jobsatisfaction              0.000000\n",
       "maritalstatus               40.334572\n",
       "monthlyincome               52.230483\n",
       "monthlyrate                  0.000000\n",
       "numcompaniesworked           0.000000\n",
       "overtime                    41.883519\n",
       "percentsalaryhike            0.000000\n",
       "performancerating           12.081784\n",
       "relationshipsatisfaction     0.000000\n",
       "stockoptionlevel             0.000000\n",
       "totalworkingyears           32.589839\n",
       "trainingtimeslastyear        0.000000\n",
       "worklifebalance              6.691450\n",
       "yearsatcompany               0.000000\n",
       "yearsincurrentrole          97.893432\n",
       "yearssincelastpromotion      0.000000\n",
       "yearswithcurrmanager         0.000000\n",
       "yearbirth                    0.000000\n",
       "remotework                   0.000000\n",
       "dtype: float64"
      ]
     },
     "execution_count": 6,
     "metadata": {},
     "output_type": "execute_result"
    }
   ],
   "source": [
    "# lo primero que vamos a hacer es calcular el porcentaje de nulos que tenemos para cada columna\n",
    "(df_ejemplo.isnull().sum() / df_ejemplo.shape[0]) * 100"
   ]
  },
  {
   "cell_type": "code",
   "execution_count": 7,
   "metadata": {},
   "outputs": [
    {
     "data": {
      "text/html": [
       "<div>\n",
       "<style scoped>\n",
       "    .dataframe tbody tr th:only-of-type {\n",
       "        vertical-align: middle;\n",
       "    }\n",
       "\n",
       "    .dataframe tbody tr th {\n",
       "        vertical-align: top;\n",
       "    }\n",
       "\n",
       "    .dataframe thead th {\n",
       "        text-align: right;\n",
       "    }\n",
       "</style>\n",
       "<table border=\"1\" class=\"dataframe\">\n",
       "  <thead>\n",
       "    <tr style=\"text-align: right;\">\n",
       "      <th></th>\n",
       "      <th>%_nulos</th>\n",
       "    </tr>\n",
       "  </thead>\n",
       "  <tbody>\n",
       "    <tr>\n",
       "      <th>businesstravel</th>\n",
       "      <td>47.831475</td>\n",
       "    </tr>\n",
       "    <tr>\n",
       "      <th>dailyrate</th>\n",
       "      <td>7.682776</td>\n",
       "    </tr>\n",
       "    <tr>\n",
       "      <th>department</th>\n",
       "      <td>81.288724</td>\n",
       "    </tr>\n",
       "    <tr>\n",
       "      <th>educationfield</th>\n",
       "      <td>46.158612</td>\n",
       "    </tr>\n",
       "    <tr>\n",
       "      <th>employeenumber</th>\n",
       "      <td>26.703841</td>\n",
       "    </tr>\n",
       "    <tr>\n",
       "      <th>maritalstatus</th>\n",
       "      <td>40.334572</td>\n",
       "    </tr>\n",
       "    <tr>\n",
       "      <th>monthlyincome</th>\n",
       "      <td>52.230483</td>\n",
       "    </tr>\n",
       "    <tr>\n",
       "      <th>overtime</th>\n",
       "      <td>41.883519</td>\n",
       "    </tr>\n",
       "    <tr>\n",
       "      <th>performancerating</th>\n",
       "      <td>12.081784</td>\n",
       "    </tr>\n",
       "    <tr>\n",
       "      <th>totalworkingyears</th>\n",
       "      <td>32.589839</td>\n",
       "    </tr>\n",
       "    <tr>\n",
       "      <th>worklifebalance</th>\n",
       "      <td>6.691450</td>\n",
       "    </tr>\n",
       "    <tr>\n",
       "      <th>yearsincurrentrole</th>\n",
       "      <td>97.893432</td>\n",
       "    </tr>\n",
       "  </tbody>\n",
       "</table>\n",
       "</div>"
      ],
      "text/plain": [
       "                      %_nulos\n",
       "businesstravel      47.831475\n",
       "dailyrate            7.682776\n",
       "department          81.288724\n",
       "educationfield      46.158612\n",
       "employeenumber      26.703841\n",
       "maritalstatus       40.334572\n",
       "monthlyincome       52.230483\n",
       "overtime            41.883519\n",
       "performancerating   12.081784\n",
       "totalworkingyears   32.589839\n",
       "worklifebalance      6.691450\n",
       "yearsincurrentrole  97.893432"
      ]
     },
     "execution_count": 7,
     "metadata": {},
     "output_type": "execute_result"
    }
   ],
   "source": [
    "# lo convertimos a DataFrame\n",
    "df_nulos = pd.DataFrame((df_ejemplo.isnull().sum() / df_ejemplo.shape[0]) * 100, columns = [\"%_nulos\"])\n",
    "\n",
    "# filtramos el DataFrame para quedarnos solo con aquellas columnas que tengan nulos\n",
    "df_nulos[df_nulos[\"%_nulos\"] > 0]"
   ]
  },
  {
   "cell_type": "markdown",
   "metadata": {},
   "source": [
    "# Variable categóricas"
   ]
  },
  {
   "cell_type": "code",
   "execution_count": 8,
   "metadata": {},
   "outputs": [
    {
     "name": "stdout",
     "output_type": "stream",
     "text": [
      "Las columnas categóricas que tienen nulos son : \n",
      " \n",
      "Index(['businesstravel', 'department', 'educationfield', 'maritalstatus',\n",
      "       'overtime', 'yearsincurrentrole'],\n",
      "      dtype='object')\n"
     ]
    }
   ],
   "source": [
    "# Obtenemos la lista de columnas categóricas que tienen nulos\n",
    "nulos_esta_cat = df_ejemplo[df_ejemplo.columns[df_ejemplo.isnull().any()]].select_dtypes(include = \"O\").columns\n",
    "print(\"Las columnas categóricas que tienen nulos son : \\n \")\n",
    "print(nulos_esta_cat)"
   ]
  },
  {
   "cell_type": "code",
   "execution_count": 9,
   "metadata": {},
   "outputs": [
    {
     "name": "stdout",
     "output_type": "stream",
     "text": [
      "La distribución de las categorías para la columna BUSINESSTRAVEL\n"
     ]
    },
    {
     "data": {
      "text/plain": [
       "businesstravel\n",
       "travel_rarely        0.363073\n",
       "travel_frequently    0.102230\n",
       "non-travel           0.056382\n",
       "Name: count, dtype: float64"
      ]
     },
     "metadata": {},
     "output_type": "display_data"
    },
    {
     "name": "stdout",
     "output_type": "stream",
     "text": [
      "..........\n",
      "La distribución de las categorías para la columna DEPARTMENT\n"
     ]
    },
    {
     "data": {
      "text/plain": [
       "department\n",
       " Research & Development     0.121437\n",
       " Sales                      0.056382\n",
       " Human Resources            0.009294\n",
       "Name: count, dtype: float64"
      ]
     },
     "metadata": {},
     "output_type": "display_data"
    },
    {
     "name": "stdout",
     "output_type": "stream",
     "text": [
      "..........\n",
      "La distribución de las categorías para la columna EDUCATIONFIELD\n"
     ]
    },
    {
     "data": {
      "text/plain": [
       "educationfield\n",
       "Life Sciences       0.216233\n",
       "Medical             0.171004\n",
       "Marketing           0.064436\n",
       "Technical Degree    0.042751\n",
       "Other               0.036555\n",
       "Human Resources     0.007435\n",
       "Name: count, dtype: float64"
      ]
     },
     "metadata": {},
     "output_type": "display_data"
    },
    {
     "name": "stdout",
     "output_type": "stream",
     "text": [
      "..........\n",
      "La distribución de las categorías para la columna MARITALSTATUS\n"
     ]
    },
    {
     "data": {
      "text/plain": [
       "maritalstatus\n",
       "Married     0.271995\n",
       "Single      0.201363\n",
       "Divorced    0.123296\n",
       "Name: count, dtype: float64"
      ]
     },
     "metadata": {},
     "output_type": "display_data"
    },
    {
     "name": "stdout",
     "output_type": "stream",
     "text": [
      "..........\n",
      "La distribución de las categorías para la columna OVERTIME\n"
     ]
    },
    {
     "data": {
      "text/plain": [
       "overtime\n",
       "No     0.422553\n",
       "Yes    0.158612\n",
       "Name: count, dtype: float64"
      ]
     },
     "metadata": {},
     "output_type": "display_data"
    },
    {
     "name": "stdout",
     "output_type": "stream",
     "text": [
      "..........\n",
      "La distribución de las categorías para la columna YEARSINCURRENTROLE\n"
     ]
    },
    {
     "data": {
      "text/plain": [
       "yearsincurrentrole\n",
       "2,0     0.006815\n",
       "7,0     0.003098\n",
       "0,0     0.002478\n",
       "4,0     0.001859\n",
       "1,0     0.001859\n",
       "11,0    0.001239\n",
       "6,0     0.001239\n",
       "3,0     0.001239\n",
       "13,0    0.000620\n",
       "12,0    0.000620\n",
       "Name: count, dtype: float64"
      ]
     },
     "metadata": {},
     "output_type": "display_data"
    },
    {
     "name": "stdout",
     "output_type": "stream",
     "text": [
      "..........\n"
     ]
    }
   ],
   "source": [
    "# sacamos el 'value_counts()' de cada una de las columnas categóricas que tienen nulos para saber como es la distribución de sus categorías\n",
    "for col in nulos_esta_cat:\n",
    "    print(f\"La distribución de las categorías para la columna {col.upper()}\")\n",
    "    display(df_ejemplo[col].value_counts() / df_ejemplo.shape[0])\n",
    "    print(\"..........\")"
   ]
  },
  {
   "cell_type": "markdown",
   "metadata": {},
   "source": [
    "Segun los porcentajes de las categorias, si hay una categoria dominante reemplazamos por la moda, de lo contrario podemos hacer una categoria nueva  "
   ]
  },
  {
   "cell_type": "markdown",
   "metadata": {},
   "source": [
    "businesstravel: categoria 'Desconocido' porque tiene casi un 50% de nulos\n",
    "department: categoria 'Desconocido' porque tiene 81% de nulos. Asignarle la moda no tendria sentido porque tiene mushos nulos.\n",
    "EDUCATIONFIELD: categoría 'desconocido' porque tiene casi 47% de nulos.\n",
    "MARITALSTATUS: categoria 'Desconocido' porque tiene un 40% de nulos. Ademas no tiene mucha diferencia con la otra categoria. \n",
    "OVERTIME: categoria 'desconocido' porque tiene un 40% de nulos. Creemos que es un dato relevante como para asignarle el 'No'"
   ]
  },
  {
   "cell_type": "code",
   "execution_count": 10,
   "metadata": {},
   "outputs": [],
   "source": [
    "# lo primero que vamos a hacer es crear dos listas, una con los nombres de las columnas que reemplazaremos por la moda y otra para las columnas que reemplazaremos por una categoría nueva\n",
    "#columnas_moda = []\n",
    "columnas_desconocidas = ['businesstravel', 'department', 'educationfield', 'maritalstatus', 'overtime']"
   ]
  },
  {
   "cell_type": "markdown",
   "metadata": {},
   "source": [
    "Reemplazamos por la moda"
   ]
  },
  {
   "cell_type": "code",
   "execution_count": null,
   "metadata": {},
   "outputs": [],
   "source": [
    "\n",
    "# iteramos por la lista creada en el paso anterior:\n",
    "for columna in columnas_moda:\n",
    "    \n",
    "    # calculamos la moda para la columna por la que estamos iterando\n",
    "    moda = df[col].mode()[0]    \n",
    "    \n",
    "    # utilizando el método fillna reemplazamos los valores nulos por la moda calculada en el paso anterior. \n",
    "    df[columna] = df[columna].fillna(moda)\n",
    "\n",
    "# por último chequeamos si se han eliminado los nulos en las columnas de \"marital\" y \"loan\"\n",
    "print(\"Después del reemplazo usando 'fillna' quedan los siguientes nulos\")\n",
    "\n",
    "df[columnas_moda].isnull().sum()"
   ]
  },
  {
   "cell_type": "markdown",
   "metadata": {},
   "source": [
    "Agregamos una nueva categoria"
   ]
  },
  {
   "cell_type": "code",
   "execution_count": 11,
   "metadata": {},
   "outputs": [
    {
     "name": "stdout",
     "output_type": "stream",
     "text": [
      "Después del reemplazo usando 'fillna' quedan los siguientes nulos\n"
     ]
    },
    {
     "data": {
      "text/plain": [
       "businesstravel    0\n",
       "department        0\n",
       "educationfield    0\n",
       "maritalstatus     0\n",
       "overtime          0\n",
       "dtype: int64"
      ]
     },
     "execution_count": 11,
     "metadata": {},
     "output_type": "execute_result"
    }
   ],
   "source": [
    "# iteramos por la lista de columnas a las que le vamos a cambiar los nulos por \"Uknown\"\n",
    "for columna in columnas_desconocidas:\n",
    "    \n",
    "    # reemplazamos los nulos por el valor Unknown para cada una de las columnas de la lista\n",
    "    df_ejemplo[columna] = df_ejemplo[columna].fillna(\"Unknown\")\n",
    "    \n",
    "# comprobamos si quedan nulos en las columnas categóricas. \n",
    "print(\"Después del reemplazo usando 'fillna' quedan los siguientes nulos\")\n",
    "df_ejemplo[columnas_desconocidas].isnull().sum()"
   ]
  },
  {
   "cell_type": "code",
   "execution_count": 12,
   "metadata": {},
   "outputs": [
    {
     "data": {
      "text/html": [
       "<div>\n",
       "<style scoped>\n",
       "    .dataframe tbody tr th:only-of-type {\n",
       "        vertical-align: middle;\n",
       "    }\n",
       "\n",
       "    .dataframe tbody tr th {\n",
       "        vertical-align: top;\n",
       "    }\n",
       "\n",
       "    .dataframe thead th {\n",
       "        text-align: right;\n",
       "    }\n",
       "</style>\n",
       "<table border=\"1\" class=\"dataframe\">\n",
       "  <thead>\n",
       "    <tr style=\"text-align: right;\">\n",
       "      <th></th>\n",
       "      <th>age</th>\n",
       "      <th>attrition</th>\n",
       "      <th>businesstravel</th>\n",
       "      <th>dailyrate</th>\n",
       "      <th>department</th>\n",
       "      <th>distancefromhome</th>\n",
       "      <th>education</th>\n",
       "      <th>educationfield</th>\n",
       "      <th>employeenumber</th>\n",
       "      <th>environmentsatisfaction</th>\n",
       "      <th>gender</th>\n",
       "      <th>hourlyrate</th>\n",
       "      <th>jobinvolvement</th>\n",
       "      <th>joblevel</th>\n",
       "      <th>jobrole</th>\n",
       "      <th>jobsatisfaction</th>\n",
       "      <th>maritalstatus</th>\n",
       "      <th>monthlyincome</th>\n",
       "      <th>monthlyrate</th>\n",
       "      <th>numcompaniesworked</th>\n",
       "      <th>overtime</th>\n",
       "      <th>percentsalaryhike</th>\n",
       "      <th>performancerating</th>\n",
       "      <th>relationshipsatisfaction</th>\n",
       "      <th>stockoptionlevel</th>\n",
       "      <th>totalworkingyears</th>\n",
       "      <th>trainingtimeslastyear</th>\n",
       "      <th>worklifebalance</th>\n",
       "      <th>yearsatcompany</th>\n",
       "      <th>yearsincurrentrole</th>\n",
       "      <th>yearssincelastpromotion</th>\n",
       "      <th>yearswithcurrmanager</th>\n",
       "      <th>yearbirth</th>\n",
       "      <th>remotework</th>\n",
       "    </tr>\n",
       "  </thead>\n",
       "  <tbody>\n",
       "    <tr>\n",
       "      <th>0</th>\n",
       "      <td>51</td>\n",
       "      <td>No</td>\n",
       "      <td>Unknown</td>\n",
       "      <td>684.0</td>\n",
       "      <td>Unknown</td>\n",
       "      <td>6.0</td>\n",
       "      <td>University</td>\n",
       "      <td>Unknown</td>\n",
       "      <td>162.0</td>\n",
       "      <td>1</td>\n",
       "      <td>male</td>\n",
       "      <td>51</td>\n",
       "      <td>3</td>\n",
       "      <td>Expert</td>\n",
       "      <td>resEArch DIREcToR</td>\n",
       "      <td>3</td>\n",
       "      <td>Unknown</td>\n",
       "      <td>19537.0</td>\n",
       "      <td>6462</td>\n",
       "      <td>7</td>\n",
       "      <td>No</td>\n",
       "      <td>13</td>\n",
       "      <td>3.0</td>\n",
       "      <td>3</td>\n",
       "      <td>0</td>\n",
       "      <td>NaN</td>\n",
       "      <td>5</td>\n",
       "      <td>3.0</td>\n",
       "      <td>20</td>\n",
       "      <td>NaN</td>\n",
       "      <td>15</td>\n",
       "      <td>15</td>\n",
       "      <td>1972</td>\n",
       "      <td>Yes</td>\n",
       "    </tr>\n",
       "    <tr>\n",
       "      <th>1</th>\n",
       "      <td>52</td>\n",
       "      <td>No</td>\n",
       "      <td>Unknown</td>\n",
       "      <td>699.0</td>\n",
       "      <td>Unknown</td>\n",
       "      <td>1.0</td>\n",
       "      <td>Master Degree</td>\n",
       "      <td>Life Sciences</td>\n",
       "      <td>259.0</td>\n",
       "      <td>3</td>\n",
       "      <td>male</td>\n",
       "      <td>65</td>\n",
       "      <td>2</td>\n",
       "      <td>Expert</td>\n",
       "      <td>ManAGeR</td>\n",
       "      <td>3</td>\n",
       "      <td>Unknown</td>\n",
       "      <td>19999.0</td>\n",
       "      <td>5678</td>\n",
       "      <td>0</td>\n",
       "      <td>Unknown</td>\n",
       "      <td>14</td>\n",
       "      <td>3.0</td>\n",
       "      <td>1</td>\n",
       "      <td>1</td>\n",
       "      <td>34.0</td>\n",
       "      <td>5</td>\n",
       "      <td>3.0</td>\n",
       "      <td>33</td>\n",
       "      <td>NaN</td>\n",
       "      <td>11</td>\n",
       "      <td>9</td>\n",
       "      <td>1971</td>\n",
       "      <td>Yes</td>\n",
       "    </tr>\n",
       "    <tr>\n",
       "      <th>2</th>\n",
       "      <td>42</td>\n",
       "      <td>No</td>\n",
       "      <td>travel_rarely</td>\n",
       "      <td>532.0</td>\n",
       "      <td>Research &amp; Development</td>\n",
       "      <td>4.0</td>\n",
       "      <td>College</td>\n",
       "      <td>Technical Degree</td>\n",
       "      <td>319.0</td>\n",
       "      <td>3</td>\n",
       "      <td>male</td>\n",
       "      <td>58</td>\n",
       "      <td>3</td>\n",
       "      <td>Expert</td>\n",
       "      <td>ManaGER</td>\n",
       "      <td>4</td>\n",
       "      <td>Married</td>\n",
       "      <td>19232.0</td>\n",
       "      <td>4933</td>\n",
       "      <td>1</td>\n",
       "      <td>No</td>\n",
       "      <td>11</td>\n",
       "      <td>3.0</td>\n",
       "      <td>4</td>\n",
       "      <td>0</td>\n",
       "      <td>22.0</td>\n",
       "      <td>3</td>\n",
       "      <td>NaN</td>\n",
       "      <td>22</td>\n",
       "      <td>NaN</td>\n",
       "      <td>11</td>\n",
       "      <td>15</td>\n",
       "      <td>1981</td>\n",
       "      <td>Yes</td>\n",
       "    </tr>\n",
       "    <tr>\n",
       "      <th>3</th>\n",
       "      <td>47</td>\n",
       "      <td>No</td>\n",
       "      <td>travel_rarely</td>\n",
       "      <td>359.0</td>\n",
       "      <td>Unknown</td>\n",
       "      <td>2.0</td>\n",
       "      <td>Master Degree</td>\n",
       "      <td>Medical</td>\n",
       "      <td>NaN</td>\n",
       "      <td>1</td>\n",
       "      <td>female</td>\n",
       "      <td>82</td>\n",
       "      <td>3</td>\n",
       "      <td>Advanced</td>\n",
       "      <td>ReseArCH DIrECtOr</td>\n",
       "      <td>3</td>\n",
       "      <td>Married</td>\n",
       "      <td>17169.0</td>\n",
       "      <td>26703</td>\n",
       "      <td>3</td>\n",
       "      <td>Unknown</td>\n",
       "      <td>19</td>\n",
       "      <td>3.0</td>\n",
       "      <td>2</td>\n",
       "      <td>2</td>\n",
       "      <td>NaN</td>\n",
       "      <td>2</td>\n",
       "      <td>NaN</td>\n",
       "      <td>20</td>\n",
       "      <td>NaN</td>\n",
       "      <td>5</td>\n",
       "      <td>6</td>\n",
       "      <td>1976</td>\n",
       "      <td>No</td>\n",
       "    </tr>\n",
       "    <tr>\n",
       "      <th>4</th>\n",
       "      <td>46</td>\n",
       "      <td>No</td>\n",
       "      <td>Unknown</td>\n",
       "      <td>1319.0</td>\n",
       "      <td>Unknown</td>\n",
       "      <td>3.0</td>\n",
       "      <td>University</td>\n",
       "      <td>Technical Degree</td>\n",
       "      <td>NaN</td>\n",
       "      <td>1</td>\n",
       "      <td>female</td>\n",
       "      <td>45</td>\n",
       "      <td>4</td>\n",
       "      <td>Advanced</td>\n",
       "      <td>sAleS EXECUtIve</td>\n",
       "      <td>1</td>\n",
       "      <td>Divorced</td>\n",
       "      <td>NaN</td>\n",
       "      <td>7739</td>\n",
       "      <td>2</td>\n",
       "      <td>No</td>\n",
       "      <td>12</td>\n",
       "      <td>3.0</td>\n",
       "      <td>4</td>\n",
       "      <td>1</td>\n",
       "      <td>NaN</td>\n",
       "      <td>5</td>\n",
       "      <td>3.0</td>\n",
       "      <td>19</td>\n",
       "      <td>NaN</td>\n",
       "      <td>2</td>\n",
       "      <td>8</td>\n",
       "      <td>1977</td>\n",
       "      <td>No</td>\n",
       "    </tr>\n",
       "  </tbody>\n",
       "</table>\n",
       "</div>"
      ],
      "text/plain": [
       "   age attrition businesstravel  dailyrate                department  \\\n",
       "0   51        No        Unknown      684.0                   Unknown   \n",
       "1   52        No        Unknown      699.0                   Unknown   \n",
       "2   42        No  travel_rarely      532.0   Research & Development    \n",
       "3   47        No  travel_rarely      359.0                   Unknown   \n",
       "4   46        No        Unknown     1319.0                   Unknown   \n",
       "\n",
       "   distancefromhome      education    educationfield  employeenumber  \\\n",
       "0               6.0     University           Unknown           162.0   \n",
       "1               1.0  Master Degree     Life Sciences           259.0   \n",
       "2               4.0        College  Technical Degree           319.0   \n",
       "3               2.0  Master Degree           Medical             NaN   \n",
       "4               3.0     University  Technical Degree             NaN   \n",
       "\n",
       "   environmentsatisfaction  gender hourlyrate  jobinvolvement  joblevel  \\\n",
       "0                        1    male         51               3    Expert   \n",
       "1                        3    male         65               2    Expert   \n",
       "2                        3    male         58               3    Expert   \n",
       "3                        1  female         82               3  Advanced   \n",
       "4                        1  female         45               4  Advanced   \n",
       "\n",
       "               jobrole  jobsatisfaction maritalstatus  monthlyincome  \\\n",
       "0   resEArch DIREcToR                 3       Unknown        19537.0   \n",
       "1             ManAGeR                 3       Unknown        19999.0   \n",
       "2             ManaGER                 4       Married        19232.0   \n",
       "3   ReseArCH DIrECtOr                 3       Married        17169.0   \n",
       "4     sAleS EXECUtIve                 1      Divorced            NaN   \n",
       "\n",
       "   monthlyrate  numcompaniesworked overtime  percentsalaryhike  \\\n",
       "0         6462                   7       No                 13   \n",
       "1         5678                   0  Unknown                 14   \n",
       "2         4933                   1       No                 11   \n",
       "3        26703                   3  Unknown                 19   \n",
       "4         7739                   2       No                 12   \n",
       "\n",
       "   performancerating  relationshipsatisfaction  stockoptionlevel  \\\n",
       "0                3.0                         3                 0   \n",
       "1                3.0                         1                 1   \n",
       "2                3.0                         4                 0   \n",
       "3                3.0                         2                 2   \n",
       "4                3.0                         4                 1   \n",
       "\n",
       "   totalworkingyears  trainingtimeslastyear  worklifebalance  yearsatcompany  \\\n",
       "0                NaN                      5              3.0              20   \n",
       "1               34.0                      5              3.0              33   \n",
       "2               22.0                      3              NaN              22   \n",
       "3                NaN                      2              NaN              20   \n",
       "4                NaN                      5              3.0              19   \n",
       "\n",
       "  yearsincurrentrole  yearssincelastpromotion  yearswithcurrmanager  \\\n",
       "0                NaN                       15                    15   \n",
       "1                NaN                       11                     9   \n",
       "2                NaN                       11                    15   \n",
       "3                NaN                        5                     6   \n",
       "4                NaN                        2                     8   \n",
       "\n",
       "   yearbirth remotework  \n",
       "0       1972        Yes  \n",
       "1       1971        Yes  \n",
       "2       1981        Yes  \n",
       "3       1976         No  \n",
       "4       1977         No  "
      ]
     },
     "execution_count": 12,
     "metadata": {},
     "output_type": "execute_result"
    }
   ],
   "source": [
    "df_ejemplo.head(5)"
   ]
  },
  {
   "cell_type": "markdown",
   "metadata": {},
   "source": [
    "## Variables numéricas"
   ]
  },
  {
   "cell_type": "code",
   "execution_count": 13,
   "metadata": {},
   "outputs": [
    {
     "name": "stdout",
     "output_type": "stream",
     "text": [
      "Las columnas numéricas que tienen nulos son : \n",
      " \n",
      "Index(['dailyrate', 'employeenumber', 'monthlyincome', 'performancerating',\n",
      "       'totalworkingyears', 'worklifebalance'],\n",
      "      dtype='object')\n"
     ]
    }
   ],
   "source": [
    "# Obtenemos la lista de columnas numericas que tienen nulos\n",
    "nulos_esta_num = df_ejemplo[df_ejemplo.columns[df_ejemplo.isnull().any()]].select_dtypes(include = np.number).columns\n",
    "print(\"Las columnas numéricas que tienen nulos son : \\n \")\n",
    "print(nulos_esta_num)"
   ]
  },
  {
   "cell_type": "code",
   "execution_count": 14,
   "metadata": {},
   "outputs": [
    {
     "data": {
      "text/plain": [
       "dailyrate            0.076828\n",
       "employeenumber       0.267038\n",
       "monthlyincome        0.522305\n",
       "performancerating    0.120818\n",
       "totalworkingyears    0.325898\n",
       "worklifebalance      0.066914\n",
       "dtype: float64"
      ]
     },
     "execution_count": 14,
     "metadata": {},
     "output_type": "execute_result"
    }
   ],
   "source": [
    "# lo primero que vamos a hacer es calcular el número de nulos que tenemos en cada una de las columnas numericas\n",
    "df_ejemplo[nulos_esta_num].isnull().sum() / df_ejemplo.shape[0]"
   ]
  },
  {
   "cell_type": "markdown",
   "metadata": {},
   "source": [
    "Podemos ver los valores atipicos con diagrama de boxplot "
   ]
  },
  {
   "cell_type": "code",
   "execution_count": null,
   "metadata": {},
   "outputs": [],
   "source": [
    "# lo siguiente que tendríamos que hacer es ver si dentro de las columnas donde tenemos nulos tenemos valores atípicos. \n",
    "# Para hacer esto lo mejor es usar visualización, sin embargo, todavía no hemos aprendido (lo haremos mañana). \n",
    "# Por lo tanto, el código que tenéis a continuación no es necesario que lo entendais. \n",
    "\n",
    "fig, axes = plt.subplots(nrows = 2, ncols = 3, figsize = (20,10)) \n",
    "\n",
    "axes = axes.flat\n",
    "\n",
    "for indice, col in enumerate(nulos_esta_num):\n",
    "    sns.boxplot(x = col, data = df, ax = axes[indice])\n",
    "    \n",
    "plt.tight_layout()\n",
    "fig.delaxes(axes[-1]);"
   ]
  },
  {
   "cell_type": "markdown",
   "metadata": {},
   "source": [
    "Aquellas columnas que tienen valores por debajo del 5-10% podemos optar por reemplazar por la media o mediana\n",
    " - Si la muestra tiene valores atipicos, la mediana es la opcion, de lo contrario podemos usar la media\n"
   ]
  },
  {
   "cell_type": "code",
   "execution_count": null,
   "metadata": {},
   "outputs": [],
   "source": [
    "# para decidir si usamos la media o la mediana lo que haremos es hacer un describe de la columna para saber cuales son estos valores\n",
    "df[\"contact_year\"].describe()[[\"mean\", \"50%\"]]"
   ]
  },
  {
   "cell_type": "code",
   "execution_count": null,
   "metadata": {},
   "outputs": [],
   "source": [
    "media_conspriceidx = df[].mean()\n",
    "print(f\"La media de la columna 'conspriceidx' es: {round(media_conspriceidx, 2)}\")\n",
    "\n",
    "# aplicamos el método 'fillna()' a la columna\n",
    "df[] = df[]fillna(media_conspriceidx)\n",
    "\n",
    "# comprobamos los nulos para la columna\n",
    "print(f\"Después del 'fillna' tenemos {df['conspriceidx'].isnull().sum()} nulos\")"
   ]
  },
  {
   "cell_type": "code",
   "execution_count": null,
   "metadata": {},
   "outputs": [],
   "source": [
    "# lo siguiente que tenemos que hacer es introducir este array en nuestro DataFrame, en este caso sobreescribiremos la columna original. \n",
    "df[\"contact_year\"] = contact_year_imputado\n",
    "\n",
    "# por último comprobamos si tenemos nulos. \n",
    "print(f\"Después del 'SimpleImputer' tenemos {df['contact_year'].isnull().sum()} nulos\")"
   ]
  },
  {
   "cell_type": "code",
   "execution_count": null,
   "metadata": {},
   "outputs": [],
   "source": [
    "# creamos el objeto de la clase del SimpleImputer\n",
    "imputer_contact_year = SimpleImputer(strategy = \"mean\")\n",
    "\n",
    "# ajustamos y transformamos los datos. 📌 Fijaos como hemos puesto dos corchetes en el nombre de la columna\n",
    "contact_year_imputado = imputer_contact_year.fit_transform(df[[\"contact_year\"]])\n",
    "\n",
    "# comprobamos que es lo que nos devuelve este método. Nos devuelve un array. \n",
    "contact_year_imputado"
   ]
  },
  {
   "cell_type": "markdown",
   "metadata": {},
   "source": [
    "\n",
    "Aquellas columnas con valores atipicos tendremos que usar los metodos de KNNImputer y/o IterativeImputer "
   ]
  },
  {
   "cell_type": "code",
   "execution_count": null,
   "metadata": {},
   "outputs": [],
   "source": [
    "# como vamos a crear columnas nuevas, vamos a hacer una copia del DataFrame usando el método 'copy()'\n",
    "df_copia = df.copy()\n",
    "df_copia.head(1)"
   ]
  },
  {
   "cell_type": "markdown",
   "metadata": {},
   "source": [
    "IterativeImputer"
   ]
  },
  {
   "cell_type": "code",
   "execution_count": null,
   "metadata": {},
   "outputs": [],
   "source": [
    "# hemos dicho que para las tres columnas restantes aplicaremos los dos métodos para luego compararlos, empezaremos por el IterativeImputer\n",
    "# instanciamos las clases\n",
    "imputer_iterative = IterativeImputer(max_iter = 20, random_state = 42)\n",
    "\n",
    "# ajustamos y tranformamos los datos\n",
    "imputer_iterative_imputado = imputer_iterative.fit_transform(df_copia[[\"age\", \"pdays\", \"euribor3m\"]])\n",
    "\n",
    "# comprobamos que es lo que nos devuelve, que en este caso es un array también\n",
    "imputer_iterative_imputado"
   ]
  },
  {
   "cell_type": "code",
   "execution_count": null,
   "metadata": {},
   "outputs": [],
   "source": [
    "# en este caso como vamos a aplicar los dos métodos sobre estas columnas vamos a crear dos columnas nuevas\n",
    "df_copia[[\"age_iterative\", \"pdays_iterative\", \"euribor_iterative\"]] = imputer_iterative_imputado\n",
    "\n",
    "# comprobamos los nulos\n",
    "print(f\"Después del 'Iterative' tenemos: \\n{df_copia[['age_iterative', 'pdays_iterative', 'euribor_iterative']].isnull().sum()} nulos\")"
   ]
  },
  {
   "cell_type": "markdown",
   "metadata": {},
   "source": [
    "KNNImputer"
   ]
  },
  {
   "cell_type": "code",
   "execution_count": null,
   "metadata": {},
   "outputs": [],
   "source": [
    "# hagamos ahora lo mismo con el KNNImputer. NOTA, la ejecución de esta celda puede tardar un ratito\n",
    "\n",
    "# instanciamos la clase del KNNImputer\n",
    "imputer_knn = KNNImputer(n_neighbors = 5)\n",
    "\n",
    "# ajustamos y transformamos los datos\n",
    "imputer_knn_imputado = imputer_knn.fit_transform(df_copia[[\"age\", \"pdays\", \"euribor3m\"]])\n",
    "\n",
    "# comprobamos que es lo que nos devuelve, que sigue siendo un array\n",
    "imputer_knn_imputado"
   ]
  },
  {
   "cell_type": "code",
   "execution_count": null,
   "metadata": {},
   "outputs": [],
   "source": [
    "# por último nos queda añadir ese array al DataFrame como hemos hecho hasta ahora\n",
    "df_copia[[\"age_knn\", \"pdays_knn\", \"euribor_knn\"]] = imputer_knn_imputado\n",
    "\n",
    "\n",
    "# comprobamos los nulos\n",
    "print(f\"Después del 'KNN' tenemos: \\n{df_copia[['age_knn', 'pdays_knn', 'euribor_knn']].isnull().sum()} nulos\")"
   ]
  },
  {
   "cell_type": "markdown",
   "metadata": {},
   "source": [
    "Comparamos los datos con ambos metodos para decidir con cual nos quedamos"
   ]
  },
  {
   "cell_type": "code",
   "execution_count": null,
   "metadata": {},
   "outputs": [],
   "source": [
    "df_copia.describe()[[\"age\",\"age_iterative\", \"age_knn\", \"pdays\", \"pdays_iterative\", \"pdays_knn\", \"euribor3m\", \"euribor_iterative\", \"euribor_knn\"]]"
   ]
  },
  {
   "cell_type": "code",
   "execution_count": null,
   "metadata": {},
   "outputs": [],
   "source": [
    "#eliminar las columnas que ya no nos interesan para guardar el DataFrame \n",
    "df_copia.drop([\"age\", \"pdays\", \"euribor3m\", \"age_knn\" , \"euribor_knn\",  \"pdays_iterative\" ], axis = 1, inplace = True)\n",
    "\n",
    "# ahora vamos a cambiar el nombre de las columnas que quedaron para que tengan el mismo nombre de origen\n",
    "nuevo_nombre = {\"age_iterative\": \"age\",  'euribor_iterative': \"euribor3m\", \"pdays_knn\": \"pdays\"   }\n",
    "df_copia.rename(columns = nuevo_nombre, inplace = True)"
   ]
  },
  {
   "cell_type": "markdown",
   "metadata": {},
   "source": [
    "Guardamos el dataFrame modificado"
   ]
  },
  {
   "cell_type": "code",
   "execution_count": null,
   "metadata": {},
   "outputs": [],
   "source": [
    "\n",
    "df_copia.to_csv()"
   ]
  }
 ],
 "metadata": {
  "kernelspec": {
   "display_name": "base",
   "language": "python",
   "name": "python3"
  },
  "language_info": {
   "codemirror_mode": {
    "name": "ipython",
    "version": 3
   },
   "file_extension": ".py",
   "mimetype": "text/x-python",
   "name": "python",
   "nbconvert_exporter": "python",
   "pygments_lexer": "ipython3",
   "version": "3.9.7"
  },
  "orig_nbformat": 4
 },
 "nbformat": 4,
 "nbformat_minor": 2
}
