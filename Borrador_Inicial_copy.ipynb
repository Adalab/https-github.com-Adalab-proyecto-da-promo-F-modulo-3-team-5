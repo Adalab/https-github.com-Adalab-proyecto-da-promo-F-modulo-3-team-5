{
 "cells": [
  {
   "cell_type": "code",
   "execution_count": 66,
   "metadata": {},
   "outputs": [],
   "source": [
    "import pandas as pd \n",
    "import numpy as np\n",
    "from word2number import w2n"
   ]
  },
  {
   "cell_type": "code",
   "execution_count": 67,
   "metadata": {},
   "outputs": [],
   "source": [
    "df_ejemplo=pd.read_csv(\"HR RAW DATA.csv\",index_col=0)"
   ]
  },
  {
   "cell_type": "code",
   "execution_count": 68,
   "metadata": {},
   "outputs": [],
   "source": [
    "#Homogeneizar nombre columnas \n",
    "nuevas_columnas = {columna: columna.lower() for columna in df_ejemplo.columns}"
   ]
  },
  {
   "cell_type": "code",
   "execution_count": 69,
   "metadata": {},
   "outputs": [],
   "source": [
    "df_ejemplo.rename(columns=nuevas_columnas, inplace= True)"
   ]
  },
  {
   "cell_type": "code",
   "execution_count": 70,
   "metadata": {},
   "outputs": [],
   "source": [
    "#Modificamos nombre de la columna para que sea mas intuitivo\n",
    "df_ejemplo.rename(columns = {\"datebirth\": \"yearbirth\"}, inplace = True )"
   ]
  },
  {
   "cell_type": "code",
   "execution_count": 71,
   "metadata": {},
   "outputs": [],
   "source": [
    "#Eliminamos las siguientes columnas:\n",
    "#Role Department: Fusiona otras columnas, no le vemos sentdo\n",
    "#Number Children: no hay valores\n",
    "#Over 18: columna sin sentido.Esta desactualizada, se puede calcular con otras columnas\n",
    "#Same As Month Income: Es una columna repetida, una copia de month income\n",
    "#Employee Count: No tienen sentido. El recuento se puede hacer por filas, o por números de referncia de empleado\n",
    "#Salary : la eliminamos y creamos una de nuevo con el cálculo de los datos "
   ]
  },
  {
   "cell_type": "code",
   "execution_count": 72,
   "metadata": {},
   "outputs": [],
   "source": [
    "df_ejemplo.drop(['roledepartament','numberchildren','over18', 'sameasmonthlyincome','employeecount','salary'],axis = 1, inplace=True)"
   ]
  },
  {
   "cell_type": "code",
   "execution_count": 73,
   "metadata": {},
   "outputs": [],
   "source": [
    "#lista con columnas a limpiar\n",
    "columnas_limpiar = ['dailyrate','employeenumber','monthlyincome','performancerating','totalworkingyears','worklifebalance','distancefromhome']"
   ]
  },
  {
   "cell_type": "code",
   "execution_count": 74,
   "metadata": {},
   "outputs": [],
   "source": [
    "#Para columna de Age\n",
    "\n",
    "def convertir_a_numero(valor):\n",
    "    if isinstance(valor, int): # Verifica si el valor ya es un entero, si lo es no hace nada\n",
    "        return valor\n",
    "    elif isinstance(valor, str): # Intenta convertir el valor a número\n",
    "        try: \n",
    "            numero = int(valor)\n",
    "            return numero\n",
    "        except ValueError:\n",
    "            try: # aquí es donde se usa la función w2n en el try pq si la conversion falla entonces se usará\n",
    "                numero = w2n.word_to_num(valor)\n",
    "                return numero\n",
    "            except ValueError:\n",
    "                print(f\"Error: No se pudo convertir '{valor}' a número.\")\n",
    "                return None\n",
    "    else:\n",
    "        print(f\"Error: Tipo de dato no soportado para el valor '{valor}'.\")\n",
    "        return None\n"
   ]
  },
  {
   "cell_type": "code",
   "execution_count": 75,
   "metadata": {},
   "outputs": [],
   "source": [
    "df_ejemplo['age'] = df_ejemplo['age'].apply(convertir_a_numero) #llamamos a la función"
   ]
  },
  {
   "cell_type": "code",
   "execution_count": 76,
   "metadata": {},
   "outputs": [],
   "source": [
    "def limpiar_datos (columna):\n",
    "\n",
    "      try:\n",
    "          df_ejemplo[columna] =(df_ejemplo[columna].str.replace('$', ''))\n",
    "    \n",
    "      except:\n",
    "          pass\n",
    "      \n",
    "      try:\n",
    "          df_ejemplo[columna] =(df_ejemplo[columna].str.replace(',', '.')) \n",
    "    \n",
    "      except:\n",
    "          pass\n",
    "      try:\n",
    "          \n",
    "         df_ejemplo[columna] = df_ejemplo[columna].abs()\n",
    "\n",
    "      except:\n",
    "          pass\n",
    "      \n",
    "      try:\n",
    "        df_ejemplo[columna]=pd.to_numeric(df_ejemplo[columna]).astype(float)\n",
    "      except:\n",
    "        pass\n",
    "      return df_ejemplo[columna]"
   ]
  },
  {
   "cell_type": "code",
   "execution_count": 77,
   "metadata": {},
   "outputs": [
    {
     "name": "stdout",
     "output_type": "stream",
     "text": [
      "0        684.0\n",
      "1        699.0\n",
      "2        532.0\n",
      "3        359.0\n",
      "4       1319.0\n",
      "         ...  \n",
      "1609     530.0\n",
      "1610     805.0\n",
      "1611     903.0\n",
      "1612    1229.0\n",
      "1613     566.0\n",
      "Name: dailyrate, Length: 1614, dtype: object\n",
      "0       162.0\n",
      "1       259.0\n",
      "2       319.0\n",
      "3         NaN\n",
      "4         NaN\n",
      "        ...  \n",
      "1609    967.0\n",
      "1610    972.0\n",
      "1611      NaN\n",
      "1612    990.0\n",
      "1613      NaN\n",
      "Name: employeenumber, Length: 1614, dtype: float64\n",
      "0       19537.0\n",
      "1       19999.0\n",
      "2       19232.0\n",
      "3       17169.0\n",
      "4           NaN\n",
      "         ...   \n",
      "1609    10325.0\n",
      "1610     4447.0\n",
      "1611        NaN\n",
      "1612        NaN\n",
      "1613    10845.0\n",
      "Name: monthlyincome, Length: 1614, dtype: float64\n",
      "0       3.0\n",
      "1       3.0\n",
      "2       3.0\n",
      "3       3.0\n",
      "4       3.0\n",
      "       ... \n",
      "1609    NaN\n",
      "1610    3.0\n",
      "1611    3.0\n",
      "1612    NaN\n",
      "1613    3.0\n",
      "Name: performancerating, Length: 1614, dtype: float64\n",
      "0        NaN\n",
      "1       34.0\n",
      "2       22.0\n",
      "3        NaN\n",
      "4        NaN\n",
      "        ... \n",
      "1609     NaN\n",
      "1610     NaN\n",
      "1611     9.0\n",
      "1612    12.0\n",
      "1613     NaN\n",
      "Name: totalworkingyears, Length: 1614, dtype: float64\n",
      "0       3.0\n",
      "1       3.0\n",
      "2       NaN\n",
      "3       NaN\n",
      "4       3.0\n",
      "       ... \n",
      "1609    3.0\n",
      "1610    2.0\n",
      "1611    3.0\n",
      "1612    3.0\n",
      "1613    3.0\n",
      "Name: worklifebalance, Length: 1614, dtype: float64\n",
      "0        6.0\n",
      "1        1.0\n",
      "2        4.0\n",
      "3        2.0\n",
      "4        3.0\n",
      "        ... \n",
      "1609     3.0\n",
      "1610     4.0\n",
      "1611    13.0\n",
      "1612     8.0\n",
      "1613     7.0\n",
      "Name: distancefromhome, Length: 1614, dtype: float64\n"
     ]
    }
   ],
   "source": [
    "#Limpiamos las columnas de numeros para convertirlas a numericas\n",
    "for i in columnas_limpiar:\n",
    "   df_ejemplo[i]=limpiar_datos(i)\n",
    "   print(df_ejemplo[i])\n",
    "   \n",
    " "
   ]
  },
  {
   "cell_type": "code",
   "execution_count": 78,
   "metadata": {},
   "outputs": [],
   "source": [
    "#"
   ]
  },
  {
   "cell_type": "markdown",
   "metadata": {},
   "source": [
    "_____"
   ]
  },
  {
   "cell_type": "markdown",
   "metadata": {},
   "source": [
    "- Cambiamos de categoria la columna 'género'. Reemplazamos sus valores de 0 y 1 por Male y Famele.\n",
    "\n",
    "- Homogeneizamos la columna 'maritalstatus'\n",
    "\n",
    "- Modificamos los valores de la columna  'remotework', 0 y 1, True or False por Yes y No\n",
    "\n",
    "- Al analizar la columna de employee number, encontramos muchos valores duplicados y la unica diferencia entre estos duplicados eran los valores que se encuentran en la columna 'remotework'. Allí detectamos que la equivalencia era 0 = 'No' y 1 = 'Yes'\n"
   ]
  },
  {
   "cell_type": "code",
   "execution_count": 79,
   "metadata": {},
   "outputs": [
    {
     "data": {
      "text/plain": [
       "gender\n",
       "male      971\n",
       "female    643\n",
       "Name: count, dtype: int64"
      ]
     },
     "execution_count": 79,
     "metadata": {},
     "output_type": "execute_result"
    }
   ],
   "source": [
    "df_ejemplo['gender'] = df_ejemplo['gender'].replace({0: 'male', 1: 'female'})\n",
    "df_ejemplo['gender'].value_counts()"
   ]
  },
  {
   "cell_type": "code",
   "execution_count": 81,
   "metadata": {},
   "outputs": [],
   "source": [
    "df_ejemplo['maritalstatus']= df_ejemplo['maritalstatus'].replace({'divorced':'Divorced','Marreid':'Married'})"
   ]
  },
  {
   "cell_type": "code",
   "execution_count": 84,
   "metadata": {},
   "outputs": [
    {
     "data": {
      "text/plain": [
       "remotework\n",
       "1        360\n",
       "True     345\n",
       "0        309\n",
       "False    305\n",
       "Yes      295\n",
       "Name: count, dtype: int64"
      ]
     },
     "execution_count": 84,
     "metadata": {},
     "output_type": "execute_result"
    }
   ],
   "source": [
    "df_ejemplo['remotework'].value_counts()"
   ]
  },
  {
   "cell_type": "code",
   "execution_count": 93,
   "metadata": {},
   "outputs": [],
   "source": [
    "df_ejemplo['remotework']= df_ejemplo['remotework'].replace({('1'):'Yes',('0') or ('False'): 'No', 'True': 'Yes'})"
   ]
  },
  {
   "cell_type": "markdown",
   "metadata": {},
   "source": [
    "______"
   ]
  },
  {
   "cell_type": "markdown",
   "metadata": {},
   "source": [
    "COLUMNA 13. HourlyRate: La tarifa por hora del empleado.\n",
    "\n",
    "- NO hay nulos\n",
    "- Pasamos de srt a int. \n",
    "- La media cobra por hora 62.59 "
   ]
  },
  {
   "cell_type": "code",
   "execution_count": null,
   "metadata": {},
   "outputs": [
    {
     "data": {
      "text/plain": [
       "0"
      ]
     },
     "execution_count": 47,
     "metadata": {},
     "output_type": "execute_result"
    }
   ],
   "source": [
    "df_ejemplo['HourlyRate'].isnull().sum()"
   ]
  },
  {
   "cell_type": "code",
   "execution_count": null,
   "metadata": {},
   "outputs": [],
   "source": [
    "# Pasamos el valor a integer. \n",
    "# ponemos errors='coerce' ya que hay valores que no se puede transforar, como es el caso de 'Not Available'. Se convertiá a NaN\n",
    "\n",
    "df_ejemplo['HourlyRate'] = pd.to_numeric(df_ejemplo['HourlyRate'], errors='coerce')\n",
    "\n",
    "# Convertir la columna a tipo entero, tratando los NaN como 0\n",
    "df_ejemplo['HourlyRate'] = df_ejemplo['HourlyRate'].fillna(0).astype(int)"
   ]
  },
  {
   "cell_type": "code",
   "execution_count": null,
   "metadata": {},
   "outputs": [
    {
     "data": {
      "text/plain": [
       "0"
      ]
     },
     "execution_count": 49,
     "metadata": {},
     "output_type": "execute_result"
    }
   ],
   "source": [
    "df_ejemplo['HourlyRate'].isnull().sum()"
   ]
  },
  {
   "cell_type": "code",
   "execution_count": null,
   "metadata": {},
   "outputs": [
    {
     "data": {
      "text/plain": [
       "0       51\n",
       "1       65\n",
       "2       58\n",
       "3       82\n",
       "4       45\n",
       "        ..\n",
       "1609    51\n",
       "1610    57\n",
       "1611    41\n",
       "1612    84\n",
       "1613    75\n",
       "Name: HourlyRate, Length: 1614, dtype: int64"
      ]
     },
     "execution_count": 50,
     "metadata": {},
     "output_type": "execute_result"
    }
   ],
   "source": [
    "df_ejemplo['HourlyRate']"
   ]
  },
  {
   "cell_type": "code",
   "execution_count": null,
   "metadata": {},
   "outputs": [
    {
     "data": {
      "text/plain": [
       "count    1614.000000\n",
       "mean       62.591698\n",
       "std        24.525022\n",
       "min         0.000000\n",
       "25%        46.000000\n",
       "50%        64.000000\n",
       "75%        83.000000\n",
       "max       100.000000\n",
       "Name: HourlyRate, dtype: float64"
      ]
     },
     "execution_count": 51,
     "metadata": {},
     "output_type": "execute_result"
    }
   ],
   "source": [
    "df_ejemplo['HourlyRate'].describe()"
   ]
  },
  {
   "cell_type": "markdown",
   "metadata": {},
   "source": [
    "____"
   ]
  },
  {
   "cell_type": "markdown",
   "metadata": {},
   "source": [
    "COLUMNA 14. JobInvolvement: Nivel de implicación del empleado en su trabajo.\n",
    "- Que significa? Quien lo valora? El mánager/jefe? Es una auto-evaluación?\n",
    "- Se piede relacionar con otras columnas? Ej: salario / número de horas que se trabajan, etc..."
   ]
  },
  {
   "cell_type": "code",
   "execution_count": null,
   "metadata": {},
   "outputs": [
    {
     "data": {
      "text/plain": [
       "JobInvolvement\n",
       "3    955\n",
       "2    406\n",
       "4    164\n",
       "1     89\n",
       "Name: count, dtype: int64"
      ]
     },
     "execution_count": 52,
     "metadata": {},
     "output_type": "execute_result"
    }
   ],
   "source": [
    "df_ejemplo['JobInvolvement'].value_counts()"
   ]
  },
  {
   "cell_type": "code",
   "execution_count": null,
   "metadata": {},
   "outputs": [
    {
     "data": {
      "text/plain": [
       "1614"
      ]
     },
     "execution_count": 53,
     "metadata": {},
     "output_type": "execute_result"
    }
   ],
   "source": [
    "df_ejemplo['JobInvolvement'].size"
   ]
  },
  {
   "cell_type": "code",
   "execution_count": null,
   "metadata": {},
   "outputs": [
    {
     "data": {
      "text/plain": [
       "0"
      ]
     },
     "execution_count": 54,
     "metadata": {},
     "output_type": "execute_result"
    }
   ],
   "source": [
    "df_ejemplo['JobInvolvement'].isnull().sum()"
   ]
  },
  {
   "cell_type": "markdown",
   "metadata": {},
   "source": []
  },
  {
   "cell_type": "markdown",
   "metadata": {},
   "source": [
    "______"
   ]
  },
  {
   "cell_type": "markdown",
   "metadata": {},
   "source": [
    "COLUMNA 15: JobLevel - Nivel Jerárquico del empleado en la empresa\n",
    "\n",
    "-tipo de dato INT\n",
    "\n",
    "-No hay valores nulos"
   ]
  },
  {
   "cell_type": "code",
   "execution_count": null,
   "metadata": {},
   "outputs": [
    {
     "data": {
      "text/plain": [
       "array([5, 4, 3, 2, 1])"
      ]
     },
     "execution_count": 4,
     "metadata": {},
     "output_type": "execute_result"
    }
   ],
   "source": [
    "df_ejemplo['JobLevel'].unique()"
   ]
  },
  {
   "cell_type": "code",
   "execution_count": null,
   "metadata": {},
   "outputs": [
    {
     "data": {
      "text/plain": [
       "0"
      ]
     },
     "execution_count": 6,
     "metadata": {},
     "output_type": "execute_result"
    }
   ],
   "source": [
    "df_ejemplo['JobLevel'].isnull().sum()"
   ]
  },
  {
   "cell_type": "markdown",
   "metadata": {},
   "source": [
    "COLUMNA 16: JobRole -El rol o puesto de trabajo del empleado.\n",
    "\n",
    "-No hay nulos\n",
    "\n",
    "-Tipo de dato 'object'\n",
    "\n",
    "-Cambie la infromacion a letras minusculas (estaba en formato messenger)"
   ]
  },
  {
   "cell_type": "code",
   "execution_count": null,
   "metadata": {},
   "outputs": [],
   "source": [
    "df_ejemplo['JobRole']= [elemento.lower() for elemento in df_ejemplo['JobRole']]"
   ]
  },
  {
   "cell_type": "code",
   "execution_count": null,
   "metadata": {},
   "outputs": [],
   "source": [
    "df_ejemplo['JobRole'].value_counts()"
   ]
  },
  {
   "cell_type": "markdown",
   "metadata": {},
   "source": [
    "COLUMNA 17: JobSatisfaction - Nivel de satisfacción del empleado con su trabajo.\n",
    "\n",
    "-Tipo de dato: int64\n",
    "\n",
    "-No hay valores nulos\n",
    "\n",
    "-Dejo registrada la media de satisfaccion laboral"
   ]
  },
  {
   "cell_type": "code",
   "execution_count": null,
   "metadata": {},
   "outputs": [
    {
     "data": {
      "text/plain": [
       "array([3, 4, 1, 2])"
      ]
     },
     "execution_count": 7,
     "metadata": {},
     "output_type": "execute_result"
    }
   ],
   "source": [
    "df_ejemplo['JobSatisfaction'].unique()"
   ]
  },
  {
   "cell_type": "code",
   "execution_count": null,
   "metadata": {},
   "outputs": [
    {
     "data": {
      "text/plain": [
       "4    514\n",
       "3    481\n",
       "1    317\n",
       "2    302\n",
       "Name: JobSatisfaction, dtype: int64"
      ]
     },
     "execution_count": 8,
     "metadata": {},
     "output_type": "execute_result"
    }
   ],
   "source": [
    "df_ejemplo['JobSatisfaction'].value_counts()"
   ]
  },
  {
   "cell_type": "code",
   "execution_count": null,
   "metadata": {},
   "outputs": [
    {
     "data": {
      "text/plain": [
       "count    1614.000000\n",
       "mean        2.738538\n",
       "std         1.106163\n",
       "min         1.000000\n",
       "25%         2.000000\n",
       "50%         3.000000\n",
       "75%         4.000000\n",
       "max         4.000000\n",
       "Name: JobSatisfaction, dtype: float64"
      ]
     },
     "execution_count": 9,
     "metadata": {},
     "output_type": "execute_result"
    }
   ],
   "source": [
    "df_ejemplo['JobSatisfaction'].describe(include='object')"
   ]
  },
  {
   "cell_type": "markdown",
   "metadata": {},
   "source": [
    "COLUMNA 18: MaritalStatus - El estado civil del empleado (por ejemplo, \"Single\", \"Married\", etc.).\n",
    "\n",
    "-Tipo de dato: \n",
    "\n",
    "-Datos nulos: 651. NaN pueden ser floats o str \n",
    "\n",
    "-Tenemos Divorce escrito de dos formas diferentes. Divorced/divorced. Lo unifico en Divorced\n",
    "Ver si lo modificamos todo a minusculas\n",
    "-Married idem anterior"
   ]
  },
  {
   "cell_type": "code",
   "execution_count": null,
   "metadata": {},
   "outputs": [
    {
     "data": {
      "text/plain": [
       "651"
      ]
     },
     "execution_count": 10,
     "metadata": {},
     "output_type": "execute_result"
    }
   ],
   "source": [
    "df_ejemplo['MaritalStatus'].isnull().sum()"
   ]
  },
  {
   "cell_type": "code",
   "execution_count": null,
   "metadata": {},
   "outputs": [],
   "source": [
    "df_ejemplo['MaritalStatus']= df_ejemplo['MaritalStatus'].replace('divorced', 'Divorced')"
   ]
  },
  {
   "cell_type": "code",
   "execution_count": null,
   "metadata": {},
   "outputs": [],
   "source": [
    "df_ejemplo['MaritalStatus']= df_ejemplo['MaritalStatus'].replace('Marreid', 'Married')"
   ]
  },
  {
   "cell_type": "code",
   "execution_count": null,
   "metadata": {},
   "outputs": [
    {
     "data": {
      "text/plain": [
       "Married     439\n",
       "Single      325\n",
       "Divorced    199\n",
       "Name: MaritalStatus, dtype: int64"
      ]
     },
     "execution_count": 13,
     "metadata": {},
     "output_type": "execute_result"
    }
   ],
   "source": [
    "df_ejemplo['MaritalStatus'].value_counts()"
   ]
  },
  {
   "cell_type": "markdown",
   "metadata": {},
   "source": [
    "COLUMNA 19: MonthlyIncome - Ingresos mensuales del empleado.\n",
    "\n",
    "-Datos nulos: 843\n",
    "\n",
    "-Tipo de dato: object"
   ]
  },
  {
   "cell_type": "code",
   "execution_count": null,
   "metadata": {},
   "outputs": [
    {
     "data": {
      "text/plain": [
       "843"
      ]
     },
     "execution_count": 18,
     "metadata": {},
     "output_type": "execute_result"
    }
   ],
   "source": [
    "df_ejemplo['MonthlyIncome'].isnull().sum()"
   ]
  },
  {
   "cell_type": "code",
   "execution_count": null,
   "metadata": {},
   "outputs": [],
   "source": [
    "df_ejemplo[\"MonthlyIncome\"]= df_ejemplo[\"MonthlyIncome\"].str.replace(',','.')"
   ]
  },
  {
   "cell_type": "code",
   "execution_count": null,
   "metadata": {},
   "outputs": [],
   "source": [
    "df_ejemplo[\"MonthlyIncome\"]=pd.to_numeric(df_ejemplo[\"MonthlyIncome\"]).astype(float)"
   ]
  },
  {
   "cell_type": "markdown",
   "metadata": {},
   "source": [
    "COLUMNA 20: MonthlyRate - Tasa mensual del empleado.\n",
    "\n",
    " _ significa la tasa mensual de salario o sueldo que recibe un empleado por su trabajo en una empresa. Es el monto específico que se paga a los empleados en forma regular cada mes. Esta información se suele registrar en una tabla de empleados para llevar un registro de los salarios y compensaciones que se les otorgan. La tasa mensual puede variar dependiendo del puesto, la experiencia, las habilidades y otros factores relevantes.\n",
    "\n",
    "-tipo de dato: int \n",
    "\n",
    "-No hay nulos\n",
    "\n",
    "Hay mucha diferencia entre el minimo y el máximo"
   ]
  },
  {
   "cell_type": "code",
   "execution_count": null,
   "metadata": {},
   "outputs": [
    {
     "data": {
      "text/plain": [
       "count     1614.000000\n",
       "mean     14284.495663\n",
       "std       7110.414585\n",
       "min       2094.000000\n",
       "25%       8001.000000\n",
       "50%      14248.500000\n",
       "75%      20364.000000\n",
       "max      26999.000000\n",
       "Name: MonthlyRate, dtype: float64"
      ]
     },
     "execution_count": 22,
     "metadata": {},
     "output_type": "execute_result"
    }
   ],
   "source": [
    "df_ejemplo['MonthlyRate'].describe()"
   ]
  },
  {
   "cell_type": "markdown",
   "metadata": {},
   "source": [
    "COLUMNA 21: NUMCOMPANIESWORKED - Número de compañías en las que el empleado ha trabajado.\n",
    "\n",
    "-tipo de dato: Int\n",
    "\n",
    "-No hay nulos \n",
    "\n",
    "-Cambiamos el tamaño del nombre de la columna, mismo patron que el resto de las columnas"
   ]
  },
  {
   "cell_type": "code",
   "execution_count": null,
   "metadata": {},
   "outputs": [
    {
     "data": {
      "text/plain": [
       "array([7, 0, 1, 3, 2, 4, 8, 9, 5, 6])"
      ]
     },
     "execution_count": 25,
     "metadata": {},
     "output_type": "execute_result"
    }
   ],
   "source": [
    "df_ejemplo['NUMCOMPANIESWORKED'].unique()"
   ]
  },
  {
   "cell_type": "code",
   "execution_count": null,
   "metadata": {},
   "outputs": [
    {
     "data": {
      "text/plain": [
       "1    573\n",
       "0    226\n",
       "3    169\n",
       "4    157\n",
       "2    156\n",
       "7     84\n",
       "6     73\n",
       "5     66\n",
       "9     59\n",
       "8     51\n",
       "Name: NUMCOMPANIESWORKED, dtype: int64"
      ]
     },
     "execution_count": 26,
     "metadata": {},
     "output_type": "execute_result"
    }
   ],
   "source": [
    "df_ejemplo['NUMCOMPANIESWORKED'].value_counts()"
   ]
  },
  {
   "cell_type": "markdown",
   "metadata": {},
   "source": [
    "Over18 - Indica si el empleado es mayor de 18 años.\n",
    "\n",
    "-valores nulos: 901\n",
    "\n",
    "-Esta columna no tiene sentido\n"
   ]
  },
  {
   "cell_type": "code",
   "execution_count": null,
   "metadata": {},
   "outputs": [
    {
     "data": {
      "text/plain": [
       "901"
      ]
     },
     "execution_count": 27,
     "metadata": {},
     "output_type": "execute_result"
    }
   ],
   "source": [
    "df_ejemplo['Over18'].isnull().sum()"
   ]
  },
  {
   "cell_type": "code",
   "execution_count": null,
   "metadata": {},
   "outputs": [
    {
     "data": {
      "text/plain": [
       "array(['Y', nan], dtype=object)"
      ]
     },
     "execution_count": 28,
     "metadata": {},
     "output_type": "execute_result"
    }
   ],
   "source": [
    "df_ejemplo['Over18'].unique()"
   ]
  },
  {
   "cell_type": "markdown",
   "metadata": {},
   "source": [
    "______"
   ]
  },
  {
   "cell_type": "markdown",
   "metadata": {},
   "source": [
    "COLUMNA 23: OverTime\n",
    "\n",
    "solo 3 tipos de valores, 40% Nan"
   ]
  },
  {
   "cell_type": "code",
   "execution_count": null,
   "metadata": {},
   "outputs": [
    {
     "data": {
      "text/plain": [
       "array(['No', nan, 'Yes'], dtype=object)"
      ]
     },
     "execution_count": 17,
     "metadata": {},
     "output_type": "execute_result"
    }
   ],
   "source": [
    "df_ejemplo['overtime'].unique()"
   ]
  },
  {
   "cell_type": "code",
   "execution_count": null,
   "metadata": {},
   "outputs": [
    {
     "data": {
      "text/plain": [
       "No     682\n",
       "Yes    256\n",
       "Name: overtime, dtype: int64"
      ]
     },
     "execution_count": 18,
     "metadata": {},
     "output_type": "execute_result"
    }
   ],
   "source": [
    "df_ejemplo['overtime'].value_counts()"
   ]
  },
  {
   "cell_type": "code",
   "execution_count": null,
   "metadata": {},
   "outputs": [],
   "source": [
    "df_ejemplo['OverTime'].isnull().sum()"
   ]
  },
  {
   "cell_type": "code",
   "execution_count": null,
   "metadata": {},
   "outputs": [],
   "source": [
    "df_ejemplo.info()"
   ]
  },
  {
   "cell_type": "markdown",
   "metadata": {},
   "source": [
    "COLUMNA 24: PercentSalaryHike\t\n",
    "\n",
    "muchos porcentajes, ningún null"
   ]
  },
  {
   "cell_type": "code",
   "execution_count": null,
   "metadata": {},
   "outputs": [
    {
     "data": {
      "text/plain": [
       "array([13, 14, 11, 19, 12, 25, 16, 17, 22, 23, 20, 15, 21, 24, 18])"
      ]
     },
     "execution_count": 20,
     "metadata": {},
     "output_type": "execute_result"
    }
   ],
   "source": [
    "df_ejemplo['percentsalaryhike'].unique()"
   ]
  },
  {
   "cell_type": "code",
   "execution_count": null,
   "metadata": {},
   "outputs": [
    {
     "data": {
      "text/plain": [
       "11    232\n",
       "13    230\n",
       "12    225\n",
       "14    220\n",
       "15    110\n",
       "18     98\n",
       "17     88\n",
       "16     86\n",
       "19     82\n",
       "20     60\n",
       "22     59\n",
       "21     51\n",
       "23     29\n",
       "24     25\n",
       "25     19\n",
       "Name: percentsalaryhike, dtype: int64"
      ]
     },
     "execution_count": 21,
     "metadata": {},
     "output_type": "execute_result"
    }
   ],
   "source": [
    "df_ejemplo['percentsalaryhike'].value_counts()"
   ]
  },
  {
   "cell_type": "code",
   "execution_count": null,
   "metadata": {},
   "outputs": [],
   "source": [
    "df_ejemplo['PercentSalaryHike'].describe()"
   ]
  },
  {
   "cell_type": "code",
   "execution_count": null,
   "metadata": {},
   "outputs": [],
   "source": [
    "df_ejemplo['PercentSalaryHike'].isnull().sum()"
   ]
  },
  {
   "cell_type": "markdown",
   "metadata": {},
   "source": [
    "COLUMNA 25: PerformanceRating\n",
    "\n",
    "Pocos null, hay que cambiar los float por int, solo valores 3 y 4"
   ]
  },
  {
   "cell_type": "code",
   "execution_count": null,
   "metadata": {},
   "outputs": [],
   "source": [
    "df_ejemplo['PerformanceRating'].unique()"
   ]
  },
  {
   "cell_type": "code",
   "execution_count": null,
   "metadata": {},
   "outputs": [],
   "source": [
    "df_ejemplo['PerformanceRating'].value_counts()"
   ]
  },
  {
   "cell_type": "code",
   "execution_count": null,
   "metadata": {},
   "outputs": [],
   "source": [
    "df_ejemplo['PerformanceRating'].describe()"
   ]
  },
  {
   "cell_type": "code",
   "execution_count": null,
   "metadata": {},
   "outputs": [],
   "source": [
    "df_ejemplo['PerformanceRating']=df_ejemplo['PerformanceRating'].str.replace(',','.')\n",
    "df_ejemplo['PerformanceRating']=df_ejemplo['PerformanceRating'].astype(float)"
   ]
  },
  {
   "cell_type": "code",
   "execution_count": null,
   "metadata": {},
   "outputs": [],
   "source": [
    "df_ejemplo['PerformanceRating'].describe()"
   ]
  },
  {
   "cell_type": "code",
   "execution_count": null,
   "metadata": {},
   "outputs": [],
   "source": [
    "df_ejemplo['PerformanceRating'].isnull().sum()"
   ]
  },
  {
   "cell_type": "markdown",
   "metadata": {},
   "source": [
    "COLUMNA 26: RelationshipSatisfaction\n",
    "\n",
    "este aprece que está bien"
   ]
  },
  {
   "cell_type": "code",
   "execution_count": null,
   "metadata": {},
   "outputs": [],
   "source": [
    "df_ejemplo['RelationshipSatisfaction'].unique()"
   ]
  },
  {
   "cell_type": "code",
   "execution_count": null,
   "metadata": {},
   "outputs": [
    {
     "data": {
      "text/plain": [
       "3    504\n",
       "4    468\n",
       "2    339\n",
       "1    303\n",
       "Name: relationshipsatisfaction, dtype: int64"
      ]
     },
     "execution_count": 22,
     "metadata": {},
     "output_type": "execute_result"
    }
   ],
   "source": [
    "df_ejemplo['relationshipsatisfaction'].value_counts()"
   ]
  },
  {
   "cell_type": "code",
   "execution_count": null,
   "metadata": {},
   "outputs": [],
   "source": [
    "df_ejemplo['RelationshipSatisfaction'].describe()"
   ]
  },
  {
   "cell_type": "code",
   "execution_count": null,
   "metadata": {},
   "outputs": [],
   "source": [
    "df_ejemplo['RelationshipSatisfaction'].isnull().sum()"
   ]
  },
  {
   "cell_type": "markdown",
   "metadata": {},
   "source": [
    "COLUMNA 27: StandardHours\t\n",
    "\n",
    "solo 80 y nan. Podemos eliminarla"
   ]
  },
  {
   "cell_type": "code",
   "execution_count": null,
   "metadata": {},
   "outputs": [],
   "source": [
    "df_ejemplo['StandardHours'].unique()"
   ]
  },
  {
   "cell_type": "code",
   "execution_count": null,
   "metadata": {},
   "outputs": [],
   "source": [
    "df_ejemplo['StandardHours'].isnull().sum()"
   ]
  },
  {
   "cell_type": "markdown",
   "metadata": {},
   "source": [
    "COLUMNA 28: StockOptionLevel\n",
    "\n",
    "podríamos cambiar el nombre de la columna para que sea mas entendible"
   ]
  },
  {
   "cell_type": "code",
   "execution_count": null,
   "metadata": {},
   "outputs": [],
   "source": [
    "df_ejemplo['StockOptionLevel'].unique()"
   ]
  },
  {
   "cell_type": "code",
   "execution_count": null,
   "metadata": {},
   "outputs": [
    {
     "data": {
      "text/plain": [
       "0    687\n",
       "1    666\n",
       "2    172\n",
       "3     89\n",
       "Name: stockoptionlevel, dtype: int64"
      ]
     },
     "execution_count": 23,
     "metadata": {},
     "output_type": "execute_result"
    }
   ],
   "source": [
    "df_ejemplo['stockoptionlevel'].value_counts()"
   ]
  },
  {
   "cell_type": "code",
   "execution_count": null,
   "metadata": {},
   "outputs": [],
   "source": [
    "df_ejemplo['StockOptionLevel'].describe()"
   ]
  },
  {
   "cell_type": "code",
   "execution_count": null,
   "metadata": {},
   "outputs": [],
   "source": [
    "df_ejemplo['StockOptionLevel'].isnull().sum()"
   ]
  },
  {
   "cell_type": "markdown",
   "metadata": {},
   "source": [
    "COLUMNA 29: TOTALWORKINGYEARS\n",
    "\n",
    "hay que cambiar el nombre de la col por minus o title, cambiar los float por int"
   ]
  },
  {
   "cell_type": "code",
   "execution_count": null,
   "metadata": {},
   "outputs": [],
   "source": [
    "df_ejemplo['TOTALWORKINGYEARS'].unique()"
   ]
  },
  {
   "cell_type": "code",
   "execution_count": null,
   "metadata": {},
   "outputs": [
    {
     "data": {
      "text/plain": [
       "count     1088\n",
       "unique      40\n",
       "top       10,0\n",
       "freq       144\n",
       "Name: totalworkingyears, dtype: object"
      ]
     },
     "execution_count": 24,
     "metadata": {},
     "output_type": "execute_result"
    }
   ],
   "source": [
    "df_ejemplo['totalworkingyears'].describe()"
   ]
  },
  {
   "cell_type": "code",
   "execution_count": null,
   "metadata": {},
   "outputs": [],
   "source": [
    "df_ejemplo['TOTALWORKINGYEARS']=df_ejemplo['TOTALWORKINGYEARS'].str.replace(',','.')\n",
    "df_ejemplo['TOTALWORKINGYEARS']=df_ejemplo['TOTALWORKINGYEARS'].astype(float)"
   ]
  },
  {
   "cell_type": "code",
   "execution_count": null,
   "metadata": {},
   "outputs": [],
   "source": [
    "df_ejemplo['TOTALWORKINGYEARS'].describe()"
   ]
  },
  {
   "cell_type": "code",
   "execution_count": null,
   "metadata": {},
   "outputs": [],
   "source": [
    "df_ejemplo['TOTALWORKINGYEARS'].isnull().sum()"
   ]
  },
  {
   "cell_type": "code",
   "execution_count": null,
   "metadata": {},
   "outputs": [],
   "source": [
    "df_ejemplo.rename(columns={'TOTALWORKINGYEARS':'TotalWorkingYears'})"
   ]
  },
  {
   "cell_type": "markdown",
   "metadata": {},
   "source": [
    "COLUMNA 30: TrainingTimesLastYear\n",
    "\n",
    "Todo parece coherente"
   ]
  },
  {
   "cell_type": "code",
   "execution_count": null,
   "metadata": {},
   "outputs": [],
   "source": [
    "df_ejemplo['TrainingTimesLastYear'].unique()"
   ]
  },
  {
   "cell_type": "code",
   "execution_count": null,
   "metadata": {},
   "outputs": [
    {
     "data": {
      "text/plain": [
       "2    598\n",
       "3    534\n",
       "4    137\n",
       "5    136\n",
       "1     77\n",
       "6     72\n",
       "0     60\n",
       "Name: trainingtimeslastyear, dtype: int64"
      ]
     },
     "execution_count": 25,
     "metadata": {},
     "output_type": "execute_result"
    }
   ],
   "source": [
    "df_ejemplo['trainingtimeslastyear'].value_counts()"
   ]
  },
  {
   "cell_type": "code",
   "execution_count": null,
   "metadata": {},
   "outputs": [],
   "source": [
    "df_ejemplo['TrainingTimesLastYear'].isnull().sum()"
   ]
  },
  {
   "cell_type": "markdown",
   "metadata": {},
   "source": [
    "______"
   ]
  },
  {
   "cell_type": "markdown",
   "metadata": {},
   "source": [
    "Columna \"YearsSinceLastPromotion\"\n",
    "\n",
    "1. no hay nulos y una columna de integers"
   ]
  },
  {
   "cell_type": "code",
   "execution_count": null,
   "metadata": {},
   "outputs": [
    {
     "name": "stdout",
     "output_type": "stream",
     "text": [
      "<class 'pandas.core.series.Series'>\n",
      "Index: 1614 entries, 0 to 1613\n",
      "Series name: YearsSinceLastPromotion\n",
      "Non-Null Count  Dtype\n",
      "--------------  -----\n",
      "1614 non-null   int64\n",
      "dtypes: int64(1)\n",
      "memory usage: 25.2 KB\n"
     ]
    }
   ],
   "source": [
    "df_ejemplo[\"YearsSinceLastPromotion\"].isnull().sum()\n",
    "\n",
    "df_ejemplo[\"YearsSinceLastPromotion\"].info()"
   ]
  },
  {
   "cell_type": "markdown",
   "metadata": {},
   "source": [
    "Columna \"YEARSWITHCURRMANAGER\""
   ]
  },
  {
   "cell_type": "code",
   "execution_count": null,
   "metadata": {},
   "outputs": [
    {
     "name": "stdout",
     "output_type": "stream",
     "text": [
      "<class 'pandas.core.series.Series'>\n",
      "Index: 1614 entries, 0 to 1613\n",
      "Series name: YEARSWITHCURRMANAGER\n",
      "Non-Null Count  Dtype\n",
      "--------------  -----\n",
      "1614 non-null   int64\n",
      "dtypes: int64(1)\n",
      "memory usage: 25.2 KB\n"
     ]
    }
   ],
   "source": [
    "df_ejemplo[\"YEARSWITHCURRMANAGER\"].info()"
   ]
  },
  {
   "cell_type": "markdown",
   "metadata": {},
   "source": [
    "Columna \"SameAsMonthlyIncome\"\n",
    "\n",
    "1. En principio es object y convertirla a float\n",
    "2. Además es una columna con nulos, representan un 52% (nulos total 843)\n",
    "3. compararla con \"MonthlyIncome\"\n",
    "4. a eliminar pq es lo mismo que en MonthlyIncome"
   ]
  },
  {
   "cell_type": "code",
   "execution_count": null,
   "metadata": {},
   "outputs": [
    {
     "name": "stdout",
     "output_type": "stream",
     "text": [
      "<class 'pandas.core.series.Series'>\n",
      "Index: 1614 entries, 0 to 1613\n",
      "Series name: SameAsMonthlyIncome\n",
      "Non-Null Count  Dtype \n",
      "--------------  ----- \n",
      "771 non-null    object\n",
      "dtypes: object(1)\n",
      "memory usage: 25.2+ KB\n"
     ]
    }
   ],
   "source": [
    "df_ejemplo[\"SameAsMonthlyIncome\"].info()"
   ]
  },
  {
   "cell_type": "code",
   "execution_count": null,
   "metadata": {},
   "outputs": [
    {
     "ename": "ValueError",
     "evalue": "could not convert string to float: '19537,0'",
     "output_type": "error",
     "traceback": [
      "\u001b[0;31m---------------------------------------------------------------------------\u001b[0m",
      "\u001b[0;31mValueError\u001b[0m                                Traceback (most recent call last)",
      "\u001b[0;32m/var/folders/fy/lv_7fpvj1v5grf8t28cz_4nw0000gn/T/ipykernel_19422/4011540565.py\u001b[0m in \u001b[0;36m<module>\u001b[0;34m\u001b[0m\n\u001b[1;32m      1\u001b[0m \u001b[0mdf_ejemplo\u001b[0m\u001b[0;34m[\u001b[0m\u001b[0;34m'SameAsMonthlyIncome'\u001b[0m\u001b[0;34m]\u001b[0m \u001b[0;34m=\u001b[0m \u001b[0mdf_ejemplo\u001b[0m\u001b[0;34m[\u001b[0m\u001b[0;34m'SameAsMonthlyIncome'\u001b[0m\u001b[0;34m]\u001b[0m\u001b[0;34m.\u001b[0m\u001b[0mreplace\u001b[0m\u001b[0;34m(\u001b[0m\u001b[0;34m','\u001b[0m\u001b[0;34m,\u001b[0m \u001b[0;34m'.'\u001b[0m\u001b[0;34m)\u001b[0m \u001b[0;31m#para poder convertir de obj a float primero hay\u001b[0m\u001b[0;34m\u001b[0m\u001b[0;34m\u001b[0m\u001b[0m\n\u001b[1;32m      2\u001b[0m                                                                                         \u001b[0;31m#q sustituir las comas por puntos. Los float van con puntos\u001b[0m\u001b[0;34m\u001b[0m\u001b[0;34m\u001b[0m\u001b[0m\n\u001b[0;32m----> 3\u001b[0;31m \u001b[0mdf_ejemplo\u001b[0m\u001b[0;34m[\u001b[0m\u001b[0;34m'SameAsMonthlyIncome'\u001b[0m\u001b[0;34m]\u001b[0m \u001b[0;34m=\u001b[0m \u001b[0mdf_ejemplo\u001b[0m\u001b[0;34m[\u001b[0m\u001b[0;34m'SameAsMonthlyIncome'\u001b[0m\u001b[0;34m]\u001b[0m\u001b[0;34m.\u001b[0m\u001b[0mastype\u001b[0m\u001b[0;34m(\u001b[0m\u001b[0mfloat\u001b[0m\u001b[0;34m)\u001b[0m \u001b[0;31m#convertimos a float\u001b[0m\u001b[0;34m\u001b[0m\u001b[0;34m\u001b[0m\u001b[0m\n\u001b[0m\u001b[1;32m      4\u001b[0m \u001b[0mdf_ejemplo\u001b[0m\u001b[0;34m[\u001b[0m\u001b[0;34m'SameAsMonthlyIncome'\u001b[0m\u001b[0;34m]\u001b[0m\u001b[0;34m\u001b[0m\u001b[0;34m\u001b[0m\u001b[0m\n",
      "\u001b[0;32m~/opt/anaconda3/lib/python3.9/site-packages/pandas/core/generic.py\u001b[0m in \u001b[0;36mastype\u001b[0;34m(self, dtype, copy, errors)\u001b[0m\n\u001b[1;32m   6532\u001b[0m         \u001b[0;32melse\u001b[0m\u001b[0;34m:\u001b[0m\u001b[0;34m\u001b[0m\u001b[0;34m\u001b[0m\u001b[0m\n\u001b[1;32m   6533\u001b[0m             \u001b[0;31m# else, only a single dtype is given\u001b[0m\u001b[0;34m\u001b[0m\u001b[0;34m\u001b[0m\u001b[0m\n\u001b[0;32m-> 6534\u001b[0;31m             \u001b[0mnew_data\u001b[0m \u001b[0;34m=\u001b[0m \u001b[0mself\u001b[0m\u001b[0;34m.\u001b[0m\u001b[0m_mgr\u001b[0m\u001b[0;34m.\u001b[0m\u001b[0mastype\u001b[0m\u001b[0;34m(\u001b[0m\u001b[0mdtype\u001b[0m\u001b[0;34m=\u001b[0m\u001b[0mdtype\u001b[0m\u001b[0;34m,\u001b[0m \u001b[0mcopy\u001b[0m\u001b[0;34m=\u001b[0m\u001b[0mcopy\u001b[0m\u001b[0;34m,\u001b[0m \u001b[0merrors\u001b[0m\u001b[0;34m=\u001b[0m\u001b[0merrors\u001b[0m\u001b[0;34m)\u001b[0m\u001b[0;34m\u001b[0m\u001b[0;34m\u001b[0m\u001b[0m\n\u001b[0m\u001b[1;32m   6535\u001b[0m             \u001b[0mres\u001b[0m \u001b[0;34m=\u001b[0m \u001b[0mself\u001b[0m\u001b[0;34m.\u001b[0m\u001b[0m_constructor_from_mgr\u001b[0m\u001b[0;34m(\u001b[0m\u001b[0mnew_data\u001b[0m\u001b[0;34m,\u001b[0m \u001b[0maxes\u001b[0m\u001b[0;34m=\u001b[0m\u001b[0mnew_data\u001b[0m\u001b[0;34m.\u001b[0m\u001b[0maxes\u001b[0m\u001b[0;34m)\u001b[0m\u001b[0;34m\u001b[0m\u001b[0;34m\u001b[0m\u001b[0m\n\u001b[1;32m   6536\u001b[0m             \u001b[0;32mreturn\u001b[0m \u001b[0mres\u001b[0m\u001b[0;34m.\u001b[0m\u001b[0m__finalize__\u001b[0m\u001b[0;34m(\u001b[0m\u001b[0mself\u001b[0m\u001b[0;34m,\u001b[0m \u001b[0mmethod\u001b[0m\u001b[0;34m=\u001b[0m\u001b[0;34m\"astype\"\u001b[0m\u001b[0;34m)\u001b[0m\u001b[0;34m\u001b[0m\u001b[0;34m\u001b[0m\u001b[0m\n",
      "\u001b[0;32m~/opt/anaconda3/lib/python3.9/site-packages/pandas/core/internals/managers.py\u001b[0m in \u001b[0;36mastype\u001b[0;34m(self, dtype, copy, errors)\u001b[0m\n\u001b[1;32m    412\u001b[0m             \u001b[0mcopy\u001b[0m \u001b[0;34m=\u001b[0m \u001b[0;32mFalse\u001b[0m\u001b[0;34m\u001b[0m\u001b[0;34m\u001b[0m\u001b[0m\n\u001b[1;32m    413\u001b[0m \u001b[0;34m\u001b[0m\u001b[0m\n\u001b[0;32m--> 414\u001b[0;31m         return self.apply(\n\u001b[0m\u001b[1;32m    415\u001b[0m             \u001b[0;34m\"astype\"\u001b[0m\u001b[0;34m,\u001b[0m\u001b[0;34m\u001b[0m\u001b[0;34m\u001b[0m\u001b[0m\n\u001b[1;32m    416\u001b[0m             \u001b[0mdtype\u001b[0m\u001b[0;34m=\u001b[0m\u001b[0mdtype\u001b[0m\u001b[0;34m,\u001b[0m\u001b[0;34m\u001b[0m\u001b[0;34m\u001b[0m\u001b[0m\n",
      "\u001b[0;32m~/opt/anaconda3/lib/python3.9/site-packages/pandas/core/internals/managers.py\u001b[0m in \u001b[0;36mapply\u001b[0;34m(self, f, align_keys, **kwargs)\u001b[0m\n\u001b[1;32m    352\u001b[0m                 \u001b[0mapplied\u001b[0m \u001b[0;34m=\u001b[0m \u001b[0mb\u001b[0m\u001b[0;34m.\u001b[0m\u001b[0mapply\u001b[0m\u001b[0;34m(\u001b[0m\u001b[0mf\u001b[0m\u001b[0;34m,\u001b[0m \u001b[0;34m**\u001b[0m\u001b[0mkwargs\u001b[0m\u001b[0;34m)\u001b[0m\u001b[0;34m\u001b[0m\u001b[0;34m\u001b[0m\u001b[0m\n\u001b[1;32m    353\u001b[0m             \u001b[0;32melse\u001b[0m\u001b[0;34m:\u001b[0m\u001b[0;34m\u001b[0m\u001b[0;34m\u001b[0m\u001b[0m\n\u001b[0;32m--> 354\u001b[0;31m                 \u001b[0mapplied\u001b[0m \u001b[0;34m=\u001b[0m \u001b[0mgetattr\u001b[0m\u001b[0;34m(\u001b[0m\u001b[0mb\u001b[0m\u001b[0;34m,\u001b[0m \u001b[0mf\u001b[0m\u001b[0;34m)\u001b[0m\u001b[0;34m(\u001b[0m\u001b[0;34m**\u001b[0m\u001b[0mkwargs\u001b[0m\u001b[0;34m)\u001b[0m\u001b[0;34m\u001b[0m\u001b[0;34m\u001b[0m\u001b[0m\n\u001b[0m\u001b[1;32m    355\u001b[0m             \u001b[0mresult_blocks\u001b[0m \u001b[0;34m=\u001b[0m \u001b[0mextend_blocks\u001b[0m\u001b[0;34m(\u001b[0m\u001b[0mapplied\u001b[0m\u001b[0;34m,\u001b[0m \u001b[0mresult_blocks\u001b[0m\u001b[0;34m)\u001b[0m\u001b[0;34m\u001b[0m\u001b[0;34m\u001b[0m\u001b[0m\n\u001b[1;32m    356\u001b[0m \u001b[0;34m\u001b[0m\u001b[0m\n",
      "\u001b[0;32m~/opt/anaconda3/lib/python3.9/site-packages/pandas/core/internals/blocks.py\u001b[0m in \u001b[0;36mastype\u001b[0;34m(self, dtype, copy, errors, using_cow)\u001b[0m\n\u001b[1;32m    614\u001b[0m         \u001b[0mvalues\u001b[0m \u001b[0;34m=\u001b[0m \u001b[0mself\u001b[0m\u001b[0;34m.\u001b[0m\u001b[0mvalues\u001b[0m\u001b[0;34m\u001b[0m\u001b[0;34m\u001b[0m\u001b[0m\n\u001b[1;32m    615\u001b[0m \u001b[0;34m\u001b[0m\u001b[0m\n\u001b[0;32m--> 616\u001b[0;31m         \u001b[0mnew_values\u001b[0m \u001b[0;34m=\u001b[0m \u001b[0mastype_array_safe\u001b[0m\u001b[0;34m(\u001b[0m\u001b[0mvalues\u001b[0m\u001b[0;34m,\u001b[0m \u001b[0mdtype\u001b[0m\u001b[0;34m,\u001b[0m \u001b[0mcopy\u001b[0m\u001b[0;34m=\u001b[0m\u001b[0mcopy\u001b[0m\u001b[0;34m,\u001b[0m \u001b[0merrors\u001b[0m\u001b[0;34m=\u001b[0m\u001b[0merrors\u001b[0m\u001b[0;34m)\u001b[0m\u001b[0;34m\u001b[0m\u001b[0;34m\u001b[0m\u001b[0m\n\u001b[0m\u001b[1;32m    617\u001b[0m \u001b[0;34m\u001b[0m\u001b[0m\n\u001b[1;32m    618\u001b[0m         \u001b[0mnew_values\u001b[0m \u001b[0;34m=\u001b[0m \u001b[0mmaybe_coerce_values\u001b[0m\u001b[0;34m(\u001b[0m\u001b[0mnew_values\u001b[0m\u001b[0;34m)\u001b[0m\u001b[0;34m\u001b[0m\u001b[0;34m\u001b[0m\u001b[0m\n",
      "\u001b[0;32m~/opt/anaconda3/lib/python3.9/site-packages/pandas/core/dtypes/astype.py\u001b[0m in \u001b[0;36mastype_array_safe\u001b[0;34m(values, dtype, copy, errors)\u001b[0m\n\u001b[1;32m    236\u001b[0m \u001b[0;34m\u001b[0m\u001b[0m\n\u001b[1;32m    237\u001b[0m     \u001b[0;32mtry\u001b[0m\u001b[0;34m:\u001b[0m\u001b[0;34m\u001b[0m\u001b[0;34m\u001b[0m\u001b[0m\n\u001b[0;32m--> 238\u001b[0;31m         \u001b[0mnew_values\u001b[0m \u001b[0;34m=\u001b[0m \u001b[0mastype_array\u001b[0m\u001b[0;34m(\u001b[0m\u001b[0mvalues\u001b[0m\u001b[0;34m,\u001b[0m \u001b[0mdtype\u001b[0m\u001b[0;34m,\u001b[0m \u001b[0mcopy\u001b[0m\u001b[0;34m=\u001b[0m\u001b[0mcopy\u001b[0m\u001b[0;34m)\u001b[0m\u001b[0;34m\u001b[0m\u001b[0;34m\u001b[0m\u001b[0m\n\u001b[0m\u001b[1;32m    239\u001b[0m     \u001b[0;32mexcept\u001b[0m \u001b[0;34m(\u001b[0m\u001b[0mValueError\u001b[0m\u001b[0;34m,\u001b[0m \u001b[0mTypeError\u001b[0m\u001b[0;34m)\u001b[0m\u001b[0;34m:\u001b[0m\u001b[0;34m\u001b[0m\u001b[0;34m\u001b[0m\u001b[0m\n\u001b[1;32m    240\u001b[0m         \u001b[0;31m# e.g. _astype_nansafe can fail on object-dtype of strings\u001b[0m\u001b[0;34m\u001b[0m\u001b[0;34m\u001b[0m\u001b[0m\n",
      "\u001b[0;32m~/opt/anaconda3/lib/python3.9/site-packages/pandas/core/dtypes/astype.py\u001b[0m in \u001b[0;36mastype_array\u001b[0;34m(values, dtype, copy)\u001b[0m\n\u001b[1;32m    181\u001b[0m \u001b[0;34m\u001b[0m\u001b[0m\n\u001b[1;32m    182\u001b[0m     \u001b[0;32melse\u001b[0m\u001b[0;34m:\u001b[0m\u001b[0;34m\u001b[0m\u001b[0;34m\u001b[0m\u001b[0m\n\u001b[0;32m--> 183\u001b[0;31m         \u001b[0mvalues\u001b[0m \u001b[0;34m=\u001b[0m \u001b[0m_astype_nansafe\u001b[0m\u001b[0;34m(\u001b[0m\u001b[0mvalues\u001b[0m\u001b[0;34m,\u001b[0m \u001b[0mdtype\u001b[0m\u001b[0;34m,\u001b[0m \u001b[0mcopy\u001b[0m\u001b[0;34m=\u001b[0m\u001b[0mcopy\u001b[0m\u001b[0;34m)\u001b[0m\u001b[0;34m\u001b[0m\u001b[0;34m\u001b[0m\u001b[0m\n\u001b[0m\u001b[1;32m    184\u001b[0m \u001b[0;34m\u001b[0m\u001b[0m\n\u001b[1;32m    185\u001b[0m     \u001b[0;31m# in pandas we don't store numpy str dtypes, so convert to object\u001b[0m\u001b[0;34m\u001b[0m\u001b[0;34m\u001b[0m\u001b[0m\n",
      "\u001b[0;32m~/opt/anaconda3/lib/python3.9/site-packages/pandas/core/dtypes/astype.py\u001b[0m in \u001b[0;36m_astype_nansafe\u001b[0;34m(arr, dtype, copy, skipna)\u001b[0m\n\u001b[1;32m    132\u001b[0m     \u001b[0;32mif\u001b[0m \u001b[0mcopy\u001b[0m \u001b[0;32mor\u001b[0m \u001b[0marr\u001b[0m\u001b[0;34m.\u001b[0m\u001b[0mdtype\u001b[0m \u001b[0;34m==\u001b[0m \u001b[0mobject\u001b[0m \u001b[0;32mor\u001b[0m \u001b[0mdtype\u001b[0m \u001b[0;34m==\u001b[0m \u001b[0mobject\u001b[0m\u001b[0;34m:\u001b[0m\u001b[0;34m\u001b[0m\u001b[0;34m\u001b[0m\u001b[0m\n\u001b[1;32m    133\u001b[0m         \u001b[0;31m# Explicit copy, or required since NumPy can't view from / to object.\u001b[0m\u001b[0;34m\u001b[0m\u001b[0;34m\u001b[0m\u001b[0m\n\u001b[0;32m--> 134\u001b[0;31m         \u001b[0;32mreturn\u001b[0m \u001b[0marr\u001b[0m\u001b[0;34m.\u001b[0m\u001b[0mastype\u001b[0m\u001b[0;34m(\u001b[0m\u001b[0mdtype\u001b[0m\u001b[0;34m,\u001b[0m \u001b[0mcopy\u001b[0m\u001b[0;34m=\u001b[0m\u001b[0;32mTrue\u001b[0m\u001b[0;34m)\u001b[0m\u001b[0;34m\u001b[0m\u001b[0;34m\u001b[0m\u001b[0m\n\u001b[0m\u001b[1;32m    135\u001b[0m \u001b[0;34m\u001b[0m\u001b[0m\n\u001b[1;32m    136\u001b[0m     \u001b[0;32mreturn\u001b[0m \u001b[0marr\u001b[0m\u001b[0;34m.\u001b[0m\u001b[0mastype\u001b[0m\u001b[0;34m(\u001b[0m\u001b[0mdtype\u001b[0m\u001b[0;34m,\u001b[0m \u001b[0mcopy\u001b[0m\u001b[0;34m=\u001b[0m\u001b[0mcopy\u001b[0m\u001b[0;34m)\u001b[0m\u001b[0;34m\u001b[0m\u001b[0;34m\u001b[0m\u001b[0m\n",
      "\u001b[0;31mValueError\u001b[0m: could not convert string to float: '19537,0'"
     ]
    }
   ],
   "source": [
    "df_ejemplo['SameAsMonthlyIncome'] = df_ejemplo['SameAsMonthlyIncome'].replace(',', '.') #para poder convertir de obj a float primero hay \n",
    "                                                                                        #q sustituir las comas por puntos. Los float van con puntos\n",
    "df_ejemplo['SameAsMonthlyIncome'] = df_ejemplo['SameAsMonthlyIncome'].astype(float) #convertimos a float\n",
    "df_ejemplo['SameAsMonthlyIncome']"
   ]
  },
  {
   "cell_type": "markdown",
   "metadata": {},
   "source": [
    "Columna \"DateBirth\"\n",
    "\n",
    "1. Cambiar nombre de la columna a \"Yearbirth\"\n",
    "\n"
   ]
  },
  {
   "cell_type": "code",
   "execution_count": null,
   "metadata": {},
   "outputs": [
    {
     "name": "stdout",
     "output_type": "stream",
     "text": [
      "<class 'pandas.core.series.Series'>\n",
      "Index: 1614 entries, 0 to 1613\n",
      "Series name: DateBirth\n",
      "Non-Null Count  Dtype\n",
      "--------------  -----\n",
      "1614 non-null   int64\n",
      "dtypes: int64(1)\n",
      "memory usage: 89.8 KB\n"
     ]
    }
   ],
   "source": [
    "df_ejemplo[\"DateBirth\"].info()"
   ]
  },
  {
   "cell_type": "markdown",
   "metadata": {},
   "source": [
    "Columna \"Salary\"\n",
    "\n",
    "1. object convertirlo a float\n",
    "2. eliminar el signo de dólares (referenciarlo en el nombre de la columna)\n",
    "3. solo hay un elemento en la columna - no tiene mucho sentido candidata a ser eliminada y rehacerla con calculos \n"
   ]
  },
  {
   "cell_type": "code",
   "execution_count": null,
   "metadata": {},
   "outputs": [
    {
     "name": "stdout",
     "output_type": "stream",
     "text": [
      "<class 'pandas.core.series.Series'>\n",
      "Index: 1614 entries, 0 to 1613\n",
      "Series name: Salary\n",
      "Non-Null Count  Dtype \n",
      "--------------  ----- \n",
      "1614 non-null   object\n",
      "dtypes: object(1)\n",
      "memory usage: 89.8+ KB\n"
     ]
    }
   ],
   "source": [
    "df_ejemplo[\"Salary\"].info()"
   ]
  },
  {
   "cell_type": "code",
   "execution_count": null,
   "metadata": {},
   "outputs": [
    {
     "data": {
      "text/plain": [
       "1"
      ]
     },
     "execution_count": 50,
     "metadata": {},
     "output_type": "execute_result"
    }
   ],
   "source": [
    "df_ejemplo[\"Salary\"].nunique()"
   ]
  },
  {
   "cell_type": "code",
   "execution_count": null,
   "metadata": {},
   "outputs": [],
   "source": [
    "df_ejemplo['Salary'] = df_ejemplo['Salary'].str.replace('$', '') #sacamos el símbolo de la currency de la columna para poder convertir a float\n",
    "\n",
    "# Convertir los valores a tipo float \n",
    "df_ejemplo['Salary'] = df_ejemplo['Salary'].astype(float)"
   ]
  },
  {
   "cell_type": "markdown",
   "metadata": {},
   "source": [
    "Columna \"RoleDepartament\"\n",
    "\n",
    "1. % elevado de null un 81%, candidata a ser eliminada\n"
   ]
  },
  {
   "cell_type": "code",
   "execution_count": null,
   "metadata": {},
   "outputs": [
    {
     "data": {
      "text/plain": [
       "1312"
      ]
     },
     "execution_count": 56,
     "metadata": {},
     "output_type": "execute_result"
    }
   ],
   "source": [
    "df_ejemplo[\"RoleDepartament\"].isnull().sum()"
   ]
  },
  {
   "cell_type": "code",
   "execution_count": null,
   "metadata": {},
   "outputs": [
    {
     "data": {
      "text/plain": [
       "array([nan, ' ManaGER  -  Research & Development ',\n",
       "       ' MANAger  -  Research & Development ',\n",
       "       ' heaLtHcArE repResENtATiVe  -  Research & Development ',\n",
       "       ' saLEs exEcutIVe  -  Sales ', ' Sales ExECuTIVe  -  Sales ',\n",
       "       ' heALthCArE RePResEntaTIVe  -  Research & Development ',\n",
       "       ' lABORAtOry tECHnIcIan  -  Research & Development ',\n",
       "       ' ManufactUrINg DiReCTOr  -  Research & Development ',\n",
       "       ' SaleS eXEcUtIVE  -  Sales ',\n",
       "       ' HEaLthcaRe rEprEsEnTAtiVe  -  Research & Development ',\n",
       "       ' rESeArCH sCientIST  -  Research & Development ',\n",
       "       ' healTHCAre rePREseNtATiVE  -  Research & Development ',\n",
       "       ' mANaGer  -  Research & Development ',\n",
       "       ' HEAltHCaRe REPreseNTatIve  -  Research & Development ',\n",
       "       ' SaLeS eXECUTivE  -  Sales ',\n",
       "       ' reSeARCH SCIEnTiST  -  Research & Development ',\n",
       "       ' ReSearch DiRecTOR  -  Research & Development ',\n",
       "       ' resEaRCh SciEnTist  -  Research & Development ',\n",
       "       ' hUmaN REsoUrCes  -  Human Resources ',\n",
       "       ' manAgER  -  Research & Development ',\n",
       "       ' SaLES eXeCUtIVE  -  Sales ',\n",
       "       ' reSEarCH scIentISt  -  Research & Development ',\n",
       "       ' ReSeARCh DiRECtor  -  Research & Development ',\n",
       "       ' MaNAgeR  -  Sales ',\n",
       "       ' RESEArCH sCIenTIst  -  Research & Development ',\n",
       "       ' hUMAn reSoUrCES  -  Human Resources ',\n",
       "       ' HUmAN rESOuRceS  -  Human Resources ',\n",
       "       ' SaleS EXeCuTivE  -  Sales ',\n",
       "       ' ReSeARch scIENTISt  -  Research & Development ',\n",
       "       ' LaBoRaTorY TeChNicIAn  -  Research & Development ',\n",
       "       ' ManUfaCTUriNg dIReCtor  -  Research & Development ',\n",
       "       ' saLES ExECuTIVe  -  Sales ',\n",
       "       ' RESEaRch SCIEntISt  -  Research & Development ',\n",
       "       ' mAnUFaCtUrinG diReCtor  -  Research & Development ',\n",
       "       ' maNUFAcTURING direCTOr  -  Research & Development ',\n",
       "       ' labOraTORy techNicIan  -  Research & Development ',\n",
       "       ' SAlEs ExeCUtive  -  Sales ',\n",
       "       ' MANUFACturING DIRecToR  -  Research & Development ',\n",
       "       ' Sales eXECuTIvE  -  Sales ',\n",
       "       ' mANUfaCTuRiNG DiRECtOr  -  Research & Development ',\n",
       "       ' ManUFACtURiNg DiRECTOr  -  Research & Development ',\n",
       "       ' ResEARcH DiReCToR  -  Research & Development ',\n",
       "       ' MANAgER  -  Research & Development ',\n",
       "       ' labORATORY TechnIcIaN  -  Research & Development ',\n",
       "       ' MaNUfacTurINg DiReCTor  -  Research & Development ',\n",
       "       ' ReSEaRcH sciENTIST  -  Research & Development ',\n",
       "       ' rESEARCh dIrEcTOr  -  Research & Development ',\n",
       "       ' MANUfACTuRinG diRecTOR  -  Research & Development ',\n",
       "       ' HeaLThCArE REpRESENTAtIVe  -  Research & Development ',\n",
       "       ' LABOraTory TecHnIciaN  -  Research & Development ',\n",
       "       ' sales rEprESEntAtIvE  -  Sales ',\n",
       "       ' mANuFacTurinG DirECtoR  -  Research & Development ',\n",
       "       ' lABorATOrY TeChnICIan  -  Research & Development ',\n",
       "       ' RESEarCh SCIEnTiST  -  Research & Development ',\n",
       "       ' SALes exEcuTIVe  -  Sales ',\n",
       "       ' REseARCH DirectOr  -  Research & Development ',\n",
       "       ' sAlES EXEcUtIVe  -  Sales ',\n",
       "       ' lABoraToRY teCHnIcIaN  -  Research & Development ',\n",
       "       ' LaBorATORy tEChnICiaN  -  Research & Development ',\n",
       "       ' sales ExecutIvE  -  Sales ', ' sAles exECUtiVe  -  Sales ',\n",
       "       ' SALEs eXecuTiVE  -  Sales ', ' SaleS executIVE  -  Sales ',\n",
       "       ' rEsEArCH sCIeNTIST  -  Research & Development ',\n",
       "       ' reSEArch SCIEntIsT  -  Research & Development ',\n",
       "       ' rESeArCh DIrEctor  -  Research & Development ',\n",
       "       ' saLES ExECUtiVe  -  Sales ',\n",
       "       ' LaboRATory tEchNICIAn  -  Research & Development ',\n",
       "       ' SAlEs exECUtIVe  -  Sales ', ' salEs eXECuTivE  -  Sales ',\n",
       "       ' ReseaRch scIenTisT  -  Research & Development ',\n",
       "       ' LaBoraTORY teCHNiCIaN  -  Research & Development ',\n",
       "       ' sALEs ExeCuTive  -  Sales ',\n",
       "       ' heALtHCARE rePResENtAtivE  -  Research & Development ',\n",
       "       ' ManAgEr  -  Research & Development ',\n",
       "       ' laboRAtORy TecHnICiAN  -  Research & Development ',\n",
       "       ' ReSeARCH diRECtoR  -  Research & Development ',\n",
       "       ' LAborAtOry TEchniCIAn  -  Research & Development ',\n",
       "       ' SaLeS eXECutiVE  -  Sales ', ' SalEs eXECuTive  -  Sales ',\n",
       "       ' rESeaRCH DIReCToR  -  Research & Development ',\n",
       "       ' mANAGeR  -  Human Resources ', ' saLeS exECUtive  -  Sales ',\n",
       "       ' maNuFAcTURInG DIReCtoR  -  Research & Development ',\n",
       "       ' LABORaTorY TEChNIcIAN  -  Research & Development ',\n",
       "       ' hEalTHcARe RePrEseNTATive  -  Research & Development ',\n",
       "       ' mANuFActuring DireCtOR  -  Research & Development ',\n",
       "       ' MaNagEr  -  Research & Development ',\n",
       "       ' SaLeS exeCuTIVe  -  Sales ',\n",
       "       ' lAboRaTory tECHNIciAN  -  Research & Development ',\n",
       "       ' saLes eXECUTIVe  -  Sales ', ' saLes EXEcuTiVe  -  Sales ',\n",
       "       ' mAnaGeR  -  Research & Development ',\n",
       "       ' HEALThCaRe rePResEnTaTivE  -  Research & Development ',\n",
       "       ' mAnAgEr  -  Research & Development ',\n",
       "       ' MaNageR  -  Research & Development ',\n",
       "       ' HeAlThCarE rEpreSentatiVe  -  Research & Development ',\n",
       "       ' HUMAN ResoURCeS  -  Human Resources ',\n",
       "       ' huMAn ResOurces  -  Human Resources ',\n",
       "       ' mANUfacTURiNG dIRectOR  -  Research & Development ',\n",
       "       ' saLES eXEcUTiVE  -  Sales ',\n",
       "       ' labORaTORY teChNIcIaN  -  Research & Development ',\n",
       "       ' saLes eXeCUTivE  -  Sales ', ' Sales exECutIVE  -  Sales ',\n",
       "       ' saleS eXEcuTIvE  -  Sales ', ' SALes ExeCUtive  -  Sales ',\n",
       "       ' reSearCH SCieNtIst  -  Research & Development ',\n",
       "       ' HEALThcaRe RePresENtaTiVE  -  Research & Development ',\n",
       "       ' rEsEARch sCientIST  -  Research & Development ',\n",
       "       ' HealthcARE RePreSENtAtiVe  -  Research & Development ',\n",
       "       ' ResEArch ScieNTiST  -  Research & Development ',\n",
       "       ' labORaTORy TecHniciAN  -  Research & Development ',\n",
       "       ' SalEs exECUTIvE  -  Sales ',\n",
       "       ' LabOrATory TEChNICiaN  -  Research & Development ',\n",
       "       ' reSeArcH scieNtist  -  Research & Development ',\n",
       "       ' maNuFAcTUring DIrecToR  -  Research & Development ',\n",
       "       ' ResEARCh DIRECtoR  -  Research & Development ',\n",
       "       ' SaLes exECutIVe  -  Sales ', ' SAleS eXecuTIVe  -  Sales ',\n",
       "       ' manAGER  -  Sales ',\n",
       "       ' LaBOrATORy teCHnIciaN  -  Research & Development ',\n",
       "       ' SAlES ExecuTIVe  -  Sales ', ' salES exEcUtiVE  -  Sales ',\n",
       "       ' SAlEs ExECUTIVe  -  Sales ',\n",
       "       ' HEaLTHcaRE rePReseNtaTIvE  -  Research & Development ',\n",
       "       ' sAles eXEcUtIve  -  Sales ',\n",
       "       ' laBoraTorY tEChnICiaN  -  Research & Development ',\n",
       "       ' MANufacTURIng diREcTOr  -  Research & Development ',\n",
       "       ' REsearch scIENtist  -  Research & Development ',\n",
       "       ' heaLtHcARe RePReSENtaTIve  -  Research & Development ',\n",
       "       ' lAbOrAtorY techNiCiaN  -  Research & Development ',\n",
       "       ' laboRaTOrY TEchniCIaN  -  Research & Development ',\n",
       "       ' SAles ExECutIvE  -  Sales ',\n",
       "       ' HeALtHCarE represEntAtIVe  -  Research & Development ',\n",
       "       ' HEalThCaRe rEpReSENtatIVe  -  Research & Development ',\n",
       "       ' HEalTHCare REPrEsEntATiVE  -  Research & Development ',\n",
       "       ' LaBoRaToRY TEcHnIcian  -  Research & Development ',\n",
       "       ' SAlES ExecutIve  -  Sales ',\n",
       "       ' LaBOrAtory TECHNIciAN  -  Research & Development ',\n",
       "       ' ReSeArch scIenTIsT  -  Research & Development ',\n",
       "       ' SaLEs EXECutIVe  -  Sales ',\n",
       "       ' rESEARch DiRector  -  Research & Development ',\n",
       "       ' HEaltHcare rEPrEsEnTatIVe  -  Research & Development ',\n",
       "       ' lABORatORY TeChNiCiAN  -  Research & Development ',\n",
       "       ' LaBOratory TeChnICiAn  -  Research & Development ',\n",
       "       ' maNAGer  -  Sales ', ' hUMAn rEsOuRCES  -  Human Resources ',\n",
       "       ' sales ExeCUTiVE  -  Sales ', ' saLEs exeCUtiVe  -  Sales ',\n",
       "       ' laBorAtORy TECHnicIaN  -  Research & Development ',\n",
       "       ' ReSeaRch SCIEnTiSt  -  Research & Development ',\n",
       "       ' rEsEArcH scIenTIst  -  Research & Development ',\n",
       "       ' RESeArch dIREcToR  -  Research & Development ',\n",
       "       ' saLes ExECutIVE  -  Sales ',\n",
       "       ' REseARCh SCIenTIst  -  Research & Development ',\n",
       "       ' sALEs exECuTiVe  -  Sales ',\n",
       "       ' rEseArCh SCieNtiST  -  Research & Development ',\n",
       "       ' lABoRAtoRY TecHnIcian  -  Research & Development ',\n",
       "       ' researcH SciEntIST  -  Research & Development ',\n",
       "       ' REseARCH ScIeNTIST  -  Research & Development ',\n",
       "       ' sAles ExecUtive  -  Sales ',\n",
       "       ' mAnUfaCTuRing DiRecTor  -  Research & Development ',\n",
       "       ' SaLes exEcUtIvE  -  Sales ',\n",
       "       ' ReseArCH scIenTIst  -  Research & Development ',\n",
       "       ' ReseArch sCienTiST  -  Research & Development ',\n",
       "       ' ReSEarcH SCiEnTISt  -  Research & Development ',\n",
       "       ' laBORATORY tECHNiciAN  -  Research & Development ',\n",
       "       ' rESeArCH sCIeNtISt  -  Research & Development ',\n",
       "       ' humAN resoURCEs  -  Human Resources ',\n",
       "       ' REseARCh scieNTIsT  -  Research & Development ',\n",
       "       ' SaLeS REPRESENtATIvE  -  Sales ',\n",
       "       ' ResEArch SciEntiST  -  Research & Development ',\n",
       "       ' ReSEaRCh SCIEnTist  -  Research & Development ',\n",
       "       ' hUmAn REsOurCES  -  Human Resources ',\n",
       "       ' sALeS EXecuTIVe  -  Sales ',\n",
       "       ' ReseArCh SciENTIsT  -  Research & Development ',\n",
       "       ' sALes rEprESentAtIvE  -  Sales ',\n",
       "       ' humaN reSOUrcEs  -  Human Resources ',\n",
       "       ' lAboRatOrY TechNiCiAn  -  Research & Development ',\n",
       "       ' HeAlthcaRE rEPrEseNTaTIVE  -  Research & Development ',\n",
       "       ' sALeS eXecuTIvE  -  Sales ', ' SALeS RepREsEnTatiVe  -  Sales ',\n",
       "       ' SaLes rePrESENTaTivE  -  Sales ',\n",
       "       ' rESEaRch sCientISt  -  Research & Development ',\n",
       "       ' laBORatoRy TEcHnician  -  Research & Development ',\n",
       "       ' ReSeaRch SCIentiST  -  Research & Development ',\n",
       "       ' RESEarch ScieNtIst  -  Research & Development ',\n",
       "       ' sALeS RePresenTAtivE  -  Sales ',\n",
       "       ' LABORAToRy tEchNICiAn  -  Research & Development ',\n",
       "       ' ResEArch sCIEnTiST  -  Research & Development ',\n",
       "       ' ReSEArcH sCIeNtist  -  Research & Development ',\n",
       "       ' LaBoRaTory techNICIAN  -  Research & Development ',\n",
       "       ' hEaLThcARE rEpresEntATiVE  -  Research & Development ',\n",
       "       ' mANufActuRIng DirECTOR  -  Research & Development ',\n",
       "       ' laBOraTOrY TecHNIcIan  -  Research & Development ',\n",
       "       ' sALES ReprEsentatiVE  -  Sales ',\n",
       "       ' laBoRatoRy TEChNICiAN  -  Research & Development ',\n",
       "       ' ReSEarch scIeNTIsT  -  Research & Development ',\n",
       "       ' researCh SCientIsT  -  Research & Development ',\n",
       "       ' ReseaRch scIENTisT  -  Research & Development ',\n",
       "       ' lAboRaToRY teChNICIan  -  Research & Development ',\n",
       "       ' rEsEaRCh diReCtOR  -  Research & Development ',\n",
       "       ' labORAtoRy tEcHNICIAN  -  Research & Development ',\n",
       "       ' SAlES exeCutive  -  Sales ',\n",
       "       ' hEalthCaRe reprEseNTaTiVe  -  Research & Development ',\n",
       "       ' ManufacTURInG DIRECtOR  -  Research & Development ',\n",
       "       ' sAles exEcUtIve  -  Sales ',\n",
       "       ' reseARCh SCieNTisT  -  Research & Development ',\n",
       "       ' reSEarcH scIENtISt  -  Research & Development ',\n",
       "       ' reseArCH scIentISt  -  Research & Development ',\n",
       "       ' MANuFaCturiNG dIRECTOR  -  Research & Development ',\n",
       "       ' HuMan resoUrCes  -  Human Resources ',\n",
       "       ' huMAn Resources  -  Human Resources ',\n",
       "       ' Sales EXEcUTiVe  -  Sales ',\n",
       "       ' reSEaRCH scIenTisT  -  Research & Development ',\n",
       "       ' sales rEpRESEnTatIve  -  Sales ',\n",
       "       ' reseaRch DIrecTOr  -  Research & Development ',\n",
       "       ' sALeS eXECutivE  -  Sales ',\n",
       "       ' Human REsouRCeS  -  Human Resources ',\n",
       "       ' rESeArcH sCientIST  -  Research & Development ',\n",
       "       ' SAlES RepreSENtATiVe  -  Sales ', ' SAles execUTIve  -  Sales ',\n",
       "       ' RESEArch SCIEnTISt  -  Research & Development ',\n",
       "       ' labOrATOry TEchnIcIaN  -  Research & Development ',\n",
       "       ' sALes ExEcUTIVe  -  Sales ',\n",
       "       ' REsEARch sCIenTIsT  -  Research & Development ',\n",
       "       ' RESeARch ScIeNtisT  -  Research & Development ',\n",
       "       ' rEseARCH ScIeNtIST  -  Research & Development ',\n",
       "       ' ManAGEr  -  Research & Development ',\n",
       "       ' LaBoratory TECHnICIAn  -  Research & Development ',\n",
       "       ' saLES exEcutivE  -  Sales ',\n",
       "       ' LABorATory TecHnIcIaN  -  Research & Development ',\n",
       "       ' HumAN REsourceS  -  Human Resources ',\n",
       "       ' reseaRCh SCIentIst  -  Research & Development ',\n",
       "       ' LaBOrAToRy teChNiciAn  -  Research & Development ',\n",
       "       ' LaborAtorY Technician  -  Research & Development ',\n",
       "       ' rEseaRCH sCIeNtiSt  -  Research & Development ',\n",
       "       ' LABOrATOrY TEchnIcIAn  -  Research & Development ',\n",
       "       ' ReSeARCh DireCtOr  -  Research & Development ',\n",
       "       ' LaBORatORy tEchNiCian  -  Research & Development ',\n",
       "       ' laBorATOrY TeChNIcIAn  -  Research & Development ',\n",
       "       ' sALEs RePREsentaTive  -  Sales ', ' mAnageR  -  Sales ',\n",
       "       ' rESEArcH SCiEntIst  -  Research & Development ',\n",
       "       ' heAlThcaRe REprESeNTATive  -  Research & Development ',\n",
       "       ' LABoratOry TeCHnIcIan  -  Research & Development ',\n",
       "       ' hEAlthCarE rEpresenTATiVe  -  Research & Development ',\n",
       "       ' HealTHcaRE rEPreSEntATive  -  Research & Development ',\n",
       "       ' MaNUfActuRInG diREctOr  -  Research & Development ',\n",
       "       ' saLes REPrEsentAtiVE  -  Sales ',\n",
       "       ' LABorAtORy TEchnIciAn  -  Research & Development ',\n",
       "       ' rEsEARcH ScieNTisT  -  Research & Development ',\n",
       "       ' SalEs eXecuTive  -  Sales ', ' SaLeS EXEcUTiVe  -  Sales ',\n",
       "       ' MaNufacTuRINg DirEcTor  -  Research & Development ',\n",
       "       ' resEaRcH scIENTiSt  -  Research & Development ',\n",
       "       ' SALes eXECuTIvE  -  Sales ',\n",
       "       ' LabORatORy tEChnIcIAn  -  Research & Development ',\n",
       "       ' LaBorAtOrY teCHNICIAn  -  Research & Development ',\n",
       "       ' saLEs RePREsentAtiVE  -  Sales ',\n",
       "       ' laBOrATORY TechNiCiAn  -  Research & Development ',\n",
       "       ' sALes exECutIVe  -  Sales ',\n",
       "       ' LabOraToRy technICiAN  -  Research & Development ',\n",
       "       ' lAborAtORY TeCHNIciAN  -  Research & Development ',\n",
       "       ' SAlES rePrESentaTIVe  -  Sales ',\n",
       "       ' mANager  -  Research & Development ',\n",
       "       ' HEAlThcARe rEPREseNtATIVe  -  Research & Development ',\n",
       "       ' REsEArCH dIrECTOr  -  Research & Development ',\n",
       "       ' rESeaRch SCIeNTIST  -  Research & Development ',\n",
       "       ' SALEs REpRESentatIve  -  Sales ', ' SalES eXecUTiVE  -  Sales ',\n",
       "       ' SaLes REPREseNtATive  -  Sales ',\n",
       "       ' ReSeArch sCIEnTiSt  -  Research & Development ',\n",
       "       ' sales REPReSeNtAtIVe  -  Sales ', ' sAles execUtIve  -  Sales ',\n",
       "       ' LABOrATORy tEChNiCIaN  -  Research & Development ',\n",
       "       ' hEalthCarE REPResEnTaTive  -  Research & Development ',\n",
       "       ' mANagER  -  Research & Development ',\n",
       "       ' sales repResENTaTiVE  -  Sales ',\n",
       "       ' laboRAToRY tEChniCIAN  -  Research & Development ',\n",
       "       ' resEaRcH sCIeNTisT  -  Research & Development ',\n",
       "       ' maNuFAcTurING diREctOr  -  Research & Development ',\n",
       "       ' mAnAger  -  Research & Development ',\n",
       "       ' SALes eXEcUtiVe  -  Sales ',\n",
       "       ' reSearCh SCiEnTist  -  Research & Development ',\n",
       "       ' rESEARch SciENtiSt  -  Research & Development ',\n",
       "       ' hUman ResourCeS  -  Human Resources ',\n",
       "       ' SALES exeCUtIve  -  Sales ',\n",
       "       ' ReseaRcH sCientiSt  -  Research & Development ',\n",
       "       ' LAbORaTory tEcHnIciAN  -  Research & Development ',\n",
       "       ' lABOraTOrY tecHniciaN  -  Research & Development ',\n",
       "       ' sALeS exEcUtiVe  -  Sales ', ' salEs eXEcuTIvE  -  Sales ',\n",
       "       ' SAleS ExEcuTiVE  -  Sales ', ' SaLeS exEcUTiVE  -  Sales ',\n",
       "       ' ReSEArch scieNTiST  -  Research & Development ',\n",
       "       ' reSEArCh sCieNtiST  -  Research & Development ',\n",
       "       ' ReseaRCh dIRecTor  -  Research & Development ',\n",
       "       ' SaLEs ExECUtiVE  -  Sales ',\n",
       "       ' LAbORAToRy tEcHNICian  -  Research & Development ',\n",
       "       ' sAleS EXECUtIvE  -  Sales '], dtype=object)"
      ]
     },
     "execution_count": 24,
     "metadata": {},
     "output_type": "execute_result"
    }
   ],
   "source": [
    "df_ejemplo[\"RoleDepartament\"].unique()"
   ]
  },
  {
   "cell_type": "code",
   "execution_count": null,
   "metadata": {},
   "outputs": [
    {
     "data": {
      "text/plain": [
       "RoleDepartament\n",
       " MaNAgeR  -  Sales                                        2\n",
       " ManaGER  -  Research & Development                       1\n",
       " ReseaRch scIENTisT  -  Research & Development            1\n",
       " ManufacTURInG DIRECtOR  -  Research & Development        1\n",
       " hEalthCaRe reprEseNTaTiVe  -  Research & Development     1\n",
       "                                                         ..\n",
       " saLES eXEcUTiVE  -  Sales                                1\n",
       " mANUfacTURiNG dIRectOR  -  Research & Development        1\n",
       " huMAn ResOurces  -  Human Resources                      1\n",
       " HUMAN ResoURCeS  -  Human Resources                      1\n",
       " sAleS EXECUtIvE  -  Sales                                1\n",
       "Name: count, Length: 301, dtype: int64"
      ]
     },
     "execution_count": 23,
     "metadata": {},
     "output_type": "execute_result"
    }
   ],
   "source": [
    "df_ejemplo[\"RoleDepartament\"].value_counts()"
   ]
  },
  {
   "cell_type": "markdown",
   "metadata": {},
   "source": [
    "Columna \"NUMBERCHILDREN\"\n",
    "\n",
    "1. no hay valores, mejor eliminarla"
   ]
  },
  {
   "cell_type": "code",
   "execution_count": null,
   "metadata": {},
   "outputs": [
    {
     "name": "stdout",
     "output_type": "stream",
     "text": [
      "<class 'pandas.core.series.Series'>\n",
      "Index: 1614 entries, 0 to 1613\n",
      "Series name: NUMBERCHILDREN\n",
      "Non-Null Count  Dtype  \n",
      "--------------  -----  \n",
      "0 non-null      float64\n",
      "dtypes: float64(1)\n",
      "memory usage: 89.8 KB\n"
     ]
    }
   ],
   "source": [
    "df_ejemplo[\"NUMBERCHILDREN\"].info()"
   ]
  },
  {
   "cell_type": "markdown",
   "metadata": {},
   "source": [
    "Columna \"RemoteWork\"\n",
    "\n",
    "1. hay 5 valores unicos: 0,1,yes,false,true; no sabemos qué es 0 y 1\n"
   ]
  },
  {
   "cell_type": "code",
   "execution_count": null,
   "metadata": {},
   "outputs": [
    {
     "data": {
      "text/plain": [
       "RemoteWork\n",
       "1        360\n",
       "True     345\n",
       "0        309\n",
       "False    305\n",
       "Yes      295\n",
       "Name: count, dtype: int64"
      ]
     },
     "execution_count": 27,
     "metadata": {},
     "output_type": "execute_result"
    }
   ],
   "source": [
    "df_ejemplo[\"RemoteWork\"].value_counts()\n"
   ]
  },
  {
   "cell_type": "code",
   "execution_count": null,
   "metadata": {},
   "outputs": [
    {
     "name": "stdout",
     "output_type": "stream",
     "text": [
      "<class 'pandas.core.series.Series'>\n",
      "Index: 1614 entries, 0 to 1613\n",
      "Series name: RemoteWork\n",
      "Non-Null Count  Dtype \n",
      "--------------  ----- \n",
      "1614 non-null   object\n",
      "dtypes: object(1)\n",
      "memory usage: 25.2+ KB\n"
     ]
    }
   ],
   "source": [
    "df_ejemplo[\"RemoteWork\"].info()"
   ]
  },
  {
   "cell_type": "markdown",
   "metadata": {},
   "source": [
    "COLUMNA WORKLIFEBALANCE"
   ]
  },
  {
   "cell_type": "code",
   "execution_count": null,
   "metadata": {},
   "outputs": [
    {
     "name": "stdout",
     "output_type": "stream",
     "text": [
      "<class 'pandas.core.series.Series'>\n",
      "Index: 1614 entries, 0 to 1613\n",
      "Series name: WORKLIFEBALANCE\n",
      "Non-Null Count  Dtype \n",
      "--------------  ----- \n",
      "1506 non-null   object\n",
      "dtypes: object(1)\n",
      "memory usage: 25.2+ KB\n"
     ]
    }
   ],
   "source": [
    "df_ejemplo[\"WORKLIFEBALANCE\"].info()"
   ]
  },
  {
   "cell_type": "code",
   "execution_count": null,
   "metadata": {},
   "outputs": [
    {
     "data": {
      "text/plain": [
       "WORKLIFEBALANCE\n",
       "3,0    913\n",
       "2,0    359\n",
       "4,0    155\n",
       "1,0     79\n",
       "Name: count, dtype: int64"
      ]
     },
     "execution_count": 31,
     "metadata": {},
     "output_type": "execute_result"
    }
   ],
   "source": [
    "df_ejemplo[\"WORKLIFEBALANCE\"].value_counts()"
   ]
  },
  {
   "cell_type": "code",
   "execution_count": null,
   "metadata": {},
   "outputs": [],
   "source": [
    "df_ejemplo.info()"
   ]
  },
  {
   "cell_type": "code",
   "execution_count": null,
   "metadata": {},
   "outputs": [],
   "source": [
    "df_ejemplo[\"WORKLIFEBALANCE\"].info()"
   ]
  },
  {
   "cell_type": "code",
   "execution_count": null,
   "metadata": {},
   "outputs": [
    {
     "data": {
      "text/plain": [
       "108"
      ]
     },
     "execution_count": 30,
     "metadata": {},
     "output_type": "execute_result"
    }
   ],
   "source": [
    "df_ejemplo[\"WORKLIFEBALANCE\"].isnull().sum()"
   ]
  },
  {
   "cell_type": "code",
   "execution_count": null,
   "metadata": {},
   "outputs": [],
   "source": [
    "df_ejemplo['WORKLIFEBALANCE'] = df_ejemplo['WORKLIFEBALANCE'].str.replace(',', '.') #sacamos el símbolo de la currency de la columna para poder convertir a float\n",
    "\n",
    "# Convertir los valores a tipo float \n",
    "df_ejemplo['WORKLIFEBALANCE'] = df_ejemplo['WORKLIFEBALANCE'].astype(float)"
   ]
  },
  {
   "cell_type": "markdown",
   "metadata": {},
   "source": [
    "Columna YearsAtCompany"
   ]
  },
  {
   "cell_type": "code",
   "execution_count": null,
   "metadata": {},
   "outputs": [
    {
     "name": "stdout",
     "output_type": "stream",
     "text": [
      "<class 'pandas.core.series.Series'>\n",
      "Index: 1614 entries, 0 to 1613\n",
      "Series name: YearsAtCompany\n",
      "Non-Null Count  Dtype\n",
      "--------------  -----\n",
      "1614 non-null   int64\n",
      "dtypes: int64(1)\n",
      "memory usage: 25.2 KB\n"
     ]
    }
   ],
   "source": [
    "df_ejemplo[\"YearsAtCompany\"].info()"
   ]
  },
  {
   "cell_type": "code",
   "execution_count": null,
   "metadata": {},
   "outputs": [
    {
     "data": {
      "text/plain": [
       "YearsAtCompany\n",
       "5     208\n",
       "1     171\n",
       "3     141\n",
       "2     141\n",
       "10    133\n",
       "7     115\n",
       "4     114\n",
       "8     106\n",
       "9      94\n",
       "6      78\n",
       "0      44\n",
       "11     36\n",
       "20     29\n",
       "13     26\n",
       "15     21\n",
       "14     19\n",
       "22     17\n",
       "12     15\n",
       "18     15\n",
       "16     14\n",
       "21     14\n",
       "19     12\n",
       "17      9\n",
       "24      7\n",
       "25      5\n",
       "33      5\n",
       "26      4\n",
       "32      3\n",
       "27      3\n",
       "31      3\n",
       "36      3\n",
       "29      2\n",
       "23      2\n",
       "40      2\n",
       "34      1\n",
       "37      1\n",
       "30      1\n",
       "Name: count, dtype: int64"
      ]
     },
     "execution_count": 34,
     "metadata": {},
     "output_type": "execute_result"
    }
   ],
   "source": [
    "df_ejemplo[\"YearsAtCompany\"].value_counts()"
   ]
  },
  {
   "cell_type": "markdown",
   "metadata": {},
   "source": [
    "Columna YearsInCurrentRole\n",
    "1. muchos nulos quizás conveniente eliminarla"
   ]
  },
  {
   "cell_type": "code",
   "execution_count": null,
   "metadata": {},
   "outputs": [
    {
     "name": "stdout",
     "output_type": "stream",
     "text": [
      "<class 'pandas.core.series.Series'>\n",
      "Index: 1614 entries, 0 to 1613\n",
      "Series name: YearsInCurrentRole\n",
      "Non-Null Count  Dtype \n",
      "--------------  ----- \n",
      "34 non-null     object\n",
      "dtypes: object(1)\n",
      "memory usage: 25.2+ KB\n"
     ]
    }
   ],
   "source": [
    "df_ejemplo[\"YearsInCurrentRole\"].info()\n"
   ]
  },
  {
   "cell_type": "code",
   "execution_count": null,
   "metadata": {},
   "outputs": [
    {
     "data": {
      "text/plain": [
       "1580"
      ]
     },
     "execution_count": 36,
     "metadata": {},
     "output_type": "execute_result"
    }
   ],
   "source": [
    "df_ejemplo[\"YearsInCurrentRole\"].isnull().sum()"
   ]
  }
 ],
 "metadata": {
  "kernelspec": {
   "display_name": "Python 3",
   "language": "python",
   "name": "python3"
  },
  "language_info": {
   "codemirror_mode": {
    "name": "ipython",
    "version": 3
   },
   "file_extension": ".py",
   "mimetype": "text/x-python",
   "name": "python",
   "nbconvert_exporter": "python",
   "pygments_lexer": "ipython3",
   "version": "3.9.7"
  }
 },
 "nbformat": 4,
 "nbformat_minor": 2
}
