{
 "cells": [
  {
   "cell_type": "code",
   "execution_count": 21,
   "metadata": {},
   "outputs": [],
   "source": [
    "import pandas as pd \n",
    "import numpy as np\n",
    "from word2number import w2n\n",
    "pd.set_option('display.max_columns', None) # para poder visualizar todas las columnas de los DataFrames\n",
    "\n"
   ]
  },
  {
   "cell_type": "code",
   "execution_count": 2,
   "metadata": {},
   "outputs": [],
   "source": [
    "df_ejemplo=pd.read_csv(\"HR RAW DATA.csv\",index_col=0)"
   ]
  },
  {
   "cell_type": "code",
   "execution_count": 3,
   "metadata": {},
   "outputs": [],
   "source": [
    "#Homogeneizar nombre columnas \n",
    "nuevas_columnas = {columna: columna.lower() for columna in df_ejemplo.columns}"
   ]
  },
  {
   "cell_type": "code",
   "execution_count": 4,
   "metadata": {},
   "outputs": [],
   "source": [
    "df_ejemplo.rename(columns=nuevas_columnas, inplace= True)"
   ]
  },
  {
   "cell_type": "code",
   "execution_count": 5,
   "metadata": {},
   "outputs": [],
   "source": [
    "#Modificamos nombre de la columna para que sea mas intuitivo\n",
    "df_ejemplo.rename(columns = {\"datebirth\": \"yearbirth\"}, inplace = True )"
   ]
  },
  {
   "cell_type": "code",
   "execution_count": 6,
   "metadata": {},
   "outputs": [],
   "source": [
    "#Eliminamos las siguientes columnas:\n",
    "#Role Department: Fusiona otras columnas, no le vemos sentdo\n",
    "#Number Children: no hay valores\n",
    "#Over 18: columna sin sentido.Esta desactualizada, se puede calcular con otras columnas\n",
    "#Same As Month Income: Es una columna repetida, una copia de month income\n",
    "#Employee Count: No tienen sentido. El recuento se puede hacer por filas, o por números de referncia de empleado\n",
    "#Salary : la eliminamos y creamos una de nuevo con el cálculo de los datos "
   ]
  },
  {
   "cell_type": "code",
   "execution_count": 7,
   "metadata": {},
   "outputs": [],
   "source": [
    "df_ejemplo.drop(['roledepartament','numberchildren','over18', 'sameasmonthlyincome','employeecount','salary','standardhours', 'yearsincurrentrole'],axis = 1, inplace=True)"
   ]
  },
  {
   "cell_type": "code",
   "execution_count": 8,
   "metadata": {},
   "outputs": [],
   "source": [
    "#lista con columnas a limpiar\n",
    "columnas_limpiar = ['dailyrate','employeenumber','monthlyincome','performancerating','totalworkingyears','worklifebalance','distancefromhome']"
   ]
  },
  {
   "cell_type": "code",
   "execution_count": 9,
   "metadata": {},
   "outputs": [],
   "source": [
    "#Para columna de Age\n",
    "\n",
    "def convertir_a_numero(valor):\n",
    "    if isinstance(valor, int): # Verifica si el valor ya es un entero, si lo es no hace nada\n",
    "        return valor\n",
    "    elif isinstance(valor, str): # Intenta convertir el valor a número\n",
    "        try: \n",
    "            numero = int(valor)\n",
    "            return numero\n",
    "        except ValueError:\n",
    "            try: # aquí es donde se usa la función w2n en el try pq si la conversion falla entonces se usará\n",
    "                numero = w2n.word_to_num(valor)\n",
    "                return numero\n",
    "            except ValueError:\n",
    "                print(f\"Error: No se pudo convertir '{valor}' a número.\")\n",
    "                return None\n",
    "    else:\n",
    "        print(f\"Error: Tipo de dato no soportado para el valor '{valor}'.\")\n",
    "        return None\n"
   ]
  },
  {
   "cell_type": "code",
   "execution_count": 10,
   "metadata": {},
   "outputs": [],
   "source": [
    "df_ejemplo['age'] = df_ejemplo['age'].apply(convertir_a_numero) #llamamos a la función"
   ]
  },
  {
   "cell_type": "code",
   "execution_count": 11,
   "metadata": {},
   "outputs": [],
   "source": [
    "def limpiar_datos (columna):\n",
    "\n",
    "      try:\n",
    "          df_ejemplo[columna] =(df_ejemplo[columna].str.replace('$', ''))\n",
    "    \n",
    "      except:\n",
    "          pass\n",
    "      \n",
    "      try:\n",
    "          df_ejemplo[columna] =(df_ejemplo[columna].str.replace(',', '.')) \n",
    "    \n",
    "      except:\n",
    "          pass\n",
    "      try:\n",
    "          \n",
    "         df_ejemplo[columna] = df_ejemplo[columna].abs()\n",
    "\n",
    "      except:\n",
    "          pass\n",
    "      \n",
    "      try:\n",
    "        df_ejemplo[columna]=pd.to_numeric(df_ejemplo[columna]).astype(float)\n",
    "      except:\n",
    "        pass\n",
    "      return df_ejemplo[columna]"
   ]
  },
  {
   "cell_type": "code",
   "execution_count": 12,
   "metadata": {},
   "outputs": [
    {
     "name": "stdout",
     "output_type": "stream",
     "text": [
      "0        684.0\n",
      "1        699.0\n",
      "2        532.0\n",
      "3        359.0\n",
      "4       1319.0\n",
      "         ...  \n",
      "1609     530.0\n",
      "1610     805.0\n",
      "1611     903.0\n",
      "1612    1229.0\n",
      "1613     566.0\n",
      "Name: dailyrate, Length: 1614, dtype: object\n",
      "0       162.0\n",
      "1       259.0\n",
      "2       319.0\n",
      "3         NaN\n",
      "4         NaN\n",
      "        ...  \n",
      "1609    967.0\n",
      "1610    972.0\n",
      "1611      NaN\n",
      "1612    990.0\n",
      "1613      NaN\n",
      "Name: employeenumber, Length: 1614, dtype: float64\n",
      "0       19537.0\n",
      "1       19999.0\n",
      "2       19232.0\n",
      "3       17169.0\n",
      "4           NaN\n",
      "         ...   \n",
      "1609    10325.0\n",
      "1610     4447.0\n",
      "1611        NaN\n",
      "1612        NaN\n",
      "1613    10845.0\n",
      "Name: monthlyincome, Length: 1614, dtype: float64\n",
      "0       3.0\n",
      "1       3.0\n",
      "2       3.0\n",
      "3       3.0\n",
      "4       3.0\n",
      "       ... \n",
      "1609    NaN\n",
      "1610    3.0\n",
      "1611    3.0\n",
      "1612    NaN\n",
      "1613    3.0\n",
      "Name: performancerating, Length: 1614, dtype: float64\n",
      "0        NaN\n",
      "1       34.0\n",
      "2       22.0\n",
      "3        NaN\n",
      "4        NaN\n",
      "        ... \n",
      "1609     NaN\n",
      "1610     NaN\n",
      "1611     9.0\n",
      "1612    12.0\n",
      "1613     NaN\n",
      "Name: totalworkingyears, Length: 1614, dtype: float64\n",
      "0       3.0\n",
      "1       3.0\n",
      "2       NaN\n",
      "3       NaN\n",
      "4       3.0\n",
      "       ... \n",
      "1609    3.0\n",
      "1610    2.0\n",
      "1611    3.0\n",
      "1612    3.0\n",
      "1613    3.0\n",
      "Name: worklifebalance, Length: 1614, dtype: float64\n",
      "0        6.0\n",
      "1        1.0\n",
      "2        4.0\n",
      "3        2.0\n",
      "4        3.0\n",
      "        ... \n",
      "1609     3.0\n",
      "1610     4.0\n",
      "1611    13.0\n",
      "1612     8.0\n",
      "1613     7.0\n",
      "Name: distancefromhome, Length: 1614, dtype: float64\n"
     ]
    }
   ],
   "source": [
    "#Limpiamos las columnas de numeros para convertirlas a numericas\n",
    "for i in columnas_limpiar:\n",
    "   df_ejemplo[i]=limpiar_datos(i)\n",
    "   print(df_ejemplo[i])\n",
    "   \n",
    " "
   ]
  },
  {
   "cell_type": "code",
   "execution_count": 13,
   "metadata": {},
   "outputs": [],
   "source": [
    "#"
   ]
  },
  {
   "cell_type": "markdown",
   "metadata": {},
   "source": [
    "_____"
   ]
  },
  {
   "cell_type": "markdown",
   "metadata": {},
   "source": [
    "- Cambiamos de categoria la columna 'género'. Reemplazamos sus valores de 0 y 1 por Male y Famele.\n",
    "\n",
    "- Homogeneizamos la columna 'maritalstatus'\n",
    "\n",
    "- Modificamos los valores de la columna  'remotework', 0 y 1, True or False por Yes y No\n",
    "\n",
    "- Al analizar la columna de employee number, encontramos muchos valores duplicados y la unica diferencia entre estos duplicados eran los valores que se encuentran en la columna 'remotework'. Allí detectamos que la equivalencia era 0 = 'No' y 1 = 'Yes'\n"
   ]
  },
  {
   "cell_type": "code",
   "execution_count": 14,
   "metadata": {},
   "outputs": [
    {
     "data": {
      "text/plain": [
       "gender\n",
       "male      971\n",
       "female    643\n",
       "Name: count, dtype: int64"
      ]
     },
     "execution_count": 14,
     "metadata": {},
     "output_type": "execute_result"
    }
   ],
   "source": [
    "df_ejemplo['gender'] = df_ejemplo['gender'].replace({0: 'male', 1: 'female'})\n",
    "df_ejemplo['gender'].value_counts()"
   ]
  },
  {
   "cell_type": "code",
   "execution_count": 15,
   "metadata": {},
   "outputs": [],
   "source": [
    "df_ejemplo['maritalstatus']= df_ejemplo['maritalstatus'].replace({'divorced':'Divorced','Marreid':'Married'})"
   ]
  },
  {
   "cell_type": "code",
   "execution_count": 16,
   "metadata": {},
   "outputs": [
    {
     "data": {
      "text/plain": [
       "remotework\n",
       "1        360\n",
       "True     345\n",
       "0        309\n",
       "False    305\n",
       "Yes      295\n",
       "Name: count, dtype: int64"
      ]
     },
     "execution_count": 16,
     "metadata": {},
     "output_type": "execute_result"
    }
   ],
   "source": [
    "df_ejemplo['remotework'].value_counts()"
   ]
  },
  {
   "cell_type": "code",
   "execution_count": 27,
   "metadata": {},
   "outputs": [],
   "source": [
    "df_ejemplo['remotework']= df_ejemplo['remotework'].replace({('1'):'Yes',('0') or ('False'): 'No', 'True': 'Yes', 'False': 'No'})"
   ]
  },
  {
   "cell_type": "code",
   "execution_count": 29,
   "metadata": {},
   "outputs": [
    {
     "data": {
      "text/plain": [
       "remotework\n",
       "Yes    1000\n",
       "No      614\n",
       "Name: count, dtype: int64"
      ]
     },
     "execution_count": 29,
     "metadata": {},
     "output_type": "execute_result"
    }
   ],
   "source": [
    "df_ejemplo['remotework'].value_counts()"
   ]
  },
  {
   "cell_type": "markdown",
   "metadata": {},
   "source": [
    "______"
   ]
  },
  {
   "cell_type": "code",
   "execution_count": 22,
   "metadata": {},
   "outputs": [
    {
     "data": {
      "text/html": [
       "<div>\n",
       "<style scoped>\n",
       "    .dataframe tbody tr th:only-of-type {\n",
       "        vertical-align: middle;\n",
       "    }\n",
       "\n",
       "    .dataframe tbody tr th {\n",
       "        vertical-align: top;\n",
       "    }\n",
       "\n",
       "    .dataframe thead th {\n",
       "        text-align: right;\n",
       "    }\n",
       "</style>\n",
       "<table border=\"1\" class=\"dataframe\">\n",
       "  <thead>\n",
       "    <tr style=\"text-align: right;\">\n",
       "      <th></th>\n",
       "      <th>age</th>\n",
       "      <th>attrition</th>\n",
       "      <th>businesstravel</th>\n",
       "      <th>dailyrate</th>\n",
       "      <th>department</th>\n",
       "      <th>distancefromhome</th>\n",
       "      <th>education</th>\n",
       "      <th>educationfield</th>\n",
       "      <th>employeenumber</th>\n",
       "      <th>environmentsatisfaction</th>\n",
       "      <th>gender</th>\n",
       "      <th>hourlyrate</th>\n",
       "      <th>jobinvolvement</th>\n",
       "      <th>joblevel</th>\n",
       "      <th>jobrole</th>\n",
       "      <th>jobsatisfaction</th>\n",
       "      <th>maritalstatus</th>\n",
       "      <th>monthlyincome</th>\n",
       "      <th>monthlyrate</th>\n",
       "      <th>numcompaniesworked</th>\n",
       "      <th>overtime</th>\n",
       "      <th>percentsalaryhike</th>\n",
       "      <th>performancerating</th>\n",
       "      <th>relationshipsatisfaction</th>\n",
       "      <th>standardhours</th>\n",
       "      <th>stockoptionlevel</th>\n",
       "      <th>totalworkingyears</th>\n",
       "      <th>trainingtimeslastyear</th>\n",
       "      <th>worklifebalance</th>\n",
       "      <th>yearsatcompany</th>\n",
       "      <th>yearsincurrentrole</th>\n",
       "      <th>yearssincelastpromotion</th>\n",
       "      <th>yearswithcurrmanager</th>\n",
       "      <th>yearbirth</th>\n",
       "      <th>remotework</th>\n",
       "    </tr>\n",
       "  </thead>\n",
       "  <tbody>\n",
       "    <tr>\n",
       "      <th>0</th>\n",
       "      <td>51</td>\n",
       "      <td>No</td>\n",
       "      <td>NaN</td>\n",
       "      <td>684.0</td>\n",
       "      <td>NaN</td>\n",
       "      <td>6.0</td>\n",
       "      <td>3</td>\n",
       "      <td>NaN</td>\n",
       "      <td>162.0</td>\n",
       "      <td>1</td>\n",
       "      <td>male</td>\n",
       "      <td>51</td>\n",
       "      <td>3</td>\n",
       "      <td>5</td>\n",
       "      <td>resEArch DIREcToR</td>\n",
       "      <td>3</td>\n",
       "      <td>NaN</td>\n",
       "      <td>19537.0</td>\n",
       "      <td>6462</td>\n",
       "      <td>7</td>\n",
       "      <td>No</td>\n",
       "      <td>13</td>\n",
       "      <td>3.0</td>\n",
       "      <td>3</td>\n",
       "      <td>NaN</td>\n",
       "      <td>0</td>\n",
       "      <td>NaN</td>\n",
       "      <td>5</td>\n",
       "      <td>3.0</td>\n",
       "      <td>20</td>\n",
       "      <td>NaN</td>\n",
       "      <td>15</td>\n",
       "      <td>15</td>\n",
       "      <td>1972</td>\n",
       "      <td>Yes</td>\n",
       "    </tr>\n",
       "    <tr>\n",
       "      <th>1</th>\n",
       "      <td>52</td>\n",
       "      <td>No</td>\n",
       "      <td>NaN</td>\n",
       "      <td>699.0</td>\n",
       "      <td>NaN</td>\n",
       "      <td>1.0</td>\n",
       "      <td>4</td>\n",
       "      <td>Life Sciences</td>\n",
       "      <td>259.0</td>\n",
       "      <td>3</td>\n",
       "      <td>male</td>\n",
       "      <td>65</td>\n",
       "      <td>2</td>\n",
       "      <td>5</td>\n",
       "      <td>ManAGeR</td>\n",
       "      <td>3</td>\n",
       "      <td>NaN</td>\n",
       "      <td>19999.0</td>\n",
       "      <td>5678</td>\n",
       "      <td>0</td>\n",
       "      <td>NaN</td>\n",
       "      <td>14</td>\n",
       "      <td>3.0</td>\n",
       "      <td>1</td>\n",
       "      <td>NaN</td>\n",
       "      <td>1</td>\n",
       "      <td>34.0</td>\n",
       "      <td>5</td>\n",
       "      <td>3.0</td>\n",
       "      <td>33</td>\n",
       "      <td>NaN</td>\n",
       "      <td>11</td>\n",
       "      <td>9</td>\n",
       "      <td>1971</td>\n",
       "      <td>Yes</td>\n",
       "    </tr>\n",
       "    <tr>\n",
       "      <th>2</th>\n",
       "      <td>42</td>\n",
       "      <td>No</td>\n",
       "      <td>travel_rarely</td>\n",
       "      <td>532.0</td>\n",
       "      <td>Research &amp; Development</td>\n",
       "      <td>4.0</td>\n",
       "      <td>2</td>\n",
       "      <td>Technical Degree</td>\n",
       "      <td>319.0</td>\n",
       "      <td>3</td>\n",
       "      <td>male</td>\n",
       "      <td>58</td>\n",
       "      <td>3</td>\n",
       "      <td>5</td>\n",
       "      <td>ManaGER</td>\n",
       "      <td>4</td>\n",
       "      <td>Married</td>\n",
       "      <td>19232.0</td>\n",
       "      <td>4933</td>\n",
       "      <td>1</td>\n",
       "      <td>No</td>\n",
       "      <td>11</td>\n",
       "      <td>3.0</td>\n",
       "      <td>4</td>\n",
       "      <td>NaN</td>\n",
       "      <td>0</td>\n",
       "      <td>22.0</td>\n",
       "      <td>3</td>\n",
       "      <td>NaN</td>\n",
       "      <td>22</td>\n",
       "      <td>NaN</td>\n",
       "      <td>11</td>\n",
       "      <td>15</td>\n",
       "      <td>1981</td>\n",
       "      <td>Yes</td>\n",
       "    </tr>\n",
       "    <tr>\n",
       "      <th>3</th>\n",
       "      <td>47</td>\n",
       "      <td>No</td>\n",
       "      <td>travel_rarely</td>\n",
       "      <td>359.0</td>\n",
       "      <td>NaN</td>\n",
       "      <td>2.0</td>\n",
       "      <td>4</td>\n",
       "      <td>Medical</td>\n",
       "      <td>NaN</td>\n",
       "      <td>1</td>\n",
       "      <td>female</td>\n",
       "      <td>82</td>\n",
       "      <td>3</td>\n",
       "      <td>4</td>\n",
       "      <td>ReseArCH DIrECtOr</td>\n",
       "      <td>3</td>\n",
       "      <td>Married</td>\n",
       "      <td>17169.0</td>\n",
       "      <td>26703</td>\n",
       "      <td>3</td>\n",
       "      <td>NaN</td>\n",
       "      <td>19</td>\n",
       "      <td>3.0</td>\n",
       "      <td>2</td>\n",
       "      <td>NaN</td>\n",
       "      <td>2</td>\n",
       "      <td>NaN</td>\n",
       "      <td>2</td>\n",
       "      <td>NaN</td>\n",
       "      <td>20</td>\n",
       "      <td>NaN</td>\n",
       "      <td>5</td>\n",
       "      <td>6</td>\n",
       "      <td>1976</td>\n",
       "      <td>False</td>\n",
       "    </tr>\n",
       "    <tr>\n",
       "      <th>4</th>\n",
       "      <td>46</td>\n",
       "      <td>No</td>\n",
       "      <td>NaN</td>\n",
       "      <td>1319.0</td>\n",
       "      <td>NaN</td>\n",
       "      <td>3.0</td>\n",
       "      <td>3</td>\n",
       "      <td>Technical Degree</td>\n",
       "      <td>NaN</td>\n",
       "      <td>1</td>\n",
       "      <td>female</td>\n",
       "      <td>45</td>\n",
       "      <td>4</td>\n",
       "      <td>4</td>\n",
       "      <td>sAleS EXECUtIve</td>\n",
       "      <td>1</td>\n",
       "      <td>Divorced</td>\n",
       "      <td>NaN</td>\n",
       "      <td>7739</td>\n",
       "      <td>2</td>\n",
       "      <td>No</td>\n",
       "      <td>12</td>\n",
       "      <td>3.0</td>\n",
       "      <td>4</td>\n",
       "      <td>NaN</td>\n",
       "      <td>1</td>\n",
       "      <td>NaN</td>\n",
       "      <td>5</td>\n",
       "      <td>3.0</td>\n",
       "      <td>19</td>\n",
       "      <td>NaN</td>\n",
       "      <td>2</td>\n",
       "      <td>8</td>\n",
       "      <td>1977</td>\n",
       "      <td>No</td>\n",
       "    </tr>\n",
       "  </tbody>\n",
       "</table>\n",
       "</div>"
      ],
      "text/plain": [
       "   age attrition businesstravel dailyrate                department  \\\n",
       "0   51        No            NaN     684.0                       NaN   \n",
       "1   52        No            NaN     699.0                       NaN   \n",
       "2   42        No  travel_rarely     532.0   Research & Development    \n",
       "3   47        No  travel_rarely     359.0                       NaN   \n",
       "4   46        No            NaN    1319.0                       NaN   \n",
       "\n",
       "   distancefromhome  education    educationfield  employeenumber  \\\n",
       "0               6.0          3               NaN           162.0   \n",
       "1               1.0          4     Life Sciences           259.0   \n",
       "2               4.0          2  Technical Degree           319.0   \n",
       "3               2.0          4           Medical             NaN   \n",
       "4               3.0          3  Technical Degree             NaN   \n",
       "\n",
       "   environmentsatisfaction  gender hourlyrate  jobinvolvement  joblevel  \\\n",
       "0                        1    male         51               3         5   \n",
       "1                        3    male         65               2         5   \n",
       "2                        3    male         58               3         5   \n",
       "3                        1  female         82               3         4   \n",
       "4                        1  female         45               4         4   \n",
       "\n",
       "               jobrole  jobsatisfaction maritalstatus  monthlyincome  \\\n",
       "0   resEArch DIREcToR                 3           NaN        19537.0   \n",
       "1             ManAGeR                 3           NaN        19999.0   \n",
       "2             ManaGER                 4       Married        19232.0   \n",
       "3   ReseArCH DIrECtOr                 3       Married        17169.0   \n",
       "4     sAleS EXECUtIve                 1      Divorced            NaN   \n",
       "\n",
       "   monthlyrate  numcompaniesworked overtime  percentsalaryhike  \\\n",
       "0         6462                   7       No                 13   \n",
       "1         5678                   0      NaN                 14   \n",
       "2         4933                   1       No                 11   \n",
       "3        26703                   3      NaN                 19   \n",
       "4         7739                   2       No                 12   \n",
       "\n",
       "   performancerating  relationshipsatisfaction standardhours  \\\n",
       "0                3.0                         3           NaN   \n",
       "1                3.0                         1           NaN   \n",
       "2                3.0                         4           NaN   \n",
       "3                3.0                         2           NaN   \n",
       "4                3.0                         4           NaN   \n",
       "\n",
       "   stockoptionlevel  totalworkingyears  trainingtimeslastyear  \\\n",
       "0                 0                NaN                      5   \n",
       "1                 1               34.0                      5   \n",
       "2                 0               22.0                      3   \n",
       "3                 2                NaN                      2   \n",
       "4                 1                NaN                      5   \n",
       "\n",
       "   worklifebalance  yearsatcompany yearsincurrentrole  \\\n",
       "0              3.0              20                NaN   \n",
       "1              3.0              33                NaN   \n",
       "2              NaN              22                NaN   \n",
       "3              NaN              20                NaN   \n",
       "4              3.0              19                NaN   \n",
       "\n",
       "   yearssincelastpromotion  yearswithcurrmanager  yearbirth remotework  \n",
       "0                       15                    15       1972        Yes  \n",
       "1                       11                     9       1971        Yes  \n",
       "2                       11                    15       1981        Yes  \n",
       "3                        5                     6       1976      False  \n",
       "4                        2                     8       1977         No  "
      ]
     },
     "execution_count": 22,
     "metadata": {},
     "output_type": "execute_result"
    }
   ],
   "source": [
    "df_ejemplo.head(5)"
   ]
  },
  {
   "cell_type": "markdown",
   "metadata": {},
   "source": [
    "Homogeneizamos las categorias de las encuestas (que todas vayan de 1 a 4)\n",
    "\n",
    "Modificamos los valores de Education para que sean mas legibles\n",
    "Cambiariamos los float a int. Lo miramos cuando gestionamos nulos\n",
    "\n",
    "JobLevel, esta de 1 a 5. Miramos de cambiar por categorias \n",
    "Para el markdown:\n",
    "Entry:\n",
    "Limited or prior experience\n",
    "Non Exempt\n",
    "PSS\n",
    "Intermediate:\n",
    "Assignments of moderate scope and complexity\n",
    "Judgment within defined guidelines\n",
    "Non Exempt\n",
    "PSS\n",
    "Experienced:\n",
    "In depth understanding of field\n",
    "Independently performs full range of function\n",
    "Exempt\n",
    "PSS\n",
    "Advanced:\n",
    "High degree knowledge of overall field\n",
    "Specialized knowledge\n",
    "High degree of autonomy\n",
    "Lead\n",
    "Exempt\n",
    "PSS or MSP\n",
    "Expert:\n",
    "Significant impact on policy program\n",
    "Substantial consequences of success or failure\n",
    "Scope impacts entire organization (campus)\n",
    "Exempt\n",
    "MSP\n"
   ]
  },
  {
   "cell_type": "code",
   "execution_count": 56,
   "metadata": {},
   "outputs": [
    {
     "data": {
      "text/plain": [
       "joblevel\n",
       "2    597\n",
       "1    586\n",
       "3    242\n",
       "4    113\n",
       "5     76\n",
       "Name: count, dtype: int64"
      ]
     },
     "execution_count": 56,
     "metadata": {},
     "output_type": "execute_result"
    }
   ],
   "source": [
    "df_ejemplo['jobsatisfaction'].value_counts() #1 a 4\n",
    "df_ejemplo['stockoptionlevel'].value_counts() # 0 a 3\n",
    "df_ejemplo['relationshipsatisfaction'].value_counts() # 1 a 4\n",
    "df_ejemplo['performancerating'].value_counts() # 3.0 y 4.0 \n",
    "df_ejemplo['jobinvolvement'].value_counts() #1 a 4\n",
    "df_ejemplo['worklifebalance'].value_counts() #1.0 a 4.0\n",
    "df_ejemplo['trainingtimeslastyear'].value_counts() # 0 a 6\n",
    "df_ejemplo['joblevel'].value_counts() # 1 a 5\n"
   ]
  },
  {
   "cell_type": "code",
   "execution_count": 53,
   "metadata": {},
   "outputs": [],
   "source": [
    "datos = {1: 'High school', 2: 'College', 3: 'University', 4:'Master Degree', 5: 'PhD'}"
   ]
  },
  {
   "cell_type": "code",
   "execution_count": 54,
   "metadata": {},
   "outputs": [],
   "source": [
    "df_ejemplo['education']= df_ejemplo['education'].replace(datos)"
   ]
  },
  {
   "cell_type": "code",
   "execution_count": 58,
   "metadata": {},
   "outputs": [],
   "source": [
    "categorias = {1: 'Entry', 2: 'Intermediate', 3: 'Experienced', 4: 'Advanced', 5: 'Expert'}"
   ]
  },
  {
   "cell_type": "code",
   "execution_count": 59,
   "metadata": {},
   "outputs": [],
   "source": [
    "df_ejemplo['joblevel']= df_ejemplo['joblevel'].replace(categorias)"
   ]
  },
  {
   "cell_type": "markdown",
   "metadata": {},
   "source": [
    "______"
   ]
  },
  {
   "cell_type": "code",
   "execution_count": 66,
   "metadata": {},
   "outputs": [],
   "source": [
    "df_ejemplo.to_csv('hr_limpio_con_nulos.csv')"
   ]
  }
 ],
 "metadata": {
  "kernelspec": {
   "display_name": "Python 3",
   "language": "python",
   "name": "python3"
  },
  "language_info": {
   "codemirror_mode": {
    "name": "ipython",
    "version": 3
   },
   "file_extension": ".py",
   "mimetype": "text/x-python",
   "name": "python",
   "nbconvert_exporter": "python",
   "pygments_lexer": "ipython3",
   "version": "3.9.7"
  }
 },
 "nbformat": 4,
 "nbformat_minor": 2
}
