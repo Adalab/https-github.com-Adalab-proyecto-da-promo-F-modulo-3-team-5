{
 "cells": [
  {
   "cell_type": "markdown",
   "metadata": {},
   "source": [
    "Puntos generales\n",
    "\n",
    "1. Homogeneizar los nombres de las columnas Todo lower?"
   ]
  },
  {
   "cell_type": "code",
   "execution_count": 2,
   "metadata": {},
   "outputs": [],
   "source": [
    "import pandas as pd"
   ]
  },
  {
   "cell_type": "code",
   "execution_count": 3,
   "metadata": {},
   "outputs": [
    {
     "data": {
      "text/html": [
       "<div>\n",
       "<style scoped>\n",
       "    .dataframe tbody tr th:only-of-type {\n",
       "        vertical-align: middle;\n",
       "    }\n",
       "\n",
       "    .dataframe tbody tr th {\n",
       "        vertical-align: top;\n",
       "    }\n",
       "\n",
       "    .dataframe thead th {\n",
       "        text-align: right;\n",
       "    }\n",
       "</style>\n",
       "<table border=\"1\" class=\"dataframe\">\n",
       "  <thead>\n",
       "    <tr style=\"text-align: right;\">\n",
       "      <th></th>\n",
       "      <th>Age</th>\n",
       "      <th>Attrition</th>\n",
       "      <th>BusinessTravel</th>\n",
       "      <th>DailyRate</th>\n",
       "      <th>Department</th>\n",
       "      <th>DistanceFromHome</th>\n",
       "      <th>Education</th>\n",
       "      <th>EducationField</th>\n",
       "      <th>employeecount</th>\n",
       "      <th>employeenumber</th>\n",
       "      <th>...</th>\n",
       "      <th>YearsAtCompany</th>\n",
       "      <th>YearsInCurrentRole</th>\n",
       "      <th>YearsSinceLastPromotion</th>\n",
       "      <th>YEARSWITHCURRMANAGER</th>\n",
       "      <th>SameAsMonthlyIncome</th>\n",
       "      <th>DateBirth</th>\n",
       "      <th>Salary</th>\n",
       "      <th>RoleDepartament</th>\n",
       "      <th>NUMBERCHILDREN</th>\n",
       "      <th>RemoteWork</th>\n",
       "    </tr>\n",
       "  </thead>\n",
       "  <tbody>\n",
       "    <tr>\n",
       "      <th>0</th>\n",
       "      <td>51</td>\n",
       "      <td>No</td>\n",
       "      <td>NaN</td>\n",
       "      <td>684,0$</td>\n",
       "      <td>NaN</td>\n",
       "      <td>6</td>\n",
       "      <td>3</td>\n",
       "      <td>NaN</td>\n",
       "      <td>1</td>\n",
       "      <td>162,0</td>\n",
       "      <td>...</td>\n",
       "      <td>20</td>\n",
       "      <td>NaN</td>\n",
       "      <td>15</td>\n",
       "      <td>15</td>\n",
       "      <td>19537,0</td>\n",
       "      <td>1972</td>\n",
       "      <td>1000000000$</td>\n",
       "      <td>NaN</td>\n",
       "      <td>NaN</td>\n",
       "      <td>Yes</td>\n",
       "    </tr>\n",
       "    <tr>\n",
       "      <th>1</th>\n",
       "      <td>52</td>\n",
       "      <td>No</td>\n",
       "      <td>NaN</td>\n",
       "      <td>699,0$</td>\n",
       "      <td>NaN</td>\n",
       "      <td>1</td>\n",
       "      <td>4</td>\n",
       "      <td>Life Sciences</td>\n",
       "      <td>1</td>\n",
       "      <td>259,0</td>\n",
       "      <td>...</td>\n",
       "      <td>33</td>\n",
       "      <td>NaN</td>\n",
       "      <td>11</td>\n",
       "      <td>9</td>\n",
       "      <td>19999,0</td>\n",
       "      <td>1971</td>\n",
       "      <td>1000000000$</td>\n",
       "      <td>NaN</td>\n",
       "      <td>NaN</td>\n",
       "      <td>1</td>\n",
       "    </tr>\n",
       "    <tr>\n",
       "      <th>2</th>\n",
       "      <td>42</td>\n",
       "      <td>No</td>\n",
       "      <td>travel_rarely</td>\n",
       "      <td>532,0$</td>\n",
       "      <td>Research &amp; Development</td>\n",
       "      <td>4</td>\n",
       "      <td>2</td>\n",
       "      <td>Technical Degree</td>\n",
       "      <td>1</td>\n",
       "      <td>319,0</td>\n",
       "      <td>...</td>\n",
       "      <td>22</td>\n",
       "      <td>NaN</td>\n",
       "      <td>11</td>\n",
       "      <td>15</td>\n",
       "      <td>19232,0</td>\n",
       "      <td>1981</td>\n",
       "      <td>1000000000$</td>\n",
       "      <td>ManaGER  -  Research &amp; Development</td>\n",
       "      <td>NaN</td>\n",
       "      <td>1</td>\n",
       "    </tr>\n",
       "    <tr>\n",
       "      <th>3</th>\n",
       "      <td>47</td>\n",
       "      <td>No</td>\n",
       "      <td>travel_rarely</td>\n",
       "      <td>359,0$</td>\n",
       "      <td>NaN</td>\n",
       "      <td>2</td>\n",
       "      <td>4</td>\n",
       "      <td>Medical</td>\n",
       "      <td>1</td>\n",
       "      <td>NaN</td>\n",
       "      <td>...</td>\n",
       "      <td>20</td>\n",
       "      <td>NaN</td>\n",
       "      <td>5</td>\n",
       "      <td>6</td>\n",
       "      <td>17169,0</td>\n",
       "      <td>1976</td>\n",
       "      <td>1000000000$</td>\n",
       "      <td>NaN</td>\n",
       "      <td>NaN</td>\n",
       "      <td>False</td>\n",
       "    </tr>\n",
       "    <tr>\n",
       "      <th>4</th>\n",
       "      <td>46</td>\n",
       "      <td>No</td>\n",
       "      <td>NaN</td>\n",
       "      <td>1319,0$</td>\n",
       "      <td>NaN</td>\n",
       "      <td>3</td>\n",
       "      <td>3</td>\n",
       "      <td>Technical Degree</td>\n",
       "      <td>1</td>\n",
       "      <td>NaN</td>\n",
       "      <td>...</td>\n",
       "      <td>19</td>\n",
       "      <td>NaN</td>\n",
       "      <td>2</td>\n",
       "      <td>8</td>\n",
       "      <td>NaN</td>\n",
       "      <td>1977</td>\n",
       "      <td>1000000000$</td>\n",
       "      <td>NaN</td>\n",
       "      <td>NaN</td>\n",
       "      <td>0</td>\n",
       "    </tr>\n",
       "    <tr>\n",
       "      <th>...</th>\n",
       "      <td>...</td>\n",
       "      <td>...</td>\n",
       "      <td>...</td>\n",
       "      <td>...</td>\n",
       "      <td>...</td>\n",
       "      <td>...</td>\n",
       "      <td>...</td>\n",
       "      <td>...</td>\n",
       "      <td>...</td>\n",
       "      <td>...</td>\n",
       "      <td>...</td>\n",
       "      <td>...</td>\n",
       "      <td>...</td>\n",
       "      <td>...</td>\n",
       "      <td>...</td>\n",
       "      <td>...</td>\n",
       "      <td>...</td>\n",
       "      <td>...</td>\n",
       "      <td>...</td>\n",
       "      <td>...</td>\n",
       "      <td>...</td>\n",
       "    </tr>\n",
       "    <tr>\n",
       "      <th>1609</th>\n",
       "      <td>36</td>\n",
       "      <td>Yes</td>\n",
       "      <td>travel_rarely</td>\n",
       "      <td>530,0$</td>\n",
       "      <td>NaN</td>\n",
       "      <td>3</td>\n",
       "      <td>1</td>\n",
       "      <td>Life Sciences</td>\n",
       "      <td>1</td>\n",
       "      <td>967,0</td>\n",
       "      <td>...</td>\n",
       "      <td>16</td>\n",
       "      <td>NaN</td>\n",
       "      <td>3</td>\n",
       "      <td>7</td>\n",
       "      <td>10325,0</td>\n",
       "      <td>1987</td>\n",
       "      <td>1000000000$</td>\n",
       "      <td>NaN</td>\n",
       "      <td>NaN</td>\n",
       "      <td>0</td>\n",
       "    </tr>\n",
       "    <tr>\n",
       "      <th>1610</th>\n",
       "      <td>45</td>\n",
       "      <td>No</td>\n",
       "      <td>non-travel</td>\n",
       "      <td>805,0$</td>\n",
       "      <td>NaN</td>\n",
       "      <td>4</td>\n",
       "      <td>2</td>\n",
       "      <td>NaN</td>\n",
       "      <td>1</td>\n",
       "      <td>972,0</td>\n",
       "      <td>...</td>\n",
       "      <td>9</td>\n",
       "      <td>NaN</td>\n",
       "      <td>0</td>\n",
       "      <td>8</td>\n",
       "      <td>4447,0</td>\n",
       "      <td>1978</td>\n",
       "      <td>1000000000$</td>\n",
       "      <td>NaN</td>\n",
       "      <td>NaN</td>\n",
       "      <td>1</td>\n",
       "    </tr>\n",
       "    <tr>\n",
       "      <th>1611</th>\n",
       "      <td>39</td>\n",
       "      <td>No</td>\n",
       "      <td>travel_rarely</td>\n",
       "      <td>903,0$</td>\n",
       "      <td>NaN</td>\n",
       "      <td>-13</td>\n",
       "      <td>5</td>\n",
       "      <td>NaN</td>\n",
       "      <td>1</td>\n",
       "      <td>NaN</td>\n",
       "      <td>...</td>\n",
       "      <td>8</td>\n",
       "      <td>NaN</td>\n",
       "      <td>0</td>\n",
       "      <td>7</td>\n",
       "      <td>NaN</td>\n",
       "      <td>1984</td>\n",
       "      <td>1000000000$</td>\n",
       "      <td>NaN</td>\n",
       "      <td>NaN</td>\n",
       "      <td>Yes</td>\n",
       "    </tr>\n",
       "    <tr>\n",
       "      <th>1612</th>\n",
       "      <td>36</td>\n",
       "      <td>No</td>\n",
       "      <td>non-travel</td>\n",
       "      <td>1229,0$</td>\n",
       "      <td>NaN</td>\n",
       "      <td>8</td>\n",
       "      <td>4</td>\n",
       "      <td>Technical Degree</td>\n",
       "      <td>1</td>\n",
       "      <td>990,0</td>\n",
       "      <td>...</td>\n",
       "      <td>7</td>\n",
       "      <td>NaN</td>\n",
       "      <td>0</td>\n",
       "      <td>7</td>\n",
       "      <td>NaN</td>\n",
       "      <td>1987</td>\n",
       "      <td>1000000000$</td>\n",
       "      <td>NaN</td>\n",
       "      <td>NaN</td>\n",
       "      <td>True</td>\n",
       "    </tr>\n",
       "    <tr>\n",
       "      <th>1613</th>\n",
       "      <td>46</td>\n",
       "      <td>No</td>\n",
       "      <td>NaN</td>\n",
       "      <td>566,0$</td>\n",
       "      <td>NaN</td>\n",
       "      <td>7</td>\n",
       "      <td>2</td>\n",
       "      <td>Medical</td>\n",
       "      <td>1</td>\n",
       "      <td>NaN</td>\n",
       "      <td>...</td>\n",
       "      <td>8</td>\n",
       "      <td>NaN</td>\n",
       "      <td>0</td>\n",
       "      <td>7</td>\n",
       "      <td>10845,0</td>\n",
       "      <td>1977</td>\n",
       "      <td>1000000000$</td>\n",
       "      <td>NaN</td>\n",
       "      <td>NaN</td>\n",
       "      <td>0</td>\n",
       "    </tr>\n",
       "  </tbody>\n",
       "</table>\n",
       "<p>1614 rows × 41 columns</p>\n",
       "</div>"
      ],
      "text/plain": [
       "     Age Attrition BusinessTravel DailyRate                Department  \\\n",
       "0     51        No            NaN    684,0$                       NaN   \n",
       "1     52        No            NaN    699,0$                       NaN   \n",
       "2     42        No  travel_rarely    532,0$   Research & Development    \n",
       "3     47        No  travel_rarely    359,0$                       NaN   \n",
       "4     46        No            NaN   1319,0$                       NaN   \n",
       "...   ..       ...            ...       ...                       ...   \n",
       "1609  36       Yes  travel_rarely    530,0$                       NaN   \n",
       "1610  45        No     non-travel    805,0$                       NaN   \n",
       "1611  39        No  travel_rarely    903,0$                       NaN   \n",
       "1612  36        No     non-travel   1229,0$                       NaN   \n",
       "1613  46        No            NaN    566,0$                       NaN   \n",
       "\n",
       "      DistanceFromHome  Education    EducationField  employeecount  \\\n",
       "0                    6          3               NaN              1   \n",
       "1                    1          4     Life Sciences              1   \n",
       "2                    4          2  Technical Degree              1   \n",
       "3                    2          4           Medical              1   \n",
       "4                    3          3  Technical Degree              1   \n",
       "...                ...        ...               ...            ...   \n",
       "1609                 3          1     Life Sciences              1   \n",
       "1610                 4          2               NaN              1   \n",
       "1611               -13          5               NaN              1   \n",
       "1612                 8          4  Technical Degree              1   \n",
       "1613                 7          2           Medical              1   \n",
       "\n",
       "     employeenumber  ...  YearsAtCompany  YearsInCurrentRole  \\\n",
       "0             162,0  ...              20                 NaN   \n",
       "1             259,0  ...              33                 NaN   \n",
       "2             319,0  ...              22                 NaN   \n",
       "3               NaN  ...              20                 NaN   \n",
       "4               NaN  ...              19                 NaN   \n",
       "...             ...  ...             ...                 ...   \n",
       "1609          967,0  ...              16                 NaN   \n",
       "1610          972,0  ...               9                 NaN   \n",
       "1611            NaN  ...               8                 NaN   \n",
       "1612          990,0  ...               7                 NaN   \n",
       "1613            NaN  ...               8                 NaN   \n",
       "\n",
       "     YearsSinceLastPromotion  YEARSWITHCURRMANAGER  SameAsMonthlyIncome  \\\n",
       "0                         15                    15              19537,0   \n",
       "1                         11                     9              19999,0   \n",
       "2                         11                    15              19232,0   \n",
       "3                          5                     6              17169,0   \n",
       "4                          2                     8                  NaN   \n",
       "...                      ...                   ...                  ...   \n",
       "1609                       3                     7              10325,0   \n",
       "1610                       0                     8               4447,0   \n",
       "1611                       0                     7                  NaN   \n",
       "1612                       0                     7                  NaN   \n",
       "1613                       0                     7              10845,0   \n",
       "\n",
       "     DateBirth       Salary                       RoleDepartament  \\\n",
       "0         1972  1000000000$                                   NaN   \n",
       "1         1971  1000000000$                                   NaN   \n",
       "2         1981  1000000000$   ManaGER  -  Research & Development    \n",
       "3         1976  1000000000$                                   NaN   \n",
       "4         1977  1000000000$                                   NaN   \n",
       "...        ...          ...                                   ...   \n",
       "1609      1987  1000000000$                                   NaN   \n",
       "1610      1978  1000000000$                                   NaN   \n",
       "1611      1984  1000000000$                                   NaN   \n",
       "1612      1987  1000000000$                                   NaN   \n",
       "1613      1977  1000000000$                                   NaN   \n",
       "\n",
       "     NUMBERCHILDREN  RemoteWork  \n",
       "0               NaN         Yes  \n",
       "1               NaN           1  \n",
       "2               NaN           1  \n",
       "3               NaN       False  \n",
       "4               NaN           0  \n",
       "...             ...         ...  \n",
       "1609            NaN           0  \n",
       "1610            NaN           1  \n",
       "1611            NaN         Yes  \n",
       "1612            NaN        True  \n",
       "1613            NaN           0  \n",
       "\n",
       "[1614 rows x 41 columns]"
      ]
     },
     "execution_count": 3,
     "metadata": {},
     "output_type": "execute_result"
    }
   ],
   "source": [
    "df_ejemplo=pd.read_csv(\"HR RAW DATA.csv\",index_col=0)\n",
    "df_ejemplo"
   ]
  },
  {
   "cell_type": "markdown",
   "metadata": {},
   "source": [
    "Columna \"AGE\"\n",
    "\n",
    "1. 0 nulos\n",
    "2. En primera instancia la columna era \"object\" pero una vez aplicada la función para convertirlo todo a int podremos usar el método discribe() para que nos muestre los estadísticos y sepamos cuál es la edad mínima entre otros. Ésto nos permitirá eliminar la columna \"Over18\"\n"
   ]
  },
  {
   "cell_type": "code",
   "execution_count": 3,
   "metadata": {},
   "outputs": [
    {
     "ename": "ModuleNotFoundError",
     "evalue": "No module named 'word2number'",
     "output_type": "error",
     "traceback": [
      "\u001b[0;31m---------------------------------------------------------------------------\u001b[0m",
      "\u001b[0;31mModuleNotFoundError\u001b[0m                       Traceback (most recent call last)",
      "\u001b[0;32m/var/folders/fy/lv_7fpvj1v5grf8t28cz_4nw0000gn/T/ipykernel_19422/1451461272.py\u001b[0m in \u001b[0;36m<module>\u001b[0;34m\u001b[0m\n\u001b[0;32m----> 1\u001b[0;31m \u001b[0;32mfrom\u001b[0m \u001b[0mword2number\u001b[0m \u001b[0;32mimport\u001b[0m \u001b[0mw2n\u001b[0m\u001b[0;34m\u001b[0m\u001b[0;34m\u001b[0m\u001b[0m\n\u001b[0m\u001b[1;32m      2\u001b[0m \u001b[0;31m#word2numbers es una biblioteca que permite convertir\u001b[0m\u001b[0;34m\u001b[0m\u001b[0;34m\u001b[0m\u001b[0m\n\u001b[1;32m      3\u001b[0m \u001b[0;31m# palabras que representan números en sus equivalentes numéricos.\u001b[0m\u001b[0;34m\u001b[0m\u001b[0;34m\u001b[0m\u001b[0m\n\u001b[1;32m      4\u001b[0m \u001b[0;31m# w2n es una función dentro de esta biblioteca que permite hacer este cambio:\u001b[0m\u001b[0;34m\u001b[0m\u001b[0;34m\u001b[0m\u001b[0m\n\u001b[1;32m      5\u001b[0m \u001b[0;31m# w2n.word_to_num()\u001b[0m\u001b[0;34m\u001b[0m\u001b[0;34m\u001b[0m\u001b[0m\n",
      "\u001b[0;31mModuleNotFoundError\u001b[0m: No module named 'word2number'"
     ]
    }
   ],
   "source": [
    "from word2number import w2n\n",
    "#word2numbers es una biblioteca que permite convertir\n",
    "# palabras que representan números en sus equivalentes numéricos. \n",
    "# w2n es una función dentro de esta biblioteca que permite hacer este cambio:\n",
    "# w2n.word_to_num()\n",
    "\n",
    "\n",
    "def convertir_a_numero(valor):\n",
    "    if isinstance(valor, int): # Verifica si el valor ya es un entero, si lo es no hace nada\n",
    "        return valor\n",
    "    elif isinstance(valor, str): # Intenta convertir el valor a número\n",
    "        try: \n",
    "            numero = int(valor)\n",
    "            return numero\n",
    "        except ValueError:\n",
    "            try: # aquí es donde se usa la función w2n en el try pq si la conversion falla entonces se usará\n",
    "                numero = w2n.word_to_num(valor)\n",
    "                return numero\n",
    "            except ValueError:\n",
    "                print(f\"Error: No se pudo convertir '{valor}' a número.\")\n",
    "                return None\n",
    "    else:\n",
    "        print(f\"Error: Tipo de dato no soportado para el valor '{valor}'.\")\n",
    "        return None\n",
    "\n"
   ]
  },
  {
   "cell_type": "code",
   "execution_count": 4,
   "metadata": {},
   "outputs": [
    {
     "ename": "NameError",
     "evalue": "name 'convertir_a_numero' is not defined",
     "output_type": "error",
     "traceback": [
      "\u001b[0;31m---------------------------------------------------------------------------\u001b[0m",
      "\u001b[0;31mNameError\u001b[0m                                 Traceback (most recent call last)",
      "\u001b[0;32m/var/folders/fy/lv_7fpvj1v5grf8t28cz_4nw0000gn/T/ipykernel_19422/479696417.py\u001b[0m in \u001b[0;36m<module>\u001b[0;34m\u001b[0m\n\u001b[0;32m----> 1\u001b[0;31m \u001b[0mdf_ejemplo\u001b[0m\u001b[0;34m[\u001b[0m\u001b[0;34m'Age'\u001b[0m\u001b[0;34m]\u001b[0m \u001b[0;34m=\u001b[0m \u001b[0mdf_ejemplo\u001b[0m\u001b[0;34m[\u001b[0m\u001b[0;34m'Age'\u001b[0m\u001b[0;34m]\u001b[0m\u001b[0;34m.\u001b[0m\u001b[0mapply\u001b[0m\u001b[0;34m(\u001b[0m\u001b[0mconvertir_a_numero\u001b[0m\u001b[0;34m)\u001b[0m \u001b[0;31m#llamamos a la función\u001b[0m\u001b[0;34m\u001b[0m\u001b[0;34m\u001b[0m\u001b[0m\n\u001b[0m\u001b[1;32m      2\u001b[0m \u001b[0mdf_ejemplo\u001b[0m\u001b[0;34m\u001b[0m\u001b[0;34m\u001b[0m\u001b[0m\n",
      "\u001b[0;31mNameError\u001b[0m: name 'convertir_a_numero' is not defined"
     ]
    }
   ],
   "source": [
    "df_ejemplo['Age'] = df_ejemplo['Age'].apply(convertir_a_numero) #llamamos a la función\n",
    "df_ejemplo\n"
   ]
  },
  {
   "cell_type": "code",
   "execution_count": 5,
   "metadata": {},
   "outputs": [
    {
     "data": {
      "text/plain": [
       "count     1614\n",
       "unique      54\n",
       "top         35\n",
       "freq        84\n",
       "Name: Age, dtype: object"
      ]
     },
     "execution_count": 5,
     "metadata": {},
     "output_type": "execute_result"
    }
   ],
   "source": [
    "df_ejemplo[\"Age\"].describe()"
   ]
  },
  {
   "cell_type": "markdown",
   "metadata": {},
   "source": [
    "Columna \"Attrition\" \n",
    "1. No hay nulos y solo hay yes o no.\n",
    "2. Más adelante veremos cómo trabajarla."
   ]
  },
  {
   "cell_type": "code",
   "execution_count": null,
   "metadata": {},
   "outputs": [],
   "source": []
  },
  {
   "cell_type": "markdown",
   "metadata": {},
   "source": [
    "Columna \"Business travel\"\n",
    "\n",
    "1. preguntar si los que son NaN es pq no viajan \n",
    "2. Qué  % de NaN es relevante para poder eliminar esta columna? Tenemos varios NaN"
   ]
  },
  {
   "cell_type": "code",
   "execution_count": 6,
   "metadata": {},
   "outputs": [
    {
     "data": {
      "text/plain": [
       "array([nan, 'travel_rarely', 'travel_frequently', 'non-travel'],\n",
       "      dtype=object)"
      ]
     },
     "execution_count": 6,
     "metadata": {},
     "output_type": "execute_result"
    }
   ],
   "source": [
    "df_ejemplo[\"BusinessTravel\"].unique()"
   ]
  },
  {
   "cell_type": "markdown",
   "metadata": {},
   "source": [
    "Columna \"DailyRate\""
   ]
  },
  {
   "cell_type": "code",
   "execution_count": 7,
   "metadata": {},
   "outputs": [
    {
     "data": {
      "text/plain": [
       "0        684,0$\n",
       "1        699,0$\n",
       "2        532,0$\n",
       "3        359,0$\n",
       "4       1319,0$\n",
       "         ...   \n",
       "1609     530,0$\n",
       "1610     805,0$\n",
       "1611     903,0$\n",
       "1612    1229,0$\n",
       "1613     566,0$\n",
       "Name: DailyRate, Length: 1614, dtype: object"
      ]
     },
     "execution_count": 7,
     "metadata": {},
     "output_type": "execute_result"
    }
   ],
   "source": [
    "df_ejemplo[\"DailyRate\"] #aquí hemos mirado la info para la columna"
   ]
  },
  {
   "cell_type": "code",
   "execution_count": 8,
   "metadata": {},
   "outputs": [
    {
     "data": {
      "text/plain": [
       "0"
      ]
     },
     "execution_count": 8,
     "metadata": {},
     "output_type": "execute_result"
    }
   ],
   "source": [
    "df_ejemplo[\"DailyRate\"].isnull().sum()#comprobado si había nulos"
   ]
  },
  {
   "cell_type": "code",
   "execution_count": 9,
   "metadata": {},
   "outputs": [
    {
     "data": {
      "text/html": [
       "<div>\n",
       "<style scoped>\n",
       "    .dataframe tbody tr th:only-of-type {\n",
       "        vertical-align: middle;\n",
       "    }\n",
       "\n",
       "    .dataframe tbody tr th {\n",
       "        vertical-align: top;\n",
       "    }\n",
       "\n",
       "    .dataframe thead th {\n",
       "        text-align: right;\n",
       "    }\n",
       "</style>\n",
       "<table border=\"1\" class=\"dataframe\">\n",
       "  <thead>\n",
       "    <tr style=\"text-align: right;\">\n",
       "      <th></th>\n",
       "      <th>Age</th>\n",
       "      <th>Attrition</th>\n",
       "      <th>BusinessTravel</th>\n",
       "      <th>DailyRate</th>\n",
       "      <th>Department</th>\n",
       "      <th>DistanceFromHome</th>\n",
       "      <th>Education</th>\n",
       "      <th>EducationField</th>\n",
       "      <th>employeecount</th>\n",
       "      <th>employeenumber</th>\n",
       "      <th>...</th>\n",
       "      <th>YearsAtCompany</th>\n",
       "      <th>YearsInCurrentRole</th>\n",
       "      <th>YearsSinceLastPromotion</th>\n",
       "      <th>YEARSWITHCURRMANAGER</th>\n",
       "      <th>SameAsMonthlyIncome</th>\n",
       "      <th>DateBirth</th>\n",
       "      <th>Salary</th>\n",
       "      <th>RoleDepartament</th>\n",
       "      <th>NUMBERCHILDREN</th>\n",
       "      <th>RemoteWork</th>\n",
       "    </tr>\n",
       "  </thead>\n",
       "  <tbody>\n",
       "    <tr>\n",
       "      <th>29</th>\n",
       "      <td>34</td>\n",
       "      <td>No</td>\n",
       "      <td>non-travel</td>\n",
       "      <td>nan$</td>\n",
       "      <td>Sales</td>\n",
       "      <td>10</td>\n",
       "      <td>3</td>\n",
       "      <td>Life Sciences</td>\n",
       "      <td>1</td>\n",
       "      <td>1774,0</td>\n",
       "      <td>...</td>\n",
       "      <td>15</td>\n",
       "      <td>NaN</td>\n",
       "      <td>0</td>\n",
       "      <td>7</td>\n",
       "      <td>4001,0</td>\n",
       "      <td>1989</td>\n",
       "      <td>1000000000$</td>\n",
       "      <td>saLEs exEcutIVe  -  Sales</td>\n",
       "      <td>NaN</td>\n",
       "      <td>1</td>\n",
       "    </tr>\n",
       "  </tbody>\n",
       "</table>\n",
       "<p>1 rows × 41 columns</p>\n",
       "</div>"
      ],
      "text/plain": [
       "   Age Attrition BusinessTravel DailyRate Department  DistanceFromHome  \\\n",
       "29  34        No     non-travel      nan$     Sales                 10   \n",
       "\n",
       "    Education EducationField  employeecount employeenumber  ...  \\\n",
       "29          3  Life Sciences              1         1774,0  ...   \n",
       "\n",
       "    YearsAtCompany  YearsInCurrentRole YearsSinceLastPromotion  \\\n",
       "29              15                 NaN                       0   \n",
       "\n",
       "    YEARSWITHCURRMANAGER  SameAsMonthlyIncome DateBirth       Salary  \\\n",
       "29                     7               4001,0      1989  1000000000$   \n",
       "\n",
       "                RoleDepartament NUMBERCHILDREN  RemoteWork  \n",
       "29   saLEs exEcutIVe  -  Sales             NaN           1  \n",
       "\n",
       "[1 rows x 41 columns]"
      ]
     },
     "execution_count": 9,
     "metadata": {},
     "output_type": "execute_result"
    }
   ],
   "source": [
    "df_ejemplo.iloc[29:30,:]# hemos identificado un nulo para hacer el test"
   ]
  },
  {
   "cell_type": "code",
   "execution_count": 10,
   "metadata": {},
   "outputs": [],
   "source": [
    "df_ejemplo['DailyRate'] =(df_ejemplo['DailyRate'].str.replace('$', '').str.replace(',', '.')) # hemos sacado la unidad de moneda y la coma por punto\n"
   ]
  },
  {
   "cell_type": "code",
   "execution_count": 11,
   "metadata": {},
   "outputs": [],
   "source": [
    "import numpy as np"
   ]
  },
  {
   "cell_type": "code",
   "execution_count": 12,
   "metadata": {},
   "outputs": [],
   "source": [
    "for i in df_ejemplo[\"DailyRate\"]: # hacemos un loop y try except para que nos convierta el object a float, teniendo en cuenta los \"nan\"(Str) y convertirlos en NaN para que no haya problemas en el momento de medias,etc.\n",
    "    try:\n",
    "        df_ejemplo[\"DailyRate\"]=pd.to_numeric(df_ejemplo['DailyRate']).astype(float)\n",
    "    except:\n",
    "        df_ejemplo[\"DailyRate\"].replace([i],[np.nan],inplace=True)\n",
    "   "
   ]
  },
  {
   "cell_type": "code",
   "execution_count": 13,
   "metadata": {},
   "outputs": [
    {
     "data": {
      "text/html": [
       "<div>\n",
       "<style scoped>\n",
       "    .dataframe tbody tr th:only-of-type {\n",
       "        vertical-align: middle;\n",
       "    }\n",
       "\n",
       "    .dataframe tbody tr th {\n",
       "        vertical-align: top;\n",
       "    }\n",
       "\n",
       "    .dataframe thead th {\n",
       "        text-align: right;\n",
       "    }\n",
       "</style>\n",
       "<table border=\"1\" class=\"dataframe\">\n",
       "  <thead>\n",
       "    <tr style=\"text-align: right;\">\n",
       "      <th></th>\n",
       "      <th>Age</th>\n",
       "      <th>Attrition</th>\n",
       "      <th>BusinessTravel</th>\n",
       "      <th>DailyRate</th>\n",
       "      <th>Department</th>\n",
       "      <th>DistanceFromHome</th>\n",
       "      <th>Education</th>\n",
       "      <th>EducationField</th>\n",
       "      <th>employeecount</th>\n",
       "      <th>employeenumber</th>\n",
       "      <th>...</th>\n",
       "      <th>YearsAtCompany</th>\n",
       "      <th>YearsInCurrentRole</th>\n",
       "      <th>YearsSinceLastPromotion</th>\n",
       "      <th>YEARSWITHCURRMANAGER</th>\n",
       "      <th>SameAsMonthlyIncome</th>\n",
       "      <th>DateBirth</th>\n",
       "      <th>Salary</th>\n",
       "      <th>RoleDepartament</th>\n",
       "      <th>NUMBERCHILDREN</th>\n",
       "      <th>RemoteWork</th>\n",
       "    </tr>\n",
       "  </thead>\n",
       "  <tbody>\n",
       "    <tr>\n",
       "      <th>29</th>\n",
       "      <td>34</td>\n",
       "      <td>No</td>\n",
       "      <td>non-travel</td>\n",
       "      <td>NaN</td>\n",
       "      <td>Sales</td>\n",
       "      <td>10</td>\n",
       "      <td>3</td>\n",
       "      <td>Life Sciences</td>\n",
       "      <td>1</td>\n",
       "      <td>1774,0</td>\n",
       "      <td>...</td>\n",
       "      <td>15</td>\n",
       "      <td>NaN</td>\n",
       "      <td>0</td>\n",
       "      <td>7</td>\n",
       "      <td>4001,0</td>\n",
       "      <td>1989</td>\n",
       "      <td>1000000000$</td>\n",
       "      <td>saLEs exEcutIVe  -  Sales</td>\n",
       "      <td>NaN</td>\n",
       "      <td>1</td>\n",
       "    </tr>\n",
       "  </tbody>\n",
       "</table>\n",
       "<p>1 rows × 41 columns</p>\n",
       "</div>"
      ],
      "text/plain": [
       "   Age Attrition BusinessTravel  DailyRate Department  DistanceFromHome  \\\n",
       "29  34        No     non-travel        NaN     Sales                 10   \n",
       "\n",
       "    Education EducationField  employeecount employeenumber  ...  \\\n",
       "29          3  Life Sciences              1         1774,0  ...   \n",
       "\n",
       "    YearsAtCompany  YearsInCurrentRole YearsSinceLastPromotion  \\\n",
       "29              15                 NaN                       0   \n",
       "\n",
       "    YEARSWITHCURRMANAGER  SameAsMonthlyIncome DateBirth       Salary  \\\n",
       "29                     7               4001,0      1989  1000000000$   \n",
       "\n",
       "                RoleDepartament NUMBERCHILDREN  RemoteWork  \n",
       "29   saLEs exEcutIVe  -  Sales             NaN           1  \n",
       "\n",
       "[1 rows x 41 columns]"
      ]
     },
     "execution_count": 13,
     "metadata": {},
     "output_type": "execute_result"
    }
   ],
   "source": [
    "df_ejemplo.iloc[29:30,:] #testeamos"
   ]
  },
  {
   "cell_type": "code",
   "execution_count": 14,
   "metadata": {},
   "outputs": [
    {
     "data": {
      "text/plain": [
       "count    1427.000000\n",
       "mean      805.413455\n",
       "std       402.080266\n",
       "min       103.000000\n",
       "25%       469.500000\n",
       "50%       805.000000\n",
       "75%      1157.000000\n",
       "max      1499.000000\n",
       "Name: DailyRate, dtype: float64"
      ]
     },
     "execution_count": 14,
     "metadata": {},
     "output_type": "execute_result"
    }
   ],
   "source": [
    "df_ejemplo[\"DailyRate\"].describe() # para ver los valores estadísticos"
   ]
  },
  {
   "cell_type": "markdown",
   "metadata": {},
   "source": [
    "Columna \"Department\""
   ]
  },
  {
   "cell_type": "code",
   "execution_count": 15,
   "metadata": {},
   "outputs": [
    {
     "data": {
      "text/plain": [
       "0.81"
      ]
     },
     "execution_count": 15,
     "metadata": {},
     "output_type": "execute_result"
    }
   ],
   "source": [
    "round(df_ejemplo[\"Department\"].isnull().sum()/df_ejemplo.shape[0],2)#porcentaje de nulos en la columna. Muy elevado a preguntar si vale la pena mantenerla."
   ]
  },
  {
   "cell_type": "markdown",
   "metadata": {},
   "source": [
    "Columna \"DistanceFromHome\""
   ]
  },
  {
   "cell_type": "code",
   "execution_count": 16,
   "metadata": {},
   "outputs": [
    {
     "data": {
      "text/plain": [
       "0        6\n",
       "1        1\n",
       "2        4\n",
       "3        2\n",
       "4        3\n",
       "        ..\n",
       "1609     3\n",
       "1610     4\n",
       "1611    13\n",
       "1612     8\n",
       "1613     7\n",
       "Name: DistanceFromHome, Length: 1614, dtype: int64"
      ]
     },
     "execution_count": 16,
     "metadata": {},
     "output_type": "execute_result"
    }
   ],
   "source": [
    "df_ejemplo['DistanceFromHome'] = df_ejemplo['DistanceFromHome'].abs() # pasamos los integers de negativos a positivos usando la función abs() \n",
    "                                                                        #de panda que calcula el valor absoluto de los integers\n",
    "\n",
    "df_ejemplo['DistanceFromHome']"
   ]
  },
  {
   "cell_type": "markdown",
   "metadata": {},
   "source": [
    "_______"
   ]
  },
  {
   "cell_type": "markdown",
   "metadata": {},
   "source": [
    "COLUMNA 7: Education. Nivel de educación del empleado (generalmente en una escala del 1 al 5).\n",
    "\n",
    "- ¿A qué corresponde cada número del Nivel Educativo?\n",
    "    - A lo mejor se debía cambiar por: Estduios básicos - medios , superiores, etc. - > Más comprensible\n",
    "- Está en float. Debería estar a int? (lo paso debajo)\n",
    "- No tiene nulos"
   ]
  },
  {
   "cell_type": "code",
   "execution_count": 17,
   "metadata": {},
   "outputs": [
    {
     "data": {
      "text/plain": [
       "count    1614.000000\n",
       "mean        2.925031\n",
       "std         1.022357\n",
       "min         1.000000\n",
       "25%         2.000000\n",
       "50%         3.000000\n",
       "75%         4.000000\n",
       "max         5.000000\n",
       "Name: Education, dtype: float64"
      ]
     },
     "execution_count": 17,
     "metadata": {},
     "output_type": "execute_result"
    }
   ],
   "source": [
    "df_ejemplo[\"Education\"].describe()"
   ]
  },
  {
   "cell_type": "code",
   "execution_count": 18,
   "metadata": {},
   "outputs": [
    {
     "data": {
      "text/plain": [
       "0"
      ]
     },
     "execution_count": 18,
     "metadata": {},
     "output_type": "execute_result"
    }
   ],
   "source": [
    "df_ejemplo[\"Education\"].isnull().sum()"
   ]
  },
  {
   "cell_type": "code",
   "execution_count": 19,
   "metadata": {},
   "outputs": [
    {
     "data": {
      "text/plain": [
       "Education\n",
       "3    621\n",
       "4    445\n",
       "2    314\n",
       "1    180\n",
       "5     54\n",
       "Name: count, dtype: int64"
      ]
     },
     "execution_count": 19,
     "metadata": {},
     "output_type": "execute_result"
    }
   ],
   "source": [
    "df_ejemplo[\"Education\"].value_counts()\n",
    "# puede ser interesante para ver que hay más gente de nivel de estudios 3 (suponemos medio?) que de nivel 5, qu es el que hay menos (igual es máster o doctorado?)"
   ]
  },
  {
   "cell_type": "code",
   "execution_count": 20,
   "metadata": {},
   "outputs": [],
   "source": [
    "# media_edad_por_educacion = df.groupby('Education')['Age'].mean()\n",
    "# aplicar cuando tenga la columna edad todo int "
   ]
  },
  {
   "cell_type": "code",
   "execution_count": 21,
   "metadata": {},
   "outputs": [
    {
     "data": {
      "text/plain": [
       "0       3\n",
       "1       4\n",
       "2       2\n",
       "3       4\n",
       "4       3\n",
       "       ..\n",
       "1609    1\n",
       "1610    2\n",
       "1611    5\n",
       "1612    4\n",
       "1613    2\n",
       "Name: Education, Length: 1614, dtype: int64"
      ]
     },
     "execution_count": 21,
     "metadata": {},
     "output_type": "execute_result"
    }
   ],
   "source": [
    "# Para pasar de float a int:\n",
    "df_ejemplo['Education'] = df_ejemplo['Education'].astype(int)\n",
    "df_ejemplo['Education']"
   ]
  },
  {
   "cell_type": "code",
   "execution_count": 22,
   "metadata": {},
   "outputs": [
    {
     "data": {
      "text/plain": [
       "count    1614.000000\n",
       "mean        2.925031\n",
       "std         1.022357\n",
       "min         1.000000\n",
       "25%         2.000000\n",
       "50%         3.000000\n",
       "75%         4.000000\n",
       "max         5.000000\n",
       "Name: Education, dtype: float64"
      ]
     },
     "execution_count": 22,
     "metadata": {},
     "output_type": "execute_result"
    }
   ],
   "source": [
    "df_ejemplo['Education'].describe()"
   ]
  },
  {
   "cell_type": "markdown",
   "metadata": {},
   "source": [
    "___"
   ]
  },
  {
   "cell_type": "markdown",
   "metadata": {},
   "source": [
    "COLUMNA 8. EducationField: El campo de educación del empleado.\n",
    "\n",
    "- Hay 745 nulos de un total de 1614 registros -> mirar como gestionar éstos nulos\n",
    "    - Añadirlos a la categoria \"other\"? (prueba abajo en #)\n",
    "\n",
    "-  Podemos ver que un alto porcentaje de la platilla viene de la rama de ciencias "
   ]
  },
  {
   "cell_type": "code",
   "execution_count": 23,
   "metadata": {},
   "outputs": [
    {
     "data": {
      "text/plain": [
       "count               869\n",
       "unique                6\n",
       "top       Life Sciences\n",
       "freq                349\n",
       "Name: EducationField, dtype: object"
      ]
     },
     "execution_count": 23,
     "metadata": {},
     "output_type": "execute_result"
    }
   ],
   "source": [
    "df_ejemplo[\"EducationField\"].describe()"
   ]
  },
  {
   "cell_type": "code",
   "execution_count": 24,
   "metadata": {},
   "outputs": [
    {
     "data": {
      "text/plain": [
       "745"
      ]
     },
     "execution_count": 24,
     "metadata": {},
     "output_type": "execute_result"
    }
   ],
   "source": [
    "df_ejemplo[\"EducationField\"].isnull().sum()"
   ]
  },
  {
   "cell_type": "code",
   "execution_count": 25,
   "metadata": {},
   "outputs": [
    {
     "data": {
      "text/plain": [
       "0                    NaN\n",
       "1          Life Sciences\n",
       "2       Technical Degree\n",
       "3                Medical\n",
       "4       Technical Degree\n",
       "              ...       \n",
       "1609       Life Sciences\n",
       "1610                 NaN\n",
       "1611                 NaN\n",
       "1612    Technical Degree\n",
       "1613             Medical\n",
       "Name: EducationField, Length: 1614, dtype: object"
      ]
     },
     "execution_count": 25,
     "metadata": {},
     "output_type": "execute_result"
    }
   ],
   "source": [
    "df_ejemplo[\"EducationField\"]"
   ]
  },
  {
   "cell_type": "code",
   "execution_count": 26,
   "metadata": {},
   "outputs": [
    {
     "data": {
      "text/plain": [
       "EducationField\n",
       "Life Sciences       349\n",
       "Medical             276\n",
       "Marketing           104\n",
       "Technical Degree     69\n",
       "Other                59\n",
       "Human Resources      12\n",
       "Name: count, dtype: int64"
      ]
     },
     "execution_count": 26,
     "metadata": {},
     "output_type": "execute_result"
    }
   ],
   "source": [
    "df_ejemplo[\"EducationField\"].value_counts()"
   ]
  },
  {
   "cell_type": "code",
   "execution_count": 27,
   "metadata": {},
   "outputs": [
    {
     "name": "stdout",
     "output_type": "stream",
     "text": [
      "Porcentaje de cada valor en 'EducationField':\n",
      "EducationField\n",
      "Life Sciences       21.623296\n",
      "Medical             17.100372\n",
      "Marketing            6.443618\n",
      "Technical Degree     4.275093\n",
      "Other                3.655514\n",
      "Human Resources      0.743494\n",
      "Name: count, dtype: float64\n"
     ]
    }
   ],
   "source": [
    "# Calculamos el porcentage de cada nivel educativo repeto el total:\n",
    "\n",
    "conteo_educacion = df_ejemplo[\"EducationField\"].value_counts()\n",
    "\n",
    "# Calcular el porcentaje\n",
    "porcentaje_educacion = conteo_educacion / len(df_ejemplo) * 100\n",
    "\n",
    "# Imprimir el resultado\n",
    "print(\"Porcentaje de cada valor en 'EducationField':\")\n",
    "print(porcentaje_educacion)\n",
    "\n",
    "# Podemos ver que un alto porcentaje de la platilla viene de la rama de ciencias "
   ]
  },
  {
   "cell_type": "code",
   "execution_count": 28,
   "metadata": {},
   "outputs": [],
   "source": [
    "# Si cambiamos los valores nulos por other:\n",
    "\n",
    "#df_ejemplo[\"EducationField\"] = df_ejemplo[\"EducationField\"].fillna(\"Other\")\n",
    "#df_ejemplo[\"EducationField\"].value_counts()"
   ]
  },
  {
   "cell_type": "markdown",
   "metadata": {},
   "source": [
    "____"
   ]
  },
  {
   "cell_type": "markdown",
   "metadata": {},
   "source": [
    "COLUMNA 9. EmployeeCount: Un contador que generalmente es 1 y se usa para contar empleados.\n",
    "- Eliminar columna por irrelevante"
   ]
  },
  {
   "cell_type": "code",
   "execution_count": 29,
   "metadata": {},
   "outputs": [],
   "source": [
    "df_ejemplo.drop(\"employeecount\", axis = 1, inplace= True)"
   ]
  },
  {
   "cell_type": "code",
   "execution_count": 30,
   "metadata": {},
   "outputs": [
    {
     "data": {
      "text/html": [
       "<div>\n",
       "<style scoped>\n",
       "    .dataframe tbody tr th:only-of-type {\n",
       "        vertical-align: middle;\n",
       "    }\n",
       "\n",
       "    .dataframe tbody tr th {\n",
       "        vertical-align: top;\n",
       "    }\n",
       "\n",
       "    .dataframe thead th {\n",
       "        text-align: right;\n",
       "    }\n",
       "</style>\n",
       "<table border=\"1\" class=\"dataframe\">\n",
       "  <thead>\n",
       "    <tr style=\"text-align: right;\">\n",
       "      <th></th>\n",
       "      <th>Age</th>\n",
       "      <th>Attrition</th>\n",
       "      <th>BusinessTravel</th>\n",
       "      <th>DailyRate</th>\n",
       "      <th>Department</th>\n",
       "      <th>DistanceFromHome</th>\n",
       "      <th>Education</th>\n",
       "      <th>EducationField</th>\n",
       "      <th>employeenumber</th>\n",
       "      <th>EnvironmentSatisfaction</th>\n",
       "      <th>...</th>\n",
       "      <th>YearsAtCompany</th>\n",
       "      <th>YearsInCurrentRole</th>\n",
       "      <th>YearsSinceLastPromotion</th>\n",
       "      <th>YEARSWITHCURRMANAGER</th>\n",
       "      <th>SameAsMonthlyIncome</th>\n",
       "      <th>DateBirth</th>\n",
       "      <th>Salary</th>\n",
       "      <th>RoleDepartament</th>\n",
       "      <th>NUMBERCHILDREN</th>\n",
       "      <th>RemoteWork</th>\n",
       "    </tr>\n",
       "  </thead>\n",
       "  <tbody>\n",
       "    <tr>\n",
       "      <th>0</th>\n",
       "      <td>51</td>\n",
       "      <td>No</td>\n",
       "      <td>NaN</td>\n",
       "      <td>NaN</td>\n",
       "      <td>NaN</td>\n",
       "      <td>6</td>\n",
       "      <td>3</td>\n",
       "      <td>NaN</td>\n",
       "      <td>162,0</td>\n",
       "      <td>1</td>\n",
       "      <td>...</td>\n",
       "      <td>20</td>\n",
       "      <td>NaN</td>\n",
       "      <td>15</td>\n",
       "      <td>15</td>\n",
       "      <td>19537,0</td>\n",
       "      <td>1972</td>\n",
       "      <td>1000000000$</td>\n",
       "      <td>NaN</td>\n",
       "      <td>NaN</td>\n",
       "      <td>Yes</td>\n",
       "    </tr>\n",
       "  </tbody>\n",
       "</table>\n",
       "<p>1 rows × 40 columns</p>\n",
       "</div>"
      ],
      "text/plain": [
       "  Age Attrition BusinessTravel  DailyRate Department  DistanceFromHome  \\\n",
       "0  51        No            NaN        NaN        NaN                 6   \n",
       "\n",
       "   Education EducationField employeenumber  EnvironmentSatisfaction  ...  \\\n",
       "0          3            NaN          162,0                        1  ...   \n",
       "\n",
       "   YearsAtCompany YearsInCurrentRole  YearsSinceLastPromotion  \\\n",
       "0              20                NaN                       15   \n",
       "\n",
       "   YEARSWITHCURRMANAGER SameAsMonthlyIncome  DateBirth       Salary  \\\n",
       "0                    15             19537,0       1972  1000000000$   \n",
       "\n",
       "  RoleDepartament  NUMBERCHILDREN  RemoteWork  \n",
       "0             NaN             NaN         Yes  \n",
       "\n",
       "[1 rows x 40 columns]"
      ]
     },
     "execution_count": 30,
     "metadata": {},
     "output_type": "execute_result"
    }
   ],
   "source": [
    "df_ejemplo.head(1)"
   ]
  },
  {
   "cell_type": "markdown",
   "metadata": {},
   "source": [
    "_____"
   ]
  },
  {
   "cell_type": "markdown",
   "metadata": {},
   "source": [
    "COLUMNA 10. EmployeeNumber: Un número de identificación único para el empleado.\n",
    "- cambiar a int? -> he intentado cambiat de float a int, pero entonces NaN se convertía en nan (str)\n",
    "- Hay 534 numeros duplicados\n",
    "    - Si es un id único, se debería borrar esta columna y hacer otra de nuevo con claves únicas por empleado.\n",
    "- NaN -> 431\n",
    "si pasamos a Mysql se puede hacer que se conviertan a Null\n",
    "\n",
    "- ver que numero están duplicados, por si hay unn empleado que sale 2 veces o si hay dos empleados distintos con el mismo employee number."
   ]
  },
  {
   "cell_type": "code",
   "execution_count": 31,
   "metadata": {},
   "outputs": [
    {
     "data": {
      "text/html": [
       "<div>\n",
       "<style scoped>\n",
       "    .dataframe tbody tr th:only-of-type {\n",
       "        vertical-align: middle;\n",
       "    }\n",
       "\n",
       "    .dataframe tbody tr th {\n",
       "        vertical-align: top;\n",
       "    }\n",
       "\n",
       "    .dataframe thead th {\n",
       "        text-align: right;\n",
       "    }\n",
       "</style>\n",
       "<table border=\"1\" class=\"dataframe\">\n",
       "  <thead>\n",
       "    <tr style=\"text-align: right;\">\n",
       "      <th></th>\n",
       "      <th>Age</th>\n",
       "      <th>Attrition</th>\n",
       "      <th>BusinessTravel</th>\n",
       "      <th>DailyRate</th>\n",
       "      <th>Department</th>\n",
       "      <th>DistanceFromHome</th>\n",
       "      <th>Education</th>\n",
       "      <th>EducationField</th>\n",
       "      <th>employeenumber</th>\n",
       "      <th>EnvironmentSatisfaction</th>\n",
       "      <th>...</th>\n",
       "      <th>YearsAtCompany</th>\n",
       "      <th>YearsInCurrentRole</th>\n",
       "      <th>YearsSinceLastPromotion</th>\n",
       "      <th>YEARSWITHCURRMANAGER</th>\n",
       "      <th>SameAsMonthlyIncome</th>\n",
       "      <th>DateBirth</th>\n",
       "      <th>Salary</th>\n",
       "      <th>RoleDepartament</th>\n",
       "      <th>NUMBERCHILDREN</th>\n",
       "      <th>RemoteWork</th>\n",
       "    </tr>\n",
       "  </thead>\n",
       "  <tbody>\n",
       "    <tr>\n",
       "      <th>1446</th>\n",
       "      <td>29</td>\n",
       "      <td>No</td>\n",
       "      <td>NaN</td>\n",
       "      <td>726.0</td>\n",
       "      <td>NaN</td>\n",
       "      <td>29</td>\n",
       "      <td>1</td>\n",
       "      <td>Life Sciences</td>\n",
       "      <td>NaN</td>\n",
       "      <td>4</td>\n",
       "      <td>...</td>\n",
       "      <td>7</td>\n",
       "      <td>NaN</td>\n",
       "      <td>1</td>\n",
       "      <td>6</td>\n",
       "      <td>NaN</td>\n",
       "      <td>1994</td>\n",
       "      <td>1000000000$</td>\n",
       "      <td>NaN</td>\n",
       "      <td>NaN</td>\n",
       "      <td>0</td>\n",
       "    </tr>\n",
       "    <tr>\n",
       "      <th>1517</th>\n",
       "      <td>47</td>\n",
       "      <td>No</td>\n",
       "      <td>travel_rarely</td>\n",
       "      <td>1482.0</td>\n",
       "      <td>NaN</td>\n",
       "      <td>5</td>\n",
       "      <td>5</td>\n",
       "      <td>NaN</td>\n",
       "      <td>447,0</td>\n",
       "      <td>4</td>\n",
       "      <td>...</td>\n",
       "      <td>3</td>\n",
       "      <td>NaN</td>\n",
       "      <td>1</td>\n",
       "      <td>1</td>\n",
       "      <td>NaN</td>\n",
       "      <td>1976</td>\n",
       "      <td>1000000000$</td>\n",
       "      <td>NaN</td>\n",
       "      <td>NaN</td>\n",
       "      <td>1</td>\n",
       "    </tr>\n",
       "    <tr>\n",
       "      <th>352</th>\n",
       "      <td>38</td>\n",
       "      <td>No</td>\n",
       "      <td>NaN</td>\n",
       "      <td>240.0</td>\n",
       "      <td>NaN</td>\n",
       "      <td>2</td>\n",
       "      <td>4</td>\n",
       "      <td>Life Sciences</td>\n",
       "      <td>803,0</td>\n",
       "      <td>1</td>\n",
       "      <td>...</td>\n",
       "      <td>15</td>\n",
       "      <td>NaN</td>\n",
       "      <td>4</td>\n",
       "      <td>12</td>\n",
       "      <td>5980,0</td>\n",
       "      <td>1985</td>\n",
       "      <td>1000000000$</td>\n",
       "      <td>NaN</td>\n",
       "      <td>NaN</td>\n",
       "      <td>True</td>\n",
       "    </tr>\n",
       "    <tr>\n",
       "      <th>929</th>\n",
       "      <td>24</td>\n",
       "      <td>Yes</td>\n",
       "      <td>travel_rarely</td>\n",
       "      <td>693.0</td>\n",
       "      <td>NaN</td>\n",
       "      <td>3</td>\n",
       "      <td>2</td>\n",
       "      <td>Life Sciences</td>\n",
       "      <td>NaN</td>\n",
       "      <td>1</td>\n",
       "      <td>...</td>\n",
       "      <td>2</td>\n",
       "      <td>NaN</td>\n",
       "      <td>2</td>\n",
       "      <td>0</td>\n",
       "      <td>4577,0</td>\n",
       "      <td>1999</td>\n",
       "      <td>1000000000$</td>\n",
       "      <td>NaN</td>\n",
       "      <td>NaN</td>\n",
       "      <td>Yes</td>\n",
       "    </tr>\n",
       "  </tbody>\n",
       "</table>\n",
       "<p>4 rows × 40 columns</p>\n",
       "</div>"
      ],
      "text/plain": [
       "     Age Attrition BusinessTravel  DailyRate Department  DistanceFromHome  \\\n",
       "1446  29        No            NaN      726.0        NaN                29   \n",
       "1517  47        No  travel_rarely     1482.0        NaN                 5   \n",
       "352   38        No            NaN      240.0        NaN                 2   \n",
       "929   24       Yes  travel_rarely      693.0        NaN                 3   \n",
       "\n",
       "      Education EducationField employeenumber  EnvironmentSatisfaction  ...  \\\n",
       "1446          1  Life Sciences            NaN                        4  ...   \n",
       "1517          5            NaN          447,0                        4  ...   \n",
       "352           4  Life Sciences          803,0                        1  ...   \n",
       "929           2  Life Sciences            NaN                        1  ...   \n",
       "\n",
       "      YearsAtCompany YearsInCurrentRole  YearsSinceLastPromotion  \\\n",
       "1446               7                NaN                        1   \n",
       "1517               3                NaN                        1   \n",
       "352               15                NaN                        4   \n",
       "929                2                NaN                        2   \n",
       "\n",
       "      YEARSWITHCURRMANAGER SameAsMonthlyIncome  DateBirth       Salary  \\\n",
       "1446                     6                 NaN       1994  1000000000$   \n",
       "1517                     1                 NaN       1976  1000000000$   \n",
       "352                     12              5980,0       1985  1000000000$   \n",
       "929                      0              4577,0       1999  1000000000$   \n",
       "\n",
       "     RoleDepartament  NUMBERCHILDREN  RemoteWork  \n",
       "1446             NaN             NaN           0  \n",
       "1517             NaN             NaN           1  \n",
       "352              NaN             NaN        True  \n",
       "929              NaN             NaN         Yes  \n",
       "\n",
       "[4 rows x 40 columns]"
      ]
     },
     "execution_count": 31,
     "metadata": {},
     "output_type": "execute_result"
    }
   ],
   "source": [
    "df_ejemplo.sample(4)"
   ]
  },
  {
   "cell_type": "code",
   "execution_count": 32,
   "metadata": {},
   "outputs": [
    {
     "data": {
      "text/plain": [
       "0       162.0\n",
       "1       259.0\n",
       "2       319.0\n",
       "3         NaN\n",
       "4         NaN\n",
       "        ...  \n",
       "1609    967.0\n",
       "1610    972.0\n",
       "1611      NaN\n",
       "1612    990.0\n",
       "1613      NaN\n",
       "Name: employeenumber, Length: 1614, dtype: float64"
      ]
     },
     "execution_count": 32,
     "metadata": {},
     "output_type": "execute_result"
    }
   ],
   "source": [
    "# Pasamos de str a float -> y se reemplaza la ',' por '.'\n",
    "df_ejemplo['employeenumber'] = pd.to_numeric(df_ejemplo['employeenumber'].str.replace(',', '.'), errors='coerce')\n",
    "df_ejemplo['employeenumber'] "
   ]
  },
  {
   "cell_type": "code",
   "execution_count": 33,
   "metadata": {},
   "outputs": [
    {
     "data": {
      "text/plain": [
       "431"
      ]
     },
     "execution_count": 33,
     "metadata": {},
     "output_type": "execute_result"
    }
   ],
   "source": [
    "df_ejemplo['employeenumber'].isnull().sum()"
   ]
  },
  {
   "cell_type": "code",
   "execution_count": 34,
   "metadata": {},
   "outputs": [
    {
     "data": {
      "text/plain": [
       "639"
      ]
     },
     "execution_count": 34,
     "metadata": {},
     "output_type": "execute_result"
    }
   ],
   "source": [
    "# cuántos registros hay duplicados?\n",
    "numeros_duplicados = df_ejemplo[df_ejemplo['employeenumber'].duplicated(keep=False)]\n",
    "numeros_duplicados['employeenumber'].size"
   ]
  },
  {
   "cell_type": "code",
   "execution_count": 35,
   "metadata": {},
   "outputs": [
    {
     "name": "stdout",
     "output_type": "stream",
     "text": [
      "[  nan  307.  374.  524.  569. 1541.  376.  381.  388.  389.  401.  416.\n",
      "  430.  438.  446.  448.  454.  458.  476.  483.  488.  500.  534.  586.\n",
      "  595.  608.  616.  621.  653.  663.  682.  710.  717.  721.  722.  724.\n",
      "  725.  728.  733.  734.  742.  747.  762.  783.  789.  793.  803.  809.\n",
      "  823.  842.  913.  927.  941.  956.  966.  967.  972.  990. 1778. 1797.\n",
      " 1804. 1816. 1821. 1849. 1869. 1898. 1911. 1927. 1947. 1954.  423.  424.\n",
      "  433.  440.  447.  455.  460.  465.  470.  475.  478.  482.  495.  501.\n",
      "  502.  507.  517.  522.  523.  525.  526.  530.  544. 1044. 1053. 1069.\n",
      " 1131. 1135. 1140. 1157. 1160. 1161. 1162. 1185. 1195.]\n"
     ]
    }
   ],
   "source": [
    "#identificamos los números duplicados\n",
    "duplicados = df_ejemplo[df_ejemplo.duplicated(subset=['employeenumber'], keep=False)]['employeenumber'].unique()\n",
    "print(duplicados)\n",
    "\n",
    "#revisar los puntos finales"
   ]
  },
  {
   "cell_type": "code",
   "execution_count": 36,
   "metadata": {},
   "outputs": [
    {
     "data": {
      "text/html": [
       "<div>\n",
       "<style scoped>\n",
       "    .dataframe tbody tr th:only-of-type {\n",
       "        vertical-align: middle;\n",
       "    }\n",
       "\n",
       "    .dataframe tbody tr th {\n",
       "        vertical-align: top;\n",
       "    }\n",
       "\n",
       "    .dataframe thead th {\n",
       "        text-align: right;\n",
       "    }\n",
       "</style>\n",
       "<table border=\"1\" class=\"dataframe\">\n",
       "  <thead>\n",
       "    <tr style=\"text-align: right;\">\n",
       "      <th></th>\n",
       "      <th>Age</th>\n",
       "      <th>Attrition</th>\n",
       "      <th>BusinessTravel</th>\n",
       "      <th>DailyRate</th>\n",
       "      <th>Department</th>\n",
       "      <th>DistanceFromHome</th>\n",
       "      <th>Education</th>\n",
       "      <th>EducationField</th>\n",
       "      <th>employeenumber</th>\n",
       "      <th>EnvironmentSatisfaction</th>\n",
       "      <th>...</th>\n",
       "      <th>YearsAtCompany</th>\n",
       "      <th>YearsInCurrentRole</th>\n",
       "      <th>YearsSinceLastPromotion</th>\n",
       "      <th>YEARSWITHCURRMANAGER</th>\n",
       "      <th>SameAsMonthlyIncome</th>\n",
       "      <th>DateBirth</th>\n",
       "      <th>Salary</th>\n",
       "      <th>RoleDepartament</th>\n",
       "      <th>NUMBERCHILDREN</th>\n",
       "      <th>RemoteWork</th>\n",
       "    </tr>\n",
       "  </thead>\n",
       "  <tbody>\n",
       "    <tr>\n",
       "      <th>82</th>\n",
       "      <td>38</td>\n",
       "      <td>No</td>\n",
       "      <td>NaN</td>\n",
       "      <td>119.0</td>\n",
       "      <td>NaN</td>\n",
       "      <td>3</td>\n",
       "      <td>3</td>\n",
       "      <td>Life Sciences</td>\n",
       "      <td>307.0</td>\n",
       "      <td>1</td>\n",
       "      <td>...</td>\n",
       "      <td>16</td>\n",
       "      <td>NaN</td>\n",
       "      <td>5</td>\n",
       "      <td>13</td>\n",
       "      <td>NaN</td>\n",
       "      <td>1985</td>\n",
       "      <td>1000000000$</td>\n",
       "      <td>NaN</td>\n",
       "      <td>NaN</td>\n",
       "      <td>1</td>\n",
       "    </tr>\n",
       "    <tr>\n",
       "      <th>1474</th>\n",
       "      <td>38</td>\n",
       "      <td>No</td>\n",
       "      <td>NaN</td>\n",
       "      <td>119.0</td>\n",
       "      <td>NaN</td>\n",
       "      <td>3</td>\n",
       "      <td>3</td>\n",
       "      <td>Life Sciences</td>\n",
       "      <td>307.0</td>\n",
       "      <td>1</td>\n",
       "      <td>...</td>\n",
       "      <td>16</td>\n",
       "      <td>NaN</td>\n",
       "      <td>5</td>\n",
       "      <td>13</td>\n",
       "      <td>NaN</td>\n",
       "      <td>1985</td>\n",
       "      <td>1000000000$</td>\n",
       "      <td>NaN</td>\n",
       "      <td>NaN</td>\n",
       "      <td>Yes</td>\n",
       "    </tr>\n",
       "  </tbody>\n",
       "</table>\n",
       "<p>2 rows × 40 columns</p>\n",
       "</div>"
      ],
      "text/plain": [
       "     Age Attrition BusinessTravel  DailyRate Department  DistanceFromHome  \\\n",
       "82    38        No            NaN      119.0        NaN                 3   \n",
       "1474  38        No            NaN      119.0        NaN                 3   \n",
       "\n",
       "      Education EducationField  employeenumber  EnvironmentSatisfaction  ...  \\\n",
       "82            3  Life Sciences           307.0                        1  ...   \n",
       "1474          3  Life Sciences           307.0                        1  ...   \n",
       "\n",
       "      YearsAtCompany YearsInCurrentRole  YearsSinceLastPromotion  \\\n",
       "82                16                NaN                        5   \n",
       "1474              16                NaN                        5   \n",
       "\n",
       "      YEARSWITHCURRMANAGER SameAsMonthlyIncome  DateBirth       Salary  \\\n",
       "82                      13                 NaN       1985  1000000000$   \n",
       "1474                    13                 NaN       1985  1000000000$   \n",
       "\n",
       "     RoleDepartament  NUMBERCHILDREN  RemoteWork  \n",
       "82               NaN             NaN           1  \n",
       "1474             NaN             NaN         Yes  \n",
       "\n",
       "[2 rows x 40 columns]"
      ]
     },
     "execution_count": 36,
     "metadata": {},
     "output_type": "execute_result"
    }
   ],
   "source": [
    "#comprobamos algunos registros\n",
    "\n",
    "fila_con_307 = df_ejemplo[df_ejemplo['employeenumber'] == 307]\n",
    "fila_con_307\n",
    "\n",
    "#Nota: Vemos que RemoteWork 1 equivale a YES"
   ]
  },
  {
   "cell_type": "code",
   "execution_count": 37,
   "metadata": {},
   "outputs": [],
   "source": [
    "lista_duplicados2= []\n",
    "\n",
    "for numero in duplicados:\n",
    "    lista_duplicados2.append(df_ejemplo[df_ejemplo['employeenumber'] == numero])"
   ]
  },
  {
   "cell_type": "code",
   "execution_count": 38,
   "metadata": {},
   "outputs": [
    {
     "data": {
      "text/html": [
       "<div>\n",
       "<style scoped>\n",
       "    .dataframe tbody tr th:only-of-type {\n",
       "        vertical-align: middle;\n",
       "    }\n",
       "\n",
       "    .dataframe tbody tr th {\n",
       "        vertical-align: top;\n",
       "    }\n",
       "\n",
       "    .dataframe thead th {\n",
       "        text-align: right;\n",
       "    }\n",
       "</style>\n",
       "<table border=\"1\" class=\"dataframe\">\n",
       "  <thead>\n",
       "    <tr style=\"text-align: right;\">\n",
       "      <th></th>\n",
       "      <th>Age</th>\n",
       "      <th>Attrition</th>\n",
       "      <th>BusinessTravel</th>\n",
       "      <th>DailyRate</th>\n",
       "      <th>Department</th>\n",
       "      <th>DistanceFromHome</th>\n",
       "      <th>Education</th>\n",
       "      <th>EducationField</th>\n",
       "      <th>employeenumber</th>\n",
       "      <th>EnvironmentSatisfaction</th>\n",
       "      <th>...</th>\n",
       "      <th>YearsAtCompany</th>\n",
       "      <th>YearsInCurrentRole</th>\n",
       "      <th>YearsSinceLastPromotion</th>\n",
       "      <th>YEARSWITHCURRMANAGER</th>\n",
       "      <th>SameAsMonthlyIncome</th>\n",
       "      <th>DateBirth</th>\n",
       "      <th>Salary</th>\n",
       "      <th>RoleDepartament</th>\n",
       "      <th>NUMBERCHILDREN</th>\n",
       "      <th>RemoteWork</th>\n",
       "    </tr>\n",
       "  </thead>\n",
       "  <tbody>\n",
       "    <tr>\n",
       "      <th>82</th>\n",
       "      <td>38</td>\n",
       "      <td>No</td>\n",
       "      <td>NaN</td>\n",
       "      <td>119.0</td>\n",
       "      <td>NaN</td>\n",
       "      <td>3</td>\n",
       "      <td>3</td>\n",
       "      <td>Life Sciences</td>\n",
       "      <td>307.0</td>\n",
       "      <td>1</td>\n",
       "      <td>...</td>\n",
       "      <td>16</td>\n",
       "      <td>NaN</td>\n",
       "      <td>5</td>\n",
       "      <td>13</td>\n",
       "      <td>NaN</td>\n",
       "      <td>1985</td>\n",
       "      <td>1000000000$</td>\n",
       "      <td>NaN</td>\n",
       "      <td>NaN</td>\n",
       "      <td>1</td>\n",
       "    </tr>\n",
       "    <tr>\n",
       "      <th>1474</th>\n",
       "      <td>38</td>\n",
       "      <td>No</td>\n",
       "      <td>NaN</td>\n",
       "      <td>119.0</td>\n",
       "      <td>NaN</td>\n",
       "      <td>3</td>\n",
       "      <td>3</td>\n",
       "      <td>Life Sciences</td>\n",
       "      <td>307.0</td>\n",
       "      <td>1</td>\n",
       "      <td>...</td>\n",
       "      <td>16</td>\n",
       "      <td>NaN</td>\n",
       "      <td>5</td>\n",
       "      <td>13</td>\n",
       "      <td>NaN</td>\n",
       "      <td>1985</td>\n",
       "      <td>1000000000$</td>\n",
       "      <td>NaN</td>\n",
       "      <td>NaN</td>\n",
       "      <td>Yes</td>\n",
       "    </tr>\n",
       "    <tr>\n",
       "      <th>84</th>\n",
       "      <td>55</td>\n",
       "      <td>No</td>\n",
       "      <td>travel_rarely</td>\n",
       "      <td>452.0</td>\n",
       "      <td>NaN</td>\n",
       "      <td>1</td>\n",
       "      <td>3</td>\n",
       "      <td>Medical</td>\n",
       "      <td>374.0</td>\n",
       "      <td>4</td>\n",
       "      <td>...</td>\n",
       "      <td>36</td>\n",
       "      <td>NaN</td>\n",
       "      <td>4</td>\n",
       "      <td>13</td>\n",
       "      <td>19045,0</td>\n",
       "      <td>1968</td>\n",
       "      <td>1000000000$</td>\n",
       "      <td>NaN</td>\n",
       "      <td>NaN</td>\n",
       "      <td>1</td>\n",
       "    </tr>\n",
       "    <tr>\n",
       "      <th>1476</th>\n",
       "      <td>55</td>\n",
       "      <td>No</td>\n",
       "      <td>travel_rarely</td>\n",
       "      <td>452.0</td>\n",
       "      <td>NaN</td>\n",
       "      <td>1</td>\n",
       "      <td>3</td>\n",
       "      <td>Medical</td>\n",
       "      <td>374.0</td>\n",
       "      <td>4</td>\n",
       "      <td>...</td>\n",
       "      <td>36</td>\n",
       "      <td>NaN</td>\n",
       "      <td>4</td>\n",
       "      <td>13</td>\n",
       "      <td>19045,0</td>\n",
       "      <td>1968</td>\n",
       "      <td>1000000000$</td>\n",
       "      <td>NaN</td>\n",
       "      <td>NaN</td>\n",
       "      <td>Yes</td>\n",
       "    </tr>\n",
       "    <tr>\n",
       "      <th>89</th>\n",
       "      <td>31</td>\n",
       "      <td>No</td>\n",
       "      <td>NaN</td>\n",
       "      <td>480.0</td>\n",
       "      <td>NaN</td>\n",
       "      <td>30</td>\n",
       "      <td>2</td>\n",
       "      <td>NaN</td>\n",
       "      <td>524.0</td>\n",
       "      <td>2</td>\n",
       "      <td>...</td>\n",
       "      <td>13</td>\n",
       "      <td>NaN</td>\n",
       "      <td>3</td>\n",
       "      <td>12</td>\n",
       "      <td>4306,0</td>\n",
       "      <td>1992</td>\n",
       "      <td>1000000000$</td>\n",
       "      <td>NaN</td>\n",
       "      <td>NaN</td>\n",
       "      <td>Yes</td>\n",
       "    </tr>\n",
       "    <tr>\n",
       "      <th>...</th>\n",
       "      <td>...</td>\n",
       "      <td>...</td>\n",
       "      <td>...</td>\n",
       "      <td>...</td>\n",
       "      <td>...</td>\n",
       "      <td>...</td>\n",
       "      <td>...</td>\n",
       "      <td>...</td>\n",
       "      <td>...</td>\n",
       "      <td>...</td>\n",
       "      <td>...</td>\n",
       "      <td>...</td>\n",
       "      <td>...</td>\n",
       "      <td>...</td>\n",
       "      <td>...</td>\n",
       "      <td>...</td>\n",
       "      <td>...</td>\n",
       "      <td>...</td>\n",
       "      <td>...</td>\n",
       "      <td>...</td>\n",
       "      <td>...</td>\n",
       "    </tr>\n",
       "    <tr>\n",
       "      <th>1494</th>\n",
       "      <td>27</td>\n",
       "      <td>No</td>\n",
       "      <td>travel_rarely</td>\n",
       "      <td>199.0</td>\n",
       "      <td>NaN</td>\n",
       "      <td>6</td>\n",
       "      <td>3</td>\n",
       "      <td>NaN</td>\n",
       "      <td>1162.0</td>\n",
       "      <td>4</td>\n",
       "      <td>...</td>\n",
       "      <td>4</td>\n",
       "      <td>2,0</td>\n",
       "      <td>2</td>\n",
       "      <td>2</td>\n",
       "      <td>2539,0</td>\n",
       "      <td>1996</td>\n",
       "      <td>1000000000$</td>\n",
       "      <td>NaN</td>\n",
       "      <td>NaN</td>\n",
       "      <td>0</td>\n",
       "    </tr>\n",
       "    <tr>\n",
       "      <th>1008</th>\n",
       "      <td>35</td>\n",
       "      <td>No</td>\n",
       "      <td>travel_frequently</td>\n",
       "      <td>NaN</td>\n",
       "      <td>NaN</td>\n",
       "      <td>4</td>\n",
       "      <td>4</td>\n",
       "      <td>Other</td>\n",
       "      <td>1185.0</td>\n",
       "      <td>4</td>\n",
       "      <td>...</td>\n",
       "      <td>2</td>\n",
       "      <td>NaN</td>\n",
       "      <td>2</td>\n",
       "      <td>2</td>\n",
       "      <td>2376,0</td>\n",
       "      <td>1988</td>\n",
       "      <td>1000000000$</td>\n",
       "      <td>NaN</td>\n",
       "      <td>NaN</td>\n",
       "      <td>True</td>\n",
       "    </tr>\n",
       "    <tr>\n",
       "      <th>1495</th>\n",
       "      <td>35</td>\n",
       "      <td>No</td>\n",
       "      <td>travel_frequently</td>\n",
       "      <td>NaN</td>\n",
       "      <td>NaN</td>\n",
       "      <td>4</td>\n",
       "      <td>4</td>\n",
       "      <td>Other</td>\n",
       "      <td>1185.0</td>\n",
       "      <td>4</td>\n",
       "      <td>...</td>\n",
       "      <td>2</td>\n",
       "      <td>NaN</td>\n",
       "      <td>2</td>\n",
       "      <td>2</td>\n",
       "      <td>2376,0</td>\n",
       "      <td>1988</td>\n",
       "      <td>1000000000$</td>\n",
       "      <td>NaN</td>\n",
       "      <td>NaN</td>\n",
       "      <td>True</td>\n",
       "    </tr>\n",
       "    <tr>\n",
       "      <th>1010</th>\n",
       "      <td>45</td>\n",
       "      <td>No</td>\n",
       "      <td>NaN</td>\n",
       "      <td>1457.0</td>\n",
       "      <td>Research &amp; Development</td>\n",
       "      <td>7</td>\n",
       "      <td>3</td>\n",
       "      <td>Medical</td>\n",
       "      <td>1195.0</td>\n",
       "      <td>1</td>\n",
       "      <td>...</td>\n",
       "      <td>3</td>\n",
       "      <td>NaN</td>\n",
       "      <td>0</td>\n",
       "      <td>2</td>\n",
       "      <td>NaN</td>\n",
       "      <td>1978</td>\n",
       "      <td>1000000000$</td>\n",
       "      <td>ReSEarch scIeNTIsT  -  Research &amp; Development</td>\n",
       "      <td>NaN</td>\n",
       "      <td>1</td>\n",
       "    </tr>\n",
       "    <tr>\n",
       "      <th>1497</th>\n",
       "      <td>45</td>\n",
       "      <td>No</td>\n",
       "      <td>NaN</td>\n",
       "      <td>1457.0</td>\n",
       "      <td>Research &amp; Development</td>\n",
       "      <td>7</td>\n",
       "      <td>3</td>\n",
       "      <td>Medical</td>\n",
       "      <td>1195.0</td>\n",
       "      <td>1</td>\n",
       "      <td>...</td>\n",
       "      <td>3</td>\n",
       "      <td>NaN</td>\n",
       "      <td>0</td>\n",
       "      <td>2</td>\n",
       "      <td>NaN</td>\n",
       "      <td>1978</td>\n",
       "      <td>1000000000$</td>\n",
       "      <td>resEaRcH sCIeNTisT  -  Research &amp; Development</td>\n",
       "      <td>NaN</td>\n",
       "      <td>Yes</td>\n",
       "    </tr>\n",
       "  </tbody>\n",
       "</table>\n",
       "<p>208 rows × 40 columns</p>\n",
       "</div>"
      ],
      "text/plain": [
       "     Age Attrition     BusinessTravel  DailyRate                Department  \\\n",
       "82    38        No                NaN      119.0                       NaN   \n",
       "1474  38        No                NaN      119.0                       NaN   \n",
       "84    55        No      travel_rarely      452.0                       NaN   \n",
       "1476  55        No      travel_rarely      452.0                       NaN   \n",
       "89    31        No                NaN      480.0                       NaN   \n",
       "...   ..       ...                ...        ...                       ...   \n",
       "1494  27        No      travel_rarely      199.0                       NaN   \n",
       "1008  35        No  travel_frequently        NaN                       NaN   \n",
       "1495  35        No  travel_frequently        NaN                       NaN   \n",
       "1010  45        No                NaN     1457.0   Research & Development    \n",
       "1497  45        No                NaN     1457.0   Research & Development    \n",
       "\n",
       "      DistanceFromHome  Education EducationField  employeenumber  \\\n",
       "82                   3          3  Life Sciences           307.0   \n",
       "1474                 3          3  Life Sciences           307.0   \n",
       "84                   1          3        Medical           374.0   \n",
       "1476                 1          3        Medical           374.0   \n",
       "89                  30          2            NaN           524.0   \n",
       "...                ...        ...            ...             ...   \n",
       "1494                 6          3            NaN          1162.0   \n",
       "1008                 4          4          Other          1185.0   \n",
       "1495                 4          4          Other          1185.0   \n",
       "1010                 7          3        Medical          1195.0   \n",
       "1497                 7          3        Medical          1195.0   \n",
       "\n",
       "      EnvironmentSatisfaction  ...  YearsAtCompany YearsInCurrentRole  \\\n",
       "82                          1  ...              16                NaN   \n",
       "1474                        1  ...              16                NaN   \n",
       "84                          4  ...              36                NaN   \n",
       "1476                        4  ...              36                NaN   \n",
       "89                          2  ...              13                NaN   \n",
       "...                       ...  ...             ...                ...   \n",
       "1494                        4  ...               4                2,0   \n",
       "1008                        4  ...               2                NaN   \n",
       "1495                        4  ...               2                NaN   \n",
       "1010                        1  ...               3                NaN   \n",
       "1497                        1  ...               3                NaN   \n",
       "\n",
       "      YearsSinceLastPromotion  YEARSWITHCURRMANAGER SameAsMonthlyIncome  \\\n",
       "82                          5                    13                 NaN   \n",
       "1474                        5                    13                 NaN   \n",
       "84                          4                    13             19045,0   \n",
       "1476                        4                    13             19045,0   \n",
       "89                          3                    12              4306,0   \n",
       "...                       ...                   ...                 ...   \n",
       "1494                        2                     2              2539,0   \n",
       "1008                        2                     2              2376,0   \n",
       "1495                        2                     2              2376,0   \n",
       "1010                        0                     2                 NaN   \n",
       "1497                        0                     2                 NaN   \n",
       "\n",
       "      DateBirth       Salary                                  RoleDepartament  \\\n",
       "82         1985  1000000000$                                              NaN   \n",
       "1474       1985  1000000000$                                              NaN   \n",
       "84         1968  1000000000$                                              NaN   \n",
       "1476       1968  1000000000$                                              NaN   \n",
       "89         1992  1000000000$                                              NaN   \n",
       "...         ...          ...                                              ...   \n",
       "1494       1996  1000000000$                                              NaN   \n",
       "1008       1988  1000000000$                                              NaN   \n",
       "1495       1988  1000000000$                                              NaN   \n",
       "1010       1978  1000000000$   ReSEarch scIeNTIsT  -  Research & Development    \n",
       "1497       1978  1000000000$   resEaRcH sCIeNTisT  -  Research & Development    \n",
       "\n",
       "      NUMBERCHILDREN  RemoteWork  \n",
       "82               NaN           1  \n",
       "1474             NaN         Yes  \n",
       "84               NaN           1  \n",
       "1476             NaN         Yes  \n",
       "89               NaN         Yes  \n",
       "...              ...         ...  \n",
       "1494             NaN           0  \n",
       "1008             NaN        True  \n",
       "1495             NaN        True  \n",
       "1010             NaN           1  \n",
       "1497             NaN         Yes  \n",
       "\n",
       "[208 rows x 40 columns]"
      ]
     },
     "execution_count": 38,
     "metadata": {},
     "output_type": "execute_result"
    }
   ],
   "source": [
    "# lo visualizamos en un nuevo dataFrame\n",
    "df_resultado = pd.concat(lista_duplicados2)\n",
    "df_resultado"
   ]
  },
  {
   "cell_type": "markdown",
   "metadata": {},
   "source": [
    "Vemos que hay 104 filas que se tienen que eliminar"
   ]
  },
  {
   "cell_type": "markdown",
   "metadata": {},
   "source": [
    "__________"
   ]
  },
  {
   "cell_type": "markdown",
   "metadata": {},
   "source": [
    "COLUMNA 11. EnvironmentSatisfaction: Nivel de satisfacción del empleado en relación con su entorno de trabajo. Con valores que estan comprendidos entre el 1 y el 4, siendo el 4 el nivel de máxima satisfacción.\n",
    "\n",
    "- Hay 100 registros que no van del 1 al 4 -> # Convertimos los valores no validos (superiores a 4) en NaN -> está abajo desactivado con #  abajo.\n",
    "- No hay nulos\n"
   ]
  },
  {
   "cell_type": "code",
   "execution_count": 39,
   "metadata": {},
   "outputs": [
    {
     "data": {
      "text/plain": [
       "0        1\n",
       "1        3\n",
       "2        3\n",
       "3        1\n",
       "4        1\n",
       "        ..\n",
       "1609     3\n",
       "1610     3\n",
       "1611    13\n",
       "1612     1\n",
       "1613     4\n",
       "Name: EnvironmentSatisfaction, Length: 1614, dtype: int64"
      ]
     },
     "execution_count": 39,
     "metadata": {},
     "output_type": "execute_result"
    }
   ],
   "source": [
    "df_ejemplo['EnvironmentSatisfaction']"
   ]
  },
  {
   "cell_type": "code",
   "execution_count": 40,
   "metadata": {},
   "outputs": [
    {
     "data": {
      "text/plain": [
       "100"
      ]
     },
     "execution_count": 40,
     "metadata": {},
     "output_type": "execute_result"
    }
   ],
   "source": [
    "# Mostrar los valores mayores a 4\n",
    "resultados_superiores_a_4 = df_ejemplo[df_ejemplo['EnvironmentSatisfaction'] > 4]['EnvironmentSatisfaction']\n",
    "resultados_superiores_a_4.count()"
   ]
  },
  {
   "cell_type": "code",
   "execution_count": 41,
   "metadata": {},
   "outputs": [
    {
     "data": {
      "text/plain": [
       "0"
      ]
     },
     "execution_count": 41,
     "metadata": {},
     "output_type": "execute_result"
    }
   ],
   "source": [
    "resultados_superiores_a_4.isnull().sum()"
   ]
  },
  {
   "cell_type": "code",
   "execution_count": 42,
   "metadata": {},
   "outputs": [],
   "source": [
    "# Convertimos los valores no validos (superiores a 4) en NaN: \n",
    "\n",
    "# df_ejemplo.loc[df_ejemplo['EnvironmentSatisfaction'] > 4, 'EnvironmentSatisfaction'] = np.nan\n",
    "\n",
    "# df_ejemplo['EnvironmentSatisfaction']"
   ]
  },
  {
   "cell_type": "markdown",
   "metadata": {},
   "source": [
    "_____"
   ]
  },
  {
   "cell_type": "markdown",
   "metadata": {},
   "source": [
    "COLUMNA 12. Gender: El género del empleado. Donde 0 corresponde con \"hombre\" y 1 con \"mujer\".\n",
    "\n",
    "- Hay un 60,1% de hombres respecto a un 39.8% de mujeres\n",
    "- cambio los valores 0,  1, por male, female para hacerlo más comprensible\n",
    "- No hay nulos"
   ]
  },
  {
   "cell_type": "code",
   "execution_count": 43,
   "metadata": {},
   "outputs": [
    {
     "data": {
      "text/plain": [
       "Gender\n",
       "0    971\n",
       "1    643\n",
       "Name: count, dtype: int64"
      ]
     },
     "execution_count": 43,
     "metadata": {},
     "output_type": "execute_result"
    }
   ],
   "source": [
    "df_ejemplo['Gender'].value_counts()"
   ]
  },
  {
   "cell_type": "code",
   "execution_count": 44,
   "metadata": {},
   "outputs": [
    {
     "data": {
      "text/plain": [
       "0"
      ]
     },
     "execution_count": 44,
     "metadata": {},
     "output_type": "execute_result"
    }
   ],
   "source": [
    "df_ejemplo['Gender'].isnull().sum()"
   ]
  },
  {
   "cell_type": "code",
   "execution_count": 45,
   "metadata": {},
   "outputs": [
    {
     "data": {
      "text/plain": [
       "Gender\n",
       "0    60.16109\n",
       "1    39.83891\n",
       "Name: count, dtype: float64"
      ]
     },
     "execution_count": 45,
     "metadata": {},
     "output_type": "execute_result"
    }
   ],
   "source": [
    "#Calcular porcentaje:\n",
    "\n",
    "conteo_genero = df_ejemplo['Gender'].value_counts()\n",
    "\n",
    "porcentaje_genero = conteo_genero / len(df_ejemplo) * 100\n",
    "porcentaje_genero"
   ]
  },
  {
   "cell_type": "code",
   "execution_count": 46,
   "metadata": {},
   "outputs": [
    {
     "data": {
      "text/plain": [
       "0         male\n",
       "1         male\n",
       "2         male\n",
       "3       female\n",
       "4       female\n",
       "         ...  \n",
       "1609      male\n",
       "1610      male\n",
       "1611      male\n",
       "1612      male\n",
       "1613      male\n",
       "Name: Gender, Length: 1614, dtype: object"
      ]
     },
     "execution_count": 46,
     "metadata": {},
     "output_type": "execute_result"
    }
   ],
   "source": [
    "#cambiar los valores 0,  1, por male, female para hacerlo más comprensible\n",
    "\n",
    "df_ejemplo['Gender'] = df_ejemplo['Gender'].replace({0: 'male', 1: 'female'})\n",
    "df_ejemplo['Gender']"
   ]
  },
  {
   "cell_type": "markdown",
   "metadata": {},
   "source": [
    "______"
   ]
  },
  {
   "cell_type": "markdown",
   "metadata": {},
   "source": [
    "COLUMNA 13. HourlyRate: La tarifa por hora del empleado.\n",
    "\n",
    "- NO hay nulos\n",
    "- Pasamos de srt a int. \n",
    "- La media cobra por hora 62.59 "
   ]
  },
  {
   "cell_type": "code",
   "execution_count": 47,
   "metadata": {},
   "outputs": [
    {
     "data": {
      "text/plain": [
       "0"
      ]
     },
     "execution_count": 47,
     "metadata": {},
     "output_type": "execute_result"
    }
   ],
   "source": [
    "df_ejemplo['HourlyRate'].isnull().sum()"
   ]
  },
  {
   "cell_type": "code",
   "execution_count": 48,
   "metadata": {},
   "outputs": [],
   "source": [
    "# Pasamos el valor a integer. \n",
    "# ponemos errors='coerce' ya que hay valores que no se puede transforar, como es el caso de 'Not Available'. Se convertiá a NaN\n",
    "\n",
    "df_ejemplo['HourlyRate'] = pd.to_numeric(df_ejemplo['HourlyRate'], errors='coerce')\n",
    "\n",
    "# Convertir la columna a tipo entero, tratando los NaN como 0\n",
    "df_ejemplo['HourlyRate'] = df_ejemplo['HourlyRate'].fillna(0).astype(int)"
   ]
  },
  {
   "cell_type": "code",
   "execution_count": 49,
   "metadata": {},
   "outputs": [
    {
     "data": {
      "text/plain": [
       "0"
      ]
     },
     "execution_count": 49,
     "metadata": {},
     "output_type": "execute_result"
    }
   ],
   "source": [
    "df_ejemplo['HourlyRate'].isnull().sum()"
   ]
  },
  {
   "cell_type": "code",
   "execution_count": 50,
   "metadata": {},
   "outputs": [
    {
     "data": {
      "text/plain": [
       "0       51\n",
       "1       65\n",
       "2       58\n",
       "3       82\n",
       "4       45\n",
       "        ..\n",
       "1609    51\n",
       "1610    57\n",
       "1611    41\n",
       "1612    84\n",
       "1613    75\n",
       "Name: HourlyRate, Length: 1614, dtype: int64"
      ]
     },
     "execution_count": 50,
     "metadata": {},
     "output_type": "execute_result"
    }
   ],
   "source": [
    "df_ejemplo['HourlyRate']"
   ]
  },
  {
   "cell_type": "code",
   "execution_count": 51,
   "metadata": {},
   "outputs": [
    {
     "data": {
      "text/plain": [
       "count    1614.000000\n",
       "mean       62.591698\n",
       "std        24.525022\n",
       "min         0.000000\n",
       "25%        46.000000\n",
       "50%        64.000000\n",
       "75%        83.000000\n",
       "max       100.000000\n",
       "Name: HourlyRate, dtype: float64"
      ]
     },
     "execution_count": 51,
     "metadata": {},
     "output_type": "execute_result"
    }
   ],
   "source": [
    "df_ejemplo['HourlyRate'].describe()"
   ]
  },
  {
   "cell_type": "markdown",
   "metadata": {},
   "source": [
    "____"
   ]
  },
  {
   "cell_type": "markdown",
   "metadata": {},
   "source": [
    "COLUMNA 14. JobInvolvement: Nivel de implicación del empleado en su trabajo.\n",
    "- Que significa? Quien lo valora? El mánager/jefe? Es una auto-evaluación?\n",
    "- Se piede relacionar con otras columnas? Ej: salario / número de horas que se trabajan, etc..."
   ]
  },
  {
   "cell_type": "code",
   "execution_count": 52,
   "metadata": {},
   "outputs": [
    {
     "data": {
      "text/plain": [
       "JobInvolvement\n",
       "3    955\n",
       "2    406\n",
       "4    164\n",
       "1     89\n",
       "Name: count, dtype: int64"
      ]
     },
     "execution_count": 52,
     "metadata": {},
     "output_type": "execute_result"
    }
   ],
   "source": [
    "df_ejemplo['JobInvolvement'].value_counts()"
   ]
  },
  {
   "cell_type": "code",
   "execution_count": 53,
   "metadata": {},
   "outputs": [
    {
     "data": {
      "text/plain": [
       "1614"
      ]
     },
     "execution_count": 53,
     "metadata": {},
     "output_type": "execute_result"
    }
   ],
   "source": [
    "df_ejemplo['JobInvolvement'].size"
   ]
  },
  {
   "cell_type": "code",
   "execution_count": 54,
   "metadata": {},
   "outputs": [
    {
     "data": {
      "text/plain": [
       "0"
      ]
     },
     "execution_count": 54,
     "metadata": {},
     "output_type": "execute_result"
    }
   ],
   "source": [
    "df_ejemplo['JobInvolvement'].isnull().sum()"
   ]
  },
  {
   "cell_type": "markdown",
   "metadata": {},
   "source": []
  },
  {
   "cell_type": "markdown",
   "metadata": {},
   "source": [
    "______"
   ]
  },
  {
   "cell_type": "markdown",
   "metadata": {},
   "source": [
    "COLUMNA 15: JobLevel - Nivel Jerárquico del empleado en la empresa\n",
    "\n",
    "-tipo de dato INT\n",
    "\n",
    "-No hay valores nulos"
   ]
  },
  {
   "cell_type": "code",
   "execution_count": 4,
   "metadata": {},
   "outputs": [
    {
     "data": {
      "text/plain": [
       "array([5, 4, 3, 2, 1])"
      ]
     },
     "execution_count": 4,
     "metadata": {},
     "output_type": "execute_result"
    }
   ],
   "source": [
    "df_ejemplo['JobLevel'].unique()"
   ]
  },
  {
   "cell_type": "code",
   "execution_count": 6,
   "metadata": {},
   "outputs": [
    {
     "data": {
      "text/plain": [
       "0"
      ]
     },
     "execution_count": 6,
     "metadata": {},
     "output_type": "execute_result"
    }
   ],
   "source": [
    "df_ejemplo['JobLevel'].isnull().sum()"
   ]
  },
  {
   "cell_type": "markdown",
   "metadata": {},
   "source": [
    "COLUMNA 16: JobRole -El rol o puesto de trabajo del empleado.\n",
    "\n",
    "-No hay nulos\n",
    "\n",
    "-Tipo de dato 'object'\n",
    "\n",
    "-Cambie la infromacion a letras minusculas (estaba en formato messenger)"
   ]
  },
  {
   "cell_type": "code",
   "execution_count": null,
   "metadata": {},
   "outputs": [],
   "source": [
    "df_ejemplo['JobRole']= [elemento.lower() for elemento in df_ejemplo['JobRole']]"
   ]
  },
  {
   "cell_type": "code",
   "execution_count": null,
   "metadata": {},
   "outputs": [],
   "source": [
    "df_ejemplo['JobRole'].value_counts()"
   ]
  },
  {
   "cell_type": "markdown",
   "metadata": {},
   "source": [
    "COLUMNA 17: JobSatisfaction - Nivel de satisfacción del empleado con su trabajo.\n",
    "\n",
    "-Tipo de dato: int64\n",
    "\n",
    "-No hay valores nulos\n",
    "\n",
    "-Dejo registrada la media de satisfaccion laboral"
   ]
  },
  {
   "cell_type": "code",
   "execution_count": 7,
   "metadata": {},
   "outputs": [
    {
     "data": {
      "text/plain": [
       "array([3, 4, 1, 2])"
      ]
     },
     "execution_count": 7,
     "metadata": {},
     "output_type": "execute_result"
    }
   ],
   "source": [
    "df_ejemplo['JobSatisfaction'].unique()"
   ]
  },
  {
   "cell_type": "code",
   "execution_count": 8,
   "metadata": {},
   "outputs": [
    {
     "data": {
      "text/plain": [
       "4    514\n",
       "3    481\n",
       "1    317\n",
       "2    302\n",
       "Name: JobSatisfaction, dtype: int64"
      ]
     },
     "execution_count": 8,
     "metadata": {},
     "output_type": "execute_result"
    }
   ],
   "source": [
    "df_ejemplo['JobSatisfaction'].value_counts()"
   ]
  },
  {
   "cell_type": "code",
   "execution_count": 9,
   "metadata": {},
   "outputs": [
    {
     "data": {
      "text/plain": [
       "count    1614.000000\n",
       "mean        2.738538\n",
       "std         1.106163\n",
       "min         1.000000\n",
       "25%         2.000000\n",
       "50%         3.000000\n",
       "75%         4.000000\n",
       "max         4.000000\n",
       "Name: JobSatisfaction, dtype: float64"
      ]
     },
     "execution_count": 9,
     "metadata": {},
     "output_type": "execute_result"
    }
   ],
   "source": [
    "df_ejemplo['JobSatisfaction'].describe(include='object')"
   ]
  },
  {
   "cell_type": "markdown",
   "metadata": {},
   "source": [
    "COLUMNA 18: MaritalStatus - El estado civil del empleado (por ejemplo, \"Single\", \"Married\", etc.).\n",
    "\n",
    "-Tipo de dato: \n",
    "\n",
    "-Datos nulos: 651. NaN pueden ser floats o str \n",
    "\n",
    "-Tenemos Divorce escrito de dos formas diferentes. Divorced/divorced. Lo unifico en Divorced\n",
    "Ver si lo modificamos todo a minusculas\n",
    "-Married idem anterior"
   ]
  },
  {
   "cell_type": "code",
   "execution_count": 10,
   "metadata": {},
   "outputs": [
    {
     "data": {
      "text/plain": [
       "651"
      ]
     },
     "execution_count": 10,
     "metadata": {},
     "output_type": "execute_result"
    }
   ],
   "source": [
    "df_ejemplo['MaritalStatus'].isnull().sum()"
   ]
  },
  {
   "cell_type": "code",
   "execution_count": 11,
   "metadata": {},
   "outputs": [],
   "source": [
    "df_ejemplo['MaritalStatus']= df_ejemplo['MaritalStatus'].replace('divorced', 'Divorced')"
   ]
  },
  {
   "cell_type": "code",
   "execution_count": 12,
   "metadata": {},
   "outputs": [],
   "source": [
    "df_ejemplo['MaritalStatus']= df_ejemplo['MaritalStatus'].replace('Marreid', 'Married')"
   ]
  },
  {
   "cell_type": "code",
   "execution_count": 13,
   "metadata": {},
   "outputs": [
    {
     "data": {
      "text/plain": [
       "Married     439\n",
       "Single      325\n",
       "Divorced    199\n",
       "Name: MaritalStatus, dtype: int64"
      ]
     },
     "execution_count": 13,
     "metadata": {},
     "output_type": "execute_result"
    }
   ],
   "source": [
    "df_ejemplo['MaritalStatus'].value_counts()"
   ]
  },
  {
   "cell_type": "markdown",
   "metadata": {},
   "source": [
    "COLUMNA 19: MonthlyIncome - Ingresos mensuales del empleado.\n",
    "\n",
    "-Datos nulos: 843\n",
    "\n",
    "-Tipo de dato: object"
   ]
  },
  {
   "cell_type": "code",
   "execution_count": 18,
   "metadata": {},
   "outputs": [
    {
     "data": {
      "text/plain": [
       "843"
      ]
     },
     "execution_count": 18,
     "metadata": {},
     "output_type": "execute_result"
    }
   ],
   "source": [
    "df_ejemplo['MonthlyIncome'].isnull().sum()"
   ]
  },
  {
   "cell_type": "code",
   "execution_count": null,
   "metadata": {},
   "outputs": [],
   "source": [
    "df_ejemplo[\"MonthlyIncome\"]= df_ejemplo[\"MonthlyIncome\"].str.replace(',','.')"
   ]
  },
  {
   "cell_type": "code",
   "execution_count": 20,
   "metadata": {},
   "outputs": [],
   "source": [
    "df_ejemplo[\"MonthlyIncome\"]=pd.to_numeric(df_ejemplo[\"MonthlyIncome\"]).astype(float)"
   ]
  },
  {
   "cell_type": "markdown",
   "metadata": {},
   "source": [
    "COLUMNA 20: MonthlyRate - Tasa mensual del empleado.\n",
    "\n",
    " _ significa la tasa mensual de salario o sueldo que recibe un empleado por su trabajo en una empresa. Es el monto específico que se paga a los empleados en forma regular cada mes. Esta información se suele registrar en una tabla de empleados para llevar un registro de los salarios y compensaciones que se les otorgan. La tasa mensual puede variar dependiendo del puesto, la experiencia, las habilidades y otros factores relevantes.\n",
    "\n",
    "-tipo de dato: int \n",
    "\n",
    "-No hay nulos\n",
    "\n",
    "Hay mucha diferencia entre el minimo y el máximo"
   ]
  },
  {
   "cell_type": "code",
   "execution_count": 22,
   "metadata": {},
   "outputs": [
    {
     "data": {
      "text/plain": [
       "count     1614.000000\n",
       "mean     14284.495663\n",
       "std       7110.414585\n",
       "min       2094.000000\n",
       "25%       8001.000000\n",
       "50%      14248.500000\n",
       "75%      20364.000000\n",
       "max      26999.000000\n",
       "Name: MonthlyRate, dtype: float64"
      ]
     },
     "execution_count": 22,
     "metadata": {},
     "output_type": "execute_result"
    }
   ],
   "source": [
    "df_ejemplo['MonthlyRate'].describe()"
   ]
  },
  {
   "cell_type": "markdown",
   "metadata": {},
   "source": [
    "COLUMNA 21: NUMCOMPANIESWORKED - Número de compañías en las que el empleado ha trabajado.\n",
    "\n",
    "-tipo de dato: Int\n",
    "\n",
    "-No hay nulos \n",
    "\n",
    "-Cambiamos el tamaño del nombre de la columna, mismo patron que el resto de las columnas"
   ]
  },
  {
   "cell_type": "code",
   "execution_count": 25,
   "metadata": {},
   "outputs": [
    {
     "data": {
      "text/plain": [
       "array([7, 0, 1, 3, 2, 4, 8, 9, 5, 6])"
      ]
     },
     "execution_count": 25,
     "metadata": {},
     "output_type": "execute_result"
    }
   ],
   "source": [
    "df_ejemplo['NUMCOMPANIESWORKED'].unique()"
   ]
  },
  {
   "cell_type": "code",
   "execution_count": 26,
   "metadata": {},
   "outputs": [
    {
     "data": {
      "text/plain": [
       "1    573\n",
       "0    226\n",
       "3    169\n",
       "4    157\n",
       "2    156\n",
       "7     84\n",
       "6     73\n",
       "5     66\n",
       "9     59\n",
       "8     51\n",
       "Name: NUMCOMPANIESWORKED, dtype: int64"
      ]
     },
     "execution_count": 26,
     "metadata": {},
     "output_type": "execute_result"
    }
   ],
   "source": [
    "df_ejemplo['NUMCOMPANIESWORKED'].value_counts()"
   ]
  },
  {
   "cell_type": "markdown",
   "metadata": {},
   "source": [
    "Over18 - Indica si el empleado es mayor de 18 años.\n",
    "\n",
    "-valores nulos: 901\n",
    "\n",
    "-Esta columna no tiene sentido\n"
   ]
  },
  {
   "cell_type": "code",
   "execution_count": 27,
   "metadata": {},
   "outputs": [
    {
     "data": {
      "text/plain": [
       "901"
      ]
     },
     "execution_count": 27,
     "metadata": {},
     "output_type": "execute_result"
    }
   ],
   "source": [
    "df_ejemplo['Over18'].isnull().sum()"
   ]
  },
  {
   "cell_type": "code",
   "execution_count": 28,
   "metadata": {},
   "outputs": [
    {
     "data": {
      "text/plain": [
       "array(['Y', nan], dtype=object)"
      ]
     },
     "execution_count": 28,
     "metadata": {},
     "output_type": "execute_result"
    }
   ],
   "source": [
    "df_ejemplo['Over18'].unique()"
   ]
  },
  {
   "cell_type": "markdown",
   "metadata": {},
   "source": [
    "______"
   ]
  },
  {
   "cell_type": "markdown",
   "metadata": {},
   "source": [
    "COLUMNA 23: OverTime\n",
    "\n",
    "solo 3 tipos de valores, 40% Nan"
   ]
  },
  {
   "cell_type": "code",
   "execution_count": null,
   "metadata": {},
   "outputs": [],
   "source": [
    "df_ejemplo['OverTime'].unique()"
   ]
  },
  {
   "cell_type": "code",
   "execution_count": null,
   "metadata": {},
   "outputs": [],
   "source": [
    "df_ejemplo['OverTime'].value_counts()"
   ]
  },
  {
   "cell_type": "code",
   "execution_count": null,
   "metadata": {},
   "outputs": [],
   "source": [
    "df_ejemplo['OverTime'].isnull().sum()"
   ]
  },
  {
   "cell_type": "markdown",
   "metadata": {},
   "source": [
    "COLUMNA 24: PercentSalaryHike\t\n",
    "\n",
    "muchos porcentajes, ningún null"
   ]
  },
  {
   "cell_type": "code",
   "execution_count": null,
   "metadata": {},
   "outputs": [],
   "source": [
    "df_ejemplo['PercentSalaryHike'].unique()"
   ]
  },
  {
   "cell_type": "code",
   "execution_count": null,
   "metadata": {},
   "outputs": [],
   "source": [
    "df_ejemplo['PercentSalaryHike'].value_counts()"
   ]
  },
  {
   "cell_type": "code",
   "execution_count": null,
   "metadata": {},
   "outputs": [],
   "source": [
    "df_ejemplo['PercentSalaryHike'].describe()"
   ]
  },
  {
   "cell_type": "code",
   "execution_count": null,
   "metadata": {},
   "outputs": [],
   "source": [
    "df_ejemplo['PercentSalaryHike'].isnull().sum()"
   ]
  },
  {
   "cell_type": "markdown",
   "metadata": {},
   "source": [
    "COLUMNA 25: PerformanceRating\n",
    "\n",
    "Pocos null, hay que cambiar los float por int, solo valores 3 y 4"
   ]
  },
  {
   "cell_type": "code",
   "execution_count": null,
   "metadata": {},
   "outputs": [],
   "source": [
    "df_ejemplo['PerformanceRating'].unique()"
   ]
  },
  {
   "cell_type": "code",
   "execution_count": null,
   "metadata": {},
   "outputs": [],
   "source": [
    "df_ejemplo['PerformanceRating'].value_counts()"
   ]
  },
  {
   "cell_type": "code",
   "execution_count": null,
   "metadata": {},
   "outputs": [],
   "source": [
    "df_ejemplo['PerformanceRating'].describe()"
   ]
  },
  {
   "cell_type": "code",
   "execution_count": null,
   "metadata": {},
   "outputs": [],
   "source": [
    "df_ejemplo['PerformanceRating']=df_ejemplo['PerformanceRating'].str.replace(',','.')\n",
    "df_ejemplo['PerformanceRating']=df_ejemplo['PerformanceRating'].astype(float)"
   ]
  },
  {
   "cell_type": "code",
   "execution_count": null,
   "metadata": {},
   "outputs": [],
   "source": [
    "df_ejemplo['PerformanceRating'].describe()"
   ]
  },
  {
   "cell_type": "code",
   "execution_count": null,
   "metadata": {},
   "outputs": [],
   "source": [
    "df_ejemplo['PerformanceRating'].isnull().sum()"
   ]
  },
  {
   "cell_type": "markdown",
   "metadata": {},
   "source": [
    "COLUMNA 26: RelationshipSatisfaction\n",
    "\n",
    "este aprece que está bien"
   ]
  },
  {
   "cell_type": "code",
   "execution_count": null,
   "metadata": {},
   "outputs": [],
   "source": [
    "df_ejemplo['RelationshipSatisfaction'].unique()"
   ]
  },
  {
   "cell_type": "code",
   "execution_count": null,
   "metadata": {},
   "outputs": [],
   "source": [
    "df_ejemplo['RelationshipSatisfaction'].value_counts()"
   ]
  },
  {
   "cell_type": "code",
   "execution_count": null,
   "metadata": {},
   "outputs": [],
   "source": [
    "df_ejemplo['RelationshipSatisfaction'].describe()"
   ]
  },
  {
   "cell_type": "code",
   "execution_count": null,
   "metadata": {},
   "outputs": [],
   "source": [
    "df_ejemplo['RelationshipSatisfaction'].isnull().sum()"
   ]
  },
  {
   "cell_type": "markdown",
   "metadata": {},
   "source": [
    "COLUMNA 27: StandardHours\t\n",
    "\n",
    "solo 80 y nan. Podemos eliminarla"
   ]
  },
  {
   "cell_type": "code",
   "execution_count": null,
   "metadata": {},
   "outputs": [],
   "source": [
    "df_ejemplo['StandardHours'].unique()"
   ]
  },
  {
   "cell_type": "code",
   "execution_count": null,
   "metadata": {},
   "outputs": [],
   "source": [
    "df_ejemplo['StandardHours'].isnull().sum()"
   ]
  },
  {
   "cell_type": "markdown",
   "metadata": {},
   "source": [
    "COLUMNA 28: StockOptionLevel\n",
    "\n",
    "podríamos cambiar el nombre de la columna para que sea mas entendible"
   ]
  },
  {
   "cell_type": "code",
   "execution_count": null,
   "metadata": {},
   "outputs": [],
   "source": [
    "df_ejemplo['StockOptionLevel'].unique()"
   ]
  },
  {
   "cell_type": "code",
   "execution_count": null,
   "metadata": {},
   "outputs": [],
   "source": [
    "df_ejemplo['StockOptionLevel'].value_counts()"
   ]
  },
  {
   "cell_type": "code",
   "execution_count": null,
   "metadata": {},
   "outputs": [],
   "source": [
    "df_ejemplo['StockOptionLevel'].describe()"
   ]
  },
  {
   "cell_type": "code",
   "execution_count": null,
   "metadata": {},
   "outputs": [],
   "source": [
    "df_ejemplo['StockOptionLevel'].isnull().sum()"
   ]
  },
  {
   "cell_type": "markdown",
   "metadata": {},
   "source": [
    "COLUMNA 29: TOTALWORKINGYEARS\n",
    "\n",
    "hay que cambiar el nombre de la col por minus o title, cambiar los float por int"
   ]
  },
  {
   "cell_type": "code",
   "execution_count": null,
   "metadata": {},
   "outputs": [],
   "source": [
    "df_ejemplo['TOTALWORKINGYEARS'].unique()"
   ]
  },
  {
   "cell_type": "code",
   "execution_count": null,
   "metadata": {},
   "outputs": [],
   "source": [
    "df_ejemplo['TOTALWORKINGYEARS'].describe()"
   ]
  },
  {
   "cell_type": "code",
   "execution_count": null,
   "metadata": {},
   "outputs": [],
   "source": [
    "df_ejemplo['TOTALWORKINGYEARS']=df_ejemplo['TOTALWORKINGYEARS'].str.replace(',','.')\n",
    "df_ejemplo['TOTALWORKINGYEARS']=df_ejemplo['TOTALWORKINGYEARS'].astype(float)"
   ]
  },
  {
   "cell_type": "code",
   "execution_count": null,
   "metadata": {},
   "outputs": [],
   "source": [
    "df_ejemplo['TOTALWORKINGYEARS'].describe()"
   ]
  },
  {
   "cell_type": "code",
   "execution_count": null,
   "metadata": {},
   "outputs": [],
   "source": [
    "df_ejemplo['TOTALWORKINGYEARS'].isnull().sum()"
   ]
  },
  {
   "cell_type": "code",
   "execution_count": null,
   "metadata": {},
   "outputs": [],
   "source": [
    "df_ejemplo.rename(columns={'TOTALWORKINGYEARS':'TotalWorkingYears'})"
   ]
  },
  {
   "cell_type": "markdown",
   "metadata": {},
   "source": [
    "COLUMNA 30: TrainingTimesLastYear\n",
    "\n",
    "Todo parece coherente"
   ]
  },
  {
   "cell_type": "code",
   "execution_count": null,
   "metadata": {},
   "outputs": [],
   "source": [
    "df_ejemplo['TrainingTimesLastYear'].unique()"
   ]
  },
  {
   "cell_type": "code",
   "execution_count": null,
   "metadata": {},
   "outputs": [],
   "source": [
    "df_ejemplo['TrainingTimesLastYear'].value_counts()"
   ]
  },
  {
   "cell_type": "code",
   "execution_count": null,
   "metadata": {},
   "outputs": [],
   "source": [
    "df_ejemplo['TrainingTimesLastYear'].isnull().sum()"
   ]
  },
  {
   "cell_type": "markdown",
   "metadata": {},
   "source": [
    "______"
   ]
  },
  {
   "cell_type": "markdown",
   "metadata": {},
   "source": [
    "Columna \"YearsSinceLastPromotion\"\n",
    "\n",
    "1. no hay nulos y una columna de integers"
   ]
  },
  {
   "cell_type": "code",
   "execution_count": 55,
   "metadata": {},
   "outputs": [
    {
     "name": "stdout",
     "output_type": "stream",
     "text": [
      "<class 'pandas.core.series.Series'>\n",
      "Index: 1614 entries, 0 to 1613\n",
      "Series name: YearsSinceLastPromotion\n",
      "Non-Null Count  Dtype\n",
      "--------------  -----\n",
      "1614 non-null   int64\n",
      "dtypes: int64(1)\n",
      "memory usage: 25.2 KB\n"
     ]
    }
   ],
   "source": [
    "df_ejemplo[\"YearsSinceLastPromotion\"].isnull().sum()\n",
    "\n",
    "df_ejemplo[\"YearsSinceLastPromotion\"].info()"
   ]
  },
  {
   "cell_type": "markdown",
   "metadata": {},
   "source": [
    "Columna \"YEARSWITHCURRMANAGER\""
   ]
  },
  {
   "cell_type": "code",
   "execution_count": 56,
   "metadata": {},
   "outputs": [
    {
     "name": "stdout",
     "output_type": "stream",
     "text": [
      "<class 'pandas.core.series.Series'>\n",
      "Index: 1614 entries, 0 to 1613\n",
      "Series name: YEARSWITHCURRMANAGER\n",
      "Non-Null Count  Dtype\n",
      "--------------  -----\n",
      "1614 non-null   int64\n",
      "dtypes: int64(1)\n",
      "memory usage: 25.2 KB\n"
     ]
    }
   ],
   "source": [
    "df_ejemplo[\"YEARSWITHCURRMANAGER\"].info()"
   ]
  },
  {
   "cell_type": "markdown",
   "metadata": {},
   "source": [
    "Columna \"SameAsMonthlyIncome\"\n",
    "\n",
    "1. En principio es object y convertirla a float\n",
    "2. Además es una columna con nulos, representan un 52% (nulos total 843)\n",
    "3. compararla con \"MonthlyIncome\"\n",
    "4. a eliminar pq es lo mismo que en MonthlyIncome"
   ]
  },
  {
   "cell_type": "code",
   "execution_count": 57,
   "metadata": {},
   "outputs": [
    {
     "name": "stdout",
     "output_type": "stream",
     "text": [
      "<class 'pandas.core.series.Series'>\n",
      "Index: 1614 entries, 0 to 1613\n",
      "Series name: SameAsMonthlyIncome\n",
      "Non-Null Count  Dtype \n",
      "--------------  ----- \n",
      "771 non-null    object\n",
      "dtypes: object(1)\n",
      "memory usage: 25.2+ KB\n"
     ]
    }
   ],
   "source": [
    "df_ejemplo[\"SameAsMonthlyIncome\"].info()"
   ]
  },
  {
   "cell_type": "code",
   "execution_count": 58,
   "metadata": {},
   "outputs": [
    {
     "ename": "ValueError",
     "evalue": "could not convert string to float: '19537,0'",
     "output_type": "error",
     "traceback": [
      "\u001b[0;31m---------------------------------------------------------------------------\u001b[0m",
      "\u001b[0;31mValueError\u001b[0m                                Traceback (most recent call last)",
      "\u001b[0;32m/var/folders/fy/lv_7fpvj1v5grf8t28cz_4nw0000gn/T/ipykernel_19422/4011540565.py\u001b[0m in \u001b[0;36m<module>\u001b[0;34m\u001b[0m\n\u001b[1;32m      1\u001b[0m \u001b[0mdf_ejemplo\u001b[0m\u001b[0;34m[\u001b[0m\u001b[0;34m'SameAsMonthlyIncome'\u001b[0m\u001b[0;34m]\u001b[0m \u001b[0;34m=\u001b[0m \u001b[0mdf_ejemplo\u001b[0m\u001b[0;34m[\u001b[0m\u001b[0;34m'SameAsMonthlyIncome'\u001b[0m\u001b[0;34m]\u001b[0m\u001b[0;34m.\u001b[0m\u001b[0mreplace\u001b[0m\u001b[0;34m(\u001b[0m\u001b[0;34m','\u001b[0m\u001b[0;34m,\u001b[0m \u001b[0;34m'.'\u001b[0m\u001b[0;34m)\u001b[0m \u001b[0;31m#para poder convertir de obj a float primero hay\u001b[0m\u001b[0;34m\u001b[0m\u001b[0;34m\u001b[0m\u001b[0m\n\u001b[1;32m      2\u001b[0m                                                                                         \u001b[0;31m#q sustituir las comas por puntos. Los float van con puntos\u001b[0m\u001b[0;34m\u001b[0m\u001b[0;34m\u001b[0m\u001b[0m\n\u001b[0;32m----> 3\u001b[0;31m \u001b[0mdf_ejemplo\u001b[0m\u001b[0;34m[\u001b[0m\u001b[0;34m'SameAsMonthlyIncome'\u001b[0m\u001b[0;34m]\u001b[0m \u001b[0;34m=\u001b[0m \u001b[0mdf_ejemplo\u001b[0m\u001b[0;34m[\u001b[0m\u001b[0;34m'SameAsMonthlyIncome'\u001b[0m\u001b[0;34m]\u001b[0m\u001b[0;34m.\u001b[0m\u001b[0mastype\u001b[0m\u001b[0;34m(\u001b[0m\u001b[0mfloat\u001b[0m\u001b[0;34m)\u001b[0m \u001b[0;31m#convertimos a float\u001b[0m\u001b[0;34m\u001b[0m\u001b[0;34m\u001b[0m\u001b[0m\n\u001b[0m\u001b[1;32m      4\u001b[0m \u001b[0mdf_ejemplo\u001b[0m\u001b[0;34m[\u001b[0m\u001b[0;34m'SameAsMonthlyIncome'\u001b[0m\u001b[0;34m]\u001b[0m\u001b[0;34m\u001b[0m\u001b[0;34m\u001b[0m\u001b[0m\n",
      "\u001b[0;32m~/opt/anaconda3/lib/python3.9/site-packages/pandas/core/generic.py\u001b[0m in \u001b[0;36mastype\u001b[0;34m(self, dtype, copy, errors)\u001b[0m\n\u001b[1;32m   6532\u001b[0m         \u001b[0;32melse\u001b[0m\u001b[0;34m:\u001b[0m\u001b[0;34m\u001b[0m\u001b[0;34m\u001b[0m\u001b[0m\n\u001b[1;32m   6533\u001b[0m             \u001b[0;31m# else, only a single dtype is given\u001b[0m\u001b[0;34m\u001b[0m\u001b[0;34m\u001b[0m\u001b[0m\n\u001b[0;32m-> 6534\u001b[0;31m             \u001b[0mnew_data\u001b[0m \u001b[0;34m=\u001b[0m \u001b[0mself\u001b[0m\u001b[0;34m.\u001b[0m\u001b[0m_mgr\u001b[0m\u001b[0;34m.\u001b[0m\u001b[0mastype\u001b[0m\u001b[0;34m(\u001b[0m\u001b[0mdtype\u001b[0m\u001b[0;34m=\u001b[0m\u001b[0mdtype\u001b[0m\u001b[0;34m,\u001b[0m \u001b[0mcopy\u001b[0m\u001b[0;34m=\u001b[0m\u001b[0mcopy\u001b[0m\u001b[0;34m,\u001b[0m \u001b[0merrors\u001b[0m\u001b[0;34m=\u001b[0m\u001b[0merrors\u001b[0m\u001b[0;34m)\u001b[0m\u001b[0;34m\u001b[0m\u001b[0;34m\u001b[0m\u001b[0m\n\u001b[0m\u001b[1;32m   6535\u001b[0m             \u001b[0mres\u001b[0m \u001b[0;34m=\u001b[0m \u001b[0mself\u001b[0m\u001b[0;34m.\u001b[0m\u001b[0m_constructor_from_mgr\u001b[0m\u001b[0;34m(\u001b[0m\u001b[0mnew_data\u001b[0m\u001b[0;34m,\u001b[0m \u001b[0maxes\u001b[0m\u001b[0;34m=\u001b[0m\u001b[0mnew_data\u001b[0m\u001b[0;34m.\u001b[0m\u001b[0maxes\u001b[0m\u001b[0;34m)\u001b[0m\u001b[0;34m\u001b[0m\u001b[0;34m\u001b[0m\u001b[0m\n\u001b[1;32m   6536\u001b[0m             \u001b[0;32mreturn\u001b[0m \u001b[0mres\u001b[0m\u001b[0;34m.\u001b[0m\u001b[0m__finalize__\u001b[0m\u001b[0;34m(\u001b[0m\u001b[0mself\u001b[0m\u001b[0;34m,\u001b[0m \u001b[0mmethod\u001b[0m\u001b[0;34m=\u001b[0m\u001b[0;34m\"astype\"\u001b[0m\u001b[0;34m)\u001b[0m\u001b[0;34m\u001b[0m\u001b[0;34m\u001b[0m\u001b[0m\n",
      "\u001b[0;32m~/opt/anaconda3/lib/python3.9/site-packages/pandas/core/internals/managers.py\u001b[0m in \u001b[0;36mastype\u001b[0;34m(self, dtype, copy, errors)\u001b[0m\n\u001b[1;32m    412\u001b[0m             \u001b[0mcopy\u001b[0m \u001b[0;34m=\u001b[0m \u001b[0;32mFalse\u001b[0m\u001b[0;34m\u001b[0m\u001b[0;34m\u001b[0m\u001b[0m\n\u001b[1;32m    413\u001b[0m \u001b[0;34m\u001b[0m\u001b[0m\n\u001b[0;32m--> 414\u001b[0;31m         return self.apply(\n\u001b[0m\u001b[1;32m    415\u001b[0m             \u001b[0;34m\"astype\"\u001b[0m\u001b[0;34m,\u001b[0m\u001b[0;34m\u001b[0m\u001b[0;34m\u001b[0m\u001b[0m\n\u001b[1;32m    416\u001b[0m             \u001b[0mdtype\u001b[0m\u001b[0;34m=\u001b[0m\u001b[0mdtype\u001b[0m\u001b[0;34m,\u001b[0m\u001b[0;34m\u001b[0m\u001b[0;34m\u001b[0m\u001b[0m\n",
      "\u001b[0;32m~/opt/anaconda3/lib/python3.9/site-packages/pandas/core/internals/managers.py\u001b[0m in \u001b[0;36mapply\u001b[0;34m(self, f, align_keys, **kwargs)\u001b[0m\n\u001b[1;32m    352\u001b[0m                 \u001b[0mapplied\u001b[0m \u001b[0;34m=\u001b[0m \u001b[0mb\u001b[0m\u001b[0;34m.\u001b[0m\u001b[0mapply\u001b[0m\u001b[0;34m(\u001b[0m\u001b[0mf\u001b[0m\u001b[0;34m,\u001b[0m \u001b[0;34m**\u001b[0m\u001b[0mkwargs\u001b[0m\u001b[0;34m)\u001b[0m\u001b[0;34m\u001b[0m\u001b[0;34m\u001b[0m\u001b[0m\n\u001b[1;32m    353\u001b[0m             \u001b[0;32melse\u001b[0m\u001b[0;34m:\u001b[0m\u001b[0;34m\u001b[0m\u001b[0;34m\u001b[0m\u001b[0m\n\u001b[0;32m--> 354\u001b[0;31m                 \u001b[0mapplied\u001b[0m \u001b[0;34m=\u001b[0m \u001b[0mgetattr\u001b[0m\u001b[0;34m(\u001b[0m\u001b[0mb\u001b[0m\u001b[0;34m,\u001b[0m \u001b[0mf\u001b[0m\u001b[0;34m)\u001b[0m\u001b[0;34m(\u001b[0m\u001b[0;34m**\u001b[0m\u001b[0mkwargs\u001b[0m\u001b[0;34m)\u001b[0m\u001b[0;34m\u001b[0m\u001b[0;34m\u001b[0m\u001b[0m\n\u001b[0m\u001b[1;32m    355\u001b[0m             \u001b[0mresult_blocks\u001b[0m \u001b[0;34m=\u001b[0m \u001b[0mextend_blocks\u001b[0m\u001b[0;34m(\u001b[0m\u001b[0mapplied\u001b[0m\u001b[0;34m,\u001b[0m \u001b[0mresult_blocks\u001b[0m\u001b[0;34m)\u001b[0m\u001b[0;34m\u001b[0m\u001b[0;34m\u001b[0m\u001b[0m\n\u001b[1;32m    356\u001b[0m \u001b[0;34m\u001b[0m\u001b[0m\n",
      "\u001b[0;32m~/opt/anaconda3/lib/python3.9/site-packages/pandas/core/internals/blocks.py\u001b[0m in \u001b[0;36mastype\u001b[0;34m(self, dtype, copy, errors, using_cow)\u001b[0m\n\u001b[1;32m    614\u001b[0m         \u001b[0mvalues\u001b[0m \u001b[0;34m=\u001b[0m \u001b[0mself\u001b[0m\u001b[0;34m.\u001b[0m\u001b[0mvalues\u001b[0m\u001b[0;34m\u001b[0m\u001b[0;34m\u001b[0m\u001b[0m\n\u001b[1;32m    615\u001b[0m \u001b[0;34m\u001b[0m\u001b[0m\n\u001b[0;32m--> 616\u001b[0;31m         \u001b[0mnew_values\u001b[0m \u001b[0;34m=\u001b[0m \u001b[0mastype_array_safe\u001b[0m\u001b[0;34m(\u001b[0m\u001b[0mvalues\u001b[0m\u001b[0;34m,\u001b[0m \u001b[0mdtype\u001b[0m\u001b[0;34m,\u001b[0m \u001b[0mcopy\u001b[0m\u001b[0;34m=\u001b[0m\u001b[0mcopy\u001b[0m\u001b[0;34m,\u001b[0m \u001b[0merrors\u001b[0m\u001b[0;34m=\u001b[0m\u001b[0merrors\u001b[0m\u001b[0;34m)\u001b[0m\u001b[0;34m\u001b[0m\u001b[0;34m\u001b[0m\u001b[0m\n\u001b[0m\u001b[1;32m    617\u001b[0m \u001b[0;34m\u001b[0m\u001b[0m\n\u001b[1;32m    618\u001b[0m         \u001b[0mnew_values\u001b[0m \u001b[0;34m=\u001b[0m \u001b[0mmaybe_coerce_values\u001b[0m\u001b[0;34m(\u001b[0m\u001b[0mnew_values\u001b[0m\u001b[0;34m)\u001b[0m\u001b[0;34m\u001b[0m\u001b[0;34m\u001b[0m\u001b[0m\n",
      "\u001b[0;32m~/opt/anaconda3/lib/python3.9/site-packages/pandas/core/dtypes/astype.py\u001b[0m in \u001b[0;36mastype_array_safe\u001b[0;34m(values, dtype, copy, errors)\u001b[0m\n\u001b[1;32m    236\u001b[0m \u001b[0;34m\u001b[0m\u001b[0m\n\u001b[1;32m    237\u001b[0m     \u001b[0;32mtry\u001b[0m\u001b[0;34m:\u001b[0m\u001b[0;34m\u001b[0m\u001b[0;34m\u001b[0m\u001b[0m\n\u001b[0;32m--> 238\u001b[0;31m         \u001b[0mnew_values\u001b[0m \u001b[0;34m=\u001b[0m \u001b[0mastype_array\u001b[0m\u001b[0;34m(\u001b[0m\u001b[0mvalues\u001b[0m\u001b[0;34m,\u001b[0m \u001b[0mdtype\u001b[0m\u001b[0;34m,\u001b[0m \u001b[0mcopy\u001b[0m\u001b[0;34m=\u001b[0m\u001b[0mcopy\u001b[0m\u001b[0;34m)\u001b[0m\u001b[0;34m\u001b[0m\u001b[0;34m\u001b[0m\u001b[0m\n\u001b[0m\u001b[1;32m    239\u001b[0m     \u001b[0;32mexcept\u001b[0m \u001b[0;34m(\u001b[0m\u001b[0mValueError\u001b[0m\u001b[0;34m,\u001b[0m \u001b[0mTypeError\u001b[0m\u001b[0;34m)\u001b[0m\u001b[0;34m:\u001b[0m\u001b[0;34m\u001b[0m\u001b[0;34m\u001b[0m\u001b[0m\n\u001b[1;32m    240\u001b[0m         \u001b[0;31m# e.g. _astype_nansafe can fail on object-dtype of strings\u001b[0m\u001b[0;34m\u001b[0m\u001b[0;34m\u001b[0m\u001b[0m\n",
      "\u001b[0;32m~/opt/anaconda3/lib/python3.9/site-packages/pandas/core/dtypes/astype.py\u001b[0m in \u001b[0;36mastype_array\u001b[0;34m(values, dtype, copy)\u001b[0m\n\u001b[1;32m    181\u001b[0m \u001b[0;34m\u001b[0m\u001b[0m\n\u001b[1;32m    182\u001b[0m     \u001b[0;32melse\u001b[0m\u001b[0;34m:\u001b[0m\u001b[0;34m\u001b[0m\u001b[0;34m\u001b[0m\u001b[0m\n\u001b[0;32m--> 183\u001b[0;31m         \u001b[0mvalues\u001b[0m \u001b[0;34m=\u001b[0m \u001b[0m_astype_nansafe\u001b[0m\u001b[0;34m(\u001b[0m\u001b[0mvalues\u001b[0m\u001b[0;34m,\u001b[0m \u001b[0mdtype\u001b[0m\u001b[0;34m,\u001b[0m \u001b[0mcopy\u001b[0m\u001b[0;34m=\u001b[0m\u001b[0mcopy\u001b[0m\u001b[0;34m)\u001b[0m\u001b[0;34m\u001b[0m\u001b[0;34m\u001b[0m\u001b[0m\n\u001b[0m\u001b[1;32m    184\u001b[0m \u001b[0;34m\u001b[0m\u001b[0m\n\u001b[1;32m    185\u001b[0m     \u001b[0;31m# in pandas we don't store numpy str dtypes, so convert to object\u001b[0m\u001b[0;34m\u001b[0m\u001b[0;34m\u001b[0m\u001b[0m\n",
      "\u001b[0;32m~/opt/anaconda3/lib/python3.9/site-packages/pandas/core/dtypes/astype.py\u001b[0m in \u001b[0;36m_astype_nansafe\u001b[0;34m(arr, dtype, copy, skipna)\u001b[0m\n\u001b[1;32m    132\u001b[0m     \u001b[0;32mif\u001b[0m \u001b[0mcopy\u001b[0m \u001b[0;32mor\u001b[0m \u001b[0marr\u001b[0m\u001b[0;34m.\u001b[0m\u001b[0mdtype\u001b[0m \u001b[0;34m==\u001b[0m \u001b[0mobject\u001b[0m \u001b[0;32mor\u001b[0m \u001b[0mdtype\u001b[0m \u001b[0;34m==\u001b[0m \u001b[0mobject\u001b[0m\u001b[0;34m:\u001b[0m\u001b[0;34m\u001b[0m\u001b[0;34m\u001b[0m\u001b[0m\n\u001b[1;32m    133\u001b[0m         \u001b[0;31m# Explicit copy, or required since NumPy can't view from / to object.\u001b[0m\u001b[0;34m\u001b[0m\u001b[0;34m\u001b[0m\u001b[0m\n\u001b[0;32m--> 134\u001b[0;31m         \u001b[0;32mreturn\u001b[0m \u001b[0marr\u001b[0m\u001b[0;34m.\u001b[0m\u001b[0mastype\u001b[0m\u001b[0;34m(\u001b[0m\u001b[0mdtype\u001b[0m\u001b[0;34m,\u001b[0m \u001b[0mcopy\u001b[0m\u001b[0;34m=\u001b[0m\u001b[0;32mTrue\u001b[0m\u001b[0;34m)\u001b[0m\u001b[0;34m\u001b[0m\u001b[0;34m\u001b[0m\u001b[0m\n\u001b[0m\u001b[1;32m    135\u001b[0m \u001b[0;34m\u001b[0m\u001b[0m\n\u001b[1;32m    136\u001b[0m     \u001b[0;32mreturn\u001b[0m \u001b[0marr\u001b[0m\u001b[0;34m.\u001b[0m\u001b[0mastype\u001b[0m\u001b[0;34m(\u001b[0m\u001b[0mdtype\u001b[0m\u001b[0;34m,\u001b[0m \u001b[0mcopy\u001b[0m\u001b[0;34m=\u001b[0m\u001b[0mcopy\u001b[0m\u001b[0;34m)\u001b[0m\u001b[0;34m\u001b[0m\u001b[0;34m\u001b[0m\u001b[0m\n",
      "\u001b[0;31mValueError\u001b[0m: could not convert string to float: '19537,0'"
     ]
    }
   ],
   "source": [
    "df_ejemplo['SameAsMonthlyIncome'] = df_ejemplo['SameAsMonthlyIncome'].replace(',', '.') #para poder convertir de obj a float primero hay \n",
    "                                                                                        #q sustituir las comas por puntos. Los float van con puntos\n",
    "df_ejemplo['SameAsMonthlyIncome'] = df_ejemplo['SameAsMonthlyIncome'].astype(float) #convertimos a float\n",
    "df_ejemplo['SameAsMonthlyIncome']"
   ]
  },
  {
   "cell_type": "markdown",
   "metadata": {},
   "source": [
    "Columna \"DateBirth\"\n",
    "\n",
    "1. Cambiar nombre de la columna a \"Yearbirth\"\n",
    "\n"
   ]
  },
  {
   "cell_type": "code",
   "execution_count": null,
   "metadata": {},
   "outputs": [
    {
     "name": "stdout",
     "output_type": "stream",
     "text": [
      "<class 'pandas.core.series.Series'>\n",
      "Index: 1614 entries, 0 to 1613\n",
      "Series name: DateBirth\n",
      "Non-Null Count  Dtype\n",
      "--------------  -----\n",
      "1614 non-null   int64\n",
      "dtypes: int64(1)\n",
      "memory usage: 89.8 KB\n"
     ]
    }
   ],
   "source": [
    "df_ejemplo[\"DateBirth\"].info()"
   ]
  },
  {
   "cell_type": "markdown",
   "metadata": {},
   "source": [
    "Columna \"Salary\"\n",
    "\n",
    "1. object convertirlo a float\n",
    "2. eliminar el signo de dólares (referenciarlo en el nombre de la columna)\n",
    "3. solo hay un elemento en la columna - no tiene mucho sentido candidata a ser eliminada y rehacerla con calculos \n"
   ]
  },
  {
   "cell_type": "code",
   "execution_count": null,
   "metadata": {},
   "outputs": [
    {
     "name": "stdout",
     "output_type": "stream",
     "text": [
      "<class 'pandas.core.series.Series'>\n",
      "Index: 1614 entries, 0 to 1613\n",
      "Series name: Salary\n",
      "Non-Null Count  Dtype \n",
      "--------------  ----- \n",
      "1614 non-null   object\n",
      "dtypes: object(1)\n",
      "memory usage: 89.8+ KB\n"
     ]
    }
   ],
   "source": [
    "df_ejemplo[\"Salary\"].info()"
   ]
  },
  {
   "cell_type": "code",
   "execution_count": null,
   "metadata": {},
   "outputs": [
    {
     "data": {
      "text/plain": [
       "1"
      ]
     },
     "execution_count": 50,
     "metadata": {},
     "output_type": "execute_result"
    }
   ],
   "source": [
    "df_ejemplo[\"Salary\"].nunique()"
   ]
  },
  {
   "cell_type": "code",
   "execution_count": null,
   "metadata": {},
   "outputs": [],
   "source": [
    "df_ejemplo['Salary'] = df_ejemplo['Salary'].str.replace('$', '') #sacamos el símbolo de la currency de la columna para poder convertir a float\n",
    "\n",
    "# Convertir los valores a tipo float \n",
    "df_ejemplo['Salary'] = df_ejemplo['Salary'].astype(float)"
   ]
  },
  {
   "cell_type": "markdown",
   "metadata": {},
   "source": [
    "Columna \"RoleDepartament\"\n",
    "\n",
    "1. % elevado de null un 81%, candidata a ser eliminada\n"
   ]
  },
  {
   "cell_type": "code",
   "execution_count": null,
   "metadata": {},
   "outputs": [
    {
     "data": {
      "text/plain": [
       "1312"
      ]
     },
     "execution_count": 56,
     "metadata": {},
     "output_type": "execute_result"
    }
   ],
   "source": [
    "df_ejemplo[\"RoleDepartament\"].isnull().sum()"
   ]
  },
  {
   "cell_type": "code",
   "execution_count": null,
   "metadata": {},
   "outputs": [
    {
     "data": {
      "text/plain": [
       "array([nan, ' ManaGER  -  Research & Development ',\n",
       "       ' MANAger  -  Research & Development ',\n",
       "       ' heaLtHcArE repResENtATiVe  -  Research & Development ',\n",
       "       ' saLEs exEcutIVe  -  Sales ', ' Sales ExECuTIVe  -  Sales ',\n",
       "       ' heALthCArE RePResEntaTIVe  -  Research & Development ',\n",
       "       ' lABORAtOry tECHnIcIan  -  Research & Development ',\n",
       "       ' ManufactUrINg DiReCTOr  -  Research & Development ',\n",
       "       ' SaleS eXEcUtIVE  -  Sales ',\n",
       "       ' HEaLthcaRe rEprEsEnTAtiVe  -  Research & Development ',\n",
       "       ' rESeArCH sCientIST  -  Research & Development ',\n",
       "       ' healTHCAre rePREseNtATiVE  -  Research & Development ',\n",
       "       ' mANaGer  -  Research & Development ',\n",
       "       ' HEAltHCaRe REPreseNTatIve  -  Research & Development ',\n",
       "       ' SaLeS eXECUTivE  -  Sales ',\n",
       "       ' reSeARCH SCIEnTiST  -  Research & Development ',\n",
       "       ' ReSearch DiRecTOR  -  Research & Development ',\n",
       "       ' resEaRCh SciEnTist  -  Research & Development ',\n",
       "       ' hUmaN REsoUrCes  -  Human Resources ',\n",
       "       ' manAgER  -  Research & Development ',\n",
       "       ' SaLES eXeCUtIVE  -  Sales ',\n",
       "       ' reSEarCH scIentISt  -  Research & Development ',\n",
       "       ' ReSeARCh DiRECtor  -  Research & Development ',\n",
       "       ' MaNAgeR  -  Sales ',\n",
       "       ' RESEArCH sCIenTIst  -  Research & Development ',\n",
       "       ' hUMAn reSoUrCES  -  Human Resources ',\n",
       "       ' HUmAN rESOuRceS  -  Human Resources ',\n",
       "       ' SaleS EXeCuTivE  -  Sales ',\n",
       "       ' ReSeARch scIENTISt  -  Research & Development ',\n",
       "       ' LaBoRaTorY TeChNicIAn  -  Research & Development ',\n",
       "       ' ManUfaCTUriNg dIReCtor  -  Research & Development ',\n",
       "       ' saLES ExECuTIVe  -  Sales ',\n",
       "       ' RESEaRch SCIEntISt  -  Research & Development ',\n",
       "       ' mAnUFaCtUrinG diReCtor  -  Research & Development ',\n",
       "       ' maNUFAcTURING direCTOr  -  Research & Development ',\n",
       "       ' labOraTORy techNicIan  -  Research & Development ',\n",
       "       ' SAlEs ExeCUtive  -  Sales ',\n",
       "       ' MANUFACturING DIRecToR  -  Research & Development ',\n",
       "       ' Sales eXECuTIvE  -  Sales ',\n",
       "       ' mANUfaCTuRiNG DiRECtOr  -  Research & Development ',\n",
       "       ' ManUFACtURiNg DiRECTOr  -  Research & Development ',\n",
       "       ' ResEARcH DiReCToR  -  Research & Development ',\n",
       "       ' MANAgER  -  Research & Development ',\n",
       "       ' labORATORY TechnIcIaN  -  Research & Development ',\n",
       "       ' MaNUfacTurINg DiReCTor  -  Research & Development ',\n",
       "       ' ReSEaRcH sciENTIST  -  Research & Development ',\n",
       "       ' rESEARCh dIrEcTOr  -  Research & Development ',\n",
       "       ' MANUfACTuRinG diRecTOR  -  Research & Development ',\n",
       "       ' HeaLThCArE REpRESENTAtIVe  -  Research & Development ',\n",
       "       ' LABOraTory TecHnIciaN  -  Research & Development ',\n",
       "       ' sales rEprESEntAtIvE  -  Sales ',\n",
       "       ' mANuFacTurinG DirECtoR  -  Research & Development ',\n",
       "       ' lABorATOrY TeChnICIan  -  Research & Development ',\n",
       "       ' RESEarCh SCIEnTiST  -  Research & Development ',\n",
       "       ' SALes exEcuTIVe  -  Sales ',\n",
       "       ' REseARCH DirectOr  -  Research & Development ',\n",
       "       ' sAlES EXEcUtIVe  -  Sales ',\n",
       "       ' lABoraToRY teCHnIcIaN  -  Research & Development ',\n",
       "       ' LaBorATORy tEChnICiaN  -  Research & Development ',\n",
       "       ' sales ExecutIvE  -  Sales ', ' sAles exECUtiVe  -  Sales ',\n",
       "       ' SALEs eXecuTiVE  -  Sales ', ' SaleS executIVE  -  Sales ',\n",
       "       ' rEsEArCH sCIeNTIST  -  Research & Development ',\n",
       "       ' reSEArch SCIEntIsT  -  Research & Development ',\n",
       "       ' rESeArCh DIrEctor  -  Research & Development ',\n",
       "       ' saLES ExECUtiVe  -  Sales ',\n",
       "       ' LaboRATory tEchNICIAn  -  Research & Development ',\n",
       "       ' SAlEs exECUtIVe  -  Sales ', ' salEs eXECuTivE  -  Sales ',\n",
       "       ' ReseaRch scIenTisT  -  Research & Development ',\n",
       "       ' LaBoraTORY teCHNiCIaN  -  Research & Development ',\n",
       "       ' sALEs ExeCuTive  -  Sales ',\n",
       "       ' heALtHCARE rePResENtAtivE  -  Research & Development ',\n",
       "       ' ManAgEr  -  Research & Development ',\n",
       "       ' laboRAtORy TecHnICiAN  -  Research & Development ',\n",
       "       ' ReSeARCH diRECtoR  -  Research & Development ',\n",
       "       ' LAborAtOry TEchniCIAn  -  Research & Development ',\n",
       "       ' SaLeS eXECutiVE  -  Sales ', ' SalEs eXECuTive  -  Sales ',\n",
       "       ' rESeaRCH DIReCToR  -  Research & Development ',\n",
       "       ' mANAGeR  -  Human Resources ', ' saLeS exECUtive  -  Sales ',\n",
       "       ' maNuFAcTURInG DIReCtoR  -  Research & Development ',\n",
       "       ' LABORaTorY TEChNIcIAN  -  Research & Development ',\n",
       "       ' hEalTHcARe RePrEseNTATive  -  Research & Development ',\n",
       "       ' mANuFActuring DireCtOR  -  Research & Development ',\n",
       "       ' MaNagEr  -  Research & Development ',\n",
       "       ' SaLeS exeCuTIVe  -  Sales ',\n",
       "       ' lAboRaTory tECHNIciAN  -  Research & Development ',\n",
       "       ' saLes eXECUTIVe  -  Sales ', ' saLes EXEcuTiVe  -  Sales ',\n",
       "       ' mAnaGeR  -  Research & Development ',\n",
       "       ' HEALThCaRe rePResEnTaTivE  -  Research & Development ',\n",
       "       ' mAnAgEr  -  Research & Development ',\n",
       "       ' MaNageR  -  Research & Development ',\n",
       "       ' HeAlThCarE rEpreSentatiVe  -  Research & Development ',\n",
       "       ' HUMAN ResoURCeS  -  Human Resources ',\n",
       "       ' huMAn ResOurces  -  Human Resources ',\n",
       "       ' mANUfacTURiNG dIRectOR  -  Research & Development ',\n",
       "       ' saLES eXEcUTiVE  -  Sales ',\n",
       "       ' labORaTORY teChNIcIaN  -  Research & Development ',\n",
       "       ' saLes eXeCUTivE  -  Sales ', ' Sales exECutIVE  -  Sales ',\n",
       "       ' saleS eXEcuTIvE  -  Sales ', ' SALes ExeCUtive  -  Sales ',\n",
       "       ' reSearCH SCieNtIst  -  Research & Development ',\n",
       "       ' HEALThcaRe RePresENtaTiVE  -  Research & Development ',\n",
       "       ' rEsEARch sCientIST  -  Research & Development ',\n",
       "       ' HealthcARE RePreSENtAtiVe  -  Research & Development ',\n",
       "       ' ResEArch ScieNTiST  -  Research & Development ',\n",
       "       ' labORaTORy TecHniciAN  -  Research & Development ',\n",
       "       ' SalEs exECUTIvE  -  Sales ',\n",
       "       ' LabOrATory TEChNICiaN  -  Research & Development ',\n",
       "       ' reSeArcH scieNtist  -  Research & Development ',\n",
       "       ' maNuFAcTUring DIrecToR  -  Research & Development ',\n",
       "       ' ResEARCh DIRECtoR  -  Research & Development ',\n",
       "       ' SaLes exECutIVe  -  Sales ', ' SAleS eXecuTIVe  -  Sales ',\n",
       "       ' manAGER  -  Sales ',\n",
       "       ' LaBOrATORy teCHnIciaN  -  Research & Development ',\n",
       "       ' SAlES ExecuTIVe  -  Sales ', ' salES exEcUtiVE  -  Sales ',\n",
       "       ' SAlEs ExECUTIVe  -  Sales ',\n",
       "       ' HEaLTHcaRE rePReseNtaTIvE  -  Research & Development ',\n",
       "       ' sAles eXEcUtIve  -  Sales ',\n",
       "       ' laBoraTorY tEChnICiaN  -  Research & Development ',\n",
       "       ' MANufacTURIng diREcTOr  -  Research & Development ',\n",
       "       ' REsearch scIENtist  -  Research & Development ',\n",
       "       ' heaLtHcARe RePReSENtaTIve  -  Research & Development ',\n",
       "       ' lAbOrAtorY techNiCiaN  -  Research & Development ',\n",
       "       ' laboRaTOrY TEchniCIaN  -  Research & Development ',\n",
       "       ' SAles ExECutIvE  -  Sales ',\n",
       "       ' HeALtHCarE represEntAtIVe  -  Research & Development ',\n",
       "       ' HEalThCaRe rEpReSENtatIVe  -  Research & Development ',\n",
       "       ' HEalTHCare REPrEsEntATiVE  -  Research & Development ',\n",
       "       ' LaBoRaToRY TEcHnIcian  -  Research & Development ',\n",
       "       ' SAlES ExecutIve  -  Sales ',\n",
       "       ' LaBOrAtory TECHNIciAN  -  Research & Development ',\n",
       "       ' ReSeArch scIenTIsT  -  Research & Development ',\n",
       "       ' SaLEs EXECutIVe  -  Sales ',\n",
       "       ' rESEARch DiRector  -  Research & Development ',\n",
       "       ' HEaltHcare rEPrEsEnTatIVe  -  Research & Development ',\n",
       "       ' lABORatORY TeChNiCiAN  -  Research & Development ',\n",
       "       ' LaBOratory TeChnICiAn  -  Research & Development ',\n",
       "       ' maNAGer  -  Sales ', ' hUMAn rEsOuRCES  -  Human Resources ',\n",
       "       ' sales ExeCUTiVE  -  Sales ', ' saLEs exeCUtiVe  -  Sales ',\n",
       "       ' laBorAtORy TECHnicIaN  -  Research & Development ',\n",
       "       ' ReSeaRch SCIEnTiSt  -  Research & Development ',\n",
       "       ' rEsEArcH scIenTIst  -  Research & Development ',\n",
       "       ' RESeArch dIREcToR  -  Research & Development ',\n",
       "       ' saLes ExECutIVE  -  Sales ',\n",
       "       ' REseARCh SCIenTIst  -  Research & Development ',\n",
       "       ' sALEs exECuTiVe  -  Sales ',\n",
       "       ' rEseArCh SCieNtiST  -  Research & Development ',\n",
       "       ' lABoRAtoRY TecHnIcian  -  Research & Development ',\n",
       "       ' researcH SciEntIST  -  Research & Development ',\n",
       "       ' REseARCH ScIeNTIST  -  Research & Development ',\n",
       "       ' sAles ExecUtive  -  Sales ',\n",
       "       ' mAnUfaCTuRing DiRecTor  -  Research & Development ',\n",
       "       ' SaLes exEcUtIvE  -  Sales ',\n",
       "       ' ReseArCH scIenTIst  -  Research & Development ',\n",
       "       ' ReseArch sCienTiST  -  Research & Development ',\n",
       "       ' ReSEarcH SCiEnTISt  -  Research & Development ',\n",
       "       ' laBORATORY tECHNiciAN  -  Research & Development ',\n",
       "       ' rESeArCH sCIeNtISt  -  Research & Development ',\n",
       "       ' humAN resoURCEs  -  Human Resources ',\n",
       "       ' REseARCh scieNTIsT  -  Research & Development ',\n",
       "       ' SaLeS REPRESENtATIvE  -  Sales ',\n",
       "       ' ResEArch SciEntiST  -  Research & Development ',\n",
       "       ' ReSEaRCh SCIEnTist  -  Research & Development ',\n",
       "       ' hUmAn REsOurCES  -  Human Resources ',\n",
       "       ' sALeS EXecuTIVe  -  Sales ',\n",
       "       ' ReseArCh SciENTIsT  -  Research & Development ',\n",
       "       ' sALes rEprESentAtIvE  -  Sales ',\n",
       "       ' humaN reSOUrcEs  -  Human Resources ',\n",
       "       ' lAboRatOrY TechNiCiAn  -  Research & Development ',\n",
       "       ' HeAlthcaRE rEPrEseNTaTIVE  -  Research & Development ',\n",
       "       ' sALeS eXecuTIvE  -  Sales ', ' SALeS RepREsEnTatiVe  -  Sales ',\n",
       "       ' SaLes rePrESENTaTivE  -  Sales ',\n",
       "       ' rESEaRch sCientISt  -  Research & Development ',\n",
       "       ' laBORatoRy TEcHnician  -  Research & Development ',\n",
       "       ' ReSeaRch SCIentiST  -  Research & Development ',\n",
       "       ' RESEarch ScieNtIst  -  Research & Development ',\n",
       "       ' sALeS RePresenTAtivE  -  Sales ',\n",
       "       ' LABORAToRy tEchNICiAn  -  Research & Development ',\n",
       "       ' ResEArch sCIEnTiST  -  Research & Development ',\n",
       "       ' ReSEArcH sCIeNtist  -  Research & Development ',\n",
       "       ' LaBoRaTory techNICIAN  -  Research & Development ',\n",
       "       ' hEaLThcARE rEpresEntATiVE  -  Research & Development ',\n",
       "       ' mANufActuRIng DirECTOR  -  Research & Development ',\n",
       "       ' laBOraTOrY TecHNIcIan  -  Research & Development ',\n",
       "       ' sALES ReprEsentatiVE  -  Sales ',\n",
       "       ' laBoRatoRy TEChNICiAN  -  Research & Development ',\n",
       "       ' ReSEarch scIeNTIsT  -  Research & Development ',\n",
       "       ' researCh SCientIsT  -  Research & Development ',\n",
       "       ' ReseaRch scIENTisT  -  Research & Development ',\n",
       "       ' lAboRaToRY teChNICIan  -  Research & Development ',\n",
       "       ' rEsEaRCh diReCtOR  -  Research & Development ',\n",
       "       ' labORAtoRy tEcHNICIAN  -  Research & Development ',\n",
       "       ' SAlES exeCutive  -  Sales ',\n",
       "       ' hEalthCaRe reprEseNTaTiVe  -  Research & Development ',\n",
       "       ' ManufacTURInG DIRECtOR  -  Research & Development ',\n",
       "       ' sAles exEcUtIve  -  Sales ',\n",
       "       ' reseARCh SCieNTisT  -  Research & Development ',\n",
       "       ' reSEarcH scIENtISt  -  Research & Development ',\n",
       "       ' reseArCH scIentISt  -  Research & Development ',\n",
       "       ' MANuFaCturiNG dIRECTOR  -  Research & Development ',\n",
       "       ' HuMan resoUrCes  -  Human Resources ',\n",
       "       ' huMAn Resources  -  Human Resources ',\n",
       "       ' Sales EXEcUTiVe  -  Sales ',\n",
       "       ' reSEaRCH scIenTisT  -  Research & Development ',\n",
       "       ' sales rEpRESEnTatIve  -  Sales ',\n",
       "       ' reseaRch DIrecTOr  -  Research & Development ',\n",
       "       ' sALeS eXECutivE  -  Sales ',\n",
       "       ' Human REsouRCeS  -  Human Resources ',\n",
       "       ' rESeArcH sCientIST  -  Research & Development ',\n",
       "       ' SAlES RepreSENtATiVe  -  Sales ', ' SAles execUTIve  -  Sales ',\n",
       "       ' RESEArch SCIEnTISt  -  Research & Development ',\n",
       "       ' labOrATOry TEchnIcIaN  -  Research & Development ',\n",
       "       ' sALes ExEcUTIVe  -  Sales ',\n",
       "       ' REsEARch sCIenTIsT  -  Research & Development ',\n",
       "       ' RESeARch ScIeNtisT  -  Research & Development ',\n",
       "       ' rEseARCH ScIeNtIST  -  Research & Development ',\n",
       "       ' ManAGEr  -  Research & Development ',\n",
       "       ' LaBoratory TECHnICIAn  -  Research & Development ',\n",
       "       ' saLES exEcutivE  -  Sales ',\n",
       "       ' LABorATory TecHnIcIaN  -  Research & Development ',\n",
       "       ' HumAN REsourceS  -  Human Resources ',\n",
       "       ' reseaRCh SCIentIst  -  Research & Development ',\n",
       "       ' LaBOrAToRy teChNiciAn  -  Research & Development ',\n",
       "       ' LaborAtorY Technician  -  Research & Development ',\n",
       "       ' rEseaRCH sCIeNtiSt  -  Research & Development ',\n",
       "       ' LABOrATOrY TEchnIcIAn  -  Research & Development ',\n",
       "       ' ReSeARCh DireCtOr  -  Research & Development ',\n",
       "       ' LaBORatORy tEchNiCian  -  Research & Development ',\n",
       "       ' laBorATOrY TeChNIcIAn  -  Research & Development ',\n",
       "       ' sALEs RePREsentaTive  -  Sales ', ' mAnageR  -  Sales ',\n",
       "       ' rESEArcH SCiEntIst  -  Research & Development ',\n",
       "       ' heAlThcaRe REprESeNTATive  -  Research & Development ',\n",
       "       ' LABoratOry TeCHnIcIan  -  Research & Development ',\n",
       "       ' hEAlthCarE rEpresenTATiVe  -  Research & Development ',\n",
       "       ' HealTHcaRE rEPreSEntATive  -  Research & Development ',\n",
       "       ' MaNUfActuRInG diREctOr  -  Research & Development ',\n",
       "       ' saLes REPrEsentAtiVE  -  Sales ',\n",
       "       ' LABorAtORy TEchnIciAn  -  Research & Development ',\n",
       "       ' rEsEARcH ScieNTisT  -  Research & Development ',\n",
       "       ' SalEs eXecuTive  -  Sales ', ' SaLeS EXEcUTiVe  -  Sales ',\n",
       "       ' MaNufacTuRINg DirEcTor  -  Research & Development ',\n",
       "       ' resEaRcH scIENTiSt  -  Research & Development ',\n",
       "       ' SALes eXECuTIvE  -  Sales ',\n",
       "       ' LabORatORy tEChnIcIAn  -  Research & Development ',\n",
       "       ' LaBorAtOrY teCHNICIAn  -  Research & Development ',\n",
       "       ' saLEs RePREsentAtiVE  -  Sales ',\n",
       "       ' laBOrATORY TechNiCiAn  -  Research & Development ',\n",
       "       ' sALes exECutIVe  -  Sales ',\n",
       "       ' LabOraToRy technICiAN  -  Research & Development ',\n",
       "       ' lAborAtORY TeCHNIciAN  -  Research & Development ',\n",
       "       ' SAlES rePrESentaTIVe  -  Sales ',\n",
       "       ' mANager  -  Research & Development ',\n",
       "       ' HEAlThcARe rEPREseNtATIVe  -  Research & Development ',\n",
       "       ' REsEArCH dIrECTOr  -  Research & Development ',\n",
       "       ' rESeaRch SCIeNTIST  -  Research & Development ',\n",
       "       ' SALEs REpRESentatIve  -  Sales ', ' SalES eXecUTiVE  -  Sales ',\n",
       "       ' SaLes REPREseNtATive  -  Sales ',\n",
       "       ' ReSeArch sCIEnTiSt  -  Research & Development ',\n",
       "       ' sales REPReSeNtAtIVe  -  Sales ', ' sAles execUtIve  -  Sales ',\n",
       "       ' LABOrATORy tEChNiCIaN  -  Research & Development ',\n",
       "       ' hEalthCarE REPResEnTaTive  -  Research & Development ',\n",
       "       ' mANagER  -  Research & Development ',\n",
       "       ' sales repResENTaTiVE  -  Sales ',\n",
       "       ' laboRAToRY tEChniCIAN  -  Research & Development ',\n",
       "       ' resEaRcH sCIeNTisT  -  Research & Development ',\n",
       "       ' maNuFAcTurING diREctOr  -  Research & Development ',\n",
       "       ' mAnAger  -  Research & Development ',\n",
       "       ' SALes eXEcUtiVe  -  Sales ',\n",
       "       ' reSearCh SCiEnTist  -  Research & Development ',\n",
       "       ' rESEARch SciENtiSt  -  Research & Development ',\n",
       "       ' hUman ResourCeS  -  Human Resources ',\n",
       "       ' SALES exeCUtIve  -  Sales ',\n",
       "       ' ReseaRcH sCientiSt  -  Research & Development ',\n",
       "       ' LAbORaTory tEcHnIciAN  -  Research & Development ',\n",
       "       ' lABOraTOrY tecHniciaN  -  Research & Development ',\n",
       "       ' sALeS exEcUtiVe  -  Sales ', ' salEs eXEcuTIvE  -  Sales ',\n",
       "       ' SAleS ExEcuTiVE  -  Sales ', ' SaLeS exEcUTiVE  -  Sales ',\n",
       "       ' ReSEArch scieNTiST  -  Research & Development ',\n",
       "       ' reSEArCh sCieNtiST  -  Research & Development ',\n",
       "       ' ReseaRCh dIRecTor  -  Research & Development ',\n",
       "       ' SaLEs ExECUtiVE  -  Sales ',\n",
       "       ' LAbORAToRy tEcHNICian  -  Research & Development ',\n",
       "       ' sAleS EXECUtIvE  -  Sales '], dtype=object)"
      ]
     },
     "execution_count": 24,
     "metadata": {},
     "output_type": "execute_result"
    }
   ],
   "source": [
    "df_ejemplo[\"RoleDepartament\"].unique()"
   ]
  },
  {
   "cell_type": "code",
   "execution_count": null,
   "metadata": {},
   "outputs": [
    {
     "data": {
      "text/plain": [
       "RoleDepartament\n",
       " MaNAgeR  -  Sales                                        2\n",
       " ManaGER  -  Research & Development                       1\n",
       " ReseaRch scIENTisT  -  Research & Development            1\n",
       " ManufacTURInG DIRECtOR  -  Research & Development        1\n",
       " hEalthCaRe reprEseNTaTiVe  -  Research & Development     1\n",
       "                                                         ..\n",
       " saLES eXEcUTiVE  -  Sales                                1\n",
       " mANUfacTURiNG dIRectOR  -  Research & Development        1\n",
       " huMAn ResOurces  -  Human Resources                      1\n",
       " HUMAN ResoURCeS  -  Human Resources                      1\n",
       " sAleS EXECUtIvE  -  Sales                                1\n",
       "Name: count, Length: 301, dtype: int64"
      ]
     },
     "execution_count": 23,
     "metadata": {},
     "output_type": "execute_result"
    }
   ],
   "source": [
    "df_ejemplo[\"RoleDepartament\"].value_counts()"
   ]
  },
  {
   "cell_type": "markdown",
   "metadata": {},
   "source": [
    "Columna \"NUMBERCHILDREN\"\n",
    "\n",
    "1. no hay valores, mejor eliminarla"
   ]
  },
  {
   "cell_type": "code",
   "execution_count": null,
   "metadata": {},
   "outputs": [
    {
     "name": "stdout",
     "output_type": "stream",
     "text": [
      "<class 'pandas.core.series.Series'>\n",
      "Index: 1614 entries, 0 to 1613\n",
      "Series name: NUMBERCHILDREN\n",
      "Non-Null Count  Dtype  \n",
      "--------------  -----  \n",
      "0 non-null      float64\n",
      "dtypes: float64(1)\n",
      "memory usage: 89.8 KB\n"
     ]
    }
   ],
   "source": [
    "df_ejemplo[\"NUMBERCHILDREN\"].info()"
   ]
  },
  {
   "cell_type": "markdown",
   "metadata": {},
   "source": [
    "Columna \"RemoteWork\"\n",
    "\n",
    "1. hay 5 valores unicos: 0,1,yes,false,true; no sabemos qué es 0 y 1\n"
   ]
  },
  {
   "cell_type": "code",
   "execution_count": null,
   "metadata": {},
   "outputs": [
    {
     "data": {
      "text/plain": [
       "RemoteWork\n",
       "1        360\n",
       "True     345\n",
       "0        309\n",
       "False    305\n",
       "Yes      295\n",
       "Name: count, dtype: int64"
      ]
     },
     "execution_count": 27,
     "metadata": {},
     "output_type": "execute_result"
    }
   ],
   "source": [
    "df_ejemplo[\"RemoteWork\"].value_counts()\n"
   ]
  },
  {
   "cell_type": "code",
   "execution_count": null,
   "metadata": {},
   "outputs": [
    {
     "name": "stdout",
     "output_type": "stream",
     "text": [
      "<class 'pandas.core.series.Series'>\n",
      "Index: 1614 entries, 0 to 1613\n",
      "Series name: RemoteWork\n",
      "Non-Null Count  Dtype \n",
      "--------------  ----- \n",
      "1614 non-null   object\n",
      "dtypes: object(1)\n",
      "memory usage: 25.2+ KB\n"
     ]
    }
   ],
   "source": [
    "df_ejemplo[\"RemoteWork\"].info()"
   ]
  },
  {
   "cell_type": "markdown",
   "metadata": {},
   "source": [
    "COLUMNA WORKLIFEBALANCE"
   ]
  },
  {
   "cell_type": "code",
   "execution_count": null,
   "metadata": {},
   "outputs": [
    {
     "name": "stdout",
     "output_type": "stream",
     "text": [
      "<class 'pandas.core.series.Series'>\n",
      "Index: 1614 entries, 0 to 1613\n",
      "Series name: WORKLIFEBALANCE\n",
      "Non-Null Count  Dtype \n",
      "--------------  ----- \n",
      "1506 non-null   object\n",
      "dtypes: object(1)\n",
      "memory usage: 25.2+ KB\n"
     ]
    }
   ],
   "source": [
    "df_ejemplo[\"WORKLIFEBALANCE\"].info()"
   ]
  },
  {
   "cell_type": "code",
   "execution_count": null,
   "metadata": {},
   "outputs": [
    {
     "data": {
      "text/plain": [
       "WORKLIFEBALANCE\n",
       "3,0    913\n",
       "2,0    359\n",
       "4,0    155\n",
       "1,0     79\n",
       "Name: count, dtype: int64"
      ]
     },
     "execution_count": 31,
     "metadata": {},
     "output_type": "execute_result"
    }
   ],
   "source": [
    "df_ejemplo[\"WORKLIFEBALANCE\"].value_counts()"
   ]
  },
  {
   "cell_type": "code",
   "execution_count": null,
   "metadata": {},
   "outputs": [],
   "source": [
    "df_ejemplo[\"WORKLIFEBALANCE\"].info()"
   ]
  },
  {
   "cell_type": "code",
   "execution_count": null,
   "metadata": {},
   "outputs": [
    {
     "data": {
      "text/plain": [
       "108"
      ]
     },
     "execution_count": 30,
     "metadata": {},
     "output_type": "execute_result"
    }
   ],
   "source": [
    "df_ejemplo[\"WORKLIFEBALANCE\"].isnull().sum()"
   ]
  },
  {
   "cell_type": "code",
   "execution_count": null,
   "metadata": {},
   "outputs": [],
   "source": [
    "df_ejemplo['WORKLIFEBALANCE'] = df_ejemplo['WORKLIFEBALANCE'].str.replace(',', '.') #sacamos el símbolo de la currency de la columna para poder convertir a float\n",
    "\n",
    "# Convertir los valores a tipo float \n",
    "df_ejemplo['WORKLIFEBALANCE'] = df_ejemplo['WORKLIFEBALANCE'].astype(float)"
   ]
  },
  {
   "cell_type": "markdown",
   "metadata": {},
   "source": [
    "Columna YearsAtCompany"
   ]
  },
  {
   "cell_type": "code",
   "execution_count": null,
   "metadata": {},
   "outputs": [
    {
     "name": "stdout",
     "output_type": "stream",
     "text": [
      "<class 'pandas.core.series.Series'>\n",
      "Index: 1614 entries, 0 to 1613\n",
      "Series name: YearsAtCompany\n",
      "Non-Null Count  Dtype\n",
      "--------------  -----\n",
      "1614 non-null   int64\n",
      "dtypes: int64(1)\n",
      "memory usage: 25.2 KB\n"
     ]
    }
   ],
   "source": [
    "df_ejemplo[\"YearsAtCompany\"].info()"
   ]
  },
  {
   "cell_type": "code",
   "execution_count": null,
   "metadata": {},
   "outputs": [
    {
     "data": {
      "text/plain": [
       "YearsAtCompany\n",
       "5     208\n",
       "1     171\n",
       "3     141\n",
       "2     141\n",
       "10    133\n",
       "7     115\n",
       "4     114\n",
       "8     106\n",
       "9      94\n",
       "6      78\n",
       "0      44\n",
       "11     36\n",
       "20     29\n",
       "13     26\n",
       "15     21\n",
       "14     19\n",
       "22     17\n",
       "12     15\n",
       "18     15\n",
       "16     14\n",
       "21     14\n",
       "19     12\n",
       "17      9\n",
       "24      7\n",
       "25      5\n",
       "33      5\n",
       "26      4\n",
       "32      3\n",
       "27      3\n",
       "31      3\n",
       "36      3\n",
       "29      2\n",
       "23      2\n",
       "40      2\n",
       "34      1\n",
       "37      1\n",
       "30      1\n",
       "Name: count, dtype: int64"
      ]
     },
     "execution_count": 34,
     "metadata": {},
     "output_type": "execute_result"
    }
   ],
   "source": [
    "df_ejemplo[\"YearsAtCompany\"].value_counts()"
   ]
  },
  {
   "cell_type": "markdown",
   "metadata": {},
   "source": [
    "Columna YearsInCurrentRole\n",
    "1. muchos nulos quizás conveniente eliminarla"
   ]
  },
  {
   "cell_type": "code",
   "execution_count": null,
   "metadata": {},
   "outputs": [
    {
     "name": "stdout",
     "output_type": "stream",
     "text": [
      "<class 'pandas.core.series.Series'>\n",
      "Index: 1614 entries, 0 to 1613\n",
      "Series name: YearsInCurrentRole\n",
      "Non-Null Count  Dtype \n",
      "--------------  ----- \n",
      "34 non-null     object\n",
      "dtypes: object(1)\n",
      "memory usage: 25.2+ KB\n"
     ]
    }
   ],
   "source": [
    "df_ejemplo[\"YearsInCurrentRole\"].info()\n"
   ]
  },
  {
   "cell_type": "code",
   "execution_count": null,
   "metadata": {},
   "outputs": [
    {
     "data": {
      "text/plain": [
       "1580"
      ]
     },
     "execution_count": 36,
     "metadata": {},
     "output_type": "execute_result"
    }
   ],
   "source": [
    "df_ejemplo[\"YearsInCurrentRole\"].isnull().sum()"
   ]
  }
 ],
 "metadata": {
  "kernelspec": {
   "display_name": "Python 3",
   "language": "python",
   "name": "python3"
  },
  "language_info": {
   "codemirror_mode": {
    "name": "ipython",
    "version": 3
   },
   "file_extension": ".py",
   "mimetype": "text/x-python",
   "name": "python",
   "nbconvert_exporter": "python",
   "pygments_lexer": "ipython3",
   "version": "3.9.7"
  }
 },
 "nbformat": 4,
 "nbformat_minor": 2
}
