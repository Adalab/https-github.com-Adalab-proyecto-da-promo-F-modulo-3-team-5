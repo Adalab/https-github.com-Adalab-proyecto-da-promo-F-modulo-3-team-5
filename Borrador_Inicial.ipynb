{
 "cells": [
  {
   "cell_type": "markdown",
   "metadata": {},
   "source": [
    "Puntos generales\n",
    "\n",
    "1. Homogeneizar los nombres de las columnas Todo lower?"
   ]
  },
  {
   "cell_type": "code",
   "execution_count": 2,
   "metadata": {},
   "outputs": [],
   "source": [
    "import pandas as pd"
   ]
  },
  {
   "cell_type": "code",
   "execution_count": 3,
   "metadata": {},
   "outputs": [
    {
     "data": {
      "text/html": [
       "<div>\n",
       "<style scoped>\n",
       "    .dataframe tbody tr th:only-of-type {\n",
       "        vertical-align: middle;\n",
       "    }\n",
       "\n",
       "    .dataframe tbody tr th {\n",
       "        vertical-align: top;\n",
       "    }\n",
       "\n",
       "    .dataframe thead th {\n",
       "        text-align: right;\n",
       "    }\n",
       "</style>\n",
       "<table border=\"1\" class=\"dataframe\">\n",
       "  <thead>\n",
       "    <tr style=\"text-align: right;\">\n",
       "      <th></th>\n",
       "      <th>Age</th>\n",
       "      <th>Attrition</th>\n",
       "      <th>BusinessTravel</th>\n",
       "      <th>DailyRate</th>\n",
       "      <th>Department</th>\n",
       "      <th>DistanceFromHome</th>\n",
       "      <th>Education</th>\n",
       "      <th>EducationField</th>\n",
       "      <th>employeecount</th>\n",
       "      <th>employeenumber</th>\n",
       "      <th>...</th>\n",
       "      <th>YearsAtCompany</th>\n",
       "      <th>YearsInCurrentRole</th>\n",
       "      <th>YearsSinceLastPromotion</th>\n",
       "      <th>YEARSWITHCURRMANAGER</th>\n",
       "      <th>SameAsMonthlyIncome</th>\n",
       "      <th>DateBirth</th>\n",
       "      <th>Salary</th>\n",
       "      <th>RoleDepartament</th>\n",
       "      <th>NUMBERCHILDREN</th>\n",
       "      <th>RemoteWork</th>\n",
       "    </tr>\n",
       "  </thead>\n",
       "  <tbody>\n",
       "    <tr>\n",
       "      <th>0</th>\n",
       "      <td>51</td>\n",
       "      <td>No</td>\n",
       "      <td>NaN</td>\n",
       "      <td>684,0$</td>\n",
       "      <td>NaN</td>\n",
       "      <td>6</td>\n",
       "      <td>3</td>\n",
       "      <td>NaN</td>\n",
       "      <td>1</td>\n",
       "      <td>162,0</td>\n",
       "      <td>...</td>\n",
       "      <td>20</td>\n",
       "      <td>NaN</td>\n",
       "      <td>15</td>\n",
       "      <td>15</td>\n",
       "      <td>19537,0</td>\n",
       "      <td>1972</td>\n",
       "      <td>1000000000$</td>\n",
       "      <td>NaN</td>\n",
       "      <td>NaN</td>\n",
       "      <td>Yes</td>\n",
       "    </tr>\n",
       "    <tr>\n",
       "      <th>1</th>\n",
       "      <td>52</td>\n",
       "      <td>No</td>\n",
       "      <td>NaN</td>\n",
       "      <td>699,0$</td>\n",
       "      <td>NaN</td>\n",
       "      <td>1</td>\n",
       "      <td>4</td>\n",
       "      <td>Life Sciences</td>\n",
       "      <td>1</td>\n",
       "      <td>259,0</td>\n",
       "      <td>...</td>\n",
       "      <td>33</td>\n",
       "      <td>NaN</td>\n",
       "      <td>11</td>\n",
       "      <td>9</td>\n",
       "      <td>19999,0</td>\n",
       "      <td>1971</td>\n",
       "      <td>1000000000$</td>\n",
       "      <td>NaN</td>\n",
       "      <td>NaN</td>\n",
       "      <td>1</td>\n",
       "    </tr>\n",
       "    <tr>\n",
       "      <th>2</th>\n",
       "      <td>42</td>\n",
       "      <td>No</td>\n",
       "      <td>travel_rarely</td>\n",
       "      <td>532,0$</td>\n",
       "      <td>Research &amp; Development</td>\n",
       "      <td>4</td>\n",
       "      <td>2</td>\n",
       "      <td>Technical Degree</td>\n",
       "      <td>1</td>\n",
       "      <td>319,0</td>\n",
       "      <td>...</td>\n",
       "      <td>22</td>\n",
       "      <td>NaN</td>\n",
       "      <td>11</td>\n",
       "      <td>15</td>\n",
       "      <td>19232,0</td>\n",
       "      <td>1981</td>\n",
       "      <td>1000000000$</td>\n",
       "      <td>ManaGER  -  Research &amp; Development</td>\n",
       "      <td>NaN</td>\n",
       "      <td>1</td>\n",
       "    </tr>\n",
       "    <tr>\n",
       "      <th>3</th>\n",
       "      <td>47</td>\n",
       "      <td>No</td>\n",
       "      <td>travel_rarely</td>\n",
       "      <td>359,0$</td>\n",
       "      <td>NaN</td>\n",
       "      <td>2</td>\n",
       "      <td>4</td>\n",
       "      <td>Medical</td>\n",
       "      <td>1</td>\n",
       "      <td>NaN</td>\n",
       "      <td>...</td>\n",
       "      <td>20</td>\n",
       "      <td>NaN</td>\n",
       "      <td>5</td>\n",
       "      <td>6</td>\n",
       "      <td>17169,0</td>\n",
       "      <td>1976</td>\n",
       "      <td>1000000000$</td>\n",
       "      <td>NaN</td>\n",
       "      <td>NaN</td>\n",
       "      <td>False</td>\n",
       "    </tr>\n",
       "    <tr>\n",
       "      <th>4</th>\n",
       "      <td>46</td>\n",
       "      <td>No</td>\n",
       "      <td>NaN</td>\n",
       "      <td>1319,0$</td>\n",
       "      <td>NaN</td>\n",
       "      <td>3</td>\n",
       "      <td>3</td>\n",
       "      <td>Technical Degree</td>\n",
       "      <td>1</td>\n",
       "      <td>NaN</td>\n",
       "      <td>...</td>\n",
       "      <td>19</td>\n",
       "      <td>NaN</td>\n",
       "      <td>2</td>\n",
       "      <td>8</td>\n",
       "      <td>NaN</td>\n",
       "      <td>1977</td>\n",
       "      <td>1000000000$</td>\n",
       "      <td>NaN</td>\n",
       "      <td>NaN</td>\n",
       "      <td>0</td>\n",
       "    </tr>\n",
       "    <tr>\n",
       "      <th>...</th>\n",
       "      <td>...</td>\n",
       "      <td>...</td>\n",
       "      <td>...</td>\n",
       "      <td>...</td>\n",
       "      <td>...</td>\n",
       "      <td>...</td>\n",
       "      <td>...</td>\n",
       "      <td>...</td>\n",
       "      <td>...</td>\n",
       "      <td>...</td>\n",
       "      <td>...</td>\n",
       "      <td>...</td>\n",
       "      <td>...</td>\n",
       "      <td>...</td>\n",
       "      <td>...</td>\n",
       "      <td>...</td>\n",
       "      <td>...</td>\n",
       "      <td>...</td>\n",
       "      <td>...</td>\n",
       "      <td>...</td>\n",
       "      <td>...</td>\n",
       "    </tr>\n",
       "    <tr>\n",
       "      <th>1609</th>\n",
       "      <td>36</td>\n",
       "      <td>Yes</td>\n",
       "      <td>travel_rarely</td>\n",
       "      <td>530,0$</td>\n",
       "      <td>NaN</td>\n",
       "      <td>3</td>\n",
       "      <td>1</td>\n",
       "      <td>Life Sciences</td>\n",
       "      <td>1</td>\n",
       "      <td>967,0</td>\n",
       "      <td>...</td>\n",
       "      <td>16</td>\n",
       "      <td>NaN</td>\n",
       "      <td>3</td>\n",
       "      <td>7</td>\n",
       "      <td>10325,0</td>\n",
       "      <td>1987</td>\n",
       "      <td>1000000000$</td>\n",
       "      <td>NaN</td>\n",
       "      <td>NaN</td>\n",
       "      <td>0</td>\n",
       "    </tr>\n",
       "    <tr>\n",
       "      <th>1610</th>\n",
       "      <td>45</td>\n",
       "      <td>No</td>\n",
       "      <td>non-travel</td>\n",
       "      <td>805,0$</td>\n",
       "      <td>NaN</td>\n",
       "      <td>4</td>\n",
       "      <td>2</td>\n",
       "      <td>NaN</td>\n",
       "      <td>1</td>\n",
       "      <td>972,0</td>\n",
       "      <td>...</td>\n",
       "      <td>9</td>\n",
       "      <td>NaN</td>\n",
       "      <td>0</td>\n",
       "      <td>8</td>\n",
       "      <td>4447,0</td>\n",
       "      <td>1978</td>\n",
       "      <td>1000000000$</td>\n",
       "      <td>NaN</td>\n",
       "      <td>NaN</td>\n",
       "      <td>1</td>\n",
       "    </tr>\n",
       "    <tr>\n",
       "      <th>1611</th>\n",
       "      <td>39</td>\n",
       "      <td>No</td>\n",
       "      <td>travel_rarely</td>\n",
       "      <td>903,0$</td>\n",
       "      <td>NaN</td>\n",
       "      <td>-13</td>\n",
       "      <td>5</td>\n",
       "      <td>NaN</td>\n",
       "      <td>1</td>\n",
       "      <td>NaN</td>\n",
       "      <td>...</td>\n",
       "      <td>8</td>\n",
       "      <td>NaN</td>\n",
       "      <td>0</td>\n",
       "      <td>7</td>\n",
       "      <td>NaN</td>\n",
       "      <td>1984</td>\n",
       "      <td>1000000000$</td>\n",
       "      <td>NaN</td>\n",
       "      <td>NaN</td>\n",
       "      <td>Yes</td>\n",
       "    </tr>\n",
       "    <tr>\n",
       "      <th>1612</th>\n",
       "      <td>36</td>\n",
       "      <td>No</td>\n",
       "      <td>non-travel</td>\n",
       "      <td>1229,0$</td>\n",
       "      <td>NaN</td>\n",
       "      <td>8</td>\n",
       "      <td>4</td>\n",
       "      <td>Technical Degree</td>\n",
       "      <td>1</td>\n",
       "      <td>990,0</td>\n",
       "      <td>...</td>\n",
       "      <td>7</td>\n",
       "      <td>NaN</td>\n",
       "      <td>0</td>\n",
       "      <td>7</td>\n",
       "      <td>NaN</td>\n",
       "      <td>1987</td>\n",
       "      <td>1000000000$</td>\n",
       "      <td>NaN</td>\n",
       "      <td>NaN</td>\n",
       "      <td>True</td>\n",
       "    </tr>\n",
       "    <tr>\n",
       "      <th>1613</th>\n",
       "      <td>46</td>\n",
       "      <td>No</td>\n",
       "      <td>NaN</td>\n",
       "      <td>566,0$</td>\n",
       "      <td>NaN</td>\n",
       "      <td>7</td>\n",
       "      <td>2</td>\n",
       "      <td>Medical</td>\n",
       "      <td>1</td>\n",
       "      <td>NaN</td>\n",
       "      <td>...</td>\n",
       "      <td>8</td>\n",
       "      <td>NaN</td>\n",
       "      <td>0</td>\n",
       "      <td>7</td>\n",
       "      <td>10845,0</td>\n",
       "      <td>1977</td>\n",
       "      <td>1000000000$</td>\n",
       "      <td>NaN</td>\n",
       "      <td>NaN</td>\n",
       "      <td>0</td>\n",
       "    </tr>\n",
       "  </tbody>\n",
       "</table>\n",
       "<p>1614 rows × 41 columns</p>\n",
       "</div>"
      ],
      "text/plain": [
       "     Age Attrition BusinessTravel DailyRate                Department  \\\n",
       "0     51        No            NaN    684,0$                       NaN   \n",
       "1     52        No            NaN    699,0$                       NaN   \n",
       "2     42        No  travel_rarely    532,0$   Research & Development    \n",
       "3     47        No  travel_rarely    359,0$                       NaN   \n",
       "4     46        No            NaN   1319,0$                       NaN   \n",
       "...   ..       ...            ...       ...                       ...   \n",
       "1609  36       Yes  travel_rarely    530,0$                       NaN   \n",
       "1610  45        No     non-travel    805,0$                       NaN   \n",
       "1611  39        No  travel_rarely    903,0$                       NaN   \n",
       "1612  36        No     non-travel   1229,0$                       NaN   \n",
       "1613  46        No            NaN    566,0$                       NaN   \n",
       "\n",
       "      DistanceFromHome  Education    EducationField  employeecount  \\\n",
       "0                    6          3               NaN              1   \n",
       "1                    1          4     Life Sciences              1   \n",
       "2                    4          2  Technical Degree              1   \n",
       "3                    2          4           Medical              1   \n",
       "4                    3          3  Technical Degree              1   \n",
       "...                ...        ...               ...            ...   \n",
       "1609                 3          1     Life Sciences              1   \n",
       "1610                 4          2               NaN              1   \n",
       "1611               -13          5               NaN              1   \n",
       "1612                 8          4  Technical Degree              1   \n",
       "1613                 7          2           Medical              1   \n",
       "\n",
       "     employeenumber  ...  YearsAtCompany  YearsInCurrentRole  \\\n",
       "0             162,0  ...              20                 NaN   \n",
       "1             259,0  ...              33                 NaN   \n",
       "2             319,0  ...              22                 NaN   \n",
       "3               NaN  ...              20                 NaN   \n",
       "4               NaN  ...              19                 NaN   \n",
       "...             ...  ...             ...                 ...   \n",
       "1609          967,0  ...              16                 NaN   \n",
       "1610          972,0  ...               9                 NaN   \n",
       "1611            NaN  ...               8                 NaN   \n",
       "1612          990,0  ...               7                 NaN   \n",
       "1613            NaN  ...               8                 NaN   \n",
       "\n",
       "     YearsSinceLastPromotion  YEARSWITHCURRMANAGER  SameAsMonthlyIncome  \\\n",
       "0                         15                    15              19537,0   \n",
       "1                         11                     9              19999,0   \n",
       "2                         11                    15              19232,0   \n",
       "3                          5                     6              17169,0   \n",
       "4                          2                     8                  NaN   \n",
       "...                      ...                   ...                  ...   \n",
       "1609                       3                     7              10325,0   \n",
       "1610                       0                     8               4447,0   \n",
       "1611                       0                     7                  NaN   \n",
       "1612                       0                     7                  NaN   \n",
       "1613                       0                     7              10845,0   \n",
       "\n",
       "     DateBirth       Salary                       RoleDepartament  \\\n",
       "0         1972  1000000000$                                   NaN   \n",
       "1         1971  1000000000$                                   NaN   \n",
       "2         1981  1000000000$   ManaGER  -  Research & Development    \n",
       "3         1976  1000000000$                                   NaN   \n",
       "4         1977  1000000000$                                   NaN   \n",
       "...        ...          ...                                   ...   \n",
       "1609      1987  1000000000$                                   NaN   \n",
       "1610      1978  1000000000$                                   NaN   \n",
       "1611      1984  1000000000$                                   NaN   \n",
       "1612      1987  1000000000$                                   NaN   \n",
       "1613      1977  1000000000$                                   NaN   \n",
       "\n",
       "     NUMBERCHILDREN  RemoteWork  \n",
       "0               NaN         Yes  \n",
       "1               NaN           1  \n",
       "2               NaN           1  \n",
       "3               NaN       False  \n",
       "4               NaN           0  \n",
       "...             ...         ...  \n",
       "1609            NaN           0  \n",
       "1610            NaN           1  \n",
       "1611            NaN         Yes  \n",
       "1612            NaN        True  \n",
       "1613            NaN           0  \n",
       "\n",
       "[1614 rows x 41 columns]"
      ]
     },
     "execution_count": 3,
     "metadata": {},
     "output_type": "execute_result"
    }
   ],
   "source": [
    "df_ejemplo=pd.read_csv(\"HR RAW DATA.csv\",index_col=0)\n",
    "df_ejemplo"
   ]
  },
  {
   "cell_type": "markdown",
   "metadata": {},
   "source": [
    "Columna \"AGE\"\n",
    "\n",
    "1. 0 nulos\n",
    "2. En primera instancia la columna era \"object\" pero una vez aplicada la función para convertirlo todo a int podremos usar el método discribe() para que nos muestre los estadísticos y sepamos cuál es la edad mínima entre otros. Ésto nos permitirá eliminar la columna \"Over18\"\n"
   ]
  },
  {
   "cell_type": "code",
   "execution_count": 4,
   "metadata": {},
   "outputs": [],
   "source": [
    "from word2number import w2n\n",
    "#word2numbers es una biblioteca que permite convertir\n",
    "# palabras que representan números en sus equivalentes numéricos. \n",
    "# w2n es una función dentro de esta biblioteca que permite hacer este cambio:\n",
    "# w2n.word_to_num()\n",
    "\n",
    "\n",
    "def convertir_a_numero(valor):\n",
    "    if isinstance(valor, int): # Verifica si el valor ya es un entero, si lo es no hace nada\n",
    "        return valor\n",
    "    elif isinstance(valor, str): # Intenta convertir el valor a número\n",
    "        try: \n",
    "            numero = int(valor)\n",
    "            return numero\n",
    "        except ValueError:\n",
    "            try: # aquí es donde se usa la función w2n en el try pq si la conversion falla entonces se usará\n",
    "                numero = w2n.word_to_num(valor)\n",
    "                return numero\n",
    "            except ValueError:\n",
    "                print(f\"Error: No se pudo convertir '{valor}' a número.\")\n",
    "                return None\n",
    "    else:\n",
    "        print(f\"Error: Tipo de dato no soportado para el valor '{valor}'.\")\n",
    "        return None\n",
    "\n"
   ]
  },
  {
   "cell_type": "code",
   "execution_count": 5,
   "metadata": {},
   "outputs": [
    {
     "data": {
      "text/html": [
       "<div>\n",
       "<style scoped>\n",
       "    .dataframe tbody tr th:only-of-type {\n",
       "        vertical-align: middle;\n",
       "    }\n",
       "\n",
       "    .dataframe tbody tr th {\n",
       "        vertical-align: top;\n",
       "    }\n",
       "\n",
       "    .dataframe thead th {\n",
       "        text-align: right;\n",
       "    }\n",
       "</style>\n",
       "<table border=\"1\" class=\"dataframe\">\n",
       "  <thead>\n",
       "    <tr style=\"text-align: right;\">\n",
       "      <th></th>\n",
       "      <th>Age</th>\n",
       "      <th>Attrition</th>\n",
       "      <th>BusinessTravel</th>\n",
       "      <th>DailyRate</th>\n",
       "      <th>Department</th>\n",
       "      <th>DistanceFromHome</th>\n",
       "      <th>Education</th>\n",
       "      <th>EducationField</th>\n",
       "      <th>employeecount</th>\n",
       "      <th>employeenumber</th>\n",
       "      <th>...</th>\n",
       "      <th>YearsAtCompany</th>\n",
       "      <th>YearsInCurrentRole</th>\n",
       "      <th>YearsSinceLastPromotion</th>\n",
       "      <th>YEARSWITHCURRMANAGER</th>\n",
       "      <th>SameAsMonthlyIncome</th>\n",
       "      <th>DateBirth</th>\n",
       "      <th>Salary</th>\n",
       "      <th>RoleDepartament</th>\n",
       "      <th>NUMBERCHILDREN</th>\n",
       "      <th>RemoteWork</th>\n",
       "    </tr>\n",
       "  </thead>\n",
       "  <tbody>\n",
       "    <tr>\n",
       "      <th>0</th>\n",
       "      <td>51</td>\n",
       "      <td>No</td>\n",
       "      <td>NaN</td>\n",
       "      <td>684,0$</td>\n",
       "      <td>NaN</td>\n",
       "      <td>6</td>\n",
       "      <td>3</td>\n",
       "      <td>NaN</td>\n",
       "      <td>1</td>\n",
       "      <td>162,0</td>\n",
       "      <td>...</td>\n",
       "      <td>20</td>\n",
       "      <td>NaN</td>\n",
       "      <td>15</td>\n",
       "      <td>15</td>\n",
       "      <td>19537,0</td>\n",
       "      <td>1972</td>\n",
       "      <td>1000000000$</td>\n",
       "      <td>NaN</td>\n",
       "      <td>NaN</td>\n",
       "      <td>Yes</td>\n",
       "    </tr>\n",
       "    <tr>\n",
       "      <th>1</th>\n",
       "      <td>52</td>\n",
       "      <td>No</td>\n",
       "      <td>NaN</td>\n",
       "      <td>699,0$</td>\n",
       "      <td>NaN</td>\n",
       "      <td>1</td>\n",
       "      <td>4</td>\n",
       "      <td>Life Sciences</td>\n",
       "      <td>1</td>\n",
       "      <td>259,0</td>\n",
       "      <td>...</td>\n",
       "      <td>33</td>\n",
       "      <td>NaN</td>\n",
       "      <td>11</td>\n",
       "      <td>9</td>\n",
       "      <td>19999,0</td>\n",
       "      <td>1971</td>\n",
       "      <td>1000000000$</td>\n",
       "      <td>NaN</td>\n",
       "      <td>NaN</td>\n",
       "      <td>1</td>\n",
       "    </tr>\n",
       "    <tr>\n",
       "      <th>2</th>\n",
       "      <td>42</td>\n",
       "      <td>No</td>\n",
       "      <td>travel_rarely</td>\n",
       "      <td>532,0$</td>\n",
       "      <td>Research &amp; Development</td>\n",
       "      <td>4</td>\n",
       "      <td>2</td>\n",
       "      <td>Technical Degree</td>\n",
       "      <td>1</td>\n",
       "      <td>319,0</td>\n",
       "      <td>...</td>\n",
       "      <td>22</td>\n",
       "      <td>NaN</td>\n",
       "      <td>11</td>\n",
       "      <td>15</td>\n",
       "      <td>19232,0</td>\n",
       "      <td>1981</td>\n",
       "      <td>1000000000$</td>\n",
       "      <td>ManaGER  -  Research &amp; Development</td>\n",
       "      <td>NaN</td>\n",
       "      <td>1</td>\n",
       "    </tr>\n",
       "    <tr>\n",
       "      <th>3</th>\n",
       "      <td>47</td>\n",
       "      <td>No</td>\n",
       "      <td>travel_rarely</td>\n",
       "      <td>359,0$</td>\n",
       "      <td>NaN</td>\n",
       "      <td>2</td>\n",
       "      <td>4</td>\n",
       "      <td>Medical</td>\n",
       "      <td>1</td>\n",
       "      <td>NaN</td>\n",
       "      <td>...</td>\n",
       "      <td>20</td>\n",
       "      <td>NaN</td>\n",
       "      <td>5</td>\n",
       "      <td>6</td>\n",
       "      <td>17169,0</td>\n",
       "      <td>1976</td>\n",
       "      <td>1000000000$</td>\n",
       "      <td>NaN</td>\n",
       "      <td>NaN</td>\n",
       "      <td>False</td>\n",
       "    </tr>\n",
       "    <tr>\n",
       "      <th>4</th>\n",
       "      <td>46</td>\n",
       "      <td>No</td>\n",
       "      <td>NaN</td>\n",
       "      <td>1319,0$</td>\n",
       "      <td>NaN</td>\n",
       "      <td>3</td>\n",
       "      <td>3</td>\n",
       "      <td>Technical Degree</td>\n",
       "      <td>1</td>\n",
       "      <td>NaN</td>\n",
       "      <td>...</td>\n",
       "      <td>19</td>\n",
       "      <td>NaN</td>\n",
       "      <td>2</td>\n",
       "      <td>8</td>\n",
       "      <td>NaN</td>\n",
       "      <td>1977</td>\n",
       "      <td>1000000000$</td>\n",
       "      <td>NaN</td>\n",
       "      <td>NaN</td>\n",
       "      <td>0</td>\n",
       "    </tr>\n",
       "    <tr>\n",
       "      <th>...</th>\n",
       "      <td>...</td>\n",
       "      <td>...</td>\n",
       "      <td>...</td>\n",
       "      <td>...</td>\n",
       "      <td>...</td>\n",
       "      <td>...</td>\n",
       "      <td>...</td>\n",
       "      <td>...</td>\n",
       "      <td>...</td>\n",
       "      <td>...</td>\n",
       "      <td>...</td>\n",
       "      <td>...</td>\n",
       "      <td>...</td>\n",
       "      <td>...</td>\n",
       "      <td>...</td>\n",
       "      <td>...</td>\n",
       "      <td>...</td>\n",
       "      <td>...</td>\n",
       "      <td>...</td>\n",
       "      <td>...</td>\n",
       "      <td>...</td>\n",
       "    </tr>\n",
       "    <tr>\n",
       "      <th>1609</th>\n",
       "      <td>36</td>\n",
       "      <td>Yes</td>\n",
       "      <td>travel_rarely</td>\n",
       "      <td>530,0$</td>\n",
       "      <td>NaN</td>\n",
       "      <td>3</td>\n",
       "      <td>1</td>\n",
       "      <td>Life Sciences</td>\n",
       "      <td>1</td>\n",
       "      <td>967,0</td>\n",
       "      <td>...</td>\n",
       "      <td>16</td>\n",
       "      <td>NaN</td>\n",
       "      <td>3</td>\n",
       "      <td>7</td>\n",
       "      <td>10325,0</td>\n",
       "      <td>1987</td>\n",
       "      <td>1000000000$</td>\n",
       "      <td>NaN</td>\n",
       "      <td>NaN</td>\n",
       "      <td>0</td>\n",
       "    </tr>\n",
       "    <tr>\n",
       "      <th>1610</th>\n",
       "      <td>45</td>\n",
       "      <td>No</td>\n",
       "      <td>non-travel</td>\n",
       "      <td>805,0$</td>\n",
       "      <td>NaN</td>\n",
       "      <td>4</td>\n",
       "      <td>2</td>\n",
       "      <td>NaN</td>\n",
       "      <td>1</td>\n",
       "      <td>972,0</td>\n",
       "      <td>...</td>\n",
       "      <td>9</td>\n",
       "      <td>NaN</td>\n",
       "      <td>0</td>\n",
       "      <td>8</td>\n",
       "      <td>4447,0</td>\n",
       "      <td>1978</td>\n",
       "      <td>1000000000$</td>\n",
       "      <td>NaN</td>\n",
       "      <td>NaN</td>\n",
       "      <td>1</td>\n",
       "    </tr>\n",
       "    <tr>\n",
       "      <th>1611</th>\n",
       "      <td>39</td>\n",
       "      <td>No</td>\n",
       "      <td>travel_rarely</td>\n",
       "      <td>903,0$</td>\n",
       "      <td>NaN</td>\n",
       "      <td>-13</td>\n",
       "      <td>5</td>\n",
       "      <td>NaN</td>\n",
       "      <td>1</td>\n",
       "      <td>NaN</td>\n",
       "      <td>...</td>\n",
       "      <td>8</td>\n",
       "      <td>NaN</td>\n",
       "      <td>0</td>\n",
       "      <td>7</td>\n",
       "      <td>NaN</td>\n",
       "      <td>1984</td>\n",
       "      <td>1000000000$</td>\n",
       "      <td>NaN</td>\n",
       "      <td>NaN</td>\n",
       "      <td>Yes</td>\n",
       "    </tr>\n",
       "    <tr>\n",
       "      <th>1612</th>\n",
       "      <td>36</td>\n",
       "      <td>No</td>\n",
       "      <td>non-travel</td>\n",
       "      <td>1229,0$</td>\n",
       "      <td>NaN</td>\n",
       "      <td>8</td>\n",
       "      <td>4</td>\n",
       "      <td>Technical Degree</td>\n",
       "      <td>1</td>\n",
       "      <td>990,0</td>\n",
       "      <td>...</td>\n",
       "      <td>7</td>\n",
       "      <td>NaN</td>\n",
       "      <td>0</td>\n",
       "      <td>7</td>\n",
       "      <td>NaN</td>\n",
       "      <td>1987</td>\n",
       "      <td>1000000000$</td>\n",
       "      <td>NaN</td>\n",
       "      <td>NaN</td>\n",
       "      <td>True</td>\n",
       "    </tr>\n",
       "    <tr>\n",
       "      <th>1613</th>\n",
       "      <td>46</td>\n",
       "      <td>No</td>\n",
       "      <td>NaN</td>\n",
       "      <td>566,0$</td>\n",
       "      <td>NaN</td>\n",
       "      <td>7</td>\n",
       "      <td>2</td>\n",
       "      <td>Medical</td>\n",
       "      <td>1</td>\n",
       "      <td>NaN</td>\n",
       "      <td>...</td>\n",
       "      <td>8</td>\n",
       "      <td>NaN</td>\n",
       "      <td>0</td>\n",
       "      <td>7</td>\n",
       "      <td>10845,0</td>\n",
       "      <td>1977</td>\n",
       "      <td>1000000000$</td>\n",
       "      <td>NaN</td>\n",
       "      <td>NaN</td>\n",
       "      <td>0</td>\n",
       "    </tr>\n",
       "  </tbody>\n",
       "</table>\n",
       "<p>1614 rows × 41 columns</p>\n",
       "</div>"
      ],
      "text/plain": [
       "      Age Attrition BusinessTravel DailyRate                Department  \\\n",
       "0      51        No            NaN    684,0$                       NaN   \n",
       "1      52        No            NaN    699,0$                       NaN   \n",
       "2      42        No  travel_rarely    532,0$   Research & Development    \n",
       "3      47        No  travel_rarely    359,0$                       NaN   \n",
       "4      46        No            NaN   1319,0$                       NaN   \n",
       "...   ...       ...            ...       ...                       ...   \n",
       "1609   36       Yes  travel_rarely    530,0$                       NaN   \n",
       "1610   45        No     non-travel    805,0$                       NaN   \n",
       "1611   39        No  travel_rarely    903,0$                       NaN   \n",
       "1612   36        No     non-travel   1229,0$                       NaN   \n",
       "1613   46        No            NaN    566,0$                       NaN   \n",
       "\n",
       "      DistanceFromHome  Education    EducationField  employeecount  \\\n",
       "0                    6          3               NaN              1   \n",
       "1                    1          4     Life Sciences              1   \n",
       "2                    4          2  Technical Degree              1   \n",
       "3                    2          4           Medical              1   \n",
       "4                    3          3  Technical Degree              1   \n",
       "...                ...        ...               ...            ...   \n",
       "1609                 3          1     Life Sciences              1   \n",
       "1610                 4          2               NaN              1   \n",
       "1611               -13          5               NaN              1   \n",
       "1612                 8          4  Technical Degree              1   \n",
       "1613                 7          2           Medical              1   \n",
       "\n",
       "     employeenumber  ...  YearsAtCompany  YearsInCurrentRole  \\\n",
       "0             162,0  ...              20                 NaN   \n",
       "1             259,0  ...              33                 NaN   \n",
       "2             319,0  ...              22                 NaN   \n",
       "3               NaN  ...              20                 NaN   \n",
       "4               NaN  ...              19                 NaN   \n",
       "...             ...  ...             ...                 ...   \n",
       "1609          967,0  ...              16                 NaN   \n",
       "1610          972,0  ...               9                 NaN   \n",
       "1611            NaN  ...               8                 NaN   \n",
       "1612          990,0  ...               7                 NaN   \n",
       "1613            NaN  ...               8                 NaN   \n",
       "\n",
       "     YearsSinceLastPromotion  YEARSWITHCURRMANAGER  SameAsMonthlyIncome  \\\n",
       "0                         15                    15              19537,0   \n",
       "1                         11                     9              19999,0   \n",
       "2                         11                    15              19232,0   \n",
       "3                          5                     6              17169,0   \n",
       "4                          2                     8                  NaN   \n",
       "...                      ...                   ...                  ...   \n",
       "1609                       3                     7              10325,0   \n",
       "1610                       0                     8               4447,0   \n",
       "1611                       0                     7                  NaN   \n",
       "1612                       0                     7                  NaN   \n",
       "1613                       0                     7              10845,0   \n",
       "\n",
       "     DateBirth       Salary                       RoleDepartament  \\\n",
       "0         1972  1000000000$                                   NaN   \n",
       "1         1971  1000000000$                                   NaN   \n",
       "2         1981  1000000000$   ManaGER  -  Research & Development    \n",
       "3         1976  1000000000$                                   NaN   \n",
       "4         1977  1000000000$                                   NaN   \n",
       "...        ...          ...                                   ...   \n",
       "1609      1987  1000000000$                                   NaN   \n",
       "1610      1978  1000000000$                                   NaN   \n",
       "1611      1984  1000000000$                                   NaN   \n",
       "1612      1987  1000000000$                                   NaN   \n",
       "1613      1977  1000000000$                                   NaN   \n",
       "\n",
       "     NUMBERCHILDREN  RemoteWork  \n",
       "0               NaN         Yes  \n",
       "1               NaN           1  \n",
       "2               NaN           1  \n",
       "3               NaN       False  \n",
       "4               NaN           0  \n",
       "...             ...         ...  \n",
       "1609            NaN           0  \n",
       "1610            NaN           1  \n",
       "1611            NaN         Yes  \n",
       "1612            NaN        True  \n",
       "1613            NaN           0  \n",
       "\n",
       "[1614 rows x 41 columns]"
      ]
     },
     "execution_count": 5,
     "metadata": {},
     "output_type": "execute_result"
    }
   ],
   "source": [
    "df_ejemplo['Age'] = df_ejemplo['Age'].apply(convertir_a_numero) #llamamos a la función\n",
    "df_ejemplo\n"
   ]
  },
  {
   "cell_type": "code",
   "execution_count": 6,
   "metadata": {},
   "outputs": [
    {
     "data": {
      "text/plain": [
       "count    1614.000000\n",
       "mean       36.920694\n",
       "std         9.102157\n",
       "min        18.000000\n",
       "25%        30.000000\n",
       "50%        36.000000\n",
       "75%        43.000000\n",
       "max        60.000000\n",
       "Name: Age, dtype: float64"
      ]
     },
     "execution_count": 6,
     "metadata": {},
     "output_type": "execute_result"
    }
   ],
   "source": [
    "df_ejemplo[\"Age\"].describe()"
   ]
  },
  {
   "cell_type": "markdown",
   "metadata": {},
   "source": [
    "Columna \"Attrition\" \n",
    "1. No hay nulos y solo hay yes o no.\n",
    "2. Más adelante veremos cómo trabajarla."
   ]
  },
  {
   "cell_type": "code",
   "execution_count": null,
   "metadata": {},
   "outputs": [],
   "source": []
  },
  {
   "cell_type": "markdown",
   "metadata": {},
   "source": [
    "Columna \"Business travel\"\n",
    "\n",
    "1. preguntar si los que son NaN es pq no viajan \n",
    "2. Qué  % de NaN es relevante para poder eliminar esta columna? Tenemos varios NaN"
   ]
  },
  {
   "cell_type": "code",
   "execution_count": 7,
   "metadata": {},
   "outputs": [
    {
     "data": {
      "text/plain": [
       "array([nan, 'travel_rarely', 'travel_frequently', 'non-travel'],\n",
       "      dtype=object)"
      ]
     },
     "execution_count": 7,
     "metadata": {},
     "output_type": "execute_result"
    }
   ],
   "source": [
    "df_ejemplo[\"BusinessTravel\"].unique()"
   ]
  },
  {
   "cell_type": "markdown",
   "metadata": {},
   "source": [
    "Columna \"DailyRate\""
   ]
  },
  {
   "cell_type": "code",
   "execution_count": 8,
   "metadata": {},
   "outputs": [
    {
     "data": {
      "text/plain": [
       "0        684,0$\n",
       "1        699,0$\n",
       "2        532,0$\n",
       "3        359,0$\n",
       "4       1319,0$\n",
       "         ...   \n",
       "1609     530,0$\n",
       "1610     805,0$\n",
       "1611     903,0$\n",
       "1612    1229,0$\n",
       "1613     566,0$\n",
       "Name: DailyRate, Length: 1614, dtype: object"
      ]
     },
     "execution_count": 8,
     "metadata": {},
     "output_type": "execute_result"
    }
   ],
   "source": [
    "df_ejemplo[\"DailyRate\"] #aquí hemos mirado la info para la columna"
   ]
  },
  {
   "cell_type": "code",
   "execution_count": 9,
   "metadata": {},
   "outputs": [
    {
     "data": {
      "text/plain": [
       "0"
      ]
     },
     "execution_count": 9,
     "metadata": {},
     "output_type": "execute_result"
    }
   ],
   "source": [
    "df_ejemplo[\"DailyRate\"].isnull().sum()#comprobado si había nulos"
   ]
  },
  {
   "cell_type": "code",
   "execution_count": 10,
   "metadata": {},
   "outputs": [
    {
     "data": {
      "text/html": [
       "<div>\n",
       "<style scoped>\n",
       "    .dataframe tbody tr th:only-of-type {\n",
       "        vertical-align: middle;\n",
       "    }\n",
       "\n",
       "    .dataframe tbody tr th {\n",
       "        vertical-align: top;\n",
       "    }\n",
       "\n",
       "    .dataframe thead th {\n",
       "        text-align: right;\n",
       "    }\n",
       "</style>\n",
       "<table border=\"1\" class=\"dataframe\">\n",
       "  <thead>\n",
       "    <tr style=\"text-align: right;\">\n",
       "      <th></th>\n",
       "      <th>Age</th>\n",
       "      <th>Attrition</th>\n",
       "      <th>BusinessTravel</th>\n",
       "      <th>DailyRate</th>\n",
       "      <th>Department</th>\n",
       "      <th>DistanceFromHome</th>\n",
       "      <th>Education</th>\n",
       "      <th>EducationField</th>\n",
       "      <th>employeecount</th>\n",
       "      <th>employeenumber</th>\n",
       "      <th>...</th>\n",
       "      <th>YearsAtCompany</th>\n",
       "      <th>YearsInCurrentRole</th>\n",
       "      <th>YearsSinceLastPromotion</th>\n",
       "      <th>YEARSWITHCURRMANAGER</th>\n",
       "      <th>SameAsMonthlyIncome</th>\n",
       "      <th>DateBirth</th>\n",
       "      <th>Salary</th>\n",
       "      <th>RoleDepartament</th>\n",
       "      <th>NUMBERCHILDREN</th>\n",
       "      <th>RemoteWork</th>\n",
       "    </tr>\n",
       "  </thead>\n",
       "  <tbody>\n",
       "    <tr>\n",
       "      <th>29</th>\n",
       "      <td>34</td>\n",
       "      <td>No</td>\n",
       "      <td>non-travel</td>\n",
       "      <td>nan$</td>\n",
       "      <td>Sales</td>\n",
       "      <td>10</td>\n",
       "      <td>3</td>\n",
       "      <td>Life Sciences</td>\n",
       "      <td>1</td>\n",
       "      <td>1774,0</td>\n",
       "      <td>...</td>\n",
       "      <td>15</td>\n",
       "      <td>NaN</td>\n",
       "      <td>0</td>\n",
       "      <td>7</td>\n",
       "      <td>4001,0</td>\n",
       "      <td>1989</td>\n",
       "      <td>1000000000$</td>\n",
       "      <td>saLEs exEcutIVe  -  Sales</td>\n",
       "      <td>NaN</td>\n",
       "      <td>1</td>\n",
       "    </tr>\n",
       "  </tbody>\n",
       "</table>\n",
       "<p>1 rows × 41 columns</p>\n",
       "</div>"
      ],
      "text/plain": [
       "    Age Attrition BusinessTravel DailyRate Department  DistanceFromHome  \\\n",
       "29   34        No     non-travel      nan$     Sales                 10   \n",
       "\n",
       "    Education EducationField  employeecount employeenumber  ...  \\\n",
       "29          3  Life Sciences              1         1774,0  ...   \n",
       "\n",
       "    YearsAtCompany  YearsInCurrentRole YearsSinceLastPromotion  \\\n",
       "29              15                 NaN                       0   \n",
       "\n",
       "    YEARSWITHCURRMANAGER  SameAsMonthlyIncome DateBirth       Salary  \\\n",
       "29                     7               4001,0      1989  1000000000$   \n",
       "\n",
       "                RoleDepartament NUMBERCHILDREN  RemoteWork  \n",
       "29   saLEs exEcutIVe  -  Sales             NaN           1  \n",
       "\n",
       "[1 rows x 41 columns]"
      ]
     },
     "execution_count": 10,
     "metadata": {},
     "output_type": "execute_result"
    }
   ],
   "source": [
    "df_ejemplo.iloc[29:30,:]# hemos identificado un nulo para hacer el test"
   ]
  },
  {
   "cell_type": "code",
   "execution_count": 11,
   "metadata": {},
   "outputs": [],
   "source": [
    "df_ejemplo['DailyRate'] =(df_ejemplo['DailyRate'].str.replace('$', '').str.replace(',', '.')) # hemos sacado la unidad de moneda y la coma por punto\n"
   ]
  },
  {
   "cell_type": "code",
   "execution_count": 12,
   "metadata": {},
   "outputs": [],
   "source": [
    "import numpy as np"
   ]
  },
  {
   "cell_type": "code",
   "execution_count": 13,
   "metadata": {},
   "outputs": [],
   "source": [
    "for i in df_ejemplo[\"DailyRate\"]: # hacemos un loop y try except para que nos convierta el object a float, teniendo en cuenta los \"nan\"(Str) y convertirlos en NaN para que no haya problemas en el momento de medias,etc.\n",
    "    try:\n",
    "        df_ejemplo[\"DailyRate\"]=pd.to_numeric(df_ejemplo['DailyRate']).astype(float)\n",
    "    except:\n",
    "        df_ejemplo[\"DailyRate\"].replace([i],[np.nan],inplace=True)\n",
    "   "
   ]
  },
  {
   "cell_type": "code",
   "execution_count": 14,
   "metadata": {},
   "outputs": [
    {
     "data": {
      "text/html": [
       "<div>\n",
       "<style scoped>\n",
       "    .dataframe tbody tr th:only-of-type {\n",
       "        vertical-align: middle;\n",
       "    }\n",
       "\n",
       "    .dataframe tbody tr th {\n",
       "        vertical-align: top;\n",
       "    }\n",
       "\n",
       "    .dataframe thead th {\n",
       "        text-align: right;\n",
       "    }\n",
       "</style>\n",
       "<table border=\"1\" class=\"dataframe\">\n",
       "  <thead>\n",
       "    <tr style=\"text-align: right;\">\n",
       "      <th></th>\n",
       "      <th>Age</th>\n",
       "      <th>Attrition</th>\n",
       "      <th>BusinessTravel</th>\n",
       "      <th>DailyRate</th>\n",
       "      <th>Department</th>\n",
       "      <th>DistanceFromHome</th>\n",
       "      <th>Education</th>\n",
       "      <th>EducationField</th>\n",
       "      <th>employeecount</th>\n",
       "      <th>employeenumber</th>\n",
       "      <th>...</th>\n",
       "      <th>YearsAtCompany</th>\n",
       "      <th>YearsInCurrentRole</th>\n",
       "      <th>YearsSinceLastPromotion</th>\n",
       "      <th>YEARSWITHCURRMANAGER</th>\n",
       "      <th>SameAsMonthlyIncome</th>\n",
       "      <th>DateBirth</th>\n",
       "      <th>Salary</th>\n",
       "      <th>RoleDepartament</th>\n",
       "      <th>NUMBERCHILDREN</th>\n",
       "      <th>RemoteWork</th>\n",
       "    </tr>\n",
       "  </thead>\n",
       "  <tbody>\n",
       "    <tr>\n",
       "      <th>29</th>\n",
       "      <td>34</td>\n",
       "      <td>No</td>\n",
       "      <td>non-travel</td>\n",
       "      <td>NaN</td>\n",
       "      <td>Sales</td>\n",
       "      <td>10</td>\n",
       "      <td>3</td>\n",
       "      <td>Life Sciences</td>\n",
       "      <td>1</td>\n",
       "      <td>1774,0</td>\n",
       "      <td>...</td>\n",
       "      <td>15</td>\n",
       "      <td>NaN</td>\n",
       "      <td>0</td>\n",
       "      <td>7</td>\n",
       "      <td>4001,0</td>\n",
       "      <td>1989</td>\n",
       "      <td>1000000000$</td>\n",
       "      <td>saLEs exEcutIVe  -  Sales</td>\n",
       "      <td>NaN</td>\n",
       "      <td>1</td>\n",
       "    </tr>\n",
       "  </tbody>\n",
       "</table>\n",
       "<p>1 rows × 41 columns</p>\n",
       "</div>"
      ],
      "text/plain": [
       "    Age Attrition BusinessTravel  DailyRate Department  DistanceFromHome  \\\n",
       "29   34        No     non-travel        NaN     Sales                 10   \n",
       "\n",
       "    Education EducationField  employeecount employeenumber  ...  \\\n",
       "29          3  Life Sciences              1         1774,0  ...   \n",
       "\n",
       "    YearsAtCompany  YearsInCurrentRole YearsSinceLastPromotion  \\\n",
       "29              15                 NaN                       0   \n",
       "\n",
       "    YEARSWITHCURRMANAGER  SameAsMonthlyIncome DateBirth       Salary  \\\n",
       "29                     7               4001,0      1989  1000000000$   \n",
       "\n",
       "                RoleDepartament NUMBERCHILDREN  RemoteWork  \n",
       "29   saLEs exEcutIVe  -  Sales             NaN           1  \n",
       "\n",
       "[1 rows x 41 columns]"
      ]
     },
     "execution_count": 14,
     "metadata": {},
     "output_type": "execute_result"
    }
   ],
   "source": [
    "df_ejemplo.iloc[29:30,:] #testeamos"
   ]
  },
  {
   "cell_type": "code",
   "execution_count": 15,
   "metadata": {},
   "outputs": [
    {
     "data": {
      "text/plain": [
       "count    1427.000000\n",
       "mean      805.413455\n",
       "std       402.080266\n",
       "min       103.000000\n",
       "25%       469.500000\n",
       "50%       805.000000\n",
       "75%      1157.000000\n",
       "max      1499.000000\n",
       "Name: DailyRate, dtype: float64"
      ]
     },
     "execution_count": 15,
     "metadata": {},
     "output_type": "execute_result"
    }
   ],
   "source": [
    "df_ejemplo[\"DailyRate\"].describe() # para ver los valores estadísticos"
   ]
  },
  {
   "cell_type": "markdown",
   "metadata": {},
   "source": [
    "Columna \"Department\""
   ]
  },
  {
   "cell_type": "code",
   "execution_count": 16,
   "metadata": {},
   "outputs": [
    {
     "data": {
      "text/plain": [
       "0.81"
      ]
     },
     "execution_count": 16,
     "metadata": {},
     "output_type": "execute_result"
    }
   ],
   "source": [
    "round(df_ejemplo[\"Department\"].isnull().sum()/df_ejemplo.shape[0],2)#porcentaje de nulos en la columna. Muy elevado a preguntar si vale la pena mantenerla."
   ]
  },
  {
   "cell_type": "markdown",
   "metadata": {},
   "source": [
    "Columna \"DistanceFromHome\""
   ]
  },
  {
   "cell_type": "code",
   "execution_count": 17,
   "metadata": {},
   "outputs": [
    {
     "data": {
      "text/plain": [
       "0        6\n",
       "1        1\n",
       "2        4\n",
       "3        2\n",
       "4        3\n",
       "        ..\n",
       "1609     3\n",
       "1610     4\n",
       "1611    13\n",
       "1612     8\n",
       "1613     7\n",
       "Name: DistanceFromHome, Length: 1614, dtype: int64"
      ]
     },
     "execution_count": 17,
     "metadata": {},
     "output_type": "execute_result"
    }
   ],
   "source": [
    "df_ejemplo['DistanceFromHome'] = df_ejemplo['DistanceFromHome'].abs() # pasamos los integers de negativos a positivos usando la función abs() \n",
    "                                                                        #de panda que calcula el valor absoluto de los integers\n",
    "\n",
    "df_ejemplo['DistanceFromHome']"
   ]
  },
  {
   "cell_type": "markdown",
   "metadata": {},
   "source": [
    "Columna \"YearsSinceLastPromotion\"\n",
    "\n",
    "1. no hay nulos y una columna de integers"
   ]
  },
  {
   "cell_type": "code",
   "execution_count": 18,
   "metadata": {},
   "outputs": [
    {
     "name": "stdout",
     "output_type": "stream",
     "text": [
      "<class 'pandas.core.series.Series'>\n",
      "Index: 1614 entries, 0 to 1613\n",
      "Series name: YearsSinceLastPromotion\n",
      "Non-Null Count  Dtype\n",
      "--------------  -----\n",
      "1614 non-null   int64\n",
      "dtypes: int64(1)\n",
      "memory usage: 25.2 KB\n"
     ]
    }
   ],
   "source": [
    "df_ejemplo[\"YearsSinceLastPromotion\"].isnull().sum()\n",
    "\n",
    "df_ejemplo[\"YearsSinceLastPromotion\"].info()"
   ]
  },
  {
   "cell_type": "markdown",
   "metadata": {},
   "source": [
    "Columna \"YEARSWITHCURRMANAGER\""
   ]
  },
  {
   "cell_type": "code",
   "execution_count": 19,
   "metadata": {},
   "outputs": [
    {
     "name": "stdout",
     "output_type": "stream",
     "text": [
      "<class 'pandas.core.series.Series'>\n",
      "Index: 1614 entries, 0 to 1613\n",
      "Series name: YEARSWITHCURRMANAGER\n",
      "Non-Null Count  Dtype\n",
      "--------------  -----\n",
      "1614 non-null   int64\n",
      "dtypes: int64(1)\n",
      "memory usage: 25.2 KB\n"
     ]
    }
   ],
   "source": [
    "df_ejemplo[\"YEARSWITHCURRMANAGER\"].info()"
   ]
  },
  {
   "cell_type": "markdown",
   "metadata": {},
   "source": [
    "Columna \"SameAsMonthlyIncome\"\n",
    "\n",
    "1. En principio es object y convertirla a float\n",
    "2. Además es una columna con nulos, representan un 52% (nulos total 843)\n",
    "3. compararla con \"MonthlyIncome\"\n",
    "4. a eliminar pq es lo mismo que en MonthlyIncome"
   ]
  },
  {
   "cell_type": "code",
   "execution_count": 20,
   "metadata": {},
   "outputs": [
    {
     "name": "stdout",
     "output_type": "stream",
     "text": [
      "<class 'pandas.core.series.Series'>\n",
      "Index: 1614 entries, 0 to 1613\n",
      "Series name: SameAsMonthlyIncome\n",
      "Non-Null Count  Dtype \n",
      "--------------  ----- \n",
      "771 non-null    object\n",
      "dtypes: object(1)\n",
      "memory usage: 25.2+ KB\n"
     ]
    }
   ],
   "source": [
    "df_ejemplo[\"SameAsMonthlyIncome\"].info()"
   ]
  },
  {
   "cell_type": "code",
   "execution_count": 21,
   "metadata": {},
   "outputs": [
    {
     "ename": "ValueError",
     "evalue": "could not convert string to float: '19537,0'",
     "output_type": "error",
     "traceback": [
      "\u001b[1;31m---------------------------------------------------------------------------\u001b[0m",
      "\u001b[1;31mValueError\u001b[0m                                Traceback (most recent call last)",
      "\u001b[1;32mc:\\Users\\profile1\\Desktop\\adalab_modulo3\\proyecto-da-promo-F-modulo-3-team-5\\Borrador_Inicial.ipynb Cell 31\u001b[0m line \u001b[0;36m3\n\u001b[0;32m      <a href='vscode-notebook-cell:/c%3A/Users/profile1/Desktop/adalab_modulo3/proyecto-da-promo-F-modulo-3-team-5/Borrador_Inicial.ipynb#X42sZmlsZQ%3D%3D?line=0'>1</a>\u001b[0m df_ejemplo[\u001b[39m'\u001b[39m\u001b[39mSameAsMonthlyIncome\u001b[39m\u001b[39m'\u001b[39m] \u001b[39m=\u001b[39m df_ejemplo[\u001b[39m'\u001b[39m\u001b[39mSameAsMonthlyIncome\u001b[39m\u001b[39m'\u001b[39m]\u001b[39m.\u001b[39mreplace(\u001b[39m'\u001b[39m\u001b[39m,\u001b[39m\u001b[39m'\u001b[39m, \u001b[39m'\u001b[39m\u001b[39m.\u001b[39m\u001b[39m'\u001b[39m) \u001b[39m#para poder convertir de obj a float primero hay \u001b[39;00m\n\u001b[0;32m      <a href='vscode-notebook-cell:/c%3A/Users/profile1/Desktop/adalab_modulo3/proyecto-da-promo-F-modulo-3-team-5/Borrador_Inicial.ipynb#X42sZmlsZQ%3D%3D?line=1'>2</a>\u001b[0m                                                                                         \u001b[39m#q sustituir las comas por puntos. Los float van con puntos\u001b[39;00m\n\u001b[1;32m----> <a href='vscode-notebook-cell:/c%3A/Users/profile1/Desktop/adalab_modulo3/proyecto-da-promo-F-modulo-3-team-5/Borrador_Inicial.ipynb#X42sZmlsZQ%3D%3D?line=2'>3</a>\u001b[0m df_ejemplo[\u001b[39m'\u001b[39m\u001b[39mSameAsMonthlyIncome\u001b[39m\u001b[39m'\u001b[39m] \u001b[39m=\u001b[39m df_ejemplo[\u001b[39m'\u001b[39;49m\u001b[39mSameAsMonthlyIncome\u001b[39;49m\u001b[39m'\u001b[39;49m]\u001b[39m.\u001b[39;49mastype(\u001b[39mfloat\u001b[39;49m) \u001b[39m#convertimos a float\u001b[39;00m\n\u001b[0;32m      <a href='vscode-notebook-cell:/c%3A/Users/profile1/Desktop/adalab_modulo3/proyecto-da-promo-F-modulo-3-team-5/Borrador_Inicial.ipynb#X42sZmlsZQ%3D%3D?line=3'>4</a>\u001b[0m df_ejemplo[\u001b[39m'\u001b[39m\u001b[39mSameAsMonthlyIncome\u001b[39m\u001b[39m'\u001b[39m]\n",
      "File \u001b[1;32m~\\AppData\\Local\\Packages\\PythonSoftwareFoundation.Python.3.11_qbz5n2kfra8p0\\LocalCache\\local-packages\\Python311\\site-packages\\pandas\\core\\generic.py:6534\u001b[0m, in \u001b[0;36mNDFrame.astype\u001b[1;34m(self, dtype, copy, errors)\u001b[0m\n\u001b[0;32m   6530\u001b[0m     results \u001b[39m=\u001b[39m [ser\u001b[39m.\u001b[39mastype(dtype, copy\u001b[39m=\u001b[39mcopy) \u001b[39mfor\u001b[39;00m _, ser \u001b[39min\u001b[39;00m \u001b[39mself\u001b[39m\u001b[39m.\u001b[39mitems()]\n\u001b[0;32m   6532\u001b[0m \u001b[39melse\u001b[39;00m:\n\u001b[0;32m   6533\u001b[0m     \u001b[39m# else, only a single dtype is given\u001b[39;00m\n\u001b[1;32m-> 6534\u001b[0m     new_data \u001b[39m=\u001b[39m \u001b[39mself\u001b[39;49m\u001b[39m.\u001b[39;49m_mgr\u001b[39m.\u001b[39;49mastype(dtype\u001b[39m=\u001b[39;49mdtype, copy\u001b[39m=\u001b[39;49mcopy, errors\u001b[39m=\u001b[39;49merrors)\n\u001b[0;32m   6535\u001b[0m     res \u001b[39m=\u001b[39m \u001b[39mself\u001b[39m\u001b[39m.\u001b[39m_constructor_from_mgr(new_data, axes\u001b[39m=\u001b[39mnew_data\u001b[39m.\u001b[39maxes)\n\u001b[0;32m   6536\u001b[0m     \u001b[39mreturn\u001b[39;00m res\u001b[39m.\u001b[39m__finalize__(\u001b[39mself\u001b[39m, method\u001b[39m=\u001b[39m\u001b[39m\"\u001b[39m\u001b[39mastype\u001b[39m\u001b[39m\"\u001b[39m)\n",
      "File \u001b[1;32m~\\AppData\\Local\\Packages\\PythonSoftwareFoundation.Python.3.11_qbz5n2kfra8p0\\LocalCache\\local-packages\\Python311\\site-packages\\pandas\\core\\internals\\managers.py:414\u001b[0m, in \u001b[0;36mBaseBlockManager.astype\u001b[1;34m(self, dtype, copy, errors)\u001b[0m\n\u001b[0;32m    411\u001b[0m \u001b[39melif\u001b[39;00m using_copy_on_write():\n\u001b[0;32m    412\u001b[0m     copy \u001b[39m=\u001b[39m \u001b[39mFalse\u001b[39;00m\n\u001b[1;32m--> 414\u001b[0m \u001b[39mreturn\u001b[39;00m \u001b[39mself\u001b[39;49m\u001b[39m.\u001b[39;49mapply(\n\u001b[0;32m    415\u001b[0m     \u001b[39m\"\u001b[39;49m\u001b[39mastype\u001b[39;49m\u001b[39m\"\u001b[39;49m,\n\u001b[0;32m    416\u001b[0m     dtype\u001b[39m=\u001b[39;49mdtype,\n\u001b[0;32m    417\u001b[0m     copy\u001b[39m=\u001b[39;49mcopy,\n\u001b[0;32m    418\u001b[0m     errors\u001b[39m=\u001b[39;49merrors,\n\u001b[0;32m    419\u001b[0m     using_cow\u001b[39m=\u001b[39;49musing_copy_on_write(),\n\u001b[0;32m    420\u001b[0m )\n",
      "File \u001b[1;32m~\\AppData\\Local\\Packages\\PythonSoftwareFoundation.Python.3.11_qbz5n2kfra8p0\\LocalCache\\local-packages\\Python311\\site-packages\\pandas\\core\\internals\\managers.py:354\u001b[0m, in \u001b[0;36mBaseBlockManager.apply\u001b[1;34m(self, f, align_keys, **kwargs)\u001b[0m\n\u001b[0;32m    352\u001b[0m         applied \u001b[39m=\u001b[39m b\u001b[39m.\u001b[39mapply(f, \u001b[39m*\u001b[39m\u001b[39m*\u001b[39mkwargs)\n\u001b[0;32m    353\u001b[0m     \u001b[39melse\u001b[39;00m:\n\u001b[1;32m--> 354\u001b[0m         applied \u001b[39m=\u001b[39m \u001b[39mgetattr\u001b[39;49m(b, f)(\u001b[39m*\u001b[39;49m\u001b[39m*\u001b[39;49mkwargs)\n\u001b[0;32m    355\u001b[0m     result_blocks \u001b[39m=\u001b[39m extend_blocks(applied, result_blocks)\n\u001b[0;32m    357\u001b[0m out \u001b[39m=\u001b[39m \u001b[39mtype\u001b[39m(\u001b[39mself\u001b[39m)\u001b[39m.\u001b[39mfrom_blocks(result_blocks, \u001b[39mself\u001b[39m\u001b[39m.\u001b[39maxes)\n",
      "File \u001b[1;32m~\\AppData\\Local\\Packages\\PythonSoftwareFoundation.Python.3.11_qbz5n2kfra8p0\\LocalCache\\local-packages\\Python311\\site-packages\\pandas\\core\\internals\\blocks.py:616\u001b[0m, in \u001b[0;36mBlock.astype\u001b[1;34m(self, dtype, copy, errors, using_cow)\u001b[0m\n\u001b[0;32m    596\u001b[0m \u001b[39m\u001b[39m\u001b[39m\"\"\"\u001b[39;00m\n\u001b[0;32m    597\u001b[0m \u001b[39mCoerce to the new dtype.\u001b[39;00m\n\u001b[0;32m    598\u001b[0m \n\u001b[1;32m   (...)\u001b[0m\n\u001b[0;32m    612\u001b[0m \u001b[39mBlock\u001b[39;00m\n\u001b[0;32m    613\u001b[0m \u001b[39m\"\"\"\u001b[39;00m\n\u001b[0;32m    614\u001b[0m values \u001b[39m=\u001b[39m \u001b[39mself\u001b[39m\u001b[39m.\u001b[39mvalues\n\u001b[1;32m--> 616\u001b[0m new_values \u001b[39m=\u001b[39m astype_array_safe(values, dtype, copy\u001b[39m=\u001b[39;49mcopy, errors\u001b[39m=\u001b[39;49merrors)\n\u001b[0;32m    618\u001b[0m new_values \u001b[39m=\u001b[39m maybe_coerce_values(new_values)\n\u001b[0;32m    620\u001b[0m refs \u001b[39m=\u001b[39m \u001b[39mNone\u001b[39;00m\n",
      "File \u001b[1;32m~\\AppData\\Local\\Packages\\PythonSoftwareFoundation.Python.3.11_qbz5n2kfra8p0\\LocalCache\\local-packages\\Python311\\site-packages\\pandas\\core\\dtypes\\astype.py:238\u001b[0m, in \u001b[0;36mastype_array_safe\u001b[1;34m(values, dtype, copy, errors)\u001b[0m\n\u001b[0;32m    235\u001b[0m     dtype \u001b[39m=\u001b[39m dtype\u001b[39m.\u001b[39mnumpy_dtype\n\u001b[0;32m    237\u001b[0m \u001b[39mtry\u001b[39;00m:\n\u001b[1;32m--> 238\u001b[0m     new_values \u001b[39m=\u001b[39m astype_array(values, dtype, copy\u001b[39m=\u001b[39;49mcopy)\n\u001b[0;32m    239\u001b[0m \u001b[39mexcept\u001b[39;00m (\u001b[39mValueError\u001b[39;00m, \u001b[39mTypeError\u001b[39;00m):\n\u001b[0;32m    240\u001b[0m     \u001b[39m# e.g. _astype_nansafe can fail on object-dtype of strings\u001b[39;00m\n\u001b[0;32m    241\u001b[0m     \u001b[39m#  trying to convert to float\u001b[39;00m\n\u001b[0;32m    242\u001b[0m     \u001b[39mif\u001b[39;00m errors \u001b[39m==\u001b[39m \u001b[39m\"\u001b[39m\u001b[39mignore\u001b[39m\u001b[39m\"\u001b[39m:\n",
      "File \u001b[1;32m~\\AppData\\Local\\Packages\\PythonSoftwareFoundation.Python.3.11_qbz5n2kfra8p0\\LocalCache\\local-packages\\Python311\\site-packages\\pandas\\core\\dtypes\\astype.py:183\u001b[0m, in \u001b[0;36mastype_array\u001b[1;34m(values, dtype, copy)\u001b[0m\n\u001b[0;32m    180\u001b[0m     values \u001b[39m=\u001b[39m values\u001b[39m.\u001b[39mastype(dtype, copy\u001b[39m=\u001b[39mcopy)\n\u001b[0;32m    182\u001b[0m \u001b[39melse\u001b[39;00m:\n\u001b[1;32m--> 183\u001b[0m     values \u001b[39m=\u001b[39m _astype_nansafe(values, dtype, copy\u001b[39m=\u001b[39;49mcopy)\n\u001b[0;32m    185\u001b[0m \u001b[39m# in pandas we don't store numpy str dtypes, so convert to object\u001b[39;00m\n\u001b[0;32m    186\u001b[0m \u001b[39mif\u001b[39;00m \u001b[39misinstance\u001b[39m(dtype, np\u001b[39m.\u001b[39mdtype) \u001b[39mand\u001b[39;00m \u001b[39missubclass\u001b[39m(values\u001b[39m.\u001b[39mdtype\u001b[39m.\u001b[39mtype, \u001b[39mstr\u001b[39m):\n",
      "File \u001b[1;32m~\\AppData\\Local\\Packages\\PythonSoftwareFoundation.Python.3.11_qbz5n2kfra8p0\\LocalCache\\local-packages\\Python311\\site-packages\\pandas\\core\\dtypes\\astype.py:134\u001b[0m, in \u001b[0;36m_astype_nansafe\u001b[1;34m(arr, dtype, copy, skipna)\u001b[0m\n\u001b[0;32m    130\u001b[0m     \u001b[39mraise\u001b[39;00m \u001b[39mValueError\u001b[39;00m(msg)\n\u001b[0;32m    132\u001b[0m \u001b[39mif\u001b[39;00m copy \u001b[39mor\u001b[39;00m arr\u001b[39m.\u001b[39mdtype \u001b[39m==\u001b[39m \u001b[39mobject\u001b[39m \u001b[39mor\u001b[39;00m dtype \u001b[39m==\u001b[39m \u001b[39mobject\u001b[39m:\n\u001b[0;32m    133\u001b[0m     \u001b[39m# Explicit copy, or required since NumPy can't view from / to object.\u001b[39;00m\n\u001b[1;32m--> 134\u001b[0m     \u001b[39mreturn\u001b[39;00m arr\u001b[39m.\u001b[39;49mastype(dtype, copy\u001b[39m=\u001b[39;49m\u001b[39mTrue\u001b[39;49;00m)\n\u001b[0;32m    136\u001b[0m \u001b[39mreturn\u001b[39;00m arr\u001b[39m.\u001b[39mastype(dtype, copy\u001b[39m=\u001b[39mcopy)\n",
      "\u001b[1;31mValueError\u001b[0m: could not convert string to float: '19537,0'"
     ]
    }
   ],
   "source": [
    "df_ejemplo['SameAsMonthlyIncome'] = df_ejemplo['SameAsMonthlyIncome'].replace(',', '.') #para poder convertir de obj a float primero hay \n",
    "                                                                                        #q sustituir las comas por puntos. Los float van con puntos\n",
    "df_ejemplo['SameAsMonthlyIncome'] = df_ejemplo['SameAsMonthlyIncome'].astype(float) #convertimos a float\n",
    "df_ejemplo['SameAsMonthlyIncome']"
   ]
  },
  {
   "cell_type": "markdown",
   "metadata": {},
   "source": [
    "Columna \"DateBirth\"\n",
    "\n",
    "1. Cambiar nombre de la columna a \"Yearbirth\"\n",
    "\n"
   ]
  },
  {
   "cell_type": "code",
   "execution_count": null,
   "metadata": {},
   "outputs": [
    {
     "name": "stdout",
     "output_type": "stream",
     "text": [
      "<class 'pandas.core.series.Series'>\n",
      "Index: 1614 entries, 0 to 1613\n",
      "Series name: DateBirth\n",
      "Non-Null Count  Dtype\n",
      "--------------  -----\n",
      "1614 non-null   int64\n",
      "dtypes: int64(1)\n",
      "memory usage: 89.8 KB\n"
     ]
    }
   ],
   "source": [
    "df_ejemplo[\"DateBirth\"].info()"
   ]
  },
  {
   "cell_type": "markdown",
   "metadata": {},
   "source": [
    "Columna \"Salary\"\n",
    "\n",
    "1. object convertirlo a float\n",
    "2. eliminar el signo de dólares (referenciarlo en el nombre de la columna)\n",
    "3. solo hay un elemento en la columna - no tiene mucho sentido candidata a ser eliminada y rehacerla con calculos \n"
   ]
  },
  {
   "cell_type": "code",
   "execution_count": null,
   "metadata": {},
   "outputs": [
    {
     "name": "stdout",
     "output_type": "stream",
     "text": [
      "<class 'pandas.core.series.Series'>\n",
      "Index: 1614 entries, 0 to 1613\n",
      "Series name: Salary\n",
      "Non-Null Count  Dtype \n",
      "--------------  ----- \n",
      "1614 non-null   object\n",
      "dtypes: object(1)\n",
      "memory usage: 89.8+ KB\n"
     ]
    }
   ],
   "source": [
    "df_ejemplo[\"Salary\"].info()"
   ]
  },
  {
   "cell_type": "code",
   "execution_count": null,
   "metadata": {},
   "outputs": [
    {
     "data": {
      "text/plain": [
       "1"
      ]
     },
     "execution_count": 50,
     "metadata": {},
     "output_type": "execute_result"
    }
   ],
   "source": [
    "df_ejemplo[\"Salary\"].nunique()"
   ]
  },
  {
   "cell_type": "code",
   "execution_count": null,
   "metadata": {},
   "outputs": [],
   "source": [
    "df_ejemplo['Salary'] = df_ejemplo['Salary'].str.replace('$', '') #sacamos el símbolo de la currency de la columna para poder convertir a float\n",
    "\n",
    "# Convertir los valores a tipo float \n",
    "df_ejemplo['Salary'] = df_ejemplo['Salary'].astype(float)"
   ]
  },
  {
   "cell_type": "markdown",
   "metadata": {},
   "source": [
    "Columna \"RoleDepartament\"\n",
    "\n",
    "1. % elevado de null un 81%, candidata a ser eliminada\n"
   ]
  },
  {
   "cell_type": "code",
   "execution_count": null,
   "metadata": {},
   "outputs": [
    {
     "data": {
      "text/plain": [
       "1312"
      ]
     },
     "execution_count": 56,
     "metadata": {},
     "output_type": "execute_result"
    }
   ],
   "source": [
    "df_ejemplo[\"RoleDepartament\"].isnull().sum()"
   ]
  },
  {
   "cell_type": "code",
   "execution_count": 24,
   "metadata": {},
   "outputs": [
    {
     "data": {
      "text/plain": [
       "array([nan, ' ManaGER  -  Research & Development ',\n",
       "       ' MANAger  -  Research & Development ',\n",
       "       ' heaLtHcArE repResENtATiVe  -  Research & Development ',\n",
       "       ' saLEs exEcutIVe  -  Sales ', ' Sales ExECuTIVe  -  Sales ',\n",
       "       ' heALthCArE RePResEntaTIVe  -  Research & Development ',\n",
       "       ' lABORAtOry tECHnIcIan  -  Research & Development ',\n",
       "       ' ManufactUrINg DiReCTOr  -  Research & Development ',\n",
       "       ' SaleS eXEcUtIVE  -  Sales ',\n",
       "       ' HEaLthcaRe rEprEsEnTAtiVe  -  Research & Development ',\n",
       "       ' rESeArCH sCientIST  -  Research & Development ',\n",
       "       ' healTHCAre rePREseNtATiVE  -  Research & Development ',\n",
       "       ' mANaGer  -  Research & Development ',\n",
       "       ' HEAltHCaRe REPreseNTatIve  -  Research & Development ',\n",
       "       ' SaLeS eXECUTivE  -  Sales ',\n",
       "       ' reSeARCH SCIEnTiST  -  Research & Development ',\n",
       "       ' ReSearch DiRecTOR  -  Research & Development ',\n",
       "       ' resEaRCh SciEnTist  -  Research & Development ',\n",
       "       ' hUmaN REsoUrCes  -  Human Resources ',\n",
       "       ' manAgER  -  Research & Development ',\n",
       "       ' SaLES eXeCUtIVE  -  Sales ',\n",
       "       ' reSEarCH scIentISt  -  Research & Development ',\n",
       "       ' ReSeARCh DiRECtor  -  Research & Development ',\n",
       "       ' MaNAgeR  -  Sales ',\n",
       "       ' RESEArCH sCIenTIst  -  Research & Development ',\n",
       "       ' hUMAn reSoUrCES  -  Human Resources ',\n",
       "       ' HUmAN rESOuRceS  -  Human Resources ',\n",
       "       ' SaleS EXeCuTivE  -  Sales ',\n",
       "       ' ReSeARch scIENTISt  -  Research & Development ',\n",
       "       ' LaBoRaTorY TeChNicIAn  -  Research & Development ',\n",
       "       ' ManUfaCTUriNg dIReCtor  -  Research & Development ',\n",
       "       ' saLES ExECuTIVe  -  Sales ',\n",
       "       ' RESEaRch SCIEntISt  -  Research & Development ',\n",
       "       ' mAnUFaCtUrinG diReCtor  -  Research & Development ',\n",
       "       ' maNUFAcTURING direCTOr  -  Research & Development ',\n",
       "       ' labOraTORy techNicIan  -  Research & Development ',\n",
       "       ' SAlEs ExeCUtive  -  Sales ',\n",
       "       ' MANUFACturING DIRecToR  -  Research & Development ',\n",
       "       ' Sales eXECuTIvE  -  Sales ',\n",
       "       ' mANUfaCTuRiNG DiRECtOr  -  Research & Development ',\n",
       "       ' ManUFACtURiNg DiRECTOr  -  Research & Development ',\n",
       "       ' ResEARcH DiReCToR  -  Research & Development ',\n",
       "       ' MANAgER  -  Research & Development ',\n",
       "       ' labORATORY TechnIcIaN  -  Research & Development ',\n",
       "       ' MaNUfacTurINg DiReCTor  -  Research & Development ',\n",
       "       ' ReSEaRcH sciENTIST  -  Research & Development ',\n",
       "       ' rESEARCh dIrEcTOr  -  Research & Development ',\n",
       "       ' MANUfACTuRinG diRecTOR  -  Research & Development ',\n",
       "       ' HeaLThCArE REpRESENTAtIVe  -  Research & Development ',\n",
       "       ' LABOraTory TecHnIciaN  -  Research & Development ',\n",
       "       ' sales rEprESEntAtIvE  -  Sales ',\n",
       "       ' mANuFacTurinG DirECtoR  -  Research & Development ',\n",
       "       ' lABorATOrY TeChnICIan  -  Research & Development ',\n",
       "       ' RESEarCh SCIEnTiST  -  Research & Development ',\n",
       "       ' SALes exEcuTIVe  -  Sales ',\n",
       "       ' REseARCH DirectOr  -  Research & Development ',\n",
       "       ' sAlES EXEcUtIVe  -  Sales ',\n",
       "       ' lABoraToRY teCHnIcIaN  -  Research & Development ',\n",
       "       ' LaBorATORy tEChnICiaN  -  Research & Development ',\n",
       "       ' sales ExecutIvE  -  Sales ', ' sAles exECUtiVe  -  Sales ',\n",
       "       ' SALEs eXecuTiVE  -  Sales ', ' SaleS executIVE  -  Sales ',\n",
       "       ' rEsEArCH sCIeNTIST  -  Research & Development ',\n",
       "       ' reSEArch SCIEntIsT  -  Research & Development ',\n",
       "       ' rESeArCh DIrEctor  -  Research & Development ',\n",
       "       ' saLES ExECUtiVe  -  Sales ',\n",
       "       ' LaboRATory tEchNICIAn  -  Research & Development ',\n",
       "       ' SAlEs exECUtIVe  -  Sales ', ' salEs eXECuTivE  -  Sales ',\n",
       "       ' ReseaRch scIenTisT  -  Research & Development ',\n",
       "       ' LaBoraTORY teCHNiCIaN  -  Research & Development ',\n",
       "       ' sALEs ExeCuTive  -  Sales ',\n",
       "       ' heALtHCARE rePResENtAtivE  -  Research & Development ',\n",
       "       ' ManAgEr  -  Research & Development ',\n",
       "       ' laboRAtORy TecHnICiAN  -  Research & Development ',\n",
       "       ' ReSeARCH diRECtoR  -  Research & Development ',\n",
       "       ' LAborAtOry TEchniCIAn  -  Research & Development ',\n",
       "       ' SaLeS eXECutiVE  -  Sales ', ' SalEs eXECuTive  -  Sales ',\n",
       "       ' rESeaRCH DIReCToR  -  Research & Development ',\n",
       "       ' mANAGeR  -  Human Resources ', ' saLeS exECUtive  -  Sales ',\n",
       "       ' maNuFAcTURInG DIReCtoR  -  Research & Development ',\n",
       "       ' LABORaTorY TEChNIcIAN  -  Research & Development ',\n",
       "       ' hEalTHcARe RePrEseNTATive  -  Research & Development ',\n",
       "       ' mANuFActuring DireCtOR  -  Research & Development ',\n",
       "       ' MaNagEr  -  Research & Development ',\n",
       "       ' SaLeS exeCuTIVe  -  Sales ',\n",
       "       ' lAboRaTory tECHNIciAN  -  Research & Development ',\n",
       "       ' saLes eXECUTIVe  -  Sales ', ' saLes EXEcuTiVe  -  Sales ',\n",
       "       ' mAnaGeR  -  Research & Development ',\n",
       "       ' HEALThCaRe rePResEnTaTivE  -  Research & Development ',\n",
       "       ' mAnAgEr  -  Research & Development ',\n",
       "       ' MaNageR  -  Research & Development ',\n",
       "       ' HeAlThCarE rEpreSentatiVe  -  Research & Development ',\n",
       "       ' HUMAN ResoURCeS  -  Human Resources ',\n",
       "       ' huMAn ResOurces  -  Human Resources ',\n",
       "       ' mANUfacTURiNG dIRectOR  -  Research & Development ',\n",
       "       ' saLES eXEcUTiVE  -  Sales ',\n",
       "       ' labORaTORY teChNIcIaN  -  Research & Development ',\n",
       "       ' saLes eXeCUTivE  -  Sales ', ' Sales exECutIVE  -  Sales ',\n",
       "       ' saleS eXEcuTIvE  -  Sales ', ' SALes ExeCUtive  -  Sales ',\n",
       "       ' reSearCH SCieNtIst  -  Research & Development ',\n",
       "       ' HEALThcaRe RePresENtaTiVE  -  Research & Development ',\n",
       "       ' rEsEARch sCientIST  -  Research & Development ',\n",
       "       ' HealthcARE RePreSENtAtiVe  -  Research & Development ',\n",
       "       ' ResEArch ScieNTiST  -  Research & Development ',\n",
       "       ' labORaTORy TecHniciAN  -  Research & Development ',\n",
       "       ' SalEs exECUTIvE  -  Sales ',\n",
       "       ' LabOrATory TEChNICiaN  -  Research & Development ',\n",
       "       ' reSeArcH scieNtist  -  Research & Development ',\n",
       "       ' maNuFAcTUring DIrecToR  -  Research & Development ',\n",
       "       ' ResEARCh DIRECtoR  -  Research & Development ',\n",
       "       ' SaLes exECutIVe  -  Sales ', ' SAleS eXecuTIVe  -  Sales ',\n",
       "       ' manAGER  -  Sales ',\n",
       "       ' LaBOrATORy teCHnIciaN  -  Research & Development ',\n",
       "       ' SAlES ExecuTIVe  -  Sales ', ' salES exEcUtiVE  -  Sales ',\n",
       "       ' SAlEs ExECUTIVe  -  Sales ',\n",
       "       ' HEaLTHcaRE rePReseNtaTIvE  -  Research & Development ',\n",
       "       ' sAles eXEcUtIve  -  Sales ',\n",
       "       ' laBoraTorY tEChnICiaN  -  Research & Development ',\n",
       "       ' MANufacTURIng diREcTOr  -  Research & Development ',\n",
       "       ' REsearch scIENtist  -  Research & Development ',\n",
       "       ' heaLtHcARe RePReSENtaTIve  -  Research & Development ',\n",
       "       ' lAbOrAtorY techNiCiaN  -  Research & Development ',\n",
       "       ' laboRaTOrY TEchniCIaN  -  Research & Development ',\n",
       "       ' SAles ExECutIvE  -  Sales ',\n",
       "       ' HeALtHCarE represEntAtIVe  -  Research & Development ',\n",
       "       ' HEalThCaRe rEpReSENtatIVe  -  Research & Development ',\n",
       "       ' HEalTHCare REPrEsEntATiVE  -  Research & Development ',\n",
       "       ' LaBoRaToRY TEcHnIcian  -  Research & Development ',\n",
       "       ' SAlES ExecutIve  -  Sales ',\n",
       "       ' LaBOrAtory TECHNIciAN  -  Research & Development ',\n",
       "       ' ReSeArch scIenTIsT  -  Research & Development ',\n",
       "       ' SaLEs EXECutIVe  -  Sales ',\n",
       "       ' rESEARch DiRector  -  Research & Development ',\n",
       "       ' HEaltHcare rEPrEsEnTatIVe  -  Research & Development ',\n",
       "       ' lABORatORY TeChNiCiAN  -  Research & Development ',\n",
       "       ' LaBOratory TeChnICiAn  -  Research & Development ',\n",
       "       ' maNAGer  -  Sales ', ' hUMAn rEsOuRCES  -  Human Resources ',\n",
       "       ' sales ExeCUTiVE  -  Sales ', ' saLEs exeCUtiVe  -  Sales ',\n",
       "       ' laBorAtORy TECHnicIaN  -  Research & Development ',\n",
       "       ' ReSeaRch SCIEnTiSt  -  Research & Development ',\n",
       "       ' rEsEArcH scIenTIst  -  Research & Development ',\n",
       "       ' RESeArch dIREcToR  -  Research & Development ',\n",
       "       ' saLes ExECutIVE  -  Sales ',\n",
       "       ' REseARCh SCIenTIst  -  Research & Development ',\n",
       "       ' sALEs exECuTiVe  -  Sales ',\n",
       "       ' rEseArCh SCieNtiST  -  Research & Development ',\n",
       "       ' lABoRAtoRY TecHnIcian  -  Research & Development ',\n",
       "       ' researcH SciEntIST  -  Research & Development ',\n",
       "       ' REseARCH ScIeNTIST  -  Research & Development ',\n",
       "       ' sAles ExecUtive  -  Sales ',\n",
       "       ' mAnUfaCTuRing DiRecTor  -  Research & Development ',\n",
       "       ' SaLes exEcUtIvE  -  Sales ',\n",
       "       ' ReseArCH scIenTIst  -  Research & Development ',\n",
       "       ' ReseArch sCienTiST  -  Research & Development ',\n",
       "       ' ReSEarcH SCiEnTISt  -  Research & Development ',\n",
       "       ' laBORATORY tECHNiciAN  -  Research & Development ',\n",
       "       ' rESeArCH sCIeNtISt  -  Research & Development ',\n",
       "       ' humAN resoURCEs  -  Human Resources ',\n",
       "       ' REseARCh scieNTIsT  -  Research & Development ',\n",
       "       ' SaLeS REPRESENtATIvE  -  Sales ',\n",
       "       ' ResEArch SciEntiST  -  Research & Development ',\n",
       "       ' ReSEaRCh SCIEnTist  -  Research & Development ',\n",
       "       ' hUmAn REsOurCES  -  Human Resources ',\n",
       "       ' sALeS EXecuTIVe  -  Sales ',\n",
       "       ' ReseArCh SciENTIsT  -  Research & Development ',\n",
       "       ' sALes rEprESentAtIvE  -  Sales ',\n",
       "       ' humaN reSOUrcEs  -  Human Resources ',\n",
       "       ' lAboRatOrY TechNiCiAn  -  Research & Development ',\n",
       "       ' HeAlthcaRE rEPrEseNTaTIVE  -  Research & Development ',\n",
       "       ' sALeS eXecuTIvE  -  Sales ', ' SALeS RepREsEnTatiVe  -  Sales ',\n",
       "       ' SaLes rePrESENTaTivE  -  Sales ',\n",
       "       ' rESEaRch sCientISt  -  Research & Development ',\n",
       "       ' laBORatoRy TEcHnician  -  Research & Development ',\n",
       "       ' ReSeaRch SCIentiST  -  Research & Development ',\n",
       "       ' RESEarch ScieNtIst  -  Research & Development ',\n",
       "       ' sALeS RePresenTAtivE  -  Sales ',\n",
       "       ' LABORAToRy tEchNICiAn  -  Research & Development ',\n",
       "       ' ResEArch sCIEnTiST  -  Research & Development ',\n",
       "       ' ReSEArcH sCIeNtist  -  Research & Development ',\n",
       "       ' LaBoRaTory techNICIAN  -  Research & Development ',\n",
       "       ' hEaLThcARE rEpresEntATiVE  -  Research & Development ',\n",
       "       ' mANufActuRIng DirECTOR  -  Research & Development ',\n",
       "       ' laBOraTOrY TecHNIcIan  -  Research & Development ',\n",
       "       ' sALES ReprEsentatiVE  -  Sales ',\n",
       "       ' laBoRatoRy TEChNICiAN  -  Research & Development ',\n",
       "       ' ReSEarch scIeNTIsT  -  Research & Development ',\n",
       "       ' researCh SCientIsT  -  Research & Development ',\n",
       "       ' ReseaRch scIENTisT  -  Research & Development ',\n",
       "       ' lAboRaToRY teChNICIan  -  Research & Development ',\n",
       "       ' rEsEaRCh diReCtOR  -  Research & Development ',\n",
       "       ' labORAtoRy tEcHNICIAN  -  Research & Development ',\n",
       "       ' SAlES exeCutive  -  Sales ',\n",
       "       ' hEalthCaRe reprEseNTaTiVe  -  Research & Development ',\n",
       "       ' ManufacTURInG DIRECtOR  -  Research & Development ',\n",
       "       ' sAles exEcUtIve  -  Sales ',\n",
       "       ' reseARCh SCieNTisT  -  Research & Development ',\n",
       "       ' reSEarcH scIENtISt  -  Research & Development ',\n",
       "       ' reseArCH scIentISt  -  Research & Development ',\n",
       "       ' MANuFaCturiNG dIRECTOR  -  Research & Development ',\n",
       "       ' HuMan resoUrCes  -  Human Resources ',\n",
       "       ' huMAn Resources  -  Human Resources ',\n",
       "       ' Sales EXEcUTiVe  -  Sales ',\n",
       "       ' reSEaRCH scIenTisT  -  Research & Development ',\n",
       "       ' sales rEpRESEnTatIve  -  Sales ',\n",
       "       ' reseaRch DIrecTOr  -  Research & Development ',\n",
       "       ' sALeS eXECutivE  -  Sales ',\n",
       "       ' Human REsouRCeS  -  Human Resources ',\n",
       "       ' rESeArcH sCientIST  -  Research & Development ',\n",
       "       ' SAlES RepreSENtATiVe  -  Sales ', ' SAles execUTIve  -  Sales ',\n",
       "       ' RESEArch SCIEnTISt  -  Research & Development ',\n",
       "       ' labOrATOry TEchnIcIaN  -  Research & Development ',\n",
       "       ' sALes ExEcUTIVe  -  Sales ',\n",
       "       ' REsEARch sCIenTIsT  -  Research & Development ',\n",
       "       ' RESeARch ScIeNtisT  -  Research & Development ',\n",
       "       ' rEseARCH ScIeNtIST  -  Research & Development ',\n",
       "       ' ManAGEr  -  Research & Development ',\n",
       "       ' LaBoratory TECHnICIAn  -  Research & Development ',\n",
       "       ' saLES exEcutivE  -  Sales ',\n",
       "       ' LABorATory TecHnIcIaN  -  Research & Development ',\n",
       "       ' HumAN REsourceS  -  Human Resources ',\n",
       "       ' reseaRCh SCIentIst  -  Research & Development ',\n",
       "       ' LaBOrAToRy teChNiciAn  -  Research & Development ',\n",
       "       ' LaborAtorY Technician  -  Research & Development ',\n",
       "       ' rEseaRCH sCIeNtiSt  -  Research & Development ',\n",
       "       ' LABOrATOrY TEchnIcIAn  -  Research & Development ',\n",
       "       ' ReSeARCh DireCtOr  -  Research & Development ',\n",
       "       ' LaBORatORy tEchNiCian  -  Research & Development ',\n",
       "       ' laBorATOrY TeChNIcIAn  -  Research & Development ',\n",
       "       ' sALEs RePREsentaTive  -  Sales ', ' mAnageR  -  Sales ',\n",
       "       ' rESEArcH SCiEntIst  -  Research & Development ',\n",
       "       ' heAlThcaRe REprESeNTATive  -  Research & Development ',\n",
       "       ' LABoratOry TeCHnIcIan  -  Research & Development ',\n",
       "       ' hEAlthCarE rEpresenTATiVe  -  Research & Development ',\n",
       "       ' HealTHcaRE rEPreSEntATive  -  Research & Development ',\n",
       "       ' MaNUfActuRInG diREctOr  -  Research & Development ',\n",
       "       ' saLes REPrEsentAtiVE  -  Sales ',\n",
       "       ' LABorAtORy TEchnIciAn  -  Research & Development ',\n",
       "       ' rEsEARcH ScieNTisT  -  Research & Development ',\n",
       "       ' SalEs eXecuTive  -  Sales ', ' SaLeS EXEcUTiVe  -  Sales ',\n",
       "       ' MaNufacTuRINg DirEcTor  -  Research & Development ',\n",
       "       ' resEaRcH scIENTiSt  -  Research & Development ',\n",
       "       ' SALes eXECuTIvE  -  Sales ',\n",
       "       ' LabORatORy tEChnIcIAn  -  Research & Development ',\n",
       "       ' LaBorAtOrY teCHNICIAn  -  Research & Development ',\n",
       "       ' saLEs RePREsentAtiVE  -  Sales ',\n",
       "       ' laBOrATORY TechNiCiAn  -  Research & Development ',\n",
       "       ' sALes exECutIVe  -  Sales ',\n",
       "       ' LabOraToRy technICiAN  -  Research & Development ',\n",
       "       ' lAborAtORY TeCHNIciAN  -  Research & Development ',\n",
       "       ' SAlES rePrESentaTIVe  -  Sales ',\n",
       "       ' mANager  -  Research & Development ',\n",
       "       ' HEAlThcARe rEPREseNtATIVe  -  Research & Development ',\n",
       "       ' REsEArCH dIrECTOr  -  Research & Development ',\n",
       "       ' rESeaRch SCIeNTIST  -  Research & Development ',\n",
       "       ' SALEs REpRESentatIve  -  Sales ', ' SalES eXecUTiVE  -  Sales ',\n",
       "       ' SaLes REPREseNtATive  -  Sales ',\n",
       "       ' ReSeArch sCIEnTiSt  -  Research & Development ',\n",
       "       ' sales REPReSeNtAtIVe  -  Sales ', ' sAles execUtIve  -  Sales ',\n",
       "       ' LABOrATORy tEChNiCIaN  -  Research & Development ',\n",
       "       ' hEalthCarE REPResEnTaTive  -  Research & Development ',\n",
       "       ' mANagER  -  Research & Development ',\n",
       "       ' sales repResENTaTiVE  -  Sales ',\n",
       "       ' laboRAToRY tEChniCIAN  -  Research & Development ',\n",
       "       ' resEaRcH sCIeNTisT  -  Research & Development ',\n",
       "       ' maNuFAcTurING diREctOr  -  Research & Development ',\n",
       "       ' mAnAger  -  Research & Development ',\n",
       "       ' SALes eXEcUtiVe  -  Sales ',\n",
       "       ' reSearCh SCiEnTist  -  Research & Development ',\n",
       "       ' rESEARch SciENtiSt  -  Research & Development ',\n",
       "       ' hUman ResourCeS  -  Human Resources ',\n",
       "       ' SALES exeCUtIve  -  Sales ',\n",
       "       ' ReseaRcH sCientiSt  -  Research & Development ',\n",
       "       ' LAbORaTory tEcHnIciAN  -  Research & Development ',\n",
       "       ' lABOraTOrY tecHniciaN  -  Research & Development ',\n",
       "       ' sALeS exEcUtiVe  -  Sales ', ' salEs eXEcuTIvE  -  Sales ',\n",
       "       ' SAleS ExEcuTiVE  -  Sales ', ' SaLeS exEcUTiVE  -  Sales ',\n",
       "       ' ReSEArch scieNTiST  -  Research & Development ',\n",
       "       ' reSEArCh sCieNtiST  -  Research & Development ',\n",
       "       ' ReseaRCh dIRecTor  -  Research & Development ',\n",
       "       ' SaLEs ExECUtiVE  -  Sales ',\n",
       "       ' LAbORAToRy tEcHNICian  -  Research & Development ',\n",
       "       ' sAleS EXECUtIvE  -  Sales '], dtype=object)"
      ]
     },
     "execution_count": 24,
     "metadata": {},
     "output_type": "execute_result"
    }
   ],
   "source": [
    "df_ejemplo[\"RoleDepartament\"].unique()"
   ]
  },
  {
   "cell_type": "code",
   "execution_count": 23,
   "metadata": {},
   "outputs": [
    {
     "data": {
      "text/plain": [
       "RoleDepartament\n",
       " MaNAgeR  -  Sales                                        2\n",
       " ManaGER  -  Research & Development                       1\n",
       " ReseaRch scIENTisT  -  Research & Development            1\n",
       " ManufacTURInG DIRECtOR  -  Research & Development        1\n",
       " hEalthCaRe reprEseNTaTiVe  -  Research & Development     1\n",
       "                                                         ..\n",
       " saLES eXEcUTiVE  -  Sales                                1\n",
       " mANUfacTURiNG dIRectOR  -  Research & Development        1\n",
       " huMAn ResOurces  -  Human Resources                      1\n",
       " HUMAN ResoURCeS  -  Human Resources                      1\n",
       " sAleS EXECUtIvE  -  Sales                                1\n",
       "Name: count, Length: 301, dtype: int64"
      ]
     },
     "execution_count": 23,
     "metadata": {},
     "output_type": "execute_result"
    }
   ],
   "source": [
    "df_ejemplo[\"RoleDepartament\"].value_counts()"
   ]
  },
  {
   "cell_type": "markdown",
   "metadata": {},
   "source": [
    "Columna \"NUMBERCHILDREN\"\n",
    "\n",
    "1. no hay valores, mejor eliminarla"
   ]
  },
  {
   "cell_type": "code",
   "execution_count": null,
   "metadata": {},
   "outputs": [
    {
     "name": "stdout",
     "output_type": "stream",
     "text": [
      "<class 'pandas.core.series.Series'>\n",
      "Index: 1614 entries, 0 to 1613\n",
      "Series name: NUMBERCHILDREN\n",
      "Non-Null Count  Dtype  \n",
      "--------------  -----  \n",
      "0 non-null      float64\n",
      "dtypes: float64(1)\n",
      "memory usage: 89.8 KB\n"
     ]
    }
   ],
   "source": [
    "df_ejemplo[\"NUMBERCHILDREN\"].info()"
   ]
  },
  {
   "cell_type": "markdown",
   "metadata": {},
   "source": [
    "Columna \"RemoteWork\"\n",
    "\n",
    "1. hay 5 valores unicos: 0,1,yes,false,true; no sabemos qué es 0 y 1\n"
   ]
  },
  {
   "cell_type": "code",
   "execution_count": 27,
   "metadata": {},
   "outputs": [
    {
     "data": {
      "text/plain": [
       "RemoteWork\n",
       "1        360\n",
       "True     345\n",
       "0        309\n",
       "False    305\n",
       "Yes      295\n",
       "Name: count, dtype: int64"
      ]
     },
     "execution_count": 27,
     "metadata": {},
     "output_type": "execute_result"
    }
   ],
   "source": [
    "df_ejemplo[\"RemoteWork\"].value_counts()\n"
   ]
  },
  {
   "cell_type": "code",
   "execution_count": 28,
   "metadata": {},
   "outputs": [
    {
     "name": "stdout",
     "output_type": "stream",
     "text": [
      "<class 'pandas.core.series.Series'>\n",
      "Index: 1614 entries, 0 to 1613\n",
      "Series name: RemoteWork\n",
      "Non-Null Count  Dtype \n",
      "--------------  ----- \n",
      "1614 non-null   object\n",
      "dtypes: object(1)\n",
      "memory usage: 25.2+ KB\n"
     ]
    }
   ],
   "source": [
    "df_ejemplo[\"RemoteWork\"].info()"
   ]
  },
  {
   "cell_type": "markdown",
   "metadata": {},
   "source": [
    "COLUMNA WORKLIFEBALANCE"
   ]
  },
  {
   "cell_type": "code",
   "execution_count": 29,
   "metadata": {},
   "outputs": [
    {
     "name": "stdout",
     "output_type": "stream",
     "text": [
      "<class 'pandas.core.series.Series'>\n",
      "Index: 1614 entries, 0 to 1613\n",
      "Series name: WORKLIFEBALANCE\n",
      "Non-Null Count  Dtype \n",
      "--------------  ----- \n",
      "1506 non-null   object\n",
      "dtypes: object(1)\n",
      "memory usage: 25.2+ KB\n"
     ]
    }
   ],
   "source": [
    "df_ejemplo[\"WORKLIFEBALANCE\"].info()"
   ]
  },
  {
   "cell_type": "code",
   "execution_count": 31,
   "metadata": {},
   "outputs": [
    {
     "data": {
      "text/plain": [
       "WORKLIFEBALANCE\n",
       "3,0    913\n",
       "2,0    359\n",
       "4,0    155\n",
       "1,0     79\n",
       "Name: count, dtype: int64"
      ]
     },
     "execution_count": 31,
     "metadata": {},
     "output_type": "execute_result"
    }
   ],
   "source": [
    "df_ejemplo[\"WORKLIFEBALANCE\"].value_counts()"
   ]
  },
  {
   "cell_type": "code",
   "execution_count": null,
   "metadata": {},
   "outputs": [],
   "source": [
    "df_ejemplo[\"WORKLIFEBALANCE\"].info()"
   ]
  },
  {
   "cell_type": "code",
   "execution_count": 30,
   "metadata": {},
   "outputs": [
    {
     "data": {
      "text/plain": [
       "108"
      ]
     },
     "execution_count": 30,
     "metadata": {},
     "output_type": "execute_result"
    }
   ],
   "source": [
    "df_ejemplo[\"WORKLIFEBALANCE\"].isnull().sum()"
   ]
  },
  {
   "cell_type": "code",
   "execution_count": 32,
   "metadata": {},
   "outputs": [],
   "source": [
    "df_ejemplo['WORKLIFEBALANCE'] = df_ejemplo['WORKLIFEBALANCE'].str.replace(',', '.') #sacamos el símbolo de la currency de la columna para poder convertir a float\n",
    "\n",
    "# Convertir los valores a tipo float \n",
    "df_ejemplo['WORKLIFEBALANCE'] = df_ejemplo['WORKLIFEBALANCE'].astype(float)"
   ]
  },
  {
   "cell_type": "markdown",
   "metadata": {},
   "source": [
    "Columna YearsAtCompany"
   ]
  },
  {
   "cell_type": "code",
   "execution_count": 33,
   "metadata": {},
   "outputs": [
    {
     "name": "stdout",
     "output_type": "stream",
     "text": [
      "<class 'pandas.core.series.Series'>\n",
      "Index: 1614 entries, 0 to 1613\n",
      "Series name: YearsAtCompany\n",
      "Non-Null Count  Dtype\n",
      "--------------  -----\n",
      "1614 non-null   int64\n",
      "dtypes: int64(1)\n",
      "memory usage: 25.2 KB\n"
     ]
    }
   ],
   "source": [
    "df_ejemplo[\"YearsAtCompany\"].info()"
   ]
  },
  {
   "cell_type": "code",
   "execution_count": 34,
   "metadata": {},
   "outputs": [
    {
     "data": {
      "text/plain": [
       "YearsAtCompany\n",
       "5     208\n",
       "1     171\n",
       "3     141\n",
       "2     141\n",
       "10    133\n",
       "7     115\n",
       "4     114\n",
       "8     106\n",
       "9      94\n",
       "6      78\n",
       "0      44\n",
       "11     36\n",
       "20     29\n",
       "13     26\n",
       "15     21\n",
       "14     19\n",
       "22     17\n",
       "12     15\n",
       "18     15\n",
       "16     14\n",
       "21     14\n",
       "19     12\n",
       "17      9\n",
       "24      7\n",
       "25      5\n",
       "33      5\n",
       "26      4\n",
       "32      3\n",
       "27      3\n",
       "31      3\n",
       "36      3\n",
       "29      2\n",
       "23      2\n",
       "40      2\n",
       "34      1\n",
       "37      1\n",
       "30      1\n",
       "Name: count, dtype: int64"
      ]
     },
     "execution_count": 34,
     "metadata": {},
     "output_type": "execute_result"
    }
   ],
   "source": [
    "df_ejemplo[\"YearsAtCompany\"].value_counts()"
   ]
  },
  {
   "cell_type": "markdown",
   "metadata": {},
   "source": [
    "Columna YearsInCurrentRole\n",
    "1. muchos nulos quizás conveniente eliminarla"
   ]
  },
  {
   "cell_type": "code",
   "execution_count": 35,
   "metadata": {},
   "outputs": [
    {
     "name": "stdout",
     "output_type": "stream",
     "text": [
      "<class 'pandas.core.series.Series'>\n",
      "Index: 1614 entries, 0 to 1613\n",
      "Series name: YearsInCurrentRole\n",
      "Non-Null Count  Dtype \n",
      "--------------  ----- \n",
      "34 non-null     object\n",
      "dtypes: object(1)\n",
      "memory usage: 25.2+ KB\n"
     ]
    }
   ],
   "source": [
    "df_ejemplo[\"YearsInCurrentRole\"].info()\n"
   ]
  },
  {
   "cell_type": "code",
   "execution_count": 36,
   "metadata": {},
   "outputs": [
    {
     "data": {
      "text/plain": [
       "1580"
      ]
     },
     "execution_count": 36,
     "metadata": {},
     "output_type": "execute_result"
    }
   ],
   "source": [
    "df_ejemplo[\"YearsInCurrentRole\"].isnull().sum()"
   ]
  }
 ],
 "metadata": {
  "kernelspec": {
   "display_name": "Python 3",
   "language": "python",
   "name": "python3"
  },
  "language_info": {
   "codemirror_mode": {
    "name": "ipython",
    "version": 3
   },
   "file_extension": ".py",
   "mimetype": "text/x-python",
   "name": "python",
   "nbconvert_exporter": "python",
   "pygments_lexer": "ipython3",
   "version": "3.11.6"
  }
 },
 "nbformat": 4,
 "nbformat_minor": 2
}
