{
 "cells": [
  {
   "cell_type": "code",
   "execution_count": 63,
   "metadata": {},
   "outputs": [],
   "source": [
    "import pandas as pd \n",
    "import numpy as np\n",
    "from word2number import w2n\n",
    "pd.set_option('display.max_columns', None) # para poder visualizar todas las columnas de los DataFrames"
   ]
  },
  {
   "cell_type": "markdown",
   "metadata": {},
   "source": [
    "# Análisis exploratorio\n",
    "\n",
    "En una fase previa analizamos en profundidad el archivo csv inicial, en la cual:\n",
    "- Identificamos y nos familiarizamos con los datos a tratar y que posteriormente se tendrán que modificar.\n",
    "\n",
    "- Diferenciamos los datos relevantes de los que no lo son. \n",
    "\n",
    "___\n",
    "\n",
    "# Limpieza de datos\n",
    "\n",
    "- En este apartado decidimos eliminar columnas basándonos en el tipo de información y la relevancia de los datos. \n",
    "\n",
    "Las columnas que se han eliminado son:\n",
    "- **Employee Count:** Se trata de una columna prescindible, se puede contar el número de empleados por filas o por números de referencia de empleados.\n",
    "\n",
    "- **Role Department:** La información de esta columna es el resultado de la fusión de dos columnas.\n",
    "\n",
    "- **Number Children:** No hay valores\n",
    "\n",
    "- **Over 18:** Columna sin sentido, está desactualizada. Se puede calcular con otras columnas.\n",
    "\n",
    "- **Same As Month Income**: Es una columna repetida, una copia de Monthly Income\n",
    "\n",
    "- **Salary:** La eliminamos por inconsistente, en todas las filas sale 1000000000$. Crearemos una nueva columna con el cálculo de los datos \n",
    "\n",
    "- **Standard Hours** Hay un elevado número de nulos y en las filas donde hay datos, en todos salen 80. Este dato no tiene sentido, decidimos eliminar la columna, teniendo en cuenta que hay otras columnas que hacen referencia al sueldo como son: Monthly Income, Monthly Rate, Hourly Rate, Daily Rate.\n",
    "\n",
    "- **Years in Current Role:** Hay un elevado número de nulos y los datos son inconsistentes"
   ]
  },
  {
   "cell_type": "code",
   "execution_count": 64,
   "metadata": {},
   "outputs": [],
   "source": [
    "df_ejemplo=pd.read_csv(\"HR RAW DATA.csv\",index_col=0)"
   ]
  },
  {
   "cell_type": "code",
   "execution_count": 65,
   "metadata": {},
   "outputs": [
    {
     "data": {
      "text/plain": [
       "(1614, 41)"
      ]
     },
     "execution_count": 65,
     "metadata": {},
     "output_type": "execute_result"
    }
   ],
   "source": [
    "df_ejemplo.shape"
   ]
  },
  {
   "cell_type": "code",
   "execution_count": 66,
   "metadata": {},
   "outputs": [],
   "source": [
    "#Homogeneizamos el nombre de las columnas \n",
    "nuevas_columnas = {columna: columna.lower() for columna in df_ejemplo.columns}"
   ]
  },
  {
   "cell_type": "code",
   "execution_count": 67,
   "metadata": {},
   "outputs": [],
   "source": [
    "df_ejemplo.rename(columns=nuevas_columnas, inplace= True)"
   ]
  },
  {
   "cell_type": "code",
   "execution_count": 68,
   "metadata": {},
   "outputs": [],
   "source": [
    "#Modificamos el nombre de la columna para que sea mas intuitivo\n",
    "df_ejemplo.rename(columns = {\"datebirth\": \"yearbirth\"}, inplace = True )"
   ]
  },
  {
   "cell_type": "code",
   "execution_count": 69,
   "metadata": {},
   "outputs": [],
   "source": [
    "# Eliminamos columnas que identificamos previamente\n",
    "\n",
    "df_ejemplo.drop(['roledepartament','numberchildren','over18', 'sameasmonthlyincome','employeecount','salary','standardhours', 'yearsincurrentrole'],axis = 1, inplace=True)"
   ]
  },
  {
   "cell_type": "code",
   "execution_count": 70,
   "metadata": {},
   "outputs": [
    {
     "data": {
      "text/plain": [
       "0       51\n",
       "1       52\n",
       "2       42\n",
       "3       47\n",
       "4       46\n",
       "        ..\n",
       "1609    36\n",
       "1610    45\n",
       "1611    39\n",
       "1612    36\n",
       "1613    46\n",
       "Name: age, Length: 1614, dtype: object"
      ]
     },
     "execution_count": 70,
     "metadata": {},
     "output_type": "execute_result"
    }
   ],
   "source": [
    "df_ejemplo[\"age\"]"
   ]
  },
  {
   "cell_type": "markdown",
   "metadata": {},
   "source": [
    "_______\n",
    "\n",
    "# Transformación de datos I\n",
    "\n",
    "- **Age:**  Está en formato object, lo pasamos a numérico con una función.\n",
    "\n",
    "- Hacemos otra función para modificar las columnas **dailyrate**, **employeenumber**, **monthlyincome**, **performancerating**, **totalworkingyears**, **worklifebalance** y **distancefromhome**.\n",
    " \n",
    "    **Los cambios que se aplicarán son:**\n",
    "- Quitamos el símbolo '$' . Lo reemplazamos por ' ' \n",
    "\n",
    "- Reemplazamos ',' por  '.' para que Python pueda tratar correctamente los float\n",
    "\n",
    "- Pasamos los valores numéricos que están en formato object a float"
   ]
  },
  {
   "cell_type": "code",
   "execution_count": 71,
   "metadata": {},
   "outputs": [],
   "source": [
    "#Para columna de Age\n",
    "\n",
    "def convertir_a_numero(valor):\n",
    "    if isinstance(valor, int): # Verifica si el valor ya es un entero, si lo es no hace nada\n",
    "        return valor\n",
    "    elif isinstance(valor, str): # Intenta convertir el valor a número\n",
    "        try: \n",
    "            numero = int(valor)\n",
    "            return numero\n",
    "        except ValueError:\n",
    "            try: # aquí es donde se usa la función w2n en el try pq si la conversion falla entonces se usará\n",
    "                numero = w2n.word_to_num(valor)\n",
    "                return numero\n",
    "            except ValueError:\n",
    "                print(f\"Error: No se pudo convertir '{valor}' a número.\")\n",
    "                return None\n",
    "    else:\n",
    "        print(f\"Error: Tipo de dato no soportado para el valor '{valor}'.\")\n",
    "        return None\n"
   ]
  },
  {
   "cell_type": "code",
   "execution_count": 72,
   "metadata": {},
   "outputs": [],
   "source": [
    "#lista con columnas a limpiar\n",
    "columnas_limpiar = ['dailyrate','employeenumber','monthlyincome','performancerating','totalworkingyears','worklifebalance','distancefromhome']"
   ]
  },
  {
   "cell_type": "code",
   "execution_count": 73,
   "metadata": {},
   "outputs": [],
   "source": [
    "df_ejemplo['age'] = df_ejemplo['age'].apply(convertir_a_numero) #llamamos a la función"
   ]
  },
  {
   "cell_type": "code",
   "execution_count": 74,
   "metadata": {},
   "outputs": [],
   "source": [
    "def limpiar_datos (columna):\n",
    "\n",
    "      try:\n",
    "          df_ejemplo[columna] =(df_ejemplo[columna].str.replace('$', ''))\n",
    "    \n",
    "      except:\n",
    "          pass\n",
    "      \n",
    "      try:\n",
    "          df_ejemplo[columna] =(df_ejemplo[columna].str.replace(',', '.')) \n",
    "    \n",
    "      except:\n",
    "          pass\n",
    "         \n",
    "      try:\n",
    "        df_ejemplo[columna]=pd.to_numeric(df_ejemplo[columna]).astype(float)\n",
    "      except:\n",
    "        pass\n",
    "      return df_ejemplo[columna]"
   ]
  },
  {
   "cell_type": "code",
   "execution_count": 75,
   "metadata": {},
   "outputs": [
    {
     "name": "stdout",
     "output_type": "stream",
     "text": [
      "0        684.0\n",
      "1        699.0\n",
      "2        532.0\n",
      "3        359.0\n",
      "4       1319.0\n",
      "         ...  \n",
      "1609     530.0\n",
      "1610     805.0\n",
      "1611     903.0\n",
      "1612    1229.0\n",
      "1613     566.0\n",
      "Name: dailyrate, Length: 1614, dtype: object\n",
      "0       162.0\n",
      "1       259.0\n",
      "2       319.0\n",
      "3         NaN\n",
      "4         NaN\n",
      "        ...  \n",
      "1609    967.0\n",
      "1610    972.0\n",
      "1611      NaN\n",
      "1612    990.0\n",
      "1613      NaN\n",
      "Name: employeenumber, Length: 1614, dtype: float64\n",
      "0       19537.0\n",
      "1       19999.0\n",
      "2       19232.0\n",
      "3       17169.0\n",
      "4           NaN\n",
      "         ...   \n",
      "1609    10325.0\n",
      "1610     4447.0\n",
      "1611        NaN\n",
      "1612        NaN\n",
      "1613    10845.0\n",
      "Name: monthlyincome, Length: 1614, dtype: float64\n",
      "0       3.0\n",
      "1       3.0\n",
      "2       3.0\n",
      "3       3.0\n",
      "4       3.0\n",
      "       ... \n",
      "1609    NaN\n",
      "1610    3.0\n",
      "1611    3.0\n",
      "1612    NaN\n",
      "1613    3.0\n",
      "Name: performancerating, Length: 1614, dtype: float64\n",
      "0        NaN\n",
      "1       34.0\n",
      "2       22.0\n",
      "3        NaN\n",
      "4        NaN\n",
      "        ... \n",
      "1609     NaN\n",
      "1610     NaN\n",
      "1611     9.0\n",
      "1612    12.0\n",
      "1613     NaN\n",
      "Name: totalworkingyears, Length: 1614, dtype: float64\n",
      "0       3.0\n",
      "1       3.0\n",
      "2       NaN\n",
      "3       NaN\n",
      "4       3.0\n",
      "       ... \n",
      "1609    3.0\n",
      "1610    2.0\n",
      "1611    3.0\n",
      "1612    3.0\n",
      "1613    3.0\n",
      "Name: worklifebalance, Length: 1614, dtype: float64\n",
      "0        6.0\n",
      "1        1.0\n",
      "2        4.0\n",
      "3        2.0\n",
      "4        3.0\n",
      "        ... \n",
      "1609     3.0\n",
      "1610     4.0\n",
      "1611   -13.0\n",
      "1612     8.0\n",
      "1613     7.0\n",
      "Name: distancefromhome, Length: 1614, dtype: float64\n"
     ]
    }
   ],
   "source": [
    "#Limpiamos las columnas de números para convertirlas a numéricas\n",
    "for i in columnas_limpiar:\n",
    "   df_ejemplo[i]=limpiar_datos(i)\n",
    "   print(df_ejemplo[i])\n",
    "   \n",
    " "
   ]
  },
  {
   "cell_type": "markdown",
   "metadata": {},
   "source": [
    "_____"
   ]
  },
  {
   "cell_type": "markdown",
   "metadata": {},
   "source": [
    "# Transformación de datos II\n",
    "\n",
    "- Cambiamos de categoría la columna 'género'. Reemplazamos sus valores de 0 y 1 por Male y Female.\n",
    "\n",
    "- Homogeneizamos la columna 'maritalstatus'.\n",
    "\n",
    "- Modificamos los valores de la columna  'remotework', 0 y 1, True or False por Yes y No\n",
    "\n",
    "- Modificamos los valores negativos de la columna DistanceFromHome a nulos para luego convertirlos a unknown en la gestión de nulos. \n"
   ]
  },
  {
   "cell_type": "code",
   "execution_count": 76,
   "metadata": {},
   "outputs": [
    {
     "data": {
      "text/plain": [
       "gender\n",
       "male      971\n",
       "female    643\n",
       "Name: count, dtype: int64"
      ]
     },
     "execution_count": 76,
     "metadata": {},
     "output_type": "execute_result"
    }
   ],
   "source": [
    "df_ejemplo['gender'] = df_ejemplo['gender'].replace({0: 'male', 1: 'female'})\n",
    "df_ejemplo['gender'].value_counts()"
   ]
  },
  {
   "cell_type": "code",
   "execution_count": 77,
   "metadata": {},
   "outputs": [],
   "source": [
    "df_ejemplo['maritalstatus']= df_ejemplo['maritalstatus'].replace({'divorced':'Divorced','Marreid':'Married'})"
   ]
  },
  {
   "cell_type": "code",
   "execution_count": 78,
   "metadata": {},
   "outputs": [
    {
     "data": {
      "text/plain": [
       "remotework\n",
       "1        360\n",
       "True     345\n",
       "0        309\n",
       "False    305\n",
       "Yes      295\n",
       "Name: count, dtype: int64"
      ]
     },
     "execution_count": 78,
     "metadata": {},
     "output_type": "execute_result"
    }
   ],
   "source": [
    "df_ejemplo['remotework'].value_counts()"
   ]
  },
  {
   "cell_type": "code",
   "execution_count": 79,
   "metadata": {},
   "outputs": [],
   "source": [
    "df_ejemplo['remotework']= df_ejemplo['remotework'].replace({('1'):'Yes',('0') or ('False'): 'No', 'True': 'Yes', 'False': 'No'})"
   ]
  },
  {
   "cell_type": "code",
   "execution_count": 80,
   "metadata": {},
   "outputs": [
    {
     "data": {
      "text/plain": [
       "remotework\n",
       "Yes    1000\n",
       "No      614\n",
       "Name: count, dtype: int64"
      ]
     },
     "execution_count": 80,
     "metadata": {},
     "output_type": "execute_result"
    }
   ],
   "source": [
    "df_ejemplo['remotework'].value_counts()"
   ]
  },
  {
   "cell_type": "code",
   "execution_count": 81,
   "metadata": {},
   "outputs": [],
   "source": [
    "\n",
    "df_ejemplo[\"distancefromhome\"] = df_ejemplo[\"distancefromhome\"].apply(lambda x: np.nan if x < 0 else x)"
   ]
  },
  {
   "cell_type": "markdown",
   "metadata": {},
   "source": [
    "**ELIMINACIÓN DE FILAS**\n",
    "\n",
    "- Al analizar la columna de **employee number**, encontramos 208 valores duplicados \n",
    "\n",
    "- Detectamos que la única diferencia entre estos duplicados eran los valores que se encuentran en la columna 'remotework'. Allí detectamos que la equivalencia era 0 = 'No' y 1 = 'Yes'"
   ]
  },
  {
   "cell_type": "code",
   "execution_count": 82,
   "metadata": {},
   "outputs": [
    {
     "data": {
      "text/plain": [
       "105"
      ]
     },
     "execution_count": 82,
     "metadata": {},
     "output_type": "execute_result"
    }
   ],
   "source": [
    "#identificamos los números de empleado duplicados\n",
    "# usamos unique para que muestre los valores únicos\n",
    "duplicados = df_ejemplo[df_ejemplo.duplicated(subset=['employeenumber'], keep=False)]['employeenumber'].unique()\n",
    "len(duplicados)\n",
    "\n",
    "#Hay 104 numeros de empleado duplicados más NaN"
   ]
  },
  {
   "cell_type": "code",
   "execution_count": 83,
   "metadata": {},
   "outputs": [],
   "source": [
    "# Almacenamos los números de empleados duplicados en una lista\n",
    "\n",
    "lista_duplicados2= []\n",
    "\n",
    "for numero in duplicados:\n",
    "    lista_duplicados2.append(df_ejemplo[df_ejemplo['employeenumber'] == numero])"
   ]
  },
  {
   "cell_type": "code",
   "execution_count": 84,
   "metadata": {},
   "outputs": [
    {
     "data": {
      "text/html": [
       "<div>\n",
       "<style scoped>\n",
       "    .dataframe tbody tr th:only-of-type {\n",
       "        vertical-align: middle;\n",
       "    }\n",
       "\n",
       "    .dataframe tbody tr th {\n",
       "        vertical-align: top;\n",
       "    }\n",
       "\n",
       "    .dataframe thead th {\n",
       "        text-align: right;\n",
       "    }\n",
       "</style>\n",
       "<table border=\"1\" class=\"dataframe\">\n",
       "  <thead>\n",
       "    <tr style=\"text-align: right;\">\n",
       "      <th></th>\n",
       "      <th>index</th>\n",
       "      <th>age</th>\n",
       "      <th>attrition</th>\n",
       "      <th>businesstravel</th>\n",
       "      <th>dailyrate</th>\n",
       "      <th>department</th>\n",
       "      <th>distancefromhome</th>\n",
       "      <th>education</th>\n",
       "      <th>educationfield</th>\n",
       "      <th>employeenumber</th>\n",
       "      <th>environmentsatisfaction</th>\n",
       "      <th>gender</th>\n",
       "      <th>hourlyrate</th>\n",
       "      <th>jobinvolvement</th>\n",
       "      <th>joblevel</th>\n",
       "      <th>jobrole</th>\n",
       "      <th>jobsatisfaction</th>\n",
       "      <th>maritalstatus</th>\n",
       "      <th>monthlyincome</th>\n",
       "      <th>monthlyrate</th>\n",
       "      <th>numcompaniesworked</th>\n",
       "      <th>overtime</th>\n",
       "      <th>percentsalaryhike</th>\n",
       "      <th>performancerating</th>\n",
       "      <th>relationshipsatisfaction</th>\n",
       "      <th>stockoptionlevel</th>\n",
       "      <th>totalworkingyears</th>\n",
       "      <th>trainingtimeslastyear</th>\n",
       "      <th>worklifebalance</th>\n",
       "      <th>yearsatcompany</th>\n",
       "      <th>yearssincelastpromotion</th>\n",
       "      <th>yearswithcurrmanager</th>\n",
       "      <th>yearbirth</th>\n",
       "      <th>remotework</th>\n",
       "    </tr>\n",
       "  </thead>\n",
       "  <tbody>\n",
       "    <tr>\n",
       "      <th>0</th>\n",
       "      <td>82</td>\n",
       "      <td>38</td>\n",
       "      <td>No</td>\n",
       "      <td>NaN</td>\n",
       "      <td>119.0</td>\n",
       "      <td>NaN</td>\n",
       "      <td>3.0</td>\n",
       "      <td>3</td>\n",
       "      <td>Life Sciences</td>\n",
       "      <td>307.0</td>\n",
       "      <td>1</td>\n",
       "      <td>male</td>\n",
       "      <td>76</td>\n",
       "      <td>3</td>\n",
       "      <td>3</td>\n",
       "      <td>Sales exECuTIVE</td>\n",
       "      <td>3</td>\n",
       "      <td>Divorced</td>\n",
       "      <td>NaN</td>\n",
       "      <td>9647</td>\n",
       "      <td>0</td>\n",
       "      <td>NaN</td>\n",
       "      <td>12</td>\n",
       "      <td>3.0</td>\n",
       "      <td>3</td>\n",
       "      <td>2</td>\n",
       "      <td>NaN</td>\n",
       "      <td>6</td>\n",
       "      <td>2.0</td>\n",
       "      <td>16</td>\n",
       "      <td>5</td>\n",
       "      <td>13</td>\n",
       "      <td>1985</td>\n",
       "      <td>Yes</td>\n",
       "    </tr>\n",
       "    <tr>\n",
       "      <th>1</th>\n",
       "      <td>1474</td>\n",
       "      <td>38</td>\n",
       "      <td>No</td>\n",
       "      <td>NaN</td>\n",
       "      <td>119.0</td>\n",
       "      <td>NaN</td>\n",
       "      <td>3.0</td>\n",
       "      <td>3</td>\n",
       "      <td>Life Sciences</td>\n",
       "      <td>307.0</td>\n",
       "      <td>1</td>\n",
       "      <td>male</td>\n",
       "      <td>76</td>\n",
       "      <td>3</td>\n",
       "      <td>3</td>\n",
       "      <td>SAleS EXeCuTive</td>\n",
       "      <td>3</td>\n",
       "      <td>Divorced</td>\n",
       "      <td>NaN</td>\n",
       "      <td>9647</td>\n",
       "      <td>0</td>\n",
       "      <td>NaN</td>\n",
       "      <td>12</td>\n",
       "      <td>3.0</td>\n",
       "      <td>3</td>\n",
       "      <td>2</td>\n",
       "      <td>NaN</td>\n",
       "      <td>6</td>\n",
       "      <td>2.0</td>\n",
       "      <td>16</td>\n",
       "      <td>5</td>\n",
       "      <td>13</td>\n",
       "      <td>1985</td>\n",
       "      <td>Yes</td>\n",
       "    </tr>\n",
       "    <tr>\n",
       "      <th>2</th>\n",
       "      <td>84</td>\n",
       "      <td>55</td>\n",
       "      <td>No</td>\n",
       "      <td>travel_rarely</td>\n",
       "      <td>452.0</td>\n",
       "      <td>NaN</td>\n",
       "      <td>1.0</td>\n",
       "      <td>3</td>\n",
       "      <td>Medical</td>\n",
       "      <td>374.0</td>\n",
       "      <td>4</td>\n",
       "      <td>male</td>\n",
       "      <td>81</td>\n",
       "      <td>3</td>\n",
       "      <td>5</td>\n",
       "      <td>manAger</td>\n",
       "      <td>1</td>\n",
       "      <td>Single</td>\n",
       "      <td>19045.0</td>\n",
       "      <td>18938</td>\n",
       "      <td>0</td>\n",
       "      <td>NaN</td>\n",
       "      <td>14</td>\n",
       "      <td>3.0</td>\n",
       "      <td>3</td>\n",
       "      <td>0</td>\n",
       "      <td>37.0</td>\n",
       "      <td>2</td>\n",
       "      <td>3.0</td>\n",
       "      <td>36</td>\n",
       "      <td>4</td>\n",
       "      <td>13</td>\n",
       "      <td>1968</td>\n",
       "      <td>Yes</td>\n",
       "    </tr>\n",
       "    <tr>\n",
       "      <th>3</th>\n",
       "      <td>1476</td>\n",
       "      <td>55</td>\n",
       "      <td>No</td>\n",
       "      <td>travel_rarely</td>\n",
       "      <td>452.0</td>\n",
       "      <td>NaN</td>\n",
       "      <td>1.0</td>\n",
       "      <td>3</td>\n",
       "      <td>Medical</td>\n",
       "      <td>374.0</td>\n",
       "      <td>4</td>\n",
       "      <td>male</td>\n",
       "      <td>81</td>\n",
       "      <td>3</td>\n",
       "      <td>5</td>\n",
       "      <td>MaNAger</td>\n",
       "      <td>1</td>\n",
       "      <td>Single</td>\n",
       "      <td>19045.0</td>\n",
       "      <td>18938</td>\n",
       "      <td>0</td>\n",
       "      <td>NaN</td>\n",
       "      <td>14</td>\n",
       "      <td>3.0</td>\n",
       "      <td>3</td>\n",
       "      <td>0</td>\n",
       "      <td>37.0</td>\n",
       "      <td>2</td>\n",
       "      <td>3.0</td>\n",
       "      <td>36</td>\n",
       "      <td>4</td>\n",
       "      <td>13</td>\n",
       "      <td>1968</td>\n",
       "      <td>Yes</td>\n",
       "    </tr>\n",
       "    <tr>\n",
       "      <th>4</th>\n",
       "      <td>89</td>\n",
       "      <td>31</td>\n",
       "      <td>No</td>\n",
       "      <td>NaN</td>\n",
       "      <td>480.0</td>\n",
       "      <td>NaN</td>\n",
       "      <td>NaN</td>\n",
       "      <td>2</td>\n",
       "      <td>NaN</td>\n",
       "      <td>524.0</td>\n",
       "      <td>2</td>\n",
       "      <td>female</td>\n",
       "      <td>31</td>\n",
       "      <td>3</td>\n",
       "      <td>2</td>\n",
       "      <td>MaNufactuRINg dIrecTor</td>\n",
       "      <td>1</td>\n",
       "      <td>Married</td>\n",
       "      <td>4306.0</td>\n",
       "      <td>4156</td>\n",
       "      <td>1</td>\n",
       "      <td>No</td>\n",
       "      <td>12</td>\n",
       "      <td>3.0</td>\n",
       "      <td>2</td>\n",
       "      <td>1</td>\n",
       "      <td>13.0</td>\n",
       "      <td>5</td>\n",
       "      <td>1.0</td>\n",
       "      <td>13</td>\n",
       "      <td>3</td>\n",
       "      <td>12</td>\n",
       "      <td>1992</td>\n",
       "      <td>Yes</td>\n",
       "    </tr>\n",
       "    <tr>\n",
       "      <th>5</th>\n",
       "      <td>1481</td>\n",
       "      <td>31</td>\n",
       "      <td>No</td>\n",
       "      <td>NaN</td>\n",
       "      <td>480.0</td>\n",
       "      <td>NaN</td>\n",
       "      <td>7.0</td>\n",
       "      <td>2</td>\n",
       "      <td>NaN</td>\n",
       "      <td>524.0</td>\n",
       "      <td>2</td>\n",
       "      <td>female</td>\n",
       "      <td>31</td>\n",
       "      <td>3</td>\n",
       "      <td>2</td>\n",
       "      <td>maNUFActUrInG dIreCTOr</td>\n",
       "      <td>1</td>\n",
       "      <td>Married</td>\n",
       "      <td>4306.0</td>\n",
       "      <td>4156</td>\n",
       "      <td>1</td>\n",
       "      <td>No</td>\n",
       "      <td>12</td>\n",
       "      <td>3.0</td>\n",
       "      <td>2</td>\n",
       "      <td>1</td>\n",
       "      <td>13.0</td>\n",
       "      <td>5</td>\n",
       "      <td>1.0</td>\n",
       "      <td>13</td>\n",
       "      <td>3</td>\n",
       "      <td>12</td>\n",
       "      <td>1992</td>\n",
       "      <td>Yes</td>\n",
       "    </tr>\n",
       "  </tbody>\n",
       "</table>\n",
       "</div>"
      ],
      "text/plain": [
       "   index  age attrition businesstravel dailyrate department  distancefromhome  \\\n",
       "0     82   38        No            NaN     119.0        NaN               3.0   \n",
       "1   1474   38        No            NaN     119.0        NaN               3.0   \n",
       "2     84   55        No  travel_rarely     452.0        NaN               1.0   \n",
       "3   1476   55        No  travel_rarely     452.0        NaN               1.0   \n",
       "4     89   31        No            NaN     480.0        NaN               NaN   \n",
       "5   1481   31        No            NaN     480.0        NaN               7.0   \n",
       "\n",
       "   education educationfield  employeenumber  environmentsatisfaction  gender  \\\n",
       "0          3  Life Sciences           307.0                        1    male   \n",
       "1          3  Life Sciences           307.0                        1    male   \n",
       "2          3        Medical           374.0                        4    male   \n",
       "3          3        Medical           374.0                        4    male   \n",
       "4          2            NaN           524.0                        2  female   \n",
       "5          2            NaN           524.0                        2  female   \n",
       "\n",
       "  hourlyrate  jobinvolvement  joblevel                   jobrole  \\\n",
       "0         76               3         3          Sales exECuTIVE    \n",
       "1         76               3         3          SAleS EXeCuTive    \n",
       "2         81               3         5                  manAger    \n",
       "3         81               3         5                  MaNAger    \n",
       "4         31               3         2   MaNufactuRINg dIrecTor    \n",
       "5         31               3         2   maNUFActUrInG dIreCTOr    \n",
       "\n",
       "   jobsatisfaction maritalstatus  monthlyincome  monthlyrate  \\\n",
       "0                3      Divorced            NaN         9647   \n",
       "1                3      Divorced            NaN         9647   \n",
       "2                1        Single        19045.0        18938   \n",
       "3                1        Single        19045.0        18938   \n",
       "4                1       Married         4306.0         4156   \n",
       "5                1       Married         4306.0         4156   \n",
       "\n",
       "   numcompaniesworked overtime  percentsalaryhike  performancerating  \\\n",
       "0                   0      NaN                 12                3.0   \n",
       "1                   0      NaN                 12                3.0   \n",
       "2                   0      NaN                 14                3.0   \n",
       "3                   0      NaN                 14                3.0   \n",
       "4                   1       No                 12                3.0   \n",
       "5                   1       No                 12                3.0   \n",
       "\n",
       "   relationshipsatisfaction  stockoptionlevel  totalworkingyears  \\\n",
       "0                         3                 2                NaN   \n",
       "1                         3                 2                NaN   \n",
       "2                         3                 0               37.0   \n",
       "3                         3                 0               37.0   \n",
       "4                         2                 1               13.0   \n",
       "5                         2                 1               13.0   \n",
       "\n",
       "   trainingtimeslastyear  worklifebalance  yearsatcompany  \\\n",
       "0                      6              2.0              16   \n",
       "1                      6              2.0              16   \n",
       "2                      2              3.0              36   \n",
       "3                      2              3.0              36   \n",
       "4                      5              1.0              13   \n",
       "5                      5              1.0              13   \n",
       "\n",
       "   yearssincelastpromotion  yearswithcurrmanager  yearbirth remotework  \n",
       "0                        5                    13       1985        Yes  \n",
       "1                        5                    13       1985        Yes  \n",
       "2                        4                    13       1968        Yes  \n",
       "3                        4                    13       1968        Yes  \n",
       "4                        3                    12       1992        Yes  \n",
       "5                        3                    12       1992        Yes  "
      ]
     },
     "execution_count": 84,
     "metadata": {},
     "output_type": "execute_result"
    }
   ],
   "source": [
    "# lo visualizamos en un nuevo dataFrame\n",
    "df_resultado = pd.concat(lista_duplicados2)\n",
    "\n",
    "# Reseteaamos los índices y los convertimos en una columna\n",
    "\n",
    "df_resultado.reset_index(inplace=True)\n",
    "df_resultado.head(6)"
   ]
  },
  {
   "cell_type": "markdown",
   "metadata": {},
   "source": [
    "Detectamos que hay 104 filas a eliminar, ya que los duplicados van de dos en dos. \n",
    "Eliminamos los índices que están en posición par."
   ]
  },
  {
   "cell_type": "code",
   "execution_count": 85,
   "metadata": {},
   "outputs": [
    {
     "data": {
      "text/plain": [
       "104"
      ]
     },
     "execution_count": 85,
     "metadata": {},
     "output_type": "execute_result"
    }
   ],
   "source": [
    "#cogemos los índices de 2 en 2 \n",
    "\n",
    "indices_a_sacar = df_resultado.iloc[::2, 0]\n",
    "\n",
    "len(indices_a_sacar)"
   ]
  },
  {
   "cell_type": "code",
   "execution_count": 86,
   "metadata": {},
   "outputs": [
    {
     "data": {
      "text/plain": [
       "0        82\n",
       "2        84\n",
       "4        89\n",
       "6        90\n",
       "8       100\n",
       "       ... \n",
       "198    1005\n",
       "200    1006\n",
       "202    1007\n",
       "204    1008\n",
       "206    1010\n",
       "Name: index, Length: 104, dtype: int64"
      ]
     },
     "execution_count": 86,
     "metadata": {},
     "output_type": "execute_result"
    }
   ],
   "source": [
    "indices_a_sacar"
   ]
  },
  {
   "cell_type": "code",
   "execution_count": 87,
   "metadata": {},
   "outputs": [],
   "source": [
    "# Eliminamos las filas duplicadas a partir de los índices que hemos sacado:\n",
    "\n",
    "df_ejemplo = df_ejemplo.drop(indices_a_sacar)"
   ]
  },
  {
   "cell_type": "code",
   "execution_count": 88,
   "metadata": {},
   "outputs": [
    {
     "data": {
      "text/plain": [
       "(1510, 33)"
      ]
     },
     "execution_count": 88,
     "metadata": {},
     "output_type": "execute_result"
    }
   ],
   "source": [
    "df_ejemplo.shape\n",
    "\n",
    "# Pasamos de 1614 filas a 1510 --> Comprobamos que se han eliminado las 104 filas especificadas."
   ]
  },
  {
   "cell_type": "code",
   "execution_count": 89,
   "metadata": {},
   "outputs": [
    {
     "data": {
      "text/plain": [
       "Series([], Name: count, dtype: int64)"
      ]
     },
     "execution_count": 89,
     "metadata": {},
     "output_type": "execute_result"
    }
   ],
   "source": [
    "# comprobamos que todos los valores son únicos, y que por lo tanto no hay duplicados.\n",
    "\n",
    "value_counts = df_ejemplo['employeenumber'].value_counts()\n",
    "valores_mayor_que_1 = value_counts[value_counts > 1]\n",
    "valores_mayor_que_1"
   ]
  },
  {
   "cell_type": "markdown",
   "metadata": {},
   "source": [
    "____\n",
    "\n",
    "# Transformación de datos III\n",
    "\n",
    "- Homogeneizamos las categorías de las encuestas (que todas vayan de 1 a 4)\n",
    "\n",
    "- Modificamos los valores de Education para que sean más legibles\n",
    "- Cambiamos los float a int. Lo miramos cuando gestionamos nulos\n",
    "\n",
    "- JobLevel, está de 1 a 5. Cambiamos por los siguientes por categorías profesionales:"
   ]
  },
  {
   "cell_type": "markdown",
   "metadata": {},
   "source": [
    "\n",
    "|Job Level              | Descripción                                       | \n",
    "|--------------         |---------------------------------------------------|\n",
    "| 1 - `Entry`           | Limited or prior experience / Non Exempt / PSS\n",
    "| 2 - `Intermediate`    | Assignments of moderate scope and complexity / Judgment within defined guidelines / Non Exempt / PSS | \n",
    "| 3 - `Experienced`     | In depth understanding of field / Independently performs full range of function / Exempt / PSS    | \n",
    "| 4 - `Advanced`        | High degree knowledge of overall field / Specialized knowledge / High degree of autonomy / Specialized knowledge / High degree of autonomy / Lead / Exempt / PSS or MSP | \n",
    "| 5 - `Expert`          | Significant impact on policy program / Substantial consequences of success or failure / Scope impacts entire organization (campus) / Exempt / MSP| \n",
    "\n",
    "\n"
   ]
  },
  {
   "cell_type": "code",
   "execution_count": 90,
   "metadata": {},
   "outputs": [
    {
     "data": {
      "text/plain": [
       "joblevel\n",
       "1    555\n",
       "2    546\n",
       "3    228\n",
       "4    111\n",
       "5     70\n",
       "Name: count, dtype: int64"
      ]
     },
     "execution_count": 90,
     "metadata": {},
     "output_type": "execute_result"
    }
   ],
   "source": [
    "df_ejemplo['jobsatisfaction'].value_counts() #1 a 4\n",
    "df_ejemplo['stockoptionlevel'].value_counts() # 0 a 3\n",
    "df_ejemplo['relationshipsatisfaction'].value_counts() # 1 a 4\n",
    "df_ejemplo['performancerating'].value_counts() # 3.0 y 4.0 \n",
    "df_ejemplo['jobinvolvement'].value_counts() #1 a 4\n",
    "df_ejemplo['worklifebalance'].value_counts() #1.0 a 4.0\n",
    "df_ejemplo['trainingtimeslastyear'].value_counts() # 0 a 6\n",
    "df_ejemplo['joblevel'].value_counts() # 1 a 5\n"
   ]
  },
  {
   "cell_type": "code",
   "execution_count": 91,
   "metadata": {},
   "outputs": [],
   "source": [
    "datos = {1: 'High school', 2: 'College', 3: 'University', 4:'Master Degree', 5: 'PhD'}"
   ]
  },
  {
   "cell_type": "code",
   "execution_count": 92,
   "metadata": {},
   "outputs": [],
   "source": [
    "df_ejemplo['education']= df_ejemplo['education'].replace(datos)"
   ]
  },
  {
   "cell_type": "code",
   "execution_count": 93,
   "metadata": {},
   "outputs": [],
   "source": [
    "categorias = {1: 'Entry', 2: 'Intermediate', 3: 'Experienced', 4: 'Advanced', 5: 'Expert'}"
   ]
  },
  {
   "cell_type": "code",
   "execution_count": 94,
   "metadata": {},
   "outputs": [],
   "source": [
    "df_ejemplo['joblevel']= df_ejemplo['joblevel'].replace(categorias)"
   ]
  },
  {
   "cell_type": "markdown",
   "metadata": {},
   "source": [
    "## Transformación de Datos IV\n",
    "\n",
    " - Modficamos el valor 'Not Available' por 'Unknown' de la columna 'hourlyrate' "
   ]
  },
  {
   "cell_type": "code",
   "execution_count": 95,
   "metadata": {},
   "outputs": [],
   "source": [
    "df_ejemplo['hourlyrate'] = df_ejemplo['hourlyrate'].replace( 'Not Available', 'Unknown')"
   ]
  },
  {
   "cell_type": "markdown",
   "metadata": {},
   "source": [
    "______\n",
    "# Guardamos el DataFrame modificado\n",
    "\n",
    "Cuando los datos están limpios, pasamos el DataFrame a .csv para poder tratar los nulos. Se trabajará en el archivo \"orden_gestion_nulos.ipynb\""
   ]
  },
  {
   "cell_type": "code",
   "execution_count": 96,
   "metadata": {},
   "outputs": [],
   "source": [
    "df_ejemplo.to_csv('hr_limpio_con_nulos.csv')"
   ]
  }
 ],
 "metadata": {
  "kernelspec": {
   "display_name": "Python 3",
   "language": "python",
   "name": "python3"
  },
  "language_info": {
   "codemirror_mode": {
    "name": "ipython",
    "version": 3
   },
   "file_extension": ".py",
   "mimetype": "text/x-python",
   "name": "python",
   "nbconvert_exporter": "python",
   "pygments_lexer": "ipython3",
   "version": "3.9.7"
  }
 },
 "nbformat": 4,
 "nbformat_minor": 2
}
