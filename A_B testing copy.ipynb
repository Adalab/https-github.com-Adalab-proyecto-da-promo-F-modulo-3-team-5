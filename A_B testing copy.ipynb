{
 "cells": [
  {
   "cell_type": "markdown",
   "metadata": {},
   "source": [
    "El objetivo de esta fase es determinar si existe una relación entre el nivel de satisfacción en el trabajo y la rotación de empleados, y si es así, cuál es la magnitud de esa relación. Partiremos de la siguiente hipótesis, \"Existe una relación entre el nivel de satisfacción en el trabajo y la rotación de empleados en la empresa. Se sospecha que los empleados con niveles de satisfacción más bajos tienen una mayor probabilidad de dejar la empresa\". Para ello deberéis crear una columna nueva en base al nivel de satisfacción en el trabajo para crear dos grupos, las condiciones para crear los grupos son:\n",
    "Grupo A (Control): Empleados con un nivel de satisfacción en el trabajo igual o superior a 3 en una escala de 1 a 5.\n",
    "Grupo B (Variante): Empleados con un nivel de satisfacción en el trabajo inferior a 3 en la misma escala.\n",
    "La métrica principal que debes usar es la tasa de rotación de empleados (Attrition) en cada grupo. Recordemos que, en esta columna, \"No\" indica que el empleado no ha dejado la empresa (sin rotación), mientras que \"Yes\" indica que el empleado ha dejado la empresa (con rotación).\n",
    "Por lo tanto, los pasos que deberás seguir en esta fase son:\n",
    "Divide a los empleados en los grupos A y B según los criterios establecidos.\n",
    "Calcula la tasa de rotación (porcentaje de empleados que dejaron la empresa) en cada grupo.\n",
    "Realiza un análisis estadístico para determinar si hay una diferencia significativa en la tasa de rotación entre los grupos A y B.\n",
    "Analiza los resultados.\n",
    "Calcular la magnitud de esta relación utilizando estadísticas como la diferencia de medias por ejemplo."
   ]
  },
  {
   "cell_type": "code",
   "execution_count": 1,
   "metadata": {},
   "outputs": [],
   "source": [
    "\n",
    "# importamos las librerías que necesitamos\n",
    "\n",
    "# Tratamiento de datos\n",
    "# -----------------------------------------------------------------------\n",
    "import pandas as pd\n",
    "import numpy as np\n",
    "\n",
    "# Visualización\n",
    "# ------------------------------------------------------------------------------\n",
    "import matplotlib.pyplot as plt\n",
    "import seaborn as sns\n",
    "\n",
    "# Evaluar linealidad de las relaciones entre las variables\n",
    "# y la distribución de las variables\n",
    "# ------------------------------------------------------------------------------\n",
    "import scipy.stats as stats\n",
    "from scipy.stats import shapiro, poisson, chisquare, expon, kstest,chi2_contingency,ttest_ind\n",
    "\n",
    "# Configuración\n",
    "# -----------------------------------------------------------------------\n",
    "pd.set_option('display.max_columns', None) # para poder visualizar todas las columnas de los DataFrames\n",
    "\n",
    "# Gestión de los warnings\n",
    "# -----------------------------------------------------------------------\n",
    "import warnings\n",
    "warnings.filterwarnings(\"ignore\")"
   ]
  },
  {
   "cell_type": "code",
   "execution_count": 2,
   "metadata": {},
   "outputs": [],
   "source": [
    "df=pd.read_csv(\"hr_limpio.csv\",index_col=0)"
   ]
  },
  {
   "cell_type": "code",
   "execution_count": 3,
   "metadata": {},
   "outputs": [
    {
     "data": {
      "text/html": [
       "<div>\n",
       "<style scoped>\n",
       "    .dataframe tbody tr th:only-of-type {\n",
       "        vertical-align: middle;\n",
       "    }\n",
       "\n",
       "    .dataframe tbody tr th {\n",
       "        vertical-align: top;\n",
       "    }\n",
       "\n",
       "    .dataframe thead th {\n",
       "        text-align: right;\n",
       "    }\n",
       "</style>\n",
       "<table border=\"1\" class=\"dataframe\">\n",
       "  <thead>\n",
       "    <tr style=\"text-align: right;\">\n",
       "      <th></th>\n",
       "      <th>age</th>\n",
       "      <th>attrition</th>\n",
       "      <th>businesstravel</th>\n",
       "      <th>department</th>\n",
       "      <th>distancefromhome</th>\n",
       "      <th>education</th>\n",
       "      <th>educationfield</th>\n",
       "      <th>employeenumber</th>\n",
       "      <th>environmentsatisfaction</th>\n",
       "      <th>gender</th>\n",
       "      <th>hourlyrate</th>\n",
       "      <th>jobinvolvement</th>\n",
       "      <th>joblevel</th>\n",
       "      <th>jobrole</th>\n",
       "      <th>jobsatisfaction</th>\n",
       "      <th>maritalstatus</th>\n",
       "      <th>monthlyincome</th>\n",
       "      <th>monthlyrate</th>\n",
       "      <th>numcompaniesworked</th>\n",
       "      <th>overtime</th>\n",
       "      <th>percentsalaryhike</th>\n",
       "      <th>performancerating</th>\n",
       "      <th>relationshipsatisfaction</th>\n",
       "      <th>stockoptionlevel</th>\n",
       "      <th>trainingtimeslastyear</th>\n",
       "      <th>worklifebalance</th>\n",
       "      <th>yearsatcompany</th>\n",
       "      <th>yearssincelastpromotion</th>\n",
       "      <th>yearswithcurrmanager</th>\n",
       "      <th>yearbirth</th>\n",
       "      <th>remotework</th>\n",
       "      <th>dailyrate</th>\n",
       "      <th>totalworkingyears</th>\n",
       "    </tr>\n",
       "  </thead>\n",
       "  <tbody>\n",
       "    <tr>\n",
       "      <th>0</th>\n",
       "      <td>51</td>\n",
       "      <td>no</td>\n",
       "      <td>unknown</td>\n",
       "      <td>unknown</td>\n",
       "      <td>6.0</td>\n",
       "      <td>university</td>\n",
       "      <td>unknown</td>\n",
       "      <td>162.0</td>\n",
       "      <td>1</td>\n",
       "      <td>male</td>\n",
       "      <td>51</td>\n",
       "      <td>3</td>\n",
       "      <td>expert</td>\n",
       "      <td>research director</td>\n",
       "      <td>3</td>\n",
       "      <td>unknown</td>\n",
       "      <td>19537.0</td>\n",
       "      <td>6462</td>\n",
       "      <td>7</td>\n",
       "      <td>no</td>\n",
       "      <td>13</td>\n",
       "      <td>3.0</td>\n",
       "      <td>3</td>\n",
       "      <td>0</td>\n",
       "      <td>5</td>\n",
       "      <td>3.0</td>\n",
       "      <td>20</td>\n",
       "      <td>15</td>\n",
       "      <td>15</td>\n",
       "      <td>1972</td>\n",
       "      <td>yes</td>\n",
       "      <td>684.0</td>\n",
       "      <td>24.0</td>\n",
       "    </tr>\n",
       "    <tr>\n",
       "      <th>1</th>\n",
       "      <td>52</td>\n",
       "      <td>no</td>\n",
       "      <td>unknown</td>\n",
       "      <td>unknown</td>\n",
       "      <td>1.0</td>\n",
       "      <td>master degree</td>\n",
       "      <td>life sciences</td>\n",
       "      <td>259.0</td>\n",
       "      <td>3</td>\n",
       "      <td>male</td>\n",
       "      <td>65</td>\n",
       "      <td>2</td>\n",
       "      <td>expert</td>\n",
       "      <td>manager</td>\n",
       "      <td>3</td>\n",
       "      <td>unknown</td>\n",
       "      <td>19999.0</td>\n",
       "      <td>5678</td>\n",
       "      <td>0</td>\n",
       "      <td>unknown</td>\n",
       "      <td>14</td>\n",
       "      <td>3.0</td>\n",
       "      <td>1</td>\n",
       "      <td>1</td>\n",
       "      <td>5</td>\n",
       "      <td>3.0</td>\n",
       "      <td>33</td>\n",
       "      <td>11</td>\n",
       "      <td>9</td>\n",
       "      <td>1971</td>\n",
       "      <td>yes</td>\n",
       "      <td>699.0</td>\n",
       "      <td>34.0</td>\n",
       "    </tr>\n",
       "    <tr>\n",
       "      <th>2</th>\n",
       "      <td>42</td>\n",
       "      <td>no</td>\n",
       "      <td>travel_rarely</td>\n",
       "      <td>research &amp; development</td>\n",
       "      <td>4.0</td>\n",
       "      <td>college</td>\n",
       "      <td>technical degree</td>\n",
       "      <td>319.0</td>\n",
       "      <td>3</td>\n",
       "      <td>male</td>\n",
       "      <td>58</td>\n",
       "      <td>3</td>\n",
       "      <td>expert</td>\n",
       "      <td>manager</td>\n",
       "      <td>4</td>\n",
       "      <td>married</td>\n",
       "      <td>19232.0</td>\n",
       "      <td>4933</td>\n",
       "      <td>1</td>\n",
       "      <td>no</td>\n",
       "      <td>11</td>\n",
       "      <td>3.0</td>\n",
       "      <td>4</td>\n",
       "      <td>0</td>\n",
       "      <td>3</td>\n",
       "      <td>3.0</td>\n",
       "      <td>22</td>\n",
       "      <td>11</td>\n",
       "      <td>15</td>\n",
       "      <td>1981</td>\n",
       "      <td>yes</td>\n",
       "      <td>532.0</td>\n",
       "      <td>22.0</td>\n",
       "    </tr>\n",
       "    <tr>\n",
       "      <th>3</th>\n",
       "      <td>47</td>\n",
       "      <td>no</td>\n",
       "      <td>travel_rarely</td>\n",
       "      <td>unknown</td>\n",
       "      <td>2.0</td>\n",
       "      <td>master degree</td>\n",
       "      <td>medical</td>\n",
       "      <td>unknown</td>\n",
       "      <td>1</td>\n",
       "      <td>female</td>\n",
       "      <td>82</td>\n",
       "      <td>3</td>\n",
       "      <td>advanced</td>\n",
       "      <td>research director</td>\n",
       "      <td>3</td>\n",
       "      <td>married</td>\n",
       "      <td>17169.0</td>\n",
       "      <td>26703</td>\n",
       "      <td>3</td>\n",
       "      <td>unknown</td>\n",
       "      <td>19</td>\n",
       "      <td>3.0</td>\n",
       "      <td>2</td>\n",
       "      <td>2</td>\n",
       "      <td>2</td>\n",
       "      <td>3.0</td>\n",
       "      <td>20</td>\n",
       "      <td>5</td>\n",
       "      <td>6</td>\n",
       "      <td>1976</td>\n",
       "      <td>no</td>\n",
       "      <td>359.0</td>\n",
       "      <td>11.8</td>\n",
       "    </tr>\n",
       "    <tr>\n",
       "      <th>4</th>\n",
       "      <td>46</td>\n",
       "      <td>no</td>\n",
       "      <td>unknown</td>\n",
       "      <td>unknown</td>\n",
       "      <td>3.0</td>\n",
       "      <td>university</td>\n",
       "      <td>technical degree</td>\n",
       "      <td>unknown</td>\n",
       "      <td>1</td>\n",
       "      <td>female</td>\n",
       "      <td>45</td>\n",
       "      <td>4</td>\n",
       "      <td>advanced</td>\n",
       "      <td>sales executive</td>\n",
       "      <td>1</td>\n",
       "      <td>divorced</td>\n",
       "      <td>unknown</td>\n",
       "      <td>7739</td>\n",
       "      <td>2</td>\n",
       "      <td>no</td>\n",
       "      <td>12</td>\n",
       "      <td>3.0</td>\n",
       "      <td>4</td>\n",
       "      <td>1</td>\n",
       "      <td>5</td>\n",
       "      <td>3.0</td>\n",
       "      <td>19</td>\n",
       "      <td>2</td>\n",
       "      <td>8</td>\n",
       "      <td>1977</td>\n",
       "      <td>no</td>\n",
       "      <td>1319.0</td>\n",
       "      <td>9.8</td>\n",
       "    </tr>\n",
       "  </tbody>\n",
       "</table>\n",
       "</div>"
      ],
      "text/plain": [
       "   age attrition businesstravel                department distancefromhome  \\\n",
       "0   51        no        unknown                   unknown              6.0   \n",
       "1   52        no        unknown                   unknown              1.0   \n",
       "2   42        no  travel_rarely   research & development               4.0   \n",
       "3   47        no  travel_rarely                   unknown              2.0   \n",
       "4   46        no        unknown                   unknown              3.0   \n",
       "\n",
       "       education    educationfield employeenumber  environmentsatisfaction  \\\n",
       "0     university           unknown          162.0                        1   \n",
       "1  master degree     life sciences          259.0                        3   \n",
       "2        college  technical degree          319.0                        3   \n",
       "3  master degree           medical        unknown                        1   \n",
       "4     university  technical degree        unknown                        1   \n",
       "\n",
       "   gender hourlyrate  jobinvolvement  joblevel              jobrole  \\\n",
       "0    male         51               3    expert   research director    \n",
       "1    male         65               2    expert             manager    \n",
       "2    male         58               3    expert             manager    \n",
       "3  female         82               3  advanced   research director    \n",
       "4  female         45               4  advanced     sales executive    \n",
       "\n",
       "   jobsatisfaction maritalstatus monthlyincome  monthlyrate  \\\n",
       "0                3       unknown       19537.0         6462   \n",
       "1                3       unknown       19999.0         5678   \n",
       "2                4       married       19232.0         4933   \n",
       "3                3       married       17169.0        26703   \n",
       "4                1      divorced       unknown         7739   \n",
       "\n",
       "   numcompaniesworked overtime  percentsalaryhike performancerating  \\\n",
       "0                   7       no                 13               3.0   \n",
       "1                   0  unknown                 14               3.0   \n",
       "2                   1       no                 11               3.0   \n",
       "3                   3  unknown                 19               3.0   \n",
       "4                   2       no                 12               3.0   \n",
       "\n",
       "   relationshipsatisfaction  stockoptionlevel  trainingtimeslastyear  \\\n",
       "0                         3                 0                      5   \n",
       "1                         1                 1                      5   \n",
       "2                         4                 0                      3   \n",
       "3                         2                 2                      2   \n",
       "4                         4                 1                      5   \n",
       "\n",
       "   worklifebalance  yearsatcompany  yearssincelastpromotion  \\\n",
       "0              3.0              20                       15   \n",
       "1              3.0              33                       11   \n",
       "2              3.0              22                       11   \n",
       "3              3.0              20                        5   \n",
       "4              3.0              19                        2   \n",
       "\n",
       "   yearswithcurrmanager  yearbirth remotework  dailyrate  totalworkingyears  \n",
       "0                    15       1972        yes      684.0               24.0  \n",
       "1                     9       1971        yes      699.0               34.0  \n",
       "2                    15       1981        yes      532.0               22.0  \n",
       "3                     6       1976         no      359.0               11.8  \n",
       "4                     8       1977         no     1319.0                9.8  "
      ]
     },
     "execution_count": 3,
     "metadata": {},
     "output_type": "execute_result"
    }
   ],
   "source": [
    "df.head()"
   ]
  },
  {
   "cell_type": "code",
   "execution_count": null,
   "metadata": {},
   "outputs": [],
   "source": [
    "def "
   ]
  },
  {
   "cell_type": "code",
   "execution_count": 97,
   "metadata": {},
   "outputs": [],
   "source": [
    "def categorizar_grupos(numero):\n",
    "    if numero >= 3:\n",
    "        return \"grupo A\"\n",
    "    else:\n",
    "        return \"grupo B\"\n",
    "    \n",
    "\n",
    "df[\"grupo_satisfaccion\"]= df[\"jobsatisfaction\"].apply(categorizar_grupos)\n"
   ]
  },
  {
   "cell_type": "markdown",
   "metadata": {},
   "source": [
    "Hipotesis nula[HO]\n",
    "No hay cambios significativos entre los dos grupos\n",
    "\n",
    "Hupotesis alternanova [H1]\n",
    "Hay cambios significativos entre lso dos grupos\n",
    "\n",
    "—————\n",
    "\n",
    "Creamos un DataFrame aislando las columnas que nos interesan y hacemos los tests sobre ellas."
   ]
  },
  {
   "cell_type": "markdown",
   "metadata": {},
   "source": [
    "Rotación si: empleados satisfechos cuya valoración mayor o igual a 3. Empleados Insatisfechos cuya valoración inferior a 3. \n",
    "Rotación no: empleados satisfechos cuya valoración mayor o igual a 3. Empleados Insatisfechos cuya valoración inferior a 3.\n",
    "Ahora vamos a estudiar si las diferencias son significativas porque visualmente no parece que sean muy grandes."
   ]
  },
  {
   "cell_type": "code",
   "execution_count": 98,
   "metadata": {},
   "outputs": [
    {
     "data": {
      "text/plain": [
       "Index(['age', 'attrition', 'businesstravel', 'department', 'distancefromhome',\n",
       "       'education', 'educationfield', 'employeenumber',\n",
       "       'environmentsatisfaction', 'gender', 'hourlyrate', 'jobinvolvement',\n",
       "       'joblevel', 'jobrole', 'jobsatisfaction', 'maritalstatus',\n",
       "       'monthlyincome', 'monthlyrate', 'numcompaniesworked', 'overtime',\n",
       "       'percentsalaryhike', 'performancerating', 'relationshipsatisfaction',\n",
       "       'stockoptionlevel', 'trainingtimeslastyear', 'worklifebalance',\n",
       "       'yearsatcompany', 'yearssincelastpromotion', 'yearswithcurrmanager',\n",
       "       'yearbirth', 'remotework', 'dailyrate', 'totalworkingyears',\n",
       "       'grupo_satisfaccion'],\n",
       "      dtype='object')"
      ]
     },
     "execution_count": 98,
     "metadata": {},
     "output_type": "execute_result"
    }
   ],
   "source": [
    "df.columns"
   ]
  },
  {
   "cell_type": "code",
   "execution_count": 99,
   "metadata": {},
   "outputs": [],
   "source": [
    "def categorizar_grupos(numero):\n",
    "    if numero >= 3:\n",
    "        return \"grupo A\"\n",
    "    else:\n",
    "        return \"grupo B\"\n",
    "    \n",
    "\n",
    "df[\"job_satisfaction_ab\"]= df[\"jobsatisfaction\"].apply(categorizar_grupos)\n",
    "df[\"environment_satisfaction_ab\"]=df[\"environmentsatisfaction\"].apply(categorizar_grupos)\n",
    "df[\"relationship_satisfaction_ab\"]=df[\"relationshipsatisfaction\"].apply(categorizar_grupos)\n",
    "df[\"job_involvement_ab\"]=df[\"jobinvolvement\"].apply(categorizar_grupos)\n",
    "df[\"work_lifebalance_ab\"]=df[\"worklifebalance\"].apply(categorizar_grupos)\n"
   ]
  },
  {
   "cell_type": "code",
   "execution_count": 100,
   "metadata": {},
   "outputs": [
    {
     "data": {
      "text/plain": [
       "Index(['age', 'attrition', 'businesstravel', 'department', 'distancefromhome',\n",
       "       'education', 'educationfield', 'employeenumber',\n",
       "       'environmentsatisfaction', 'gender', 'hourlyrate', 'jobinvolvement',\n",
       "       'joblevel', 'jobrole', 'jobsatisfaction', 'maritalstatus',\n",
       "       'monthlyincome', 'monthlyrate', 'numcompaniesworked', 'overtime',\n",
       "       'percentsalaryhike', 'performancerating', 'relationshipsatisfaction',\n",
       "       'stockoptionlevel', 'trainingtimeslastyear', 'worklifebalance',\n",
       "       'yearsatcompany', 'yearssincelastpromotion', 'yearswithcurrmanager',\n",
       "       'yearbirth', 'remotework', 'dailyrate', 'totalworkingyears',\n",
       "       'grupo_satisfaccion', 'job_satisfaction_ab',\n",
       "       'environment_satisfaction_ab', 'relationship_satisfaction_ab',\n",
       "       'job_involvement_ab', 'work_lifebalance_ab'],\n",
       "      dtype='object')"
      ]
     },
     "execution_count": 100,
     "metadata": {},
     "output_type": "execute_result"
    }
   ],
   "source": [
    "df.columns"
   ]
  },
  {
   "cell_type": "code",
   "execution_count": 101,
   "metadata": {},
   "outputs": [],
   "source": [
    "columnas_ab=['job_satisfaction_ab',\n",
    "       'environment_satisfaction_ab', 'relationship_satisfaction_ab',\n",
    "       'job_involvement_ab', 'work_lifebalance_ab']"
   ]
  },
  {
   "cell_type": "code",
   "execution_count": 108,
   "metadata": {},
   "outputs": [],
   "source": [
    "def ab_testing(columnas):\n",
    "    \n",
    "    df_grupoA = df[df[columnas]== \"grupo A\"]\n",
    "    tasa_grupoA_rotacion=np.round(df_grupoA[df_grupoA[\"attrition\"]== \"yes\"].shape[0]/df_grupoA.shape[0],2)\n",
    "    print(tasa_grupoA_rotacion)\n",
    "\n",
    "    df_grupoB = df[df[columnas]== \"grupo B\"]\n",
    "    tasa_grupoB_rotacion=np.round(df_grupoB[df_grupoB[\"attrition\"]== \"yes\"].shape[0]/df_grupoB.shape[0],2)\n",
    "    print(tasa_grupoB_rotacion)\n",
    "     \n",
    "    # Crear un DataFrame\n",
    "    data_p_test = {\n",
    "    'Grupo': [\"Empleados Satisfechos\", \"Empleados Insatisfechos\"],\n",
    "    'Rotacion_si': [df_grupoA[df_grupoA[\"attrition\"]== \"yes\"].shape[0]/df_grupoA.shape[0],df_grupoB[df_grupoB[\"attrition\"]== \"yes\"].shape[0]/df_grupoB.shape[0]],\n",
    "    'Rotacion_no': [df_grupoA[df_grupoA[\"attrition\"]== \"no\"].shape[0]/df_grupoA.shape[0],df_grupoB[df_grupoB[\"attrition\"]== \"no\"].shape[0]/df_grupoB.shape[0]]}\n",
    "\n",
    "    df_p_test = pd.DataFrame(data_p_test)\n",
    "    \n",
    "    # hacemos un análisis visual previo\n",
    "    fig, axes = plt.subplots(nrows = 1, ncols = 2, figsize = (20, 5))\n",
    "\n",
    "    sns.barplot(x=\"Grupo\", y=\"Rotacion_si\", data=df_p_test,  palette = \"flare\",ax = axes[0])\n",
    "    sns.barplot(x=\"Grupo\", y=\"Rotacion_no\", data=df_p_test,  palette = \"flare\", ax = axes[1])\n",
    "\n",
    "    axes[0].set_title(columnas)\n",
    "    axes[1].set_title(columnas)\n",
    "        \n",
    "    # Crear una tabla de contingencia\n",
    "    contingency_table = pd.crosstab(df_p_test['Grupo'], df_p_test['Rotacion_si'])\n",
    "\n",
    "# Realizar la prueba de proporciones\n",
    "    chi2, p_value, _, _ = chi2_contingency(contingency_table)\n",
    "\n",
    "# Imprimir el resultado de la prueba\n",
    "    alpha = 0.05\n",
    "    if p_value < alpha:\n",
    "        print(f\"Hay una diferencia significativa entre {columnas} y la rotación\")\n",
    "        print(\"\"\"\n",
    "            Los resultados sugieren que existe evidencia estadística para afirmar que los datos guardan relación. \n",
    "            \"\"\")\n",
    "        print(\"\\n ---------- \\n\")\n",
    "    else:\n",
    "        print(f\"No hay una diferencia significativa entre {columnas} y la rotación.\")\n",
    "        print(\"\"\"Los resultados sugieren que no existe evidencia estadística para afirmar que los datos guardan relación\"\"\")\n",
    "        print(\"\\n ---------- \\n\")   "
   ]
  },
  {
   "cell_type": "code",
   "execution_count": 109,
   "metadata": {},
   "outputs": [
    {
     "name": "stdout",
     "output_type": "stream",
     "text": [
      "0.14\n",
      "0.19\n",
      "No hay una diferencia significativa entre job_satisfaction_ab y la rotación.\n",
      "Los resultados sugieren que no existe evidencia estadística para afirmar que los datos guardan relación\n",
      "\n",
      " ---------- \n",
      "\n",
      "0.13\n",
      "0.2\n",
      "No hay una diferencia significativa entre environment_satisfaction_ab y la rotación.\n",
      "Los resultados sugieren que no existe evidencia estadística para afirmar que los datos guardan relación\n",
      "\n",
      " ---------- \n",
      "\n",
      "0.15\n",
      "0.17\n",
      "No hay una diferencia significativa entre relationship_satisfaction_ab y la rotación.\n",
      "Los resultados sugieren que no existe evidencia estadística para afirmar que los datos guardan relación\n",
      "\n",
      " ---------- \n",
      "\n",
      "0.13\n",
      "0.22\n",
      "No hay una diferencia significativa entre job_involvement_ab y la rotación.\n",
      "Los resultados sugieren que no existe evidencia estadística para afirmar que los datos guardan relación\n",
      "\n",
      " ---------- \n",
      "\n",
      "0.15\n",
      "0.19\n",
      "No hay una diferencia significativa entre work_lifebalance_ab y la rotación.\n",
      "Los resultados sugieren que no existe evidencia estadística para afirmar que los datos guardan relación\n",
      "\n",
      " ---------- \n",
      "\n"
     ]
    },
    {
     "data": {
      "image/png": "[encoded data removed]",
      "text/plain": [
       "<Figure size 1440x360 with 2 Axes>"
      ]
     },
     "metadata": {
      "needs_background": "light"
     },
     "output_type": "display_data"
    },
    {
     "data": {
      "image/png": "[encoded data removed]",
      "text/plain": [
       "<Figure size 1440x360 with 2 Axes>"
      ]
     },
     "metadata": {
      "needs_background": "light"
     },
     "output_type": "display_data"
    },
    {
     "data": {
      "image/png": "[encoded data removed]",
      "text/plain": [
       "<Figure size 1440x360 with 2 Axes>"
      ]
     },
     "metadata": {
      "needs_background": "light"
     },
     "output_type": "display_data"
    },
    {
     "data": {
      "image/png": "[encoded data removed]",
      "text/plain": [
       "<Figure size 1440x360 with 2 Axes>"
      ]
     },
     "metadata": {
      "needs_background": "light"
     },
     "output_type": "display_data"
    },
    {
     "data": {
      "image/png": "[encoded data removed]",
      "text/plain": [
       "<Figure size 1440x360 with 2 Axes>"
      ]
     },
     "metadata": {
      "needs_background": "light"
     },
     "output_type": "display_data"
    }
   ],
   "source": [
    "for columna in columnas_ab:\n",
    "    ab_testing(columna)"
   ]
  }
 ],
 "metadata": {
  "kernelspec": {
   "display_name": "Python 3",
   "language": "python",
   "name": "python3"
  },
  "language_info": {
   "codemirror_mode": {
    "name": "ipython",
    "version": 3
   },
   "file_extension": ".py",
   "mimetype": "text/x-python",
   "name": "python",
   "nbconvert_exporter": "python",
   "pygments_lexer": "ipython3",
   "version": "3.10.9"
  }
 },
 "nbformat": 4,
 "nbformat_minor": 2
}
